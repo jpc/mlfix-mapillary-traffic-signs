{
 "cells": [
  {
   "cell_type": "markdown",
   "id": "b1e4cbdd",
   "metadata": {},
   "source": [
    "# Training a bunch of models to see if the speed limits sign cleanup helped and by how much"
   ]
  },
  {
   "cell_type": "code",
   "execution_count": null,
   "id": "70e7be58",
   "metadata": {},
   "outputs": [],
   "source": [
    "%load_ext autoreload\n",
    "%autoreload 2\n",
    "from fastai.vision.all import *"
   ]
  },
  {
   "cell_type": "markdown",
   "id": "166efe28",
   "metadata": {},
   "source": [
    "## Load the data into a Pandas DataFrame"
   ]
  },
  {
   "cell_type": "code",
   "execution_count": null,
   "id": "1e3107fd",
   "metadata": {},
   "outputs": [],
   "source": [
    "path = Path('yolo-bbox-crops-aspects')"
   ]
  },
  {
   "cell_type": "code",
   "execution_count": null,
   "id": "9640f3c6",
   "metadata": {},
   "outputs": [],
   "source": [
    "fnames = get_image_files(path)"
   ]
  },
  {
   "cell_type": "code",
   "execution_count": null,
   "id": "9f6be4a2",
   "metadata": {},
   "outputs": [],
   "source": [
    "data = pd.DataFrame(dict(fname = fnames), index = [str(x) for x in fnames])\n",
    "data['label'] = data.fname.map(lambda x: x.parent.name)\n",
    "data['photo_id'] = data['fname'].apply(lambda x: re.sub(\"-[0-9]+.jpg\", \"\", Path(x).name))"
   ]
  },
  {
   "cell_type": "code",
   "execution_count": null,
   "id": "f3cddbb3",
   "metadata": {},
   "outputs": [],
   "source": [
    "invalid = pd.read_csv('invalid-speed-limits.csv', index_col=0)\n",
    "data['new_label'] = data['label']\n",
    "data.loc[invalid.index, 'new_label'] = 'invalid'"
   ]
  },
  {
   "cell_type": "code",
   "execution_count": null,
   "id": "8b3c6d86",
   "metadata": {},
   "outputs": [
    {
     "data": {
      "text/html": [
       "<div>\n",
       "<style scoped>\n",
       "    .dataframe tbody tr th:only-of-type {\n",
       "        vertical-align: middle;\n",
       "    }\n",
       "\n",
       "    .dataframe tbody tr th {\n",
       "        vertical-align: top;\n",
       "    }\n",
       "\n",
       "    .dataframe thead th {\n",
       "        text-align: right;\n",
       "    }\n",
       "</style>\n",
       "<table border=\"1\" class=\"dataframe\">\n",
       "  <thead>\n",
       "    <tr style=\"text-align: right;\">\n",
       "      <th></th>\n",
       "      <th>fname</th>\n",
       "      <th>label</th>\n",
       "      <th>photo_id</th>\n",
       "      <th>new_label</th>\n",
       "    </tr>\n",
       "  </thead>\n",
       "  <tbody>\n",
       "    <tr>\n",
       "      <th>yolo-bbox-crops-aspects/warning--winding-road-first-left--g1/a3K73YQChXmdfsn69D1kjA-1.jpg</th>\n",
       "      <td>yolo-bbox-crops-aspects/warning--winding-road-first-left--g1/a3K73YQChXmdfsn69D1kjA-1.jpg</td>\n",
       "      <td>warning--winding-road-first-left--g1</td>\n",
       "      <td>a3K73YQChXmdfsn69D1kjA</td>\n",
       "      <td>warning--winding-road-first-left--g1</td>\n",
       "    </tr>\n",
       "    <tr>\n",
       "      <th>yolo-bbox-crops-aspects/warning--winding-road-first-left--g1/l8GLcMia5zPhB7Q1agVYTg-0.jpg</th>\n",
       "      <td>yolo-bbox-crops-aspects/warning--winding-road-first-left--g1/l8GLcMia5zPhB7Q1agVYTg-0.jpg</td>\n",
       "      <td>warning--winding-road-first-left--g1</td>\n",
       "      <td>l8GLcMia5zPhB7Q1agVYTg</td>\n",
       "      <td>warning--winding-road-first-left--g1</td>\n",
       "    </tr>\n",
       "    <tr>\n",
       "      <th>yolo-bbox-crops-aspects/warning--winding-road-first-left--g1/BCxKRFT-Wvn49LnVoSlOgw-0.jpg</th>\n",
       "      <td>yolo-bbox-crops-aspects/warning--winding-road-first-left--g1/BCxKRFT-Wvn49LnVoSlOgw-0.jpg</td>\n",
       "      <td>warning--winding-road-first-left--g1</td>\n",
       "      <td>BCxKRFT-Wvn49LnVoSlOgw</td>\n",
       "      <td>warning--winding-road-first-left--g1</td>\n",
       "    </tr>\n",
       "    <tr>\n",
       "      <th>yolo-bbox-crops-aspects/warning--winding-road-first-left--g1/5D1e0maBSjs1UaV5tE2MHg-0.jpg</th>\n",
       "      <td>yolo-bbox-crops-aspects/warning--winding-road-first-left--g1/5D1e0maBSjs1UaV5tE2MHg-0.jpg</td>\n",
       "      <td>warning--winding-road-first-left--g1</td>\n",
       "      <td>5D1e0maBSjs1UaV5tE2MHg</td>\n",
       "      <td>warning--winding-road-first-left--g1</td>\n",
       "    </tr>\n",
       "    <tr>\n",
       "      <th>yolo-bbox-crops-aspects/warning--winding-road-first-left--g1/Oz7f7PDh0FZogR2Lle9HsQ-1.jpg</th>\n",
       "      <td>yolo-bbox-crops-aspects/warning--winding-road-first-left--g1/Oz7f7PDh0FZogR2Lle9HsQ-1.jpg</td>\n",
       "      <td>warning--winding-road-first-left--g1</td>\n",
       "      <td>Oz7f7PDh0FZogR2Lle9HsQ</td>\n",
       "      <td>warning--winding-road-first-left--g1</td>\n",
       "    </tr>\n",
       "    <tr>\n",
       "      <th>...</th>\n",
       "      <td>...</td>\n",
       "      <td>...</td>\n",
       "      <td>...</td>\n",
       "      <td>...</td>\n",
       "    </tr>\n",
       "    <tr>\n",
       "      <th>yolo-bbox-crops-aspects/complementary--one-direction-left--g1/jz9ydBI3G46OM_DSDxRI2Q-3.jpg</th>\n",
       "      <td>yolo-bbox-crops-aspects/complementary--one-direction-left--g1/jz9ydBI3G46OM_DSDxRI2Q-3.jpg</td>\n",
       "      <td>complementary--one-direction-left--g1</td>\n",
       "      <td>jz9ydBI3G46OM_DSDxRI2Q</td>\n",
       "      <td>complementary--one-direction-left--g1</td>\n",
       "    </tr>\n",
       "    <tr>\n",
       "      <th>yolo-bbox-crops-aspects/complementary--one-direction-left--g1/jjP8oXmH91HYeNRRZy36ig-1.jpg</th>\n",
       "      <td>yolo-bbox-crops-aspects/complementary--one-direction-left--g1/jjP8oXmH91HYeNRRZy36ig-1.jpg</td>\n",
       "      <td>complementary--one-direction-left--g1</td>\n",
       "      <td>jjP8oXmH91HYeNRRZy36ig</td>\n",
       "      <td>complementary--one-direction-left--g1</td>\n",
       "    </tr>\n",
       "    <tr>\n",
       "      <th>yolo-bbox-crops-aspects/complementary--one-direction-left--g1/PrXKSuASmK0TB3tqCLVY9A-4.jpg</th>\n",
       "      <td>yolo-bbox-crops-aspects/complementary--one-direction-left--g1/PrXKSuASmK0TB3tqCLVY9A-4.jpg</td>\n",
       "      <td>complementary--one-direction-left--g1</td>\n",
       "      <td>PrXKSuASmK0TB3tqCLVY9A</td>\n",
       "      <td>complementary--one-direction-left--g1</td>\n",
       "    </tr>\n",
       "    <tr>\n",
       "      <th>yolo-bbox-crops-aspects/complementary--one-direction-left--g1/DdilxFWJ13kSsBTDlCNCcg-2.jpg</th>\n",
       "      <td>yolo-bbox-crops-aspects/complementary--one-direction-left--g1/DdilxFWJ13kSsBTDlCNCcg-2.jpg</td>\n",
       "      <td>complementary--one-direction-left--g1</td>\n",
       "      <td>DdilxFWJ13kSsBTDlCNCcg</td>\n",
       "      <td>complementary--one-direction-left--g1</td>\n",
       "    </tr>\n",
       "    <tr>\n",
       "      <th>yolo-bbox-crops-aspects/complementary--one-direction-left--g1/PDqWPuPSTTm0A6c4aAHJjA-3.jpg</th>\n",
       "      <td>yolo-bbox-crops-aspects/complementary--one-direction-left--g1/PDqWPuPSTTm0A6c4aAHJjA-3.jpg</td>\n",
       "      <td>complementary--one-direction-left--g1</td>\n",
       "      <td>PDqWPuPSTTm0A6c4aAHJjA</td>\n",
       "      <td>complementary--one-direction-left--g1</td>\n",
       "    </tr>\n",
       "  </tbody>\n",
       "</table>\n",
       "<p>206383 rows × 4 columns</p>\n",
       "</div>"
      ],
      "text/plain": [
       "                                                                                                                                                                                 fname  \\\n",
       "yolo-bbox-crops-aspects/warning--winding-road-first-left--g1/a3K73YQChXmdfsn69D1kjA-1.jpg    yolo-bbox-crops-aspects/warning--winding-road-first-left--g1/a3K73YQChXmdfsn69D1kjA-1.jpg   \n",
       "yolo-bbox-crops-aspects/warning--winding-road-first-left--g1/l8GLcMia5zPhB7Q1agVYTg-0.jpg    yolo-bbox-crops-aspects/warning--winding-road-first-left--g1/l8GLcMia5zPhB7Q1agVYTg-0.jpg   \n",
       "yolo-bbox-crops-aspects/warning--winding-road-first-left--g1/BCxKRFT-Wvn49LnVoSlOgw-0.jpg    yolo-bbox-crops-aspects/warning--winding-road-first-left--g1/BCxKRFT-Wvn49LnVoSlOgw-0.jpg   \n",
       "yolo-bbox-crops-aspects/warning--winding-road-first-left--g1/5D1e0maBSjs1UaV5tE2MHg-0.jpg    yolo-bbox-crops-aspects/warning--winding-road-first-left--g1/5D1e0maBSjs1UaV5tE2MHg-0.jpg   \n",
       "yolo-bbox-crops-aspects/warning--winding-road-first-left--g1/Oz7f7PDh0FZogR2Lle9HsQ-1.jpg    yolo-bbox-crops-aspects/warning--winding-road-first-left--g1/Oz7f7PDh0FZogR2Lle9HsQ-1.jpg   \n",
       "...                                                                                                                                                                                ...   \n",
       "yolo-bbox-crops-aspects/complementary--one-direction-left--g1/jz9ydBI3G46OM_DSDxRI2Q-3.jpg  yolo-bbox-crops-aspects/complementary--one-direction-left--g1/jz9ydBI3G46OM_DSDxRI2Q-3.jpg   \n",
       "yolo-bbox-crops-aspects/complementary--one-direction-left--g1/jjP8oXmH91HYeNRRZy36ig-1.jpg  yolo-bbox-crops-aspects/complementary--one-direction-left--g1/jjP8oXmH91HYeNRRZy36ig-1.jpg   \n",
       "yolo-bbox-crops-aspects/complementary--one-direction-left--g1/PrXKSuASmK0TB3tqCLVY9A-4.jpg  yolo-bbox-crops-aspects/complementary--one-direction-left--g1/PrXKSuASmK0TB3tqCLVY9A-4.jpg   \n",
       "yolo-bbox-crops-aspects/complementary--one-direction-left--g1/DdilxFWJ13kSsBTDlCNCcg-2.jpg  yolo-bbox-crops-aspects/complementary--one-direction-left--g1/DdilxFWJ13kSsBTDlCNCcg-2.jpg   \n",
       "yolo-bbox-crops-aspects/complementary--one-direction-left--g1/PDqWPuPSTTm0A6c4aAHJjA-3.jpg  yolo-bbox-crops-aspects/complementary--one-direction-left--g1/PDqWPuPSTTm0A6c4aAHJjA-3.jpg   \n",
       "\n",
       "                                                                                                                            label  \\\n",
       "yolo-bbox-crops-aspects/warning--winding-road-first-left--g1/a3K73YQChXmdfsn69D1kjA-1.jpg    warning--winding-road-first-left--g1   \n",
       "yolo-bbox-crops-aspects/warning--winding-road-first-left--g1/l8GLcMia5zPhB7Q1agVYTg-0.jpg    warning--winding-road-first-left--g1   \n",
       "yolo-bbox-crops-aspects/warning--winding-road-first-left--g1/BCxKRFT-Wvn49LnVoSlOgw-0.jpg    warning--winding-road-first-left--g1   \n",
       "yolo-bbox-crops-aspects/warning--winding-road-first-left--g1/5D1e0maBSjs1UaV5tE2MHg-0.jpg    warning--winding-road-first-left--g1   \n",
       "yolo-bbox-crops-aspects/warning--winding-road-first-left--g1/Oz7f7PDh0FZogR2Lle9HsQ-1.jpg    warning--winding-road-first-left--g1   \n",
       "...                                                                                                                           ...   \n",
       "yolo-bbox-crops-aspects/complementary--one-direction-left--g1/jz9ydBI3G46OM_DSDxRI2Q-3.jpg  complementary--one-direction-left--g1   \n",
       "yolo-bbox-crops-aspects/complementary--one-direction-left--g1/jjP8oXmH91HYeNRRZy36ig-1.jpg  complementary--one-direction-left--g1   \n",
       "yolo-bbox-crops-aspects/complementary--one-direction-left--g1/PrXKSuASmK0TB3tqCLVY9A-4.jpg  complementary--one-direction-left--g1   \n",
       "yolo-bbox-crops-aspects/complementary--one-direction-left--g1/DdilxFWJ13kSsBTDlCNCcg-2.jpg  complementary--one-direction-left--g1   \n",
       "yolo-bbox-crops-aspects/complementary--one-direction-left--g1/PDqWPuPSTTm0A6c4aAHJjA-3.jpg  complementary--one-direction-left--g1   \n",
       "\n",
       "                                                                                                          photo_id  \\\n",
       "yolo-bbox-crops-aspects/warning--winding-road-first-left--g1/a3K73YQChXmdfsn69D1kjA-1.jpg   a3K73YQChXmdfsn69D1kjA   \n",
       "yolo-bbox-crops-aspects/warning--winding-road-first-left--g1/l8GLcMia5zPhB7Q1agVYTg-0.jpg   l8GLcMia5zPhB7Q1agVYTg   \n",
       "yolo-bbox-crops-aspects/warning--winding-road-first-left--g1/BCxKRFT-Wvn49LnVoSlOgw-0.jpg   BCxKRFT-Wvn49LnVoSlOgw   \n",
       "yolo-bbox-crops-aspects/warning--winding-road-first-left--g1/5D1e0maBSjs1UaV5tE2MHg-0.jpg   5D1e0maBSjs1UaV5tE2MHg   \n",
       "yolo-bbox-crops-aspects/warning--winding-road-first-left--g1/Oz7f7PDh0FZogR2Lle9HsQ-1.jpg   Oz7f7PDh0FZogR2Lle9HsQ   \n",
       "...                                                                                                            ...   \n",
       "yolo-bbox-crops-aspects/complementary--one-direction-left--g1/jz9ydBI3G46OM_DSDxRI2Q-3.jpg  jz9ydBI3G46OM_DSDxRI2Q   \n",
       "yolo-bbox-crops-aspects/complementary--one-direction-left--g1/jjP8oXmH91HYeNRRZy36ig-1.jpg  jjP8oXmH91HYeNRRZy36ig   \n",
       "yolo-bbox-crops-aspects/complementary--one-direction-left--g1/PrXKSuASmK0TB3tqCLVY9A-4.jpg  PrXKSuASmK0TB3tqCLVY9A   \n",
       "yolo-bbox-crops-aspects/complementary--one-direction-left--g1/DdilxFWJ13kSsBTDlCNCcg-2.jpg  DdilxFWJ13kSsBTDlCNCcg   \n",
       "yolo-bbox-crops-aspects/complementary--one-direction-left--g1/PDqWPuPSTTm0A6c4aAHJjA-3.jpg  PDqWPuPSTTm0A6c4aAHJjA   \n",
       "\n",
       "                                                                                                                        new_label  \n",
       "yolo-bbox-crops-aspects/warning--winding-road-first-left--g1/a3K73YQChXmdfsn69D1kjA-1.jpg    warning--winding-road-first-left--g1  \n",
       "yolo-bbox-crops-aspects/warning--winding-road-first-left--g1/l8GLcMia5zPhB7Q1agVYTg-0.jpg    warning--winding-road-first-left--g1  \n",
       "yolo-bbox-crops-aspects/warning--winding-road-first-left--g1/BCxKRFT-Wvn49LnVoSlOgw-0.jpg    warning--winding-road-first-left--g1  \n",
       "yolo-bbox-crops-aspects/warning--winding-road-first-left--g1/5D1e0maBSjs1UaV5tE2MHg-0.jpg    warning--winding-road-first-left--g1  \n",
       "yolo-bbox-crops-aspects/warning--winding-road-first-left--g1/Oz7f7PDh0FZogR2Lle9HsQ-1.jpg    warning--winding-road-first-left--g1  \n",
       "...                                                                                                                           ...  \n",
       "yolo-bbox-crops-aspects/complementary--one-direction-left--g1/jz9ydBI3G46OM_DSDxRI2Q-3.jpg  complementary--one-direction-left--g1  \n",
       "yolo-bbox-crops-aspects/complementary--one-direction-left--g1/jjP8oXmH91HYeNRRZy36ig-1.jpg  complementary--one-direction-left--g1  \n",
       "yolo-bbox-crops-aspects/complementary--one-direction-left--g1/PrXKSuASmK0TB3tqCLVY9A-4.jpg  complementary--one-direction-left--g1  \n",
       "yolo-bbox-crops-aspects/complementary--one-direction-left--g1/DdilxFWJ13kSsBTDlCNCcg-2.jpg  complementary--one-direction-left--g1  \n",
       "yolo-bbox-crops-aspects/complementary--one-direction-left--g1/PDqWPuPSTTm0A6c4aAHJjA-3.jpg  complementary--one-direction-left--g1  \n",
       "\n",
       "[206383 rows x 4 columns]"
      ]
     },
     "execution_count": null,
     "metadata": {},
     "output_type": "execute_result"
    }
   ],
   "source": [
    "data"
   ]
  },
  {
   "cell_type": "markdown",
   "id": "a9224bd4",
   "metadata": {},
   "source": [
    "## Prepare the train/validation split"
   ]
  },
  {
   "cell_type": "code",
   "execution_count": null,
   "id": "9c5f56c7",
   "metadata": {},
   "outputs": [],
   "source": [
    "data['valid'] = False"
   ]
  },
  {
   "cell_type": "code",
   "execution_count": null,
   "id": "97e32a12",
   "metadata": {},
   "outputs": [],
   "source": [
    "# Split each class equally into the train and validation set\n",
    "# This includes the 'invalid' label which will be represented in both splits\n",
    "def set_valid_split(df, sel, p=0.2):\n",
    "    sel = random.sample(list(df.index[sel]), math.floor(sel.sum() * p))\n",
    "    df.loc[sel, 'valid'] = True\n",
    "\n",
    "random.seed(42)\n",
    "for label in data['new_label'].unique():\n",
    "    set_valid_split(data, data['new_label'] == label)\n",
    "data.loc[data['label'] == 'other-sign', 'valid'] = False"
   ]
  },
  {
   "cell_type": "code",
   "execution_count": null,
   "id": "60671c85",
   "metadata": {},
   "outputs": [
    {
     "data": {
      "text/html": [
       "<div>\n",
       "<style scoped>\n",
       "    .dataframe tbody tr th:only-of-type {\n",
       "        vertical-align: middle;\n",
       "    }\n",
       "\n",
       "    .dataframe tbody tr th {\n",
       "        vertical-align: top;\n",
       "    }\n",
       "\n",
       "    .dataframe thead th {\n",
       "        text-align: right;\n",
       "    }\n",
       "</style>\n",
       "<table border=\"1\" class=\"dataframe\">\n",
       "  <thead>\n",
       "    <tr style=\"text-align: right;\">\n",
       "      <th></th>\n",
       "      <th>valid</th>\n",
       "    </tr>\n",
       "    <tr>\n",
       "      <th>new_label</th>\n",
       "      <th></th>\n",
       "    </tr>\n",
       "  </thead>\n",
       "  <tbody>\n",
       "    <tr>\n",
       "      <th>regulatory--truck-speed-limit-60--g1</th>\n",
       "      <td>0.000</td>\n",
       "    </tr>\n",
       "    <tr>\n",
       "      <th>information--dead-end-except-bicycles--g1</th>\n",
       "      <td>0.000</td>\n",
       "    </tr>\n",
       "    <tr>\n",
       "      <th>regulatory--end-of-maximum-speed-limit-70--g1</th>\n",
       "      <td>0.000</td>\n",
       "    </tr>\n",
       "    <tr>\n",
       "      <th>other-sign</th>\n",
       "      <td>0.000</td>\n",
       "    </tr>\n",
       "    <tr>\n",
       "      <th>warning--horizontal-alignment-right--g3</th>\n",
       "      <td>0.125</td>\n",
       "    </tr>\n",
       "    <tr>\n",
       "      <th>...</th>\n",
       "      <td>...</td>\n",
       "    </tr>\n",
       "    <tr>\n",
       "      <th>warning--height-restriction--g2</th>\n",
       "      <td>0.200</td>\n",
       "    </tr>\n",
       "    <tr>\n",
       "      <th>warning--hairpin-curve-right--g4</th>\n",
       "      <td>0.200</td>\n",
       "    </tr>\n",
       "    <tr>\n",
       "      <th>regulatory--no-parking-or-no-stopping--g1</th>\n",
       "      <td>0.200</td>\n",
       "    </tr>\n",
       "    <tr>\n",
       "      <th>information--children--g1</th>\n",
       "      <td>0.200</td>\n",
       "    </tr>\n",
       "    <tr>\n",
       "      <th>warning--y-roads--g1</th>\n",
       "      <td>0.200</td>\n",
       "    </tr>\n",
       "  </tbody>\n",
       "</table>\n",
       "<p>402 rows × 1 columns</p>\n",
       "</div>"
      ],
      "text/plain": [
       "                                               valid\n",
       "new_label                                           \n",
       "regulatory--truck-speed-limit-60--g1           0.000\n",
       "information--dead-end-except-bicycles--g1      0.000\n",
       "regulatory--end-of-maximum-speed-limit-70--g1  0.000\n",
       "other-sign                                     0.000\n",
       "warning--horizontal-alignment-right--g3        0.125\n",
       "...                                              ...\n",
       "warning--height-restriction--g2                0.200\n",
       "warning--hairpin-curve-right--g4               0.200\n",
       "regulatory--no-parking-or-no-stopping--g1      0.200\n",
       "information--children--g1                      0.200\n",
       "warning--y-roads--g1                           0.200\n",
       "\n",
       "[402 rows x 1 columns]"
      ]
     },
     "execution_count": null,
     "metadata": {},
     "output_type": "execute_result"
    }
   ],
   "source": [
    "# verify we did the split correctly\n",
    "data.groupby('new_label').mean().sort_values('valid')"
   ]
  },
  {
   "cell_type": "markdown",
   "id": "b38620e4",
   "metadata": {},
   "source": [
    "## Data augmentation"
   ]
  },
  {
   "cell_type": "code",
   "execution_count": null,
   "id": "a11a7fcf",
   "metadata": {},
   "outputs": [],
   "source": [
    "from albumentations import Blur"
   ]
  },
  {
   "cell_type": "code",
   "execution_count": null,
   "id": "c021dc0a",
   "metadata": {},
   "outputs": [],
   "source": [
    "class AlbumentationsTransform(Transform):\n",
    "    split_idx = 0\n",
    "    def __init__(self, aug): self.aug = aug\n",
    "    def encodes(self, img: PILImage):\n",
    "        aug_img = self.aug(image=np.array(img))['image']\n",
    "        return PILImage.create(aug_img)"
   ]
  },
  {
   "cell_type": "markdown",
   "id": "e456487e",
   "metadata": {},
   "source": [
    "## Balance the classes during training"
   ]
  },
  {
   "cell_type": "code",
   "execution_count": null,
   "id": "5905942b",
   "metadata": {},
   "outputs": [],
   "source": [
    "def sample_epoch(self):\n",
    "    item_labels = self.items['label']\n",
    "    label_freq = {label:count for label, count in zip(*np.unique(item_labels, return_counts=True))}\n",
    "    weights = [1/label_freq[label] for label in item_labels]\n",
    "    return random.choices(range(len(self.items)), weights=weights, k=len(self.items))\n",
    "\n",
    "def fix_balance(dls):\n",
    "    dls.train.get_idxs = types.MethodType(sample_epoch, dls.train)"
   ]
  },
  {
   "cell_type": "markdown",
   "id": "778bd599",
   "metadata": {},
   "source": [
    "## Load predictions into a DataFrame for further analysis"
   ]
  },
  {
   "cell_type": "code",
   "execution_count": null,
   "id": "dacb3d71",
   "metadata": {},
   "outputs": [],
   "source": [
    "def get_predictions(learn):\n",
    "    preds,y,py,losses = learn.get_preds(with_loss=True, with_decoded=True)\n",
    "    val = pd.DataFrame(index=learn.dls[1].items.index)\n",
    "    val['pred'] = py\n",
    "    val['pred'] = val['pred'].map(lambda x: learn.dls.vocab[x])\n",
    "    val['loss'] = -losses\n",
    "    return val"
   ]
  },
  {
   "cell_type": "markdown",
   "id": "02b98853",
   "metadata": {},
   "source": [
    "## Train on the original labels"
   ]
  },
  {
   "cell_type": "code",
   "execution_count": null,
   "id": "93c0f658",
   "metadata": {},
   "outputs": [],
   "source": [
    "dls = ImageDataLoaders.from_df(\n",
    "    data, label_col='label', valid_col='valid',\n",
    "    bs=1024,\n",
    "    item_tfms=[AlbumentationsTransform(Blur(blur_limit=5, p=0.25))],\n",
    "    batch_tfms=aug_transforms(do_flip=False),\n",
    ")\n",
    "fix_balance(dls)"
   ]
  },
  {
   "cell_type": "code",
   "execution_count": null,
   "id": "a6064ff2",
   "metadata": {},
   "outputs": [
    {
     "data": {
      "image/png": "[encoded data removed]",
      "text/plain": [
       "<Figure size 648x648 with 9 Axes>"
      ]
     },
     "metadata": {
      "needs_background": "light"
     },
     "output_type": "display_data"
    }
   ],
   "source": [
    "dls.show_batch()"
   ]
  },
  {
   "cell_type": "code",
   "execution_count": null,
   "id": "acd2dd7e",
   "metadata": {},
   "outputs": [
    {
     "data": {
      "image/png": "[encoded data removed]",
      "text/plain": [
       "<Figure size 648x648 with 9 Axes>"
      ]
     },
     "metadata": {
      "needs_background": "light"
     },
     "output_type": "display_data"
    }
   ],
   "source": [
    "dls.valid.show_batch()"
   ]
  },
  {
   "cell_type": "markdown",
   "id": "7a28420d",
   "metadata": {},
   "source": [
    "We train 20 models to average out the results over multiple random model initializations."
   ]
  },
  {
   "cell_type": "code",
   "execution_count": null,
   "id": "7af204ad",
   "metadata": {},
   "outputs": [],
   "source": [
    "!mkdir -p speed-limit-experiment/"
   ]
  },
  {
   "cell_type": "code",
   "execution_count": null,
   "id": "dafecbd4",
   "metadata": {},
   "outputs": [
    {
     "data": {
      "text/html": [
       "\n",
       "<style>\n",
       "    /* Turns off some styling */\n",
       "    progress {\n",
       "        /* gets rid of default border in Firefox and Opera. */\n",
       "        border: none;\n",
       "        /* Needs to be in here for Safari polyfill so background images work as expected. */\n",
       "        background-size: auto;\n",
       "    }\n",
       "    .progress-bar-interrupted, .progress-bar-interrupted::-webkit-progress-bar {\n",
       "        background: #F44336;\n",
       "    }\n",
       "</style>\n"
      ],
      "text/plain": [
       "<IPython.core.display.HTML object>"
      ]
     },
     "metadata": {},
     "output_type": "display_data"
    },
    {
     "data": {
      "text/html": [
       "<table border=\"1\" class=\"dataframe\">\n",
       "  <thead>\n",
       "    <tr style=\"text-align: left;\">\n",
       "      <th>epoch</th>\n",
       "      <th>train_loss</th>\n",
       "      <th>valid_loss</th>\n",
       "      <th>error_rate</th>\n",
       "      <th>time</th>\n",
       "    </tr>\n",
       "  </thead>\n",
       "  <tbody>\n",
       "    <tr>\n",
       "      <td>0</td>\n",
       "      <td>3.192685</td>\n",
       "      <td>2.184022</td>\n",
       "      <td>0.565504</td>\n",
       "      <td>00:39</td>\n",
       "    </tr>\n",
       "  </tbody>\n",
       "</table>"
      ],
      "text/plain": [
       "<IPython.core.display.HTML object>"
      ]
     },
     "metadata": {},
     "output_type": "display_data"
    },
    {
     "data": {
      "text/html": [
       "\n",
       "<style>\n",
       "    /* Turns off some styling */\n",
       "    progress {\n",
       "        /* gets rid of default border in Firefox and Opera. */\n",
       "        border: none;\n",
       "        /* Needs to be in here for Safari polyfill so background images work as expected. */\n",
       "        background-size: auto;\n",
       "    }\n",
       "    .progress-bar-interrupted, .progress-bar-interrupted::-webkit-progress-bar {\n",
       "        background: #F44336;\n",
       "    }\n",
       "</style>\n"
      ],
      "text/plain": [
       "<IPython.core.display.HTML object>"
      ]
     },
     "metadata": {},
     "output_type": "display_data"
    },
    {
     "data": {
      "text/html": [
       "<table border=\"1\" class=\"dataframe\">\n",
       "  <thead>\n",
       "    <tr style=\"text-align: left;\">\n",
       "      <th>epoch</th>\n",
       "      <th>train_loss</th>\n",
       "      <th>valid_loss</th>\n",
       "      <th>error_rate</th>\n",
       "      <th>time</th>\n",
       "    </tr>\n",
       "  </thead>\n",
       "  <tbody>\n",
       "    <tr>\n",
       "      <td>0</td>\n",
       "      <td>1.377607</td>\n",
       "      <td>1.203649</td>\n",
       "      <td>0.343808</td>\n",
       "      <td>00:45</td>\n",
       "    </tr>\n",
       "    <tr>\n",
       "      <td>1</td>\n",
       "      <td>0.694049</td>\n",
       "      <td>0.738440</td>\n",
       "      <td>0.215885</td>\n",
       "      <td>00:45</td>\n",
       "    </tr>\n",
       "    <tr>\n",
       "      <td>2</td>\n",
       "      <td>0.352508</td>\n",
       "      <td>0.516270</td>\n",
       "      <td>0.145717</td>\n",
       "      <td>00:45</td>\n",
       "    </tr>\n",
       "    <tr>\n",
       "      <td>3</td>\n",
       "      <td>0.225299</td>\n",
       "      <td>0.487573</td>\n",
       "      <td>0.134166</td>\n",
       "      <td>00:45</td>\n",
       "    </tr>\n",
       "    <tr>\n",
       "      <td>4</td>\n",
       "      <td>0.156069</td>\n",
       "      <td>0.446337</td>\n",
       "      <td>0.114794</td>\n",
       "      <td>00:45</td>\n",
       "    </tr>\n",
       "    <tr>\n",
       "      <td>5</td>\n",
       "      <td>0.119194</td>\n",
       "      <td>0.420491</td>\n",
       "      <td>0.100588</td>\n",
       "      <td>00:45</td>\n",
       "    </tr>\n",
       "    <tr>\n",
       "      <td>6</td>\n",
       "      <td>0.097342</td>\n",
       "      <td>0.403449</td>\n",
       "      <td>0.095710</td>\n",
       "      <td>00:44</td>\n",
       "    </tr>\n",
       "    <tr>\n",
       "      <td>7</td>\n",
       "      <td>0.075003</td>\n",
       "      <td>0.381256</td>\n",
       "      <td>0.086670</td>\n",
       "      <td>00:44</td>\n",
       "    </tr>\n",
       "    <tr>\n",
       "      <td>8</td>\n",
       "      <td>0.059365</td>\n",
       "      <td>0.372755</td>\n",
       "      <td>0.081145</td>\n",
       "      <td>00:45</td>\n",
       "    </tr>\n",
       "    <tr>\n",
       "      <td>9</td>\n",
       "      <td>0.048652</td>\n",
       "      <td>0.367208</td>\n",
       "      <td>0.082365</td>\n",
       "      <td>00:45</td>\n",
       "    </tr>\n",
       "    <tr>\n",
       "      <td>10</td>\n",
       "      <td>0.036671</td>\n",
       "      <td>0.357275</td>\n",
       "      <td>0.076482</td>\n",
       "      <td>00:45</td>\n",
       "    </tr>\n",
       "    <tr>\n",
       "      <td>11</td>\n",
       "      <td>0.030979</td>\n",
       "      <td>0.353765</td>\n",
       "      <td>0.073468</td>\n",
       "      <td>00:45</td>\n",
       "    </tr>\n",
       "    <tr>\n",
       "      <td>12</td>\n",
       "      <td>0.024766</td>\n",
       "      <td>0.347224</td>\n",
       "      <td>0.072320</td>\n",
       "      <td>00:45</td>\n",
       "    </tr>\n",
       "    <tr>\n",
       "      <td>13</td>\n",
       "      <td>0.022186</td>\n",
       "      <td>0.348034</td>\n",
       "      <td>0.071746</td>\n",
       "      <td>00:45</td>\n",
       "    </tr>\n",
       "    <tr>\n",
       "      <td>14</td>\n",
       "      <td>0.023601</td>\n",
       "      <td>0.347024</td>\n",
       "      <td>0.070814</td>\n",
       "      <td>00:45</td>\n",
       "    </tr>\n",
       "  </tbody>\n",
       "</table>"
      ],
      "text/plain": [
       "<IPython.core.display.HTML object>"
      ]
     },
     "metadata": {},
     "output_type": "display_data"
    },
    {
     "data": {
      "text/html": [
       "\n",
       "<style>\n",
       "    /* Turns off some styling */\n",
       "    progress {\n",
       "        /* gets rid of default border in Firefox and Opera. */\n",
       "        border: none;\n",
       "        /* Needs to be in here for Safari polyfill so background images work as expected. */\n",
       "        background-size: auto;\n",
       "    }\n",
       "    .progress-bar-interrupted, .progress-bar-interrupted::-webkit-progress-bar {\n",
       "        background: #F44336;\n",
       "    }\n",
       "</style>\n"
      ],
      "text/plain": [
       "<IPython.core.display.HTML object>"
      ]
     },
     "metadata": {},
     "output_type": "display_data"
    },
    {
     "data": {
      "text/html": [],
      "text/plain": [
       "<IPython.core.display.HTML object>"
      ]
     },
     "metadata": {},
     "output_type": "display_data"
    },
    {
     "data": {
      "text/html": [
       "\n",
       "<style>\n",
       "    /* Turns off some styling */\n",
       "    progress {\n",
       "        /* gets rid of default border in Firefox and Opera. */\n",
       "        border: none;\n",
       "        /* Needs to be in here for Safari polyfill so background images work as expected. */\n",
       "        background-size: auto;\n",
       "    }\n",
       "    .progress-bar-interrupted, .progress-bar-interrupted::-webkit-progress-bar {\n",
       "        background: #F44336;\n",
       "    }\n",
       "</style>\n"
      ],
      "text/plain": [
       "<IPython.core.display.HTML object>"
      ]
     },
     "metadata": {},
     "output_type": "display_data"
    },
    {
     "data": {
      "text/html": [
       "<table border=\"1\" class=\"dataframe\">\n",
       "  <thead>\n",
       "    <tr style=\"text-align: left;\">\n",
       "      <th>epoch</th>\n",
       "      <th>train_loss</th>\n",
       "      <th>valid_loss</th>\n",
       "      <th>error_rate</th>\n",
       "      <th>time</th>\n",
       "    </tr>\n",
       "  </thead>\n",
       "  <tbody>\n",
       "    <tr>\n",
       "      <td>0</td>\n",
       "      <td>3.174926</td>\n",
       "      <td>2.199097</td>\n",
       "      <td>0.568948</td>\n",
       "      <td>00:39</td>\n",
       "    </tr>\n",
       "  </tbody>\n",
       "</table>"
      ],
      "text/plain": [
       "<IPython.core.display.HTML object>"
      ]
     },
     "metadata": {},
     "output_type": "display_data"
    },
    {
     "data": {
      "text/html": [
       "\n",
       "<style>\n",
       "    /* Turns off some styling */\n",
       "    progress {\n",
       "        /* gets rid of default border in Firefox and Opera. */\n",
       "        border: none;\n",
       "        /* Needs to be in here for Safari polyfill so background images work as expected. */\n",
       "        background-size: auto;\n",
       "    }\n",
       "    .progress-bar-interrupted, .progress-bar-interrupted::-webkit-progress-bar {\n",
       "        background: #F44336;\n",
       "    }\n",
       "</style>\n"
      ],
      "text/plain": [
       "<IPython.core.display.HTML object>"
      ]
     },
     "metadata": {},
     "output_type": "display_data"
    },
    {
     "data": {
      "text/html": [
       "<table border=\"1\" class=\"dataframe\">\n",
       "  <thead>\n",
       "    <tr style=\"text-align: left;\">\n",
       "      <th>epoch</th>\n",
       "      <th>train_loss</th>\n",
       "      <th>valid_loss</th>\n",
       "      <th>error_rate</th>\n",
       "      <th>time</th>\n",
       "    </tr>\n",
       "  </thead>\n",
       "  <tbody>\n",
       "    <tr>\n",
       "      <td>0</td>\n",
       "      <td>1.385972</td>\n",
       "      <td>1.171804</td>\n",
       "      <td>0.331109</td>\n",
       "      <td>00:44</td>\n",
       "    </tr>\n",
       "    <tr>\n",
       "      <td>1</td>\n",
       "      <td>0.692231</td>\n",
       "      <td>0.717439</td>\n",
       "      <td>0.206916</td>\n",
       "      <td>00:44</td>\n",
       "    </tr>\n",
       "    <tr>\n",
       "      <td>2</td>\n",
       "      <td>0.358379</td>\n",
       "      <td>0.534532</td>\n",
       "      <td>0.153322</td>\n",
       "      <td>00:45</td>\n",
       "    </tr>\n",
       "    <tr>\n",
       "      <td>3</td>\n",
       "      <td>0.223138</td>\n",
       "      <td>0.468127</td>\n",
       "      <td>0.126130</td>\n",
       "      <td>00:45</td>\n",
       "    </tr>\n",
       "    <tr>\n",
       "      <td>4</td>\n",
       "      <td>0.160181</td>\n",
       "      <td>0.435611</td>\n",
       "      <td>0.108337</td>\n",
       "      <td>00:45</td>\n",
       "    </tr>\n",
       "    <tr>\n",
       "      <td>5</td>\n",
       "      <td>0.121512</td>\n",
       "      <td>0.413125</td>\n",
       "      <td>0.100014</td>\n",
       "      <td>00:45</td>\n",
       "    </tr>\n",
       "    <tr>\n",
       "      <td>6</td>\n",
       "      <td>0.094991</td>\n",
       "      <td>0.395330</td>\n",
       "      <td>0.093557</td>\n",
       "      <td>00:45</td>\n",
       "    </tr>\n",
       "    <tr>\n",
       "      <td>7</td>\n",
       "      <td>0.075312</td>\n",
       "      <td>0.389428</td>\n",
       "      <td>0.090400</td>\n",
       "      <td>00:45</td>\n",
       "    </tr>\n",
       "    <tr>\n",
       "      <td>8</td>\n",
       "      <td>0.058431</td>\n",
       "      <td>0.369612</td>\n",
       "      <td>0.083728</td>\n",
       "      <td>00:45</td>\n",
       "    </tr>\n",
       "    <tr>\n",
       "      <td>9</td>\n",
       "      <td>0.047807</td>\n",
       "      <td>0.365306</td>\n",
       "      <td>0.078419</td>\n",
       "      <td>00:45</td>\n",
       "    </tr>\n",
       "    <tr>\n",
       "      <td>10</td>\n",
       "      <td>0.035208</td>\n",
       "      <td>0.367121</td>\n",
       "      <td>0.079710</td>\n",
       "      <td>00:45</td>\n",
       "    </tr>\n",
       "    <tr>\n",
       "      <td>11</td>\n",
       "      <td>0.029935</td>\n",
       "      <td>0.349953</td>\n",
       "      <td>0.075979</td>\n",
       "      <td>00:45</td>\n",
       "    </tr>\n",
       "    <tr>\n",
       "      <td>12</td>\n",
       "      <td>0.025643</td>\n",
       "      <td>0.349648</td>\n",
       "      <td>0.074760</td>\n",
       "      <td>00:45</td>\n",
       "    </tr>\n",
       "    <tr>\n",
       "      <td>13</td>\n",
       "      <td>0.022809</td>\n",
       "      <td>0.346692</td>\n",
       "      <td>0.071818</td>\n",
       "      <td>00:45</td>\n",
       "    </tr>\n",
       "    <tr>\n",
       "      <td>14</td>\n",
       "      <td>0.023213</td>\n",
       "      <td>0.345790</td>\n",
       "      <td>0.072392</td>\n",
       "      <td>00:44</td>\n",
       "    </tr>\n",
       "  </tbody>\n",
       "</table>"
      ],
      "text/plain": [
       "<IPython.core.display.HTML object>"
      ]
     },
     "metadata": {},
     "output_type": "display_data"
    },
    {
     "data": {
      "text/html": [
       "\n",
       "<style>\n",
       "    /* Turns off some styling */\n",
       "    progress {\n",
       "        /* gets rid of default border in Firefox and Opera. */\n",
       "        border: none;\n",
       "        /* Needs to be in here for Safari polyfill so background images work as expected. */\n",
       "        background-size: auto;\n",
       "    }\n",
       "    .progress-bar-interrupted, .progress-bar-interrupted::-webkit-progress-bar {\n",
       "        background: #F44336;\n",
       "    }\n",
       "</style>\n"
      ],
      "text/plain": [
       "<IPython.core.display.HTML object>"
      ]
     },
     "metadata": {},
     "output_type": "display_data"
    },
    {
     "data": {
      "text/html": [],
      "text/plain": [
       "<IPython.core.display.HTML object>"
      ]
     },
     "metadata": {},
     "output_type": "display_data"
    },
    {
     "data": {
      "text/html": [
       "\n",
       "<style>\n",
       "    /* Turns off some styling */\n",
       "    progress {\n",
       "        /* gets rid of default border in Firefox and Opera. */\n",
       "        border: none;\n",
       "        /* Needs to be in here for Safari polyfill so background images work as expected. */\n",
       "        background-size: auto;\n",
       "    }\n",
       "    .progress-bar-interrupted, .progress-bar-interrupted::-webkit-progress-bar {\n",
       "        background: #F44336;\n",
       "    }\n",
       "</style>\n"
      ],
      "text/plain": [
       "<IPython.core.display.HTML object>"
      ]
     },
     "metadata": {},
     "output_type": "display_data"
    },
    {
     "data": {
      "text/html": [
       "<table border=\"1\" class=\"dataframe\">\n",
       "  <thead>\n",
       "    <tr style=\"text-align: left;\">\n",
       "      <th>epoch</th>\n",
       "      <th>train_loss</th>\n",
       "      <th>valid_loss</th>\n",
       "      <th>error_rate</th>\n",
       "      <th>time</th>\n",
       "    </tr>\n",
       "  </thead>\n",
       "  <tbody>\n",
       "    <tr>\n",
       "      <td>0</td>\n",
       "      <td>3.176069</td>\n",
       "      <td>2.207025</td>\n",
       "      <td>0.573468</td>\n",
       "      <td>00:39</td>\n",
       "    </tr>\n",
       "  </tbody>\n",
       "</table>"
      ],
      "text/plain": [
       "<IPython.core.display.HTML object>"
      ]
     },
     "metadata": {},
     "output_type": "display_data"
    },
    {
     "data": {
      "text/html": [
       "\n",
       "<style>\n",
       "    /* Turns off some styling */\n",
       "    progress {\n",
       "        /* gets rid of default border in Firefox and Opera. */\n",
       "        border: none;\n",
       "        /* Needs to be in here for Safari polyfill so background images work as expected. */\n",
       "        background-size: auto;\n",
       "    }\n",
       "    .progress-bar-interrupted, .progress-bar-interrupted::-webkit-progress-bar {\n",
       "        background: #F44336;\n",
       "    }\n",
       "</style>\n"
      ],
      "text/plain": [
       "<IPython.core.display.HTML object>"
      ]
     },
     "metadata": {},
     "output_type": "display_data"
    },
    {
     "data": {
      "text/html": [
       "<table border=\"1\" class=\"dataframe\">\n",
       "  <thead>\n",
       "    <tr style=\"text-align: left;\">\n",
       "      <th>epoch</th>\n",
       "      <th>train_loss</th>\n",
       "      <th>valid_loss</th>\n",
       "      <th>error_rate</th>\n",
       "      <th>time</th>\n",
       "    </tr>\n",
       "  </thead>\n",
       "  <tbody>\n",
       "    <tr>\n",
       "      <td>0</td>\n",
       "      <td>1.368092</td>\n",
       "      <td>1.179003</td>\n",
       "      <td>0.336992</td>\n",
       "      <td>00:45</td>\n",
       "    </tr>\n",
       "    <tr>\n",
       "      <td>1</td>\n",
       "      <td>0.691850</td>\n",
       "      <td>0.719519</td>\n",
       "      <td>0.208208</td>\n",
       "      <td>00:45</td>\n",
       "    </tr>\n",
       "    <tr>\n",
       "      <td>2</td>\n",
       "      <td>0.355702</td>\n",
       "      <td>0.555411</td>\n",
       "      <td>0.153035</td>\n",
       "      <td>00:45</td>\n",
       "    </tr>\n",
       "    <tr>\n",
       "      <td>3</td>\n",
       "      <td>0.222222</td>\n",
       "      <td>0.483391</td>\n",
       "      <td>0.128856</td>\n",
       "      <td>00:45</td>\n",
       "    </tr>\n",
       "    <tr>\n",
       "      <td>4</td>\n",
       "      <td>0.162077</td>\n",
       "      <td>0.430381</td>\n",
       "      <td>0.108839</td>\n",
       "      <td>00:45</td>\n",
       "    </tr>\n",
       "    <tr>\n",
       "      <td>5</td>\n",
       "      <td>0.119015</td>\n",
       "      <td>0.432722</td>\n",
       "      <td>0.107978</td>\n",
       "      <td>00:44</td>\n",
       "    </tr>\n",
       "    <tr>\n",
       "      <td>6</td>\n",
       "      <td>0.097629</td>\n",
       "      <td>0.407411</td>\n",
       "      <td>0.096499</td>\n",
       "      <td>00:45</td>\n",
       "    </tr>\n",
       "    <tr>\n",
       "      <td>7</td>\n",
       "      <td>0.073746</td>\n",
       "      <td>0.385302</td>\n",
       "      <td>0.087244</td>\n",
       "      <td>00:44</td>\n",
       "    </tr>\n",
       "    <tr>\n",
       "      <td>8</td>\n",
       "      <td>0.059411</td>\n",
       "      <td>0.374484</td>\n",
       "      <td>0.085091</td>\n",
       "      <td>00:45</td>\n",
       "    </tr>\n",
       "    <tr>\n",
       "      <td>9</td>\n",
       "      <td>0.047081</td>\n",
       "      <td>0.374349</td>\n",
       "      <td>0.078993</td>\n",
       "      <td>00:45</td>\n",
       "    </tr>\n",
       "    <tr>\n",
       "      <td>10</td>\n",
       "      <td>0.035008</td>\n",
       "      <td>0.353359</td>\n",
       "      <td>0.076338</td>\n",
       "      <td>00:44</td>\n",
       "    </tr>\n",
       "    <tr>\n",
       "      <td>11</td>\n",
       "      <td>0.030391</td>\n",
       "      <td>0.358564</td>\n",
       "      <td>0.076482</td>\n",
       "      <td>00:44</td>\n",
       "    </tr>\n",
       "    <tr>\n",
       "      <td>12</td>\n",
       "      <td>0.024298</td>\n",
       "      <td>0.351168</td>\n",
       "      <td>0.074760</td>\n",
       "      <td>00:44</td>\n",
       "    </tr>\n",
       "    <tr>\n",
       "      <td>13</td>\n",
       "      <td>0.023035</td>\n",
       "      <td>0.351045</td>\n",
       "      <td>0.072822</td>\n",
       "      <td>00:44</td>\n",
       "    </tr>\n",
       "    <tr>\n",
       "      <td>14</td>\n",
       "      <td>0.023263</td>\n",
       "      <td>0.350659</td>\n",
       "      <td>0.073109</td>\n",
       "      <td>00:45</td>\n",
       "    </tr>\n",
       "  </tbody>\n",
       "</table>"
      ],
      "text/plain": [
       "<IPython.core.display.HTML object>"
      ]
     },
     "metadata": {},
     "output_type": "display_data"
    },
    {
     "data": {
      "text/html": [
       "\n",
       "<style>\n",
       "    /* Turns off some styling */\n",
       "    progress {\n",
       "        /* gets rid of default border in Firefox and Opera. */\n",
       "        border: none;\n",
       "        /* Needs to be in here for Safari polyfill so background images work as expected. */\n",
       "        background-size: auto;\n",
       "    }\n",
       "    .progress-bar-interrupted, .progress-bar-interrupted::-webkit-progress-bar {\n",
       "        background: #F44336;\n",
       "    }\n",
       "</style>\n"
      ],
      "text/plain": [
       "<IPython.core.display.HTML object>"
      ]
     },
     "metadata": {},
     "output_type": "display_data"
    },
    {
     "data": {
      "text/html": [],
      "text/plain": [
       "<IPython.core.display.HTML object>"
      ]
     },
     "metadata": {},
     "output_type": "display_data"
    },
    {
     "data": {
      "text/html": [
       "\n",
       "<style>\n",
       "    /* Turns off some styling */\n",
       "    progress {\n",
       "        /* gets rid of default border in Firefox and Opera. */\n",
       "        border: none;\n",
       "        /* Needs to be in here for Safari polyfill so background images work as expected. */\n",
       "        background-size: auto;\n",
       "    }\n",
       "    .progress-bar-interrupted, .progress-bar-interrupted::-webkit-progress-bar {\n",
       "        background: #F44336;\n",
       "    }\n",
       "</style>\n"
      ],
      "text/plain": [
       "<IPython.core.display.HTML object>"
      ]
     },
     "metadata": {},
     "output_type": "display_data"
    },
    {
     "data": {
      "text/html": [
       "<table border=\"1\" class=\"dataframe\">\n",
       "  <thead>\n",
       "    <tr style=\"text-align: left;\">\n",
       "      <th>epoch</th>\n",
       "      <th>train_loss</th>\n",
       "      <th>valid_loss</th>\n",
       "      <th>error_rate</th>\n",
       "      <th>time</th>\n",
       "    </tr>\n",
       "  </thead>\n",
       "  <tbody>\n",
       "    <tr>\n",
       "      <td>0</td>\n",
       "      <td>3.173688</td>\n",
       "      <td>2.178004</td>\n",
       "      <td>0.567585</td>\n",
       "      <td>00:39</td>\n",
       "    </tr>\n",
       "  </tbody>\n",
       "</table>"
      ],
      "text/plain": [
       "<IPython.core.display.HTML object>"
      ]
     },
     "metadata": {},
     "output_type": "display_data"
    },
    {
     "data": {
      "text/html": [
       "\n",
       "<style>\n",
       "    /* Turns off some styling */\n",
       "    progress {\n",
       "        /* gets rid of default border in Firefox and Opera. */\n",
       "        border: none;\n",
       "        /* Needs to be in here for Safari polyfill so background images work as expected. */\n",
       "        background-size: auto;\n",
       "    }\n",
       "    .progress-bar-interrupted, .progress-bar-interrupted::-webkit-progress-bar {\n",
       "        background: #F44336;\n",
       "    }\n",
       "</style>\n"
      ],
      "text/plain": [
       "<IPython.core.display.HTML object>"
      ]
     },
     "metadata": {},
     "output_type": "display_data"
    },
    {
     "data": {
      "text/html": [
       "<table border=\"1\" class=\"dataframe\">\n",
       "  <thead>\n",
       "    <tr style=\"text-align: left;\">\n",
       "      <th>epoch</th>\n",
       "      <th>train_loss</th>\n",
       "      <th>valid_loss</th>\n",
       "      <th>error_rate</th>\n",
       "      <th>time</th>\n",
       "    </tr>\n",
       "  </thead>\n",
       "  <tbody>\n",
       "    <tr>\n",
       "      <td>0</td>\n",
       "      <td>1.378958</td>\n",
       "      <td>1.171531</td>\n",
       "      <td>0.335342</td>\n",
       "      <td>00:45</td>\n",
       "    </tr>\n",
       "    <tr>\n",
       "      <td>1</td>\n",
       "      <td>0.694534</td>\n",
       "      <td>0.722618</td>\n",
       "      <td>0.209427</td>\n",
       "      <td>00:45</td>\n",
       "    </tr>\n",
       "    <tr>\n",
       "      <td>2</td>\n",
       "      <td>0.354963</td>\n",
       "      <td>0.536154</td>\n",
       "      <td>0.151959</td>\n",
       "      <td>00:44</td>\n",
       "    </tr>\n",
       "    <tr>\n",
       "      <td>3</td>\n",
       "      <td>0.218793</td>\n",
       "      <td>0.484752</td>\n",
       "      <td>0.130722</td>\n",
       "      <td>00:44</td>\n",
       "    </tr>\n",
       "    <tr>\n",
       "      <td>4</td>\n",
       "      <td>0.163539</td>\n",
       "      <td>0.443117</td>\n",
       "      <td>0.113718</td>\n",
       "      <td>00:44</td>\n",
       "    </tr>\n",
       "    <tr>\n",
       "      <td>5</td>\n",
       "      <td>0.113952</td>\n",
       "      <td>0.433729</td>\n",
       "      <td>0.102669</td>\n",
       "      <td>00:45</td>\n",
       "    </tr>\n",
       "    <tr>\n",
       "      <td>6</td>\n",
       "      <td>0.093413</td>\n",
       "      <td>0.393414</td>\n",
       "      <td>0.091118</td>\n",
       "      <td>00:44</td>\n",
       "    </tr>\n",
       "    <tr>\n",
       "      <td>7</td>\n",
       "      <td>0.072247</td>\n",
       "      <td>0.388897</td>\n",
       "      <td>0.088822</td>\n",
       "      <td>00:45</td>\n",
       "    </tr>\n",
       "    <tr>\n",
       "      <td>8</td>\n",
       "      <td>0.060516</td>\n",
       "      <td>0.369948</td>\n",
       "      <td>0.084517</td>\n",
       "      <td>00:43</td>\n",
       "    </tr>\n",
       "    <tr>\n",
       "      <td>9</td>\n",
       "      <td>0.043736</td>\n",
       "      <td>0.363622</td>\n",
       "      <td>0.079567</td>\n",
       "      <td>00:45</td>\n",
       "    </tr>\n",
       "    <tr>\n",
       "      <td>10</td>\n",
       "      <td>0.035303</td>\n",
       "      <td>0.355631</td>\n",
       "      <td>0.074975</td>\n",
       "      <td>00:44</td>\n",
       "    </tr>\n",
       "    <tr>\n",
       "      <td>11</td>\n",
       "      <td>0.030776</td>\n",
       "      <td>0.358981</td>\n",
       "      <td>0.074903</td>\n",
       "      <td>00:43</td>\n",
       "    </tr>\n",
       "    <tr>\n",
       "      <td>12</td>\n",
       "      <td>0.025220</td>\n",
       "      <td>0.351944</td>\n",
       "      <td>0.073038</td>\n",
       "      <td>00:45</td>\n",
       "    </tr>\n",
       "    <tr>\n",
       "      <td>13</td>\n",
       "      <td>0.023914</td>\n",
       "      <td>0.349509</td>\n",
       "      <td>0.072679</td>\n",
       "      <td>00:45</td>\n",
       "    </tr>\n",
       "    <tr>\n",
       "      <td>14</td>\n",
       "      <td>0.021690</td>\n",
       "      <td>0.349046</td>\n",
       "      <td>0.071890</td>\n",
       "      <td>00:45</td>\n",
       "    </tr>\n",
       "  </tbody>\n",
       "</table>"
      ],
      "text/plain": [
       "<IPython.core.display.HTML object>"
      ]
     },
     "metadata": {},
     "output_type": "display_data"
    },
    {
     "data": {
      "text/html": [
       "\n",
       "<style>\n",
       "    /* Turns off some styling */\n",
       "    progress {\n",
       "        /* gets rid of default border in Firefox and Opera. */\n",
       "        border: none;\n",
       "        /* Needs to be in here for Safari polyfill so background images work as expected. */\n",
       "        background-size: auto;\n",
       "    }\n",
       "    .progress-bar-interrupted, .progress-bar-interrupted::-webkit-progress-bar {\n",
       "        background: #F44336;\n",
       "    }\n",
       "</style>\n"
      ],
      "text/plain": [
       "<IPython.core.display.HTML object>"
      ]
     },
     "metadata": {},
     "output_type": "display_data"
    },
    {
     "data": {
      "text/html": [],
      "text/plain": [
       "<IPython.core.display.HTML object>"
      ]
     },
     "metadata": {},
     "output_type": "display_data"
    },
    {
     "data": {
      "text/html": [
       "\n",
       "<style>\n",
       "    /* Turns off some styling */\n",
       "    progress {\n",
       "        /* gets rid of default border in Firefox and Opera. */\n",
       "        border: none;\n",
       "        /* Needs to be in here for Safari polyfill so background images work as expected. */\n",
       "        background-size: auto;\n",
       "    }\n",
       "    .progress-bar-interrupted, .progress-bar-interrupted::-webkit-progress-bar {\n",
       "        background: #F44336;\n",
       "    }\n",
       "</style>\n"
      ],
      "text/plain": [
       "<IPython.core.display.HTML object>"
      ]
     },
     "metadata": {},
     "output_type": "display_data"
    },
    {
     "data": {
      "text/html": [
       "<table border=\"1\" class=\"dataframe\">\n",
       "  <thead>\n",
       "    <tr style=\"text-align: left;\">\n",
       "      <th>epoch</th>\n",
       "      <th>train_loss</th>\n",
       "      <th>valid_loss</th>\n",
       "      <th>error_rate</th>\n",
       "      <th>time</th>\n",
       "    </tr>\n",
       "  </thead>\n",
       "  <tbody>\n",
       "    <tr>\n",
       "      <td>0</td>\n",
       "      <td>3.179272</td>\n",
       "      <td>2.209402</td>\n",
       "      <td>0.577127</td>\n",
       "      <td>00:38</td>\n",
       "    </tr>\n",
       "  </tbody>\n",
       "</table>"
      ],
      "text/plain": [
       "<IPython.core.display.HTML object>"
      ]
     },
     "metadata": {},
     "output_type": "display_data"
    },
    {
     "data": {
      "text/html": [
       "\n",
       "<style>\n",
       "    /* Turns off some styling */\n",
       "    progress {\n",
       "        /* gets rid of default border in Firefox and Opera. */\n",
       "        border: none;\n",
       "        /* Needs to be in here for Safari polyfill so background images work as expected. */\n",
       "        background-size: auto;\n",
       "    }\n",
       "    .progress-bar-interrupted, .progress-bar-interrupted::-webkit-progress-bar {\n",
       "        background: #F44336;\n",
       "    }\n",
       "</style>\n"
      ],
      "text/plain": [
       "<IPython.core.display.HTML object>"
      ]
     },
     "metadata": {},
     "output_type": "display_data"
    },
    {
     "data": {
      "text/html": [
       "<table border=\"1\" class=\"dataframe\">\n",
       "  <thead>\n",
       "    <tr style=\"text-align: left;\">\n",
       "      <th>epoch</th>\n",
       "      <th>train_loss</th>\n",
       "      <th>valid_loss</th>\n",
       "      <th>error_rate</th>\n",
       "      <th>time</th>\n",
       "    </tr>\n",
       "  </thead>\n",
       "  <tbody>\n",
       "    <tr>\n",
       "      <td>0</td>\n",
       "      <td>1.383527</td>\n",
       "      <td>1.178115</td>\n",
       "      <td>0.337638</td>\n",
       "      <td>00:44</td>\n",
       "    </tr>\n",
       "    <tr>\n",
       "      <td>1</td>\n",
       "      <td>0.690058</td>\n",
       "      <td>0.730911</td>\n",
       "      <td>0.212154</td>\n",
       "      <td>00:45</td>\n",
       "    </tr>\n",
       "    <tr>\n",
       "      <td>2</td>\n",
       "      <td>0.355031</td>\n",
       "      <td>0.528857</td>\n",
       "      <td>0.147797</td>\n",
       "      <td>00:45</td>\n",
       "    </tr>\n",
       "    <tr>\n",
       "      <td>3</td>\n",
       "      <td>0.220435</td>\n",
       "      <td>0.517628</td>\n",
       "      <td>0.140910</td>\n",
       "      <td>00:45</td>\n",
       "    </tr>\n",
       "    <tr>\n",
       "      <td>4</td>\n",
       "      <td>0.159808</td>\n",
       "      <td>0.439856</td>\n",
       "      <td>0.108050</td>\n",
       "      <td>00:44</td>\n",
       "    </tr>\n",
       "    <tr>\n",
       "      <td>5</td>\n",
       "      <td>0.122769</td>\n",
       "      <td>0.421914</td>\n",
       "      <td>0.099943</td>\n",
       "      <td>00:45</td>\n",
       "    </tr>\n",
       "    <tr>\n",
       "      <td>6</td>\n",
       "      <td>0.092904</td>\n",
       "      <td>0.396862</td>\n",
       "      <td>0.092911</td>\n",
       "      <td>00:44</td>\n",
       "    </tr>\n",
       "    <tr>\n",
       "      <td>7</td>\n",
       "      <td>0.077685</td>\n",
       "      <td>0.389934</td>\n",
       "      <td>0.087817</td>\n",
       "      <td>00:45</td>\n",
       "    </tr>\n",
       "    <tr>\n",
       "      <td>8</td>\n",
       "      <td>0.060084</td>\n",
       "      <td>0.386134</td>\n",
       "      <td>0.085809</td>\n",
       "      <td>00:45</td>\n",
       "    </tr>\n",
       "    <tr>\n",
       "      <td>9</td>\n",
       "      <td>0.048407</td>\n",
       "      <td>0.382947</td>\n",
       "      <td>0.083943</td>\n",
       "      <td>00:45</td>\n",
       "    </tr>\n",
       "    <tr>\n",
       "      <td>10</td>\n",
       "      <td>0.035954</td>\n",
       "      <td>0.366577</td>\n",
       "      <td>0.075979</td>\n",
       "      <td>00:45</td>\n",
       "    </tr>\n",
       "    <tr>\n",
       "      <td>11</td>\n",
       "      <td>0.030446</td>\n",
       "      <td>0.365824</td>\n",
       "      <td>0.076984</td>\n",
       "      <td>00:44</td>\n",
       "    </tr>\n",
       "    <tr>\n",
       "      <td>12</td>\n",
       "      <td>0.024326</td>\n",
       "      <td>0.359634</td>\n",
       "      <td>0.074042</td>\n",
       "      <td>00:45</td>\n",
       "    </tr>\n",
       "    <tr>\n",
       "      <td>13</td>\n",
       "      <td>0.022696</td>\n",
       "      <td>0.356133</td>\n",
       "      <td>0.073181</td>\n",
       "      <td>00:44</td>\n",
       "    </tr>\n",
       "    <tr>\n",
       "      <td>14</td>\n",
       "      <td>0.022780</td>\n",
       "      <td>0.355189</td>\n",
       "      <td>0.072392</td>\n",
       "      <td>00:44</td>\n",
       "    </tr>\n",
       "  </tbody>\n",
       "</table>"
      ],
      "text/plain": [
       "<IPython.core.display.HTML object>"
      ]
     },
     "metadata": {},
     "output_type": "display_data"
    },
    {
     "data": {
      "text/html": [
       "\n",
       "<style>\n",
       "    /* Turns off some styling */\n",
       "    progress {\n",
       "        /* gets rid of default border in Firefox and Opera. */\n",
       "        border: none;\n",
       "        /* Needs to be in here for Safari polyfill so background images work as expected. */\n",
       "        background-size: auto;\n",
       "    }\n",
       "    .progress-bar-interrupted, .progress-bar-interrupted::-webkit-progress-bar {\n",
       "        background: #F44336;\n",
       "    }\n",
       "</style>\n"
      ],
      "text/plain": [
       "<IPython.core.display.HTML object>"
      ]
     },
     "metadata": {},
     "output_type": "display_data"
    },
    {
     "data": {
      "text/html": [],
      "text/plain": [
       "<IPython.core.display.HTML object>"
      ]
     },
     "metadata": {},
     "output_type": "display_data"
    },
    {
     "data": {
      "text/html": [
       "\n",
       "<style>\n",
       "    /* Turns off some styling */\n",
       "    progress {\n",
       "        /* gets rid of default border in Firefox and Opera. */\n",
       "        border: none;\n",
       "        /* Needs to be in here for Safari polyfill so background images work as expected. */\n",
       "        background-size: auto;\n",
       "    }\n",
       "    .progress-bar-interrupted, .progress-bar-interrupted::-webkit-progress-bar {\n",
       "        background: #F44336;\n",
       "    }\n",
       "</style>\n"
      ],
      "text/plain": [
       "<IPython.core.display.HTML object>"
      ]
     },
     "metadata": {},
     "output_type": "display_data"
    },
    {
     "data": {
      "text/html": [
       "<table border=\"1\" class=\"dataframe\">\n",
       "  <thead>\n",
       "    <tr style=\"text-align: left;\">\n",
       "      <th>epoch</th>\n",
       "      <th>train_loss</th>\n",
       "      <th>valid_loss</th>\n",
       "      <th>error_rate</th>\n",
       "      <th>time</th>\n",
       "    </tr>\n",
       "  </thead>\n",
       "  <tbody>\n",
       "    <tr>\n",
       "      <td>0</td>\n",
       "      <td>3.161433</td>\n",
       "      <td>2.146915</td>\n",
       "      <td>0.558904</td>\n",
       "      <td>00:39</td>\n",
       "    </tr>\n",
       "  </tbody>\n",
       "</table>"
      ],
      "text/plain": [
       "<IPython.core.display.HTML object>"
      ]
     },
     "metadata": {},
     "output_type": "display_data"
    },
    {
     "data": {
      "text/html": [
       "\n",
       "<style>\n",
       "    /* Turns off some styling */\n",
       "    progress {\n",
       "        /* gets rid of default border in Firefox and Opera. */\n",
       "        border: none;\n",
       "        /* Needs to be in here for Safari polyfill so background images work as expected. */\n",
       "        background-size: auto;\n",
       "    }\n",
       "    .progress-bar-interrupted, .progress-bar-interrupted::-webkit-progress-bar {\n",
       "        background: #F44336;\n",
       "    }\n",
       "</style>\n"
      ],
      "text/plain": [
       "<IPython.core.display.HTML object>"
      ]
     },
     "metadata": {},
     "output_type": "display_data"
    },
    {
     "data": {
      "text/html": [
       "<table border=\"1\" class=\"dataframe\">\n",
       "  <thead>\n",
       "    <tr style=\"text-align: left;\">\n",
       "      <th>epoch</th>\n",
       "      <th>train_loss</th>\n",
       "      <th>valid_loss</th>\n",
       "      <th>error_rate</th>\n",
       "      <th>time</th>\n",
       "    </tr>\n",
       "  </thead>\n",
       "  <tbody>\n",
       "    <tr>\n",
       "      <td>0</td>\n",
       "      <td>1.384060</td>\n",
       "      <td>1.173953</td>\n",
       "      <td>0.333907</td>\n",
       "      <td>00:45</td>\n",
       "    </tr>\n",
       "    <tr>\n",
       "      <td>1</td>\n",
       "      <td>0.703267</td>\n",
       "      <td>0.718627</td>\n",
       "      <td>0.207275</td>\n",
       "      <td>00:44</td>\n",
       "    </tr>\n",
       "    <tr>\n",
       "      <td>2</td>\n",
       "      <td>0.359820</td>\n",
       "      <td>0.528628</td>\n",
       "      <td>0.149232</td>\n",
       "      <td>00:45</td>\n",
       "    </tr>\n",
       "    <tr>\n",
       "      <td>3</td>\n",
       "      <td>0.225484</td>\n",
       "      <td>0.458652</td>\n",
       "      <td>0.125915</td>\n",
       "      <td>00:45</td>\n",
       "    </tr>\n",
       "    <tr>\n",
       "      <td>4</td>\n",
       "      <td>0.154711</td>\n",
       "      <td>0.433431</td>\n",
       "      <td>0.109557</td>\n",
       "      <td>00:43</td>\n",
       "    </tr>\n",
       "    <tr>\n",
       "      <td>5</td>\n",
       "      <td>0.125361</td>\n",
       "      <td>0.407817</td>\n",
       "      <td>0.098866</td>\n",
       "      <td>00:45</td>\n",
       "    </tr>\n",
       "    <tr>\n",
       "      <td>6</td>\n",
       "      <td>0.094664</td>\n",
       "      <td>0.391175</td>\n",
       "      <td>0.089683</td>\n",
       "      <td>00:45</td>\n",
       "    </tr>\n",
       "    <tr>\n",
       "      <td>7</td>\n",
       "      <td>0.075622</td>\n",
       "      <td>0.382855</td>\n",
       "      <td>0.088320</td>\n",
       "      <td>00:45</td>\n",
       "    </tr>\n",
       "    <tr>\n",
       "      <td>8</td>\n",
       "      <td>0.058633</td>\n",
       "      <td>0.377226</td>\n",
       "      <td>0.084876</td>\n",
       "      <td>00:43</td>\n",
       "    </tr>\n",
       "    <tr>\n",
       "      <td>9</td>\n",
       "      <td>0.045305</td>\n",
       "      <td>0.386709</td>\n",
       "      <td>0.084445</td>\n",
       "      <td>00:45</td>\n",
       "    </tr>\n",
       "    <tr>\n",
       "      <td>10</td>\n",
       "      <td>0.035816</td>\n",
       "      <td>0.362687</td>\n",
       "      <td>0.076195</td>\n",
       "      <td>00:45</td>\n",
       "    </tr>\n",
       "    <tr>\n",
       "      <td>11</td>\n",
       "      <td>0.028467</td>\n",
       "      <td>0.364640</td>\n",
       "      <td>0.075764</td>\n",
       "      <td>00:45</td>\n",
       "    </tr>\n",
       "    <tr>\n",
       "      <td>12</td>\n",
       "      <td>0.024990</td>\n",
       "      <td>0.356184</td>\n",
       "      <td>0.074401</td>\n",
       "      <td>00:45</td>\n",
       "    </tr>\n",
       "    <tr>\n",
       "      <td>13</td>\n",
       "      <td>0.022714</td>\n",
       "      <td>0.356631</td>\n",
       "      <td>0.073253</td>\n",
       "      <td>00:44</td>\n",
       "    </tr>\n",
       "    <tr>\n",
       "      <td>14</td>\n",
       "      <td>0.022413</td>\n",
       "      <td>0.357599</td>\n",
       "      <td>0.074186</td>\n",
       "      <td>00:45</td>\n",
       "    </tr>\n",
       "  </tbody>\n",
       "</table>"
      ],
      "text/plain": [
       "<IPython.core.display.HTML object>"
      ]
     },
     "metadata": {},
     "output_type": "display_data"
    },
    {
     "data": {
      "text/html": [
       "\n",
       "<style>\n",
       "    /* Turns off some styling */\n",
       "    progress {\n",
       "        /* gets rid of default border in Firefox and Opera. */\n",
       "        border: none;\n",
       "        /* Needs to be in here for Safari polyfill so background images work as expected. */\n",
       "        background-size: auto;\n",
       "    }\n",
       "    .progress-bar-interrupted, .progress-bar-interrupted::-webkit-progress-bar {\n",
       "        background: #F44336;\n",
       "    }\n",
       "</style>\n"
      ],
      "text/plain": [
       "<IPython.core.display.HTML object>"
      ]
     },
     "metadata": {},
     "output_type": "display_data"
    },
    {
     "data": {
      "text/html": [],
      "text/plain": [
       "<IPython.core.display.HTML object>"
      ]
     },
     "metadata": {},
     "output_type": "display_data"
    },
    {
     "data": {
      "text/html": [
       "\n",
       "<style>\n",
       "    /* Turns off some styling */\n",
       "    progress {\n",
       "        /* gets rid of default border in Firefox and Opera. */\n",
       "        border: none;\n",
       "        /* Needs to be in here for Safari polyfill so background images work as expected. */\n",
       "        background-size: auto;\n",
       "    }\n",
       "    .progress-bar-interrupted, .progress-bar-interrupted::-webkit-progress-bar {\n",
       "        background: #F44336;\n",
       "    }\n",
       "</style>\n"
      ],
      "text/plain": [
       "<IPython.core.display.HTML object>"
      ]
     },
     "metadata": {},
     "output_type": "display_data"
    },
    {
     "data": {
      "text/html": [
       "<table border=\"1\" class=\"dataframe\">\n",
       "  <thead>\n",
       "    <tr style=\"text-align: left;\">\n",
       "      <th>epoch</th>\n",
       "      <th>train_loss</th>\n",
       "      <th>valid_loss</th>\n",
       "      <th>error_rate</th>\n",
       "      <th>time</th>\n",
       "    </tr>\n",
       "  </thead>\n",
       "  <tbody>\n",
       "    <tr>\n",
       "      <td>0</td>\n",
       "      <td>3.168286</td>\n",
       "      <td>2.169814</td>\n",
       "      <td>0.559334</td>\n",
       "      <td>00:38</td>\n",
       "    </tr>\n",
       "  </tbody>\n",
       "</table>"
      ],
      "text/plain": [
       "<IPython.core.display.HTML object>"
      ]
     },
     "metadata": {},
     "output_type": "display_data"
    },
    {
     "data": {
      "text/html": [
       "\n",
       "<style>\n",
       "    /* Turns off some styling */\n",
       "    progress {\n",
       "        /* gets rid of default border in Firefox and Opera. */\n",
       "        border: none;\n",
       "        /* Needs to be in here for Safari polyfill so background images work as expected. */\n",
       "        background-size: auto;\n",
       "    }\n",
       "    .progress-bar-interrupted, .progress-bar-interrupted::-webkit-progress-bar {\n",
       "        background: #F44336;\n",
       "    }\n",
       "</style>\n"
      ],
      "text/plain": [
       "<IPython.core.display.HTML object>"
      ]
     },
     "metadata": {},
     "output_type": "display_data"
    },
    {
     "data": {
      "text/html": [
       "<table border=\"1\" class=\"dataframe\">\n",
       "  <thead>\n",
       "    <tr style=\"text-align: left;\">\n",
       "      <th>epoch</th>\n",
       "      <th>train_loss</th>\n",
       "      <th>valid_loss</th>\n",
       "      <th>error_rate</th>\n",
       "      <th>time</th>\n",
       "    </tr>\n",
       "  </thead>\n",
       "  <tbody>\n",
       "    <tr>\n",
       "      <td>0</td>\n",
       "      <td>1.381064</td>\n",
       "      <td>1.181313</td>\n",
       "      <td>0.337423</td>\n",
       "      <td>00:45</td>\n",
       "    </tr>\n",
       "    <tr>\n",
       "      <td>1</td>\n",
       "      <td>0.701390</td>\n",
       "      <td>0.723410</td>\n",
       "      <td>0.211221</td>\n",
       "      <td>00:45</td>\n",
       "    </tr>\n",
       "    <tr>\n",
       "      <td>2</td>\n",
       "      <td>0.355686</td>\n",
       "      <td>0.531959</td>\n",
       "      <td>0.149519</td>\n",
       "      <td>00:45</td>\n",
       "    </tr>\n",
       "    <tr>\n",
       "      <td>3</td>\n",
       "      <td>0.222372</td>\n",
       "      <td>0.462371</td>\n",
       "      <td>0.124193</td>\n",
       "      <td>00:45</td>\n",
       "    </tr>\n",
       "    <tr>\n",
       "      <td>4</td>\n",
       "      <td>0.156142</td>\n",
       "      <td>0.449691</td>\n",
       "      <td>0.115081</td>\n",
       "      <td>00:44</td>\n",
       "    </tr>\n",
       "    <tr>\n",
       "      <td>5</td>\n",
       "      <td>0.121365</td>\n",
       "      <td>0.407323</td>\n",
       "      <td>0.100588</td>\n",
       "      <td>00:44</td>\n",
       "    </tr>\n",
       "    <tr>\n",
       "      <td>6</td>\n",
       "      <td>0.093898</td>\n",
       "      <td>0.388316</td>\n",
       "      <td>0.092337</td>\n",
       "      <td>00:44</td>\n",
       "    </tr>\n",
       "    <tr>\n",
       "      <td>7</td>\n",
       "      <td>0.075224</td>\n",
       "      <td>0.384541</td>\n",
       "      <td>0.089324</td>\n",
       "      <td>00:45</td>\n",
       "    </tr>\n",
       "    <tr>\n",
       "      <td>8</td>\n",
       "      <td>0.059732</td>\n",
       "      <td>0.375186</td>\n",
       "      <td>0.084732</td>\n",
       "      <td>00:44</td>\n",
       "    </tr>\n",
       "    <tr>\n",
       "      <td>9</td>\n",
       "      <td>0.044980</td>\n",
       "      <td>0.364873</td>\n",
       "      <td>0.079423</td>\n",
       "      <td>00:45</td>\n",
       "    </tr>\n",
       "    <tr>\n",
       "      <td>10</td>\n",
       "      <td>0.036208</td>\n",
       "      <td>0.357061</td>\n",
       "      <td>0.078060</td>\n",
       "      <td>00:45</td>\n",
       "    </tr>\n",
       "    <tr>\n",
       "      <td>11</td>\n",
       "      <td>0.030050</td>\n",
       "      <td>0.351230</td>\n",
       "      <td>0.075979</td>\n",
       "      <td>00:44</td>\n",
       "    </tr>\n",
       "    <tr>\n",
       "      <td>12</td>\n",
       "      <td>0.025519</td>\n",
       "      <td>0.347812</td>\n",
       "      <td>0.075477</td>\n",
       "      <td>00:45</td>\n",
       "    </tr>\n",
       "    <tr>\n",
       "      <td>13</td>\n",
       "      <td>0.020889</td>\n",
       "      <td>0.347309</td>\n",
       "      <td>0.072464</td>\n",
       "      <td>00:45</td>\n",
       "    </tr>\n",
       "    <tr>\n",
       "      <td>14</td>\n",
       "      <td>0.022511</td>\n",
       "      <td>0.345348</td>\n",
       "      <td>0.072536</td>\n",
       "      <td>00:44</td>\n",
       "    </tr>\n",
       "  </tbody>\n",
       "</table>"
      ],
      "text/plain": [
       "<IPython.core.display.HTML object>"
      ]
     },
     "metadata": {},
     "output_type": "display_data"
    },
    {
     "data": {
      "text/html": [
       "\n",
       "<style>\n",
       "    /* Turns off some styling */\n",
       "    progress {\n",
       "        /* gets rid of default border in Firefox and Opera. */\n",
       "        border: none;\n",
       "        /* Needs to be in here for Safari polyfill so background images work as expected. */\n",
       "        background-size: auto;\n",
       "    }\n",
       "    .progress-bar-interrupted, .progress-bar-interrupted::-webkit-progress-bar {\n",
       "        background: #F44336;\n",
       "    }\n",
       "</style>\n"
      ],
      "text/plain": [
       "<IPython.core.display.HTML object>"
      ]
     },
     "metadata": {},
     "output_type": "display_data"
    },
    {
     "data": {
      "text/html": [],
      "text/plain": [
       "<IPython.core.display.HTML object>"
      ]
     },
     "metadata": {},
     "output_type": "display_data"
    },
    {
     "data": {
      "text/html": [
       "\n",
       "<style>\n",
       "    /* Turns off some styling */\n",
       "    progress {\n",
       "        /* gets rid of default border in Firefox and Opera. */\n",
       "        border: none;\n",
       "        /* Needs to be in here for Safari polyfill so background images work as expected. */\n",
       "        background-size: auto;\n",
       "    }\n",
       "    .progress-bar-interrupted, .progress-bar-interrupted::-webkit-progress-bar {\n",
       "        background: #F44336;\n",
       "    }\n",
       "</style>\n"
      ],
      "text/plain": [
       "<IPython.core.display.HTML object>"
      ]
     },
     "metadata": {},
     "output_type": "display_data"
    },
    {
     "data": {
      "text/html": [
       "<table border=\"1\" class=\"dataframe\">\n",
       "  <thead>\n",
       "    <tr style=\"text-align: left;\">\n",
       "      <th>epoch</th>\n",
       "      <th>train_loss</th>\n",
       "      <th>valid_loss</th>\n",
       "      <th>error_rate</th>\n",
       "      <th>time</th>\n",
       "    </tr>\n",
       "  </thead>\n",
       "  <tbody>\n",
       "    <tr>\n",
       "      <td>0</td>\n",
       "      <td>3.171444</td>\n",
       "      <td>2.185405</td>\n",
       "      <td>0.565935</td>\n",
       "      <td>00:39</td>\n",
       "    </tr>\n",
       "  </tbody>\n",
       "</table>"
      ],
      "text/plain": [
       "<IPython.core.display.HTML object>"
      ]
     },
     "metadata": {},
     "output_type": "display_data"
    },
    {
     "data": {
      "text/html": [
       "\n",
       "<style>\n",
       "    /* Turns off some styling */\n",
       "    progress {\n",
       "        /* gets rid of default border in Firefox and Opera. */\n",
       "        border: none;\n",
       "        /* Needs to be in here for Safari polyfill so background images work as expected. */\n",
       "        background-size: auto;\n",
       "    }\n",
       "    .progress-bar-interrupted, .progress-bar-interrupted::-webkit-progress-bar {\n",
       "        background: #F44336;\n",
       "    }\n",
       "</style>\n"
      ],
      "text/plain": [
       "<IPython.core.display.HTML object>"
      ]
     },
     "metadata": {},
     "output_type": "display_data"
    },
    {
     "data": {
      "text/html": [
       "<table border=\"1\" class=\"dataframe\">\n",
       "  <thead>\n",
       "    <tr style=\"text-align: left;\">\n",
       "      <th>epoch</th>\n",
       "      <th>train_loss</th>\n",
       "      <th>valid_loss</th>\n",
       "      <th>error_rate</th>\n",
       "      <th>time</th>\n",
       "    </tr>\n",
       "  </thead>\n",
       "  <tbody>\n",
       "    <tr>\n",
       "      <td>0</td>\n",
       "      <td>1.373796</td>\n",
       "      <td>1.164940</td>\n",
       "      <td>0.331037</td>\n",
       "      <td>00:43</td>\n",
       "    </tr>\n",
       "    <tr>\n",
       "      <td>1</td>\n",
       "      <td>0.688718</td>\n",
       "      <td>0.713164</td>\n",
       "      <td>0.205697</td>\n",
       "      <td>00:44</td>\n",
       "    </tr>\n",
       "    <tr>\n",
       "      <td>2</td>\n",
       "      <td>0.356304</td>\n",
       "      <td>0.539019</td>\n",
       "      <td>0.152461</td>\n",
       "      <td>00:45</td>\n",
       "    </tr>\n",
       "    <tr>\n",
       "      <td>3</td>\n",
       "      <td>0.224121</td>\n",
       "      <td>0.467126</td>\n",
       "      <td>0.126560</td>\n",
       "      <td>00:45</td>\n",
       "    </tr>\n",
       "    <tr>\n",
       "      <td>4</td>\n",
       "      <td>0.159840</td>\n",
       "      <td>0.437951</td>\n",
       "      <td>0.111852</td>\n",
       "      <td>00:45</td>\n",
       "    </tr>\n",
       "    <tr>\n",
       "      <td>5</td>\n",
       "      <td>0.117845</td>\n",
       "      <td>0.415125</td>\n",
       "      <td>0.097144</td>\n",
       "      <td>00:45</td>\n",
       "    </tr>\n",
       "    <tr>\n",
       "      <td>6</td>\n",
       "      <td>0.093920</td>\n",
       "      <td>0.395662</td>\n",
       "      <td>0.091979</td>\n",
       "      <td>00:45</td>\n",
       "    </tr>\n",
       "    <tr>\n",
       "      <td>7</td>\n",
       "      <td>0.074808</td>\n",
       "      <td>0.378356</td>\n",
       "      <td>0.087172</td>\n",
       "      <td>00:45</td>\n",
       "    </tr>\n",
       "    <tr>\n",
       "      <td>8</td>\n",
       "      <td>0.058006</td>\n",
       "      <td>0.372317</td>\n",
       "      <td>0.082293</td>\n",
       "      <td>00:43</td>\n",
       "    </tr>\n",
       "    <tr>\n",
       "      <td>9</td>\n",
       "      <td>0.046959</td>\n",
       "      <td>0.367113</td>\n",
       "      <td>0.081719</td>\n",
       "      <td>00:45</td>\n",
       "    </tr>\n",
       "    <tr>\n",
       "      <td>10</td>\n",
       "      <td>0.036694</td>\n",
       "      <td>0.358991</td>\n",
       "      <td>0.077486</td>\n",
       "      <td>00:45</td>\n",
       "    </tr>\n",
       "    <tr>\n",
       "      <td>11</td>\n",
       "      <td>0.029595</td>\n",
       "      <td>0.357977</td>\n",
       "      <td>0.075621</td>\n",
       "      <td>00:44</td>\n",
       "    </tr>\n",
       "    <tr>\n",
       "      <td>12</td>\n",
       "      <td>0.024074</td>\n",
       "      <td>0.354022</td>\n",
       "      <td>0.073970</td>\n",
       "      <td>00:45</td>\n",
       "    </tr>\n",
       "    <tr>\n",
       "      <td>13</td>\n",
       "      <td>0.023544</td>\n",
       "      <td>0.350743</td>\n",
       "      <td>0.073540</td>\n",
       "      <td>00:45</td>\n",
       "    </tr>\n",
       "    <tr>\n",
       "      <td>14</td>\n",
       "      <td>0.021419</td>\n",
       "      <td>0.349985</td>\n",
       "      <td>0.072966</td>\n",
       "      <td>00:44</td>\n",
       "    </tr>\n",
       "  </tbody>\n",
       "</table>"
      ],
      "text/plain": [
       "<IPython.core.display.HTML object>"
      ]
     },
     "metadata": {},
     "output_type": "display_data"
    },
    {
     "data": {
      "text/html": [
       "\n",
       "<style>\n",
       "    /* Turns off some styling */\n",
       "    progress {\n",
       "        /* gets rid of default border in Firefox and Opera. */\n",
       "        border: none;\n",
       "        /* Needs to be in here for Safari polyfill so background images work as expected. */\n",
       "        background-size: auto;\n",
       "    }\n",
       "    .progress-bar-interrupted, .progress-bar-interrupted::-webkit-progress-bar {\n",
       "        background: #F44336;\n",
       "    }\n",
       "</style>\n"
      ],
      "text/plain": [
       "<IPython.core.display.HTML object>"
      ]
     },
     "metadata": {},
     "output_type": "display_data"
    },
    {
     "data": {
      "text/html": [],
      "text/plain": [
       "<IPython.core.display.HTML object>"
      ]
     },
     "metadata": {},
     "output_type": "display_data"
    },
    {
     "data": {
      "text/html": [
       "\n",
       "<style>\n",
       "    /* Turns off some styling */\n",
       "    progress {\n",
       "        /* gets rid of default border in Firefox and Opera. */\n",
       "        border: none;\n",
       "        /* Needs to be in here for Safari polyfill so background images work as expected. */\n",
       "        background-size: auto;\n",
       "    }\n",
       "    .progress-bar-interrupted, .progress-bar-interrupted::-webkit-progress-bar {\n",
       "        background: #F44336;\n",
       "    }\n",
       "</style>\n"
      ],
      "text/plain": [
       "<IPython.core.display.HTML object>"
      ]
     },
     "metadata": {},
     "output_type": "display_data"
    },
    {
     "data": {
      "text/html": [
       "<table border=\"1\" class=\"dataframe\">\n",
       "  <thead>\n",
       "    <tr style=\"text-align: left;\">\n",
       "      <th>epoch</th>\n",
       "      <th>train_loss</th>\n",
       "      <th>valid_loss</th>\n",
       "      <th>error_rate</th>\n",
       "      <th>time</th>\n",
       "    </tr>\n",
       "  </thead>\n",
       "  <tbody>\n",
       "    <tr>\n",
       "      <td>0</td>\n",
       "      <td>3.173919</td>\n",
       "      <td>2.172160</td>\n",
       "      <td>0.563639</td>\n",
       "      <td>00:39</td>\n",
       "    </tr>\n",
       "  </tbody>\n",
       "</table>"
      ],
      "text/plain": [
       "<IPython.core.display.HTML object>"
      ]
     },
     "metadata": {},
     "output_type": "display_data"
    },
    {
     "data": {
      "text/html": [
       "\n",
       "<style>\n",
       "    /* Turns off some styling */\n",
       "    progress {\n",
       "        /* gets rid of default border in Firefox and Opera. */\n",
       "        border: none;\n",
       "        /* Needs to be in here for Safari polyfill so background images work as expected. */\n",
       "        background-size: auto;\n",
       "    }\n",
       "    .progress-bar-interrupted, .progress-bar-interrupted::-webkit-progress-bar {\n",
       "        background: #F44336;\n",
       "    }\n",
       "</style>\n"
      ],
      "text/plain": [
       "<IPython.core.display.HTML object>"
      ]
     },
     "metadata": {},
     "output_type": "display_data"
    },
    {
     "data": {
      "text/html": [
       "<table border=\"1\" class=\"dataframe\">\n",
       "  <thead>\n",
       "    <tr style=\"text-align: left;\">\n",
       "      <th>epoch</th>\n",
       "      <th>train_loss</th>\n",
       "      <th>valid_loss</th>\n",
       "      <th>error_rate</th>\n",
       "      <th>time</th>\n",
       "    </tr>\n",
       "  </thead>\n",
       "  <tbody>\n",
       "    <tr>\n",
       "      <td>0</td>\n",
       "      <td>1.369252</td>\n",
       "      <td>1.168801</td>\n",
       "      <td>0.332329</td>\n",
       "      <td>00:45</td>\n",
       "    </tr>\n",
       "    <tr>\n",
       "      <td>1</td>\n",
       "      <td>0.697109</td>\n",
       "      <td>0.700896</td>\n",
       "      <td>0.200100</td>\n",
       "      <td>00:45</td>\n",
       "    </tr>\n",
       "    <tr>\n",
       "      <td>2</td>\n",
       "      <td>0.355605</td>\n",
       "      <td>0.540868</td>\n",
       "      <td>0.150667</td>\n",
       "      <td>00:44</td>\n",
       "    </tr>\n",
       "    <tr>\n",
       "      <td>3</td>\n",
       "      <td>0.220663</td>\n",
       "      <td>0.492934</td>\n",
       "      <td>0.135457</td>\n",
       "      <td>00:45</td>\n",
       "    </tr>\n",
       "    <tr>\n",
       "      <td>4</td>\n",
       "      <td>0.160036</td>\n",
       "      <td>0.419316</td>\n",
       "      <td>0.107045</td>\n",
       "      <td>00:45</td>\n",
       "    </tr>\n",
       "    <tr>\n",
       "      <td>5</td>\n",
       "      <td>0.124705</td>\n",
       "      <td>0.403736</td>\n",
       "      <td>0.099225</td>\n",
       "      <td>00:44</td>\n",
       "    </tr>\n",
       "    <tr>\n",
       "      <td>6</td>\n",
       "      <td>0.093084</td>\n",
       "      <td>0.398253</td>\n",
       "      <td>0.094705</td>\n",
       "      <td>00:44</td>\n",
       "    </tr>\n",
       "    <tr>\n",
       "      <td>7</td>\n",
       "      <td>0.069612</td>\n",
       "      <td>0.364618</td>\n",
       "      <td>0.086239</td>\n",
       "      <td>00:45</td>\n",
       "    </tr>\n",
       "    <tr>\n",
       "      <td>8</td>\n",
       "      <td>0.060677</td>\n",
       "      <td>0.378752</td>\n",
       "      <td>0.083800</td>\n",
       "      <td>00:45</td>\n",
       "    </tr>\n",
       "    <tr>\n",
       "      <td>9</td>\n",
       "      <td>0.044365</td>\n",
       "      <td>0.366204</td>\n",
       "      <td>0.078706</td>\n",
       "      <td>00:45</td>\n",
       "    </tr>\n",
       "    <tr>\n",
       "      <td>10</td>\n",
       "      <td>0.039533</td>\n",
       "      <td>0.367193</td>\n",
       "      <td>0.079567</td>\n",
       "      <td>00:45</td>\n",
       "    </tr>\n",
       "    <tr>\n",
       "      <td>11</td>\n",
       "      <td>0.030683</td>\n",
       "      <td>0.355605</td>\n",
       "      <td>0.075764</td>\n",
       "      <td>00:45</td>\n",
       "    </tr>\n",
       "    <tr>\n",
       "      <td>12</td>\n",
       "      <td>0.025109</td>\n",
       "      <td>0.355179</td>\n",
       "      <td>0.074760</td>\n",
       "      <td>00:43</td>\n",
       "    </tr>\n",
       "    <tr>\n",
       "      <td>13</td>\n",
       "      <td>0.022168</td>\n",
       "      <td>0.351663</td>\n",
       "      <td>0.072679</td>\n",
       "      <td>00:45</td>\n",
       "    </tr>\n",
       "    <tr>\n",
       "      <td>14</td>\n",
       "      <td>0.022269</td>\n",
       "      <td>0.350467</td>\n",
       "      <td>0.072751</td>\n",
       "      <td>00:45</td>\n",
       "    </tr>\n",
       "  </tbody>\n",
       "</table>"
      ],
      "text/plain": [
       "<IPython.core.display.HTML object>"
      ]
     },
     "metadata": {},
     "output_type": "display_data"
    },
    {
     "data": {
      "text/html": [
       "\n",
       "<style>\n",
       "    /* Turns off some styling */\n",
       "    progress {\n",
       "        /* gets rid of default border in Firefox and Opera. */\n",
       "        border: none;\n",
       "        /* Needs to be in here for Safari polyfill so background images work as expected. */\n",
       "        background-size: auto;\n",
       "    }\n",
       "    .progress-bar-interrupted, .progress-bar-interrupted::-webkit-progress-bar {\n",
       "        background: #F44336;\n",
       "    }\n",
       "</style>\n"
      ],
      "text/plain": [
       "<IPython.core.display.HTML object>"
      ]
     },
     "metadata": {},
     "output_type": "display_data"
    },
    {
     "data": {
      "text/html": [],
      "text/plain": [
       "<IPython.core.display.HTML object>"
      ]
     },
     "metadata": {},
     "output_type": "display_data"
    },
    {
     "data": {
      "text/html": [
       "\n",
       "<style>\n",
       "    /* Turns off some styling */\n",
       "    progress {\n",
       "        /* gets rid of default border in Firefox and Opera. */\n",
       "        border: none;\n",
       "        /* Needs to be in here for Safari polyfill so background images work as expected. */\n",
       "        background-size: auto;\n",
       "    }\n",
       "    .progress-bar-interrupted, .progress-bar-interrupted::-webkit-progress-bar {\n",
       "        background: #F44336;\n",
       "    }\n",
       "</style>\n"
      ],
      "text/plain": [
       "<IPython.core.display.HTML object>"
      ]
     },
     "metadata": {},
     "output_type": "display_data"
    },
    {
     "data": {
      "text/html": [
       "<table border=\"1\" class=\"dataframe\">\n",
       "  <thead>\n",
       "    <tr style=\"text-align: left;\">\n",
       "      <th>epoch</th>\n",
       "      <th>train_loss</th>\n",
       "      <th>valid_loss</th>\n",
       "      <th>error_rate</th>\n",
       "      <th>time</th>\n",
       "    </tr>\n",
       "  </thead>\n",
       "  <tbody>\n",
       "    <tr>\n",
       "      <td>0</td>\n",
       "      <td>3.176054</td>\n",
       "      <td>2.184530</td>\n",
       "      <td>0.563926</td>\n",
       "      <td>00:39</td>\n",
       "    </tr>\n",
       "  </tbody>\n",
       "</table>"
      ],
      "text/plain": [
       "<IPython.core.display.HTML object>"
      ]
     },
     "metadata": {},
     "output_type": "display_data"
    },
    {
     "data": {
      "text/html": [
       "\n",
       "<style>\n",
       "    /* Turns off some styling */\n",
       "    progress {\n",
       "        /* gets rid of default border in Firefox and Opera. */\n",
       "        border: none;\n",
       "        /* Needs to be in here for Safari polyfill so background images work as expected. */\n",
       "        background-size: auto;\n",
       "    }\n",
       "    .progress-bar-interrupted, .progress-bar-interrupted::-webkit-progress-bar {\n",
       "        background: #F44336;\n",
       "    }\n",
       "</style>\n"
      ],
      "text/plain": [
       "<IPython.core.display.HTML object>"
      ]
     },
     "metadata": {},
     "output_type": "display_data"
    },
    {
     "data": {
      "text/html": [
       "<table border=\"1\" class=\"dataframe\">\n",
       "  <thead>\n",
       "    <tr style=\"text-align: left;\">\n",
       "      <th>epoch</th>\n",
       "      <th>train_loss</th>\n",
       "      <th>valid_loss</th>\n",
       "      <th>error_rate</th>\n",
       "      <th>time</th>\n",
       "    </tr>\n",
       "  </thead>\n",
       "  <tbody>\n",
       "    <tr>\n",
       "      <td>0</td>\n",
       "      <td>1.375034</td>\n",
       "      <td>1.164790</td>\n",
       "      <td>0.331540</td>\n",
       "      <td>00:44</td>\n",
       "    </tr>\n",
       "    <tr>\n",
       "      <td>1</td>\n",
       "      <td>0.692985</td>\n",
       "      <td>0.737924</td>\n",
       "      <td>0.216243</td>\n",
       "      <td>00:45</td>\n",
       "    </tr>\n",
       "    <tr>\n",
       "      <td>2</td>\n",
       "      <td>0.359426</td>\n",
       "      <td>0.557801</td>\n",
       "      <td>0.159779</td>\n",
       "      <td>00:44</td>\n",
       "    </tr>\n",
       "    <tr>\n",
       "      <td>3</td>\n",
       "      <td>0.221181</td>\n",
       "      <td>0.465276</td>\n",
       "      <td>0.123188</td>\n",
       "      <td>00:45</td>\n",
       "    </tr>\n",
       "    <tr>\n",
       "      <td>4</td>\n",
       "      <td>0.163570</td>\n",
       "      <td>0.454880</td>\n",
       "      <td>0.117520</td>\n",
       "      <td>00:45</td>\n",
       "    </tr>\n",
       "    <tr>\n",
       "      <td>5</td>\n",
       "      <td>0.120837</td>\n",
       "      <td>0.426239</td>\n",
       "      <td>0.103889</td>\n",
       "      <td>00:45</td>\n",
       "    </tr>\n",
       "    <tr>\n",
       "      <td>6</td>\n",
       "      <td>0.095676</td>\n",
       "      <td>0.402124</td>\n",
       "      <td>0.095925</td>\n",
       "      <td>00:44</td>\n",
       "    </tr>\n",
       "    <tr>\n",
       "      <td>7</td>\n",
       "      <td>0.073218</td>\n",
       "      <td>0.398162</td>\n",
       "      <td>0.093127</td>\n",
       "      <td>00:44</td>\n",
       "    </tr>\n",
       "    <tr>\n",
       "      <td>8</td>\n",
       "      <td>0.061291</td>\n",
       "      <td>0.377943</td>\n",
       "      <td>0.087172</td>\n",
       "      <td>00:45</td>\n",
       "    </tr>\n",
       "    <tr>\n",
       "      <td>9</td>\n",
       "      <td>0.046751</td>\n",
       "      <td>0.363213</td>\n",
       "      <td>0.080643</td>\n",
       "      <td>00:45</td>\n",
       "    </tr>\n",
       "    <tr>\n",
       "      <td>10</td>\n",
       "      <td>0.037961</td>\n",
       "      <td>0.364971</td>\n",
       "      <td>0.078132</td>\n",
       "      <td>00:44</td>\n",
       "    </tr>\n",
       "    <tr>\n",
       "      <td>11</td>\n",
       "      <td>0.029800</td>\n",
       "      <td>0.359153</td>\n",
       "      <td>0.075621</td>\n",
       "      <td>00:45</td>\n",
       "    </tr>\n",
       "    <tr>\n",
       "      <td>12</td>\n",
       "      <td>0.025007</td>\n",
       "      <td>0.351331</td>\n",
       "      <td>0.073253</td>\n",
       "      <td>00:44</td>\n",
       "    </tr>\n",
       "    <tr>\n",
       "      <td>13</td>\n",
       "      <td>0.021813</td>\n",
       "      <td>0.348375</td>\n",
       "      <td>0.073396</td>\n",
       "      <td>00:44</td>\n",
       "    </tr>\n",
       "    <tr>\n",
       "      <td>14</td>\n",
       "      <td>0.021641</td>\n",
       "      <td>0.347500</td>\n",
       "      <td>0.071962</td>\n",
       "      <td>00:45</td>\n",
       "    </tr>\n",
       "  </tbody>\n",
       "</table>"
      ],
      "text/plain": [
       "<IPython.core.display.HTML object>"
      ]
     },
     "metadata": {},
     "output_type": "display_data"
    },
    {
     "data": {
      "text/html": [
       "\n",
       "<style>\n",
       "    /* Turns off some styling */\n",
       "    progress {\n",
       "        /* gets rid of default border in Firefox and Opera. */\n",
       "        border: none;\n",
       "        /* Needs to be in here for Safari polyfill so background images work as expected. */\n",
       "        background-size: auto;\n",
       "    }\n",
       "    .progress-bar-interrupted, .progress-bar-interrupted::-webkit-progress-bar {\n",
       "        background: #F44336;\n",
       "    }\n",
       "</style>\n"
      ],
      "text/plain": [
       "<IPython.core.display.HTML object>"
      ]
     },
     "metadata": {},
     "output_type": "display_data"
    },
    {
     "data": {
      "text/html": [],
      "text/plain": [
       "<IPython.core.display.HTML object>"
      ]
     },
     "metadata": {},
     "output_type": "display_data"
    }
   ],
   "source": [
    "for i in range(0,20):\n",
    "    learn = vision_learner(dls, resnet50, metrics=[error_rate])\n",
    "    gc.collect()\n",
    "    learn.fine_tune(15)\n",
    "    learn.export(f'speed-limit-experiment/original-model-{i}.model')\n",
    "    get_predictions(learn).to_csv(f'speed-limit-experiment/original-predictions-{i}.csv')"
   ]
  },
  {
   "cell_type": "markdown",
   "id": "d4fde8dc",
   "metadata": {},
   "source": [
    "## Train on the fixed dataset"
   ]
  },
  {
   "cell_type": "code",
   "execution_count": null,
   "id": "3b6665a7",
   "metadata": {},
   "outputs": [],
   "source": [
    "dls = ImageDataLoaders.from_df(\n",
    "    data[data['new_label'] != 'invalid'], label_col='label', valid_col='valid',\n",
    "    bs=1024,\n",
    "    item_tfms=[AlbumentationsTransform(Blur(blur_limit=5, p=0.25))],\n",
    "    batch_tfms=aug_transforms(do_flip=False),\n",
    ")\n",
    "fix_balance(dls)"
   ]
  },
  {
   "cell_type": "code",
   "execution_count": null,
   "id": "ad244196",
   "metadata": {},
   "outputs": [
    {
     "data": {
      "text/html": [
       "\n",
       "<style>\n",
       "    /* Turns off some styling */\n",
       "    progress {\n",
       "        /* gets rid of default border in Firefox and Opera. */\n",
       "        border: none;\n",
       "        /* Needs to be in here for Safari polyfill so background images work as expected. */\n",
       "        background-size: auto;\n",
       "    }\n",
       "    .progress-bar-interrupted, .progress-bar-interrupted::-webkit-progress-bar {\n",
       "        background: #F44336;\n",
       "    }\n",
       "</style>\n"
      ],
      "text/plain": [
       "<IPython.core.display.HTML object>"
      ]
     },
     "metadata": {},
     "output_type": "display_data"
    },
    {
     "data": {
      "text/html": [
       "<table border=\"1\" class=\"dataframe\">\n",
       "  <thead>\n",
       "    <tr style=\"text-align: left;\">\n",
       "      <th>epoch</th>\n",
       "      <th>train_loss</th>\n",
       "      <th>valid_loss</th>\n",
       "      <th>error_rate</th>\n",
       "      <th>time</th>\n",
       "    </tr>\n",
       "  </thead>\n",
       "  <tbody>\n",
       "    <tr>\n",
       "      <td>0</td>\n",
       "      <td>3.165074</td>\n",
       "      <td>2.174655</td>\n",
       "      <td>0.569279</td>\n",
       "      <td>00:39</td>\n",
       "    </tr>\n",
       "  </tbody>\n",
       "</table>"
      ],
      "text/plain": [
       "<IPython.core.display.HTML object>"
      ]
     },
     "metadata": {},
     "output_type": "display_data"
    },
    {
     "data": {
      "text/html": [
       "\n",
       "<style>\n",
       "    /* Turns off some styling */\n",
       "    progress {\n",
       "        /* gets rid of default border in Firefox and Opera. */\n",
       "        border: none;\n",
       "        /* Needs to be in here for Safari polyfill so background images work as expected. */\n",
       "        background-size: auto;\n",
       "    }\n",
       "    .progress-bar-interrupted, .progress-bar-interrupted::-webkit-progress-bar {\n",
       "        background: #F44336;\n",
       "    }\n",
       "</style>\n"
      ],
      "text/plain": [
       "<IPython.core.display.HTML object>"
      ]
     },
     "metadata": {},
     "output_type": "display_data"
    },
    {
     "data": {
      "text/html": [
       "<table border=\"1\" class=\"dataframe\">\n",
       "  <thead>\n",
       "    <tr style=\"text-align: left;\">\n",
       "      <th>epoch</th>\n",
       "      <th>train_loss</th>\n",
       "      <th>valid_loss</th>\n",
       "      <th>error_rate</th>\n",
       "      <th>time</th>\n",
       "    </tr>\n",
       "  </thead>\n",
       "  <tbody>\n",
       "    <tr>\n",
       "      <td>0</td>\n",
       "      <td>1.369935</td>\n",
       "      <td>1.161217</td>\n",
       "      <td>0.329518</td>\n",
       "      <td>00:45</td>\n",
       "    </tr>\n",
       "    <tr>\n",
       "      <td>1</td>\n",
       "      <td>0.693338</td>\n",
       "      <td>0.703007</td>\n",
       "      <td>0.204060</td>\n",
       "      <td>00:45</td>\n",
       "    </tr>\n",
       "    <tr>\n",
       "      <td>2</td>\n",
       "      <td>0.353126</td>\n",
       "      <td>0.554561</td>\n",
       "      <td>0.153746</td>\n",
       "      <td>00:45</td>\n",
       "    </tr>\n",
       "    <tr>\n",
       "      <td>3</td>\n",
       "      <td>0.215826</td>\n",
       "      <td>0.452971</td>\n",
       "      <td>0.121428</td>\n",
       "      <td>00:45</td>\n",
       "    </tr>\n",
       "    <tr>\n",
       "      <td>4</td>\n",
       "      <td>0.152556</td>\n",
       "      <td>0.429023</td>\n",
       "      <td>0.108832</td>\n",
       "      <td>00:44</td>\n",
       "    </tr>\n",
       "    <tr>\n",
       "      <td>5</td>\n",
       "      <td>0.119524</td>\n",
       "      <td>0.406994</td>\n",
       "      <td>0.098971</td>\n",
       "      <td>00:45</td>\n",
       "    </tr>\n",
       "    <tr>\n",
       "      <td>6</td>\n",
       "      <td>0.091822</td>\n",
       "      <td>0.386059</td>\n",
       "      <td>0.091845</td>\n",
       "      <td>00:44</td>\n",
       "    </tr>\n",
       "    <tr>\n",
       "      <td>7</td>\n",
       "      <td>0.073158</td>\n",
       "      <td>0.383607</td>\n",
       "      <td>0.087814</td>\n",
       "      <td>00:45</td>\n",
       "    </tr>\n",
       "    <tr>\n",
       "      <td>8</td>\n",
       "      <td>0.059042</td>\n",
       "      <td>0.367536</td>\n",
       "      <td>0.081840</td>\n",
       "      <td>00:44</td>\n",
       "    </tr>\n",
       "    <tr>\n",
       "      <td>9</td>\n",
       "      <td>0.045261</td>\n",
       "      <td>0.359216</td>\n",
       "      <td>0.078097</td>\n",
       "      <td>00:45</td>\n",
       "    </tr>\n",
       "    <tr>\n",
       "      <td>10</td>\n",
       "      <td>0.035264</td>\n",
       "      <td>0.347762</td>\n",
       "      <td>0.075218</td>\n",
       "      <td>00:44</td>\n",
       "    </tr>\n",
       "    <tr>\n",
       "      <td>11</td>\n",
       "      <td>0.029587</td>\n",
       "      <td>0.340971</td>\n",
       "      <td>0.072842</td>\n",
       "      <td>00:44</td>\n",
       "    </tr>\n",
       "    <tr>\n",
       "      <td>12</td>\n",
       "      <td>0.024112</td>\n",
       "      <td>0.341681</td>\n",
       "      <td>0.072123</td>\n",
       "      <td>00:44</td>\n",
       "    </tr>\n",
       "    <tr>\n",
       "      <td>13</td>\n",
       "      <td>0.021634</td>\n",
       "      <td>0.340976</td>\n",
       "      <td>0.070179</td>\n",
       "      <td>00:44</td>\n",
       "    </tr>\n",
       "    <tr>\n",
       "      <td>14</td>\n",
       "      <td>0.022284</td>\n",
       "      <td>0.340723</td>\n",
       "      <td>0.070179</td>\n",
       "      <td>00:44</td>\n",
       "    </tr>\n",
       "  </tbody>\n",
       "</table>"
      ],
      "text/plain": [
       "<IPython.core.display.HTML object>"
      ]
     },
     "metadata": {},
     "output_type": "display_data"
    },
    {
     "data": {
      "text/html": [
       "\n",
       "<style>\n",
       "    /* Turns off some styling */\n",
       "    progress {\n",
       "        /* gets rid of default border in Firefox and Opera. */\n",
       "        border: none;\n",
       "        /* Needs to be in here for Safari polyfill so background images work as expected. */\n",
       "        background-size: auto;\n",
       "    }\n",
       "    .progress-bar-interrupted, .progress-bar-interrupted::-webkit-progress-bar {\n",
       "        background: #F44336;\n",
       "    }\n",
       "</style>\n"
      ],
      "text/plain": [
       "<IPython.core.display.HTML object>"
      ]
     },
     "metadata": {},
     "output_type": "display_data"
    },
    {
     "data": {
      "text/html": [],
      "text/plain": [
       "<IPython.core.display.HTML object>"
      ]
     },
     "metadata": {},
     "output_type": "display_data"
    },
    {
     "data": {
      "text/html": [
       "\n",
       "<style>\n",
       "    /* Turns off some styling */\n",
       "    progress {\n",
       "        /* gets rid of default border in Firefox and Opera. */\n",
       "        border: none;\n",
       "        /* Needs to be in here for Safari polyfill so background images work as expected. */\n",
       "        background-size: auto;\n",
       "    }\n",
       "    .progress-bar-interrupted, .progress-bar-interrupted::-webkit-progress-bar {\n",
       "        background: #F44336;\n",
       "    }\n",
       "</style>\n"
      ],
      "text/plain": [
       "<IPython.core.display.HTML object>"
      ]
     },
     "metadata": {},
     "output_type": "display_data"
    },
    {
     "data": {
      "text/html": [
       "<table border=\"1\" class=\"dataframe\">\n",
       "  <thead>\n",
       "    <tr style=\"text-align: left;\">\n",
       "      <th>epoch</th>\n",
       "      <th>train_loss</th>\n",
       "      <th>valid_loss</th>\n",
       "      <th>error_rate</th>\n",
       "      <th>time</th>\n",
       "    </tr>\n",
       "  </thead>\n",
       "  <tbody>\n",
       "    <tr>\n",
       "      <td>0</td>\n",
       "      <td>3.159712</td>\n",
       "      <td>2.187937</td>\n",
       "      <td>0.571223</td>\n",
       "      <td>00:39</td>\n",
       "    </tr>\n",
       "  </tbody>\n",
       "</table>"
      ],
      "text/plain": [
       "<IPython.core.display.HTML object>"
      ]
     },
     "metadata": {},
     "output_type": "display_data"
    },
    {
     "data": {
      "text/html": [
       "\n",
       "<style>\n",
       "    /* Turns off some styling */\n",
       "    progress {\n",
       "        /* gets rid of default border in Firefox and Opera. */\n",
       "        border: none;\n",
       "        /* Needs to be in here for Safari polyfill so background images work as expected. */\n",
       "        background-size: auto;\n",
       "    }\n",
       "    .progress-bar-interrupted, .progress-bar-interrupted::-webkit-progress-bar {\n",
       "        background: #F44336;\n",
       "    }\n",
       "</style>\n"
      ],
      "text/plain": [
       "<IPython.core.display.HTML object>"
      ]
     },
     "metadata": {},
     "output_type": "display_data"
    },
    {
     "data": {
      "text/html": [
       "<table border=\"1\" class=\"dataframe\">\n",
       "  <thead>\n",
       "    <tr style=\"text-align: left;\">\n",
       "      <th>epoch</th>\n",
       "      <th>train_loss</th>\n",
       "      <th>valid_loss</th>\n",
       "      <th>error_rate</th>\n",
       "      <th>time</th>\n",
       "    </tr>\n",
       "  </thead>\n",
       "  <tbody>\n",
       "    <tr>\n",
       "      <td>0</td>\n",
       "      <td>1.378376</td>\n",
       "      <td>1.188342</td>\n",
       "      <td>0.342475</td>\n",
       "      <td>00:45</td>\n",
       "    </tr>\n",
       "    <tr>\n",
       "      <td>1</td>\n",
       "      <td>0.686918</td>\n",
       "      <td>0.693127</td>\n",
       "      <td>0.201108</td>\n",
       "      <td>00:44</td>\n",
       "    </tr>\n",
       "    <tr>\n",
       "      <td>2</td>\n",
       "      <td>0.351692</td>\n",
       "      <td>0.535942</td>\n",
       "      <td>0.152091</td>\n",
       "      <td>00:45</td>\n",
       "    </tr>\n",
       "    <tr>\n",
       "      <td>3</td>\n",
       "      <td>0.221238</td>\n",
       "      <td>0.467050</td>\n",
       "      <td>0.126323</td>\n",
       "      <td>00:44</td>\n",
       "    </tr>\n",
       "    <tr>\n",
       "      <td>4</td>\n",
       "      <td>0.153053</td>\n",
       "      <td>0.418011</td>\n",
       "      <td>0.107320</td>\n",
       "      <td>00:44</td>\n",
       "    </tr>\n",
       "    <tr>\n",
       "      <td>5</td>\n",
       "      <td>0.116906</td>\n",
       "      <td>0.397347</td>\n",
       "      <td>0.098467</td>\n",
       "      <td>00:44</td>\n",
       "    </tr>\n",
       "    <tr>\n",
       "      <td>6</td>\n",
       "      <td>0.091909</td>\n",
       "      <td>0.393237</td>\n",
       "      <td>0.092133</td>\n",
       "      <td>00:44</td>\n",
       "    </tr>\n",
       "    <tr>\n",
       "      <td>7</td>\n",
       "      <td>0.074086</td>\n",
       "      <td>0.353737</td>\n",
       "      <td>0.084215</td>\n",
       "      <td>00:45</td>\n",
       "    </tr>\n",
       "    <tr>\n",
       "      <td>8</td>\n",
       "      <td>0.058219</td>\n",
       "      <td>0.357700</td>\n",
       "      <td>0.082775</td>\n",
       "      <td>00:45</td>\n",
       "    </tr>\n",
       "    <tr>\n",
       "      <td>9</td>\n",
       "      <td>0.043417</td>\n",
       "      <td>0.352780</td>\n",
       "      <td>0.077089</td>\n",
       "      <td>00:44</td>\n",
       "    </tr>\n",
       "    <tr>\n",
       "      <td>10</td>\n",
       "      <td>0.034717</td>\n",
       "      <td>0.342232</td>\n",
       "      <td>0.073922</td>\n",
       "      <td>00:45</td>\n",
       "    </tr>\n",
       "    <tr>\n",
       "      <td>11</td>\n",
       "      <td>0.028830</td>\n",
       "      <td>0.340472</td>\n",
       "      <td>0.072483</td>\n",
       "      <td>00:44</td>\n",
       "    </tr>\n",
       "    <tr>\n",
       "      <td>12</td>\n",
       "      <td>0.023293</td>\n",
       "      <td>0.330677</td>\n",
       "      <td>0.069891</td>\n",
       "      <td>00:44</td>\n",
       "    </tr>\n",
       "    <tr>\n",
       "      <td>13</td>\n",
       "      <td>0.021851</td>\n",
       "      <td>0.331490</td>\n",
       "      <td>0.070971</td>\n",
       "      <td>00:45</td>\n",
       "    </tr>\n",
       "    <tr>\n",
       "      <td>14</td>\n",
       "      <td>0.021037</td>\n",
       "      <td>0.330222</td>\n",
       "      <td>0.069819</td>\n",
       "      <td>00:43</td>\n",
       "    </tr>\n",
       "  </tbody>\n",
       "</table>"
      ],
      "text/plain": [
       "<IPython.core.display.HTML object>"
      ]
     },
     "metadata": {},
     "output_type": "display_data"
    },
    {
     "data": {
      "text/html": [
       "\n",
       "<style>\n",
       "    /* Turns off some styling */\n",
       "    progress {\n",
       "        /* gets rid of default border in Firefox and Opera. */\n",
       "        border: none;\n",
       "        /* Needs to be in here for Safari polyfill so background images work as expected. */\n",
       "        background-size: auto;\n",
       "    }\n",
       "    .progress-bar-interrupted, .progress-bar-interrupted::-webkit-progress-bar {\n",
       "        background: #F44336;\n",
       "    }\n",
       "</style>\n"
      ],
      "text/plain": [
       "<IPython.core.display.HTML object>"
      ]
     },
     "metadata": {},
     "output_type": "display_data"
    },
    {
     "data": {
      "text/html": [],
      "text/plain": [
       "<IPython.core.display.HTML object>"
      ]
     },
     "metadata": {},
     "output_type": "display_data"
    },
    {
     "data": {
      "text/html": [
       "\n",
       "<style>\n",
       "    /* Turns off some styling */\n",
       "    progress {\n",
       "        /* gets rid of default border in Firefox and Opera. */\n",
       "        border: none;\n",
       "        /* Needs to be in here for Safari polyfill so background images work as expected. */\n",
       "        background-size: auto;\n",
       "    }\n",
       "    .progress-bar-interrupted, .progress-bar-interrupted::-webkit-progress-bar {\n",
       "        background: #F44336;\n",
       "    }\n",
       "</style>\n"
      ],
      "text/plain": [
       "<IPython.core.display.HTML object>"
      ]
     },
     "metadata": {},
     "output_type": "display_data"
    },
    {
     "data": {
      "text/html": [
       "<table border=\"1\" class=\"dataframe\">\n",
       "  <thead>\n",
       "    <tr style=\"text-align: left;\">\n",
       "      <th>epoch</th>\n",
       "      <th>train_loss</th>\n",
       "      <th>valid_loss</th>\n",
       "      <th>error_rate</th>\n",
       "      <th>time</th>\n",
       "    </tr>\n",
       "  </thead>\n",
       "  <tbody>\n",
       "    <tr>\n",
       "      <td>0</td>\n",
       "      <td>3.158712</td>\n",
       "      <td>2.175409</td>\n",
       "      <td>0.565897</td>\n",
       "      <td>00:39</td>\n",
       "    </tr>\n",
       "  </tbody>\n",
       "</table>"
      ],
      "text/plain": [
       "<IPython.core.display.HTML object>"
      ]
     },
     "metadata": {},
     "output_type": "display_data"
    },
    {
     "data": {
      "text/html": [
       "\n",
       "<style>\n",
       "    /* Turns off some styling */\n",
       "    progress {\n",
       "        /* gets rid of default border in Firefox and Opera. */\n",
       "        border: none;\n",
       "        /* Needs to be in here for Safari polyfill so background images work as expected. */\n",
       "        background-size: auto;\n",
       "    }\n",
       "    .progress-bar-interrupted, .progress-bar-interrupted::-webkit-progress-bar {\n",
       "        background: #F44336;\n",
       "    }\n",
       "</style>\n"
      ],
      "text/plain": [
       "<IPython.core.display.HTML object>"
      ]
     },
     "metadata": {},
     "output_type": "display_data"
    },
    {
     "data": {
      "text/html": [
       "<table border=\"1\" class=\"dataframe\">\n",
       "  <thead>\n",
       "    <tr style=\"text-align: left;\">\n",
       "      <th>epoch</th>\n",
       "      <th>train_loss</th>\n",
       "      <th>valid_loss</th>\n",
       "      <th>error_rate</th>\n",
       "      <th>time</th>\n",
       "    </tr>\n",
       "  </thead>\n",
       "  <tbody>\n",
       "    <tr>\n",
       "      <td>0</td>\n",
       "      <td>1.356512</td>\n",
       "      <td>1.172474</td>\n",
       "      <td>0.339380</td>\n",
       "      <td>00:44</td>\n",
       "    </tr>\n",
       "    <tr>\n",
       "      <td>1</td>\n",
       "      <td>0.692822</td>\n",
       "      <td>0.695171</td>\n",
       "      <td>0.203556</td>\n",
       "      <td>00:45</td>\n",
       "    </tr>\n",
       "    <tr>\n",
       "      <td>2</td>\n",
       "      <td>0.351920</td>\n",
       "      <td>0.527705</td>\n",
       "      <td>0.151443</td>\n",
       "      <td>00:45</td>\n",
       "    </tr>\n",
       "    <tr>\n",
       "      <td>3</td>\n",
       "      <td>0.219346</td>\n",
       "      <td>0.474355</td>\n",
       "      <td>0.127474</td>\n",
       "      <td>00:45</td>\n",
       "    </tr>\n",
       "    <tr>\n",
       "      <td>4</td>\n",
       "      <td>0.149953</td>\n",
       "      <td>0.420947</td>\n",
       "      <td>0.107968</td>\n",
       "      <td>00:45</td>\n",
       "    </tr>\n",
       "    <tr>\n",
       "      <td>5</td>\n",
       "      <td>0.118345</td>\n",
       "      <td>0.409573</td>\n",
       "      <td>0.100626</td>\n",
       "      <td>00:44</td>\n",
       "    </tr>\n",
       "    <tr>\n",
       "      <td>6</td>\n",
       "      <td>0.091391</td>\n",
       "      <td>0.377070</td>\n",
       "      <td>0.088390</td>\n",
       "      <td>00:44</td>\n",
       "    </tr>\n",
       "    <tr>\n",
       "      <td>7</td>\n",
       "      <td>0.074252</td>\n",
       "      <td>0.365777</td>\n",
       "      <td>0.084503</td>\n",
       "      <td>00:45</td>\n",
       "    </tr>\n",
       "    <tr>\n",
       "      <td>8</td>\n",
       "      <td>0.055722</td>\n",
       "      <td>0.364419</td>\n",
       "      <td>0.083063</td>\n",
       "      <td>00:44</td>\n",
       "    </tr>\n",
       "    <tr>\n",
       "      <td>9</td>\n",
       "      <td>0.046963</td>\n",
       "      <td>0.348952</td>\n",
       "      <td>0.077449</td>\n",
       "      <td>00:44</td>\n",
       "    </tr>\n",
       "    <tr>\n",
       "      <td>10</td>\n",
       "      <td>0.034438</td>\n",
       "      <td>0.332308</td>\n",
       "      <td>0.070899</td>\n",
       "      <td>00:45</td>\n",
       "    </tr>\n",
       "    <tr>\n",
       "      <td>11</td>\n",
       "      <td>0.029505</td>\n",
       "      <td>0.342976</td>\n",
       "      <td>0.073058</td>\n",
       "      <td>00:44</td>\n",
       "    </tr>\n",
       "    <tr>\n",
       "      <td>12</td>\n",
       "      <td>0.025045</td>\n",
       "      <td>0.332559</td>\n",
       "      <td>0.071619</td>\n",
       "      <td>00:44</td>\n",
       "    </tr>\n",
       "    <tr>\n",
       "      <td>13</td>\n",
       "      <td>0.023131</td>\n",
       "      <td>0.329046</td>\n",
       "      <td>0.069387</td>\n",
       "      <td>00:45</td>\n",
       "    </tr>\n",
       "    <tr>\n",
       "      <td>14</td>\n",
       "      <td>0.021623</td>\n",
       "      <td>0.328677</td>\n",
       "      <td>0.068668</td>\n",
       "      <td>00:45</td>\n",
       "    </tr>\n",
       "  </tbody>\n",
       "</table>"
      ],
      "text/plain": [
       "<IPython.core.display.HTML object>"
      ]
     },
     "metadata": {},
     "output_type": "display_data"
    },
    {
     "data": {
      "text/html": [
       "\n",
       "<style>\n",
       "    /* Turns off some styling */\n",
       "    progress {\n",
       "        /* gets rid of default border in Firefox and Opera. */\n",
       "        border: none;\n",
       "        /* Needs to be in here for Safari polyfill so background images work as expected. */\n",
       "        background-size: auto;\n",
       "    }\n",
       "    .progress-bar-interrupted, .progress-bar-interrupted::-webkit-progress-bar {\n",
       "        background: #F44336;\n",
       "    }\n",
       "</style>\n"
      ],
      "text/plain": [
       "<IPython.core.display.HTML object>"
      ]
     },
     "metadata": {},
     "output_type": "display_data"
    },
    {
     "data": {
      "text/html": [],
      "text/plain": [
       "<IPython.core.display.HTML object>"
      ]
     },
     "metadata": {},
     "output_type": "display_data"
    },
    {
     "data": {
      "text/html": [
       "\n",
       "<style>\n",
       "    /* Turns off some styling */\n",
       "    progress {\n",
       "        /* gets rid of default border in Firefox and Opera. */\n",
       "        border: none;\n",
       "        /* Needs to be in here for Safari polyfill so background images work as expected. */\n",
       "        background-size: auto;\n",
       "    }\n",
       "    .progress-bar-interrupted, .progress-bar-interrupted::-webkit-progress-bar {\n",
       "        background: #F44336;\n",
       "    }\n",
       "</style>\n"
      ],
      "text/plain": [
       "<IPython.core.display.HTML object>"
      ]
     },
     "metadata": {},
     "output_type": "display_data"
    },
    {
     "data": {
      "text/html": [
       "<table border=\"1\" class=\"dataframe\">\n",
       "  <thead>\n",
       "    <tr style=\"text-align: left;\">\n",
       "      <th>epoch</th>\n",
       "      <th>train_loss</th>\n",
       "      <th>valid_loss</th>\n",
       "      <th>error_rate</th>\n",
       "      <th>time</th>\n",
       "    </tr>\n",
       "  </thead>\n",
       "  <tbody>\n",
       "    <tr>\n",
       "      <td>0</td>\n",
       "      <td>3.172155</td>\n",
       "      <td>2.173381</td>\n",
       "      <td>0.570863</td>\n",
       "      <td>00:39</td>\n",
       "    </tr>\n",
       "  </tbody>\n",
       "</table>"
      ],
      "text/plain": [
       "<IPython.core.display.HTML object>"
      ]
     },
     "metadata": {},
     "output_type": "display_data"
    },
    {
     "data": {
      "text/html": [
       "\n",
       "<style>\n",
       "    /* Turns off some styling */\n",
       "    progress {\n",
       "        /* gets rid of default border in Firefox and Opera. */\n",
       "        border: none;\n",
       "        /* Needs to be in here for Safari polyfill so background images work as expected. */\n",
       "        background-size: auto;\n",
       "    }\n",
       "    .progress-bar-interrupted, .progress-bar-interrupted::-webkit-progress-bar {\n",
       "        background: #F44336;\n",
       "    }\n",
       "</style>\n"
      ],
      "text/plain": [
       "<IPython.core.display.HTML object>"
      ]
     },
     "metadata": {},
     "output_type": "display_data"
    },
    {
     "data": {
      "text/html": [
       "<table border=\"1\" class=\"dataframe\">\n",
       "  <thead>\n",
       "    <tr style=\"text-align: left;\">\n",
       "      <th>epoch</th>\n",
       "      <th>train_loss</th>\n",
       "      <th>valid_loss</th>\n",
       "      <th>error_rate</th>\n",
       "      <th>time</th>\n",
       "    </tr>\n",
       "  </thead>\n",
       "  <tbody>\n",
       "    <tr>\n",
       "      <td>0</td>\n",
       "      <td>1.372481</td>\n",
       "      <td>1.161872</td>\n",
       "      <td>0.334629</td>\n",
       "      <td>00:45</td>\n",
       "    </tr>\n",
       "    <tr>\n",
       "      <td>1</td>\n",
       "      <td>0.691666</td>\n",
       "      <td>0.714397</td>\n",
       "      <td>0.207515</td>\n",
       "      <td>00:45</td>\n",
       "    </tr>\n",
       "    <tr>\n",
       "      <td>2</td>\n",
       "      <td>0.350652</td>\n",
       "      <td>0.522056</td>\n",
       "      <td>0.146045</td>\n",
       "      <td>00:44</td>\n",
       "    </tr>\n",
       "    <tr>\n",
       "      <td>3</td>\n",
       "      <td>0.220477</td>\n",
       "      <td>0.466756</td>\n",
       "      <td>0.126323</td>\n",
       "      <td>00:45</td>\n",
       "    </tr>\n",
       "    <tr>\n",
       "      <td>4</td>\n",
       "      <td>0.155243</td>\n",
       "      <td>0.428865</td>\n",
       "      <td>0.107176</td>\n",
       "      <td>00:43</td>\n",
       "    </tr>\n",
       "    <tr>\n",
       "      <td>5</td>\n",
       "      <td>0.117976</td>\n",
       "      <td>0.396841</td>\n",
       "      <td>0.098683</td>\n",
       "      <td>00:45</td>\n",
       "    </tr>\n",
       "    <tr>\n",
       "      <td>6</td>\n",
       "      <td>0.094536</td>\n",
       "      <td>0.394254</td>\n",
       "      <td>0.093500</td>\n",
       "      <td>00:44</td>\n",
       "    </tr>\n",
       "    <tr>\n",
       "      <td>7</td>\n",
       "      <td>0.074631</td>\n",
       "      <td>0.381983</td>\n",
       "      <td>0.086446</td>\n",
       "      <td>00:44</td>\n",
       "    </tr>\n",
       "    <tr>\n",
       "      <td>8</td>\n",
       "      <td>0.058300</td>\n",
       "      <td>0.349069</td>\n",
       "      <td>0.077809</td>\n",
       "      <td>00:43</td>\n",
       "    </tr>\n",
       "    <tr>\n",
       "      <td>9</td>\n",
       "      <td>0.045850</td>\n",
       "      <td>0.366574</td>\n",
       "      <td>0.081624</td>\n",
       "      <td>00:45</td>\n",
       "    </tr>\n",
       "    <tr>\n",
       "      <td>10</td>\n",
       "      <td>0.033108</td>\n",
       "      <td>0.352650</td>\n",
       "      <td>0.076153</td>\n",
       "      <td>00:44</td>\n",
       "    </tr>\n",
       "    <tr>\n",
       "      <td>11</td>\n",
       "      <td>0.027474</td>\n",
       "      <td>0.345395</td>\n",
       "      <td>0.073634</td>\n",
       "      <td>00:45</td>\n",
       "    </tr>\n",
       "    <tr>\n",
       "      <td>12</td>\n",
       "      <td>0.023357</td>\n",
       "      <td>0.340392</td>\n",
       "      <td>0.071763</td>\n",
       "      <td>00:45</td>\n",
       "    </tr>\n",
       "    <tr>\n",
       "      <td>13</td>\n",
       "      <td>0.020859</td>\n",
       "      <td>0.340654</td>\n",
       "      <td>0.070971</td>\n",
       "      <td>00:45</td>\n",
       "    </tr>\n",
       "    <tr>\n",
       "      <td>14</td>\n",
       "      <td>0.020361</td>\n",
       "      <td>0.340487</td>\n",
       "      <td>0.071331</td>\n",
       "      <td>00:45</td>\n",
       "    </tr>\n",
       "  </tbody>\n",
       "</table>"
      ],
      "text/plain": [
       "<IPython.core.display.HTML object>"
      ]
     },
     "metadata": {},
     "output_type": "display_data"
    },
    {
     "data": {
      "text/html": [
       "\n",
       "<style>\n",
       "    /* Turns off some styling */\n",
       "    progress {\n",
       "        /* gets rid of default border in Firefox and Opera. */\n",
       "        border: none;\n",
       "        /* Needs to be in here for Safari polyfill so background images work as expected. */\n",
       "        background-size: auto;\n",
       "    }\n",
       "    .progress-bar-interrupted, .progress-bar-interrupted::-webkit-progress-bar {\n",
       "        background: #F44336;\n",
       "    }\n",
       "</style>\n"
      ],
      "text/plain": [
       "<IPython.core.display.HTML object>"
      ]
     },
     "metadata": {},
     "output_type": "display_data"
    },
    {
     "data": {
      "text/html": [],
      "text/plain": [
       "<IPython.core.display.HTML object>"
      ]
     },
     "metadata": {},
     "output_type": "display_data"
    },
    {
     "data": {
      "text/html": [
       "\n",
       "<style>\n",
       "    /* Turns off some styling */\n",
       "    progress {\n",
       "        /* gets rid of default border in Firefox and Opera. */\n",
       "        border: none;\n",
       "        /* Needs to be in here for Safari polyfill so background images work as expected. */\n",
       "        background-size: auto;\n",
       "    }\n",
       "    .progress-bar-interrupted, .progress-bar-interrupted::-webkit-progress-bar {\n",
       "        background: #F44336;\n",
       "    }\n",
       "</style>\n"
      ],
      "text/plain": [
       "<IPython.core.display.HTML object>"
      ]
     },
     "metadata": {},
     "output_type": "display_data"
    },
    {
     "data": {
      "text/html": [
       "<table border=\"1\" class=\"dataframe\">\n",
       "  <thead>\n",
       "    <tr style=\"text-align: left;\">\n",
       "      <th>epoch</th>\n",
       "      <th>train_loss</th>\n",
       "      <th>valid_loss</th>\n",
       "      <th>error_rate</th>\n",
       "      <th>time</th>\n",
       "    </tr>\n",
       "  </thead>\n",
       "  <tbody>\n",
       "    <tr>\n",
       "      <td>0</td>\n",
       "      <td>3.169667</td>\n",
       "      <td>2.178636</td>\n",
       "      <td>0.566544</td>\n",
       "      <td>00:39</td>\n",
       "    </tr>\n",
       "  </tbody>\n",
       "</table>"
      ],
      "text/plain": [
       "<IPython.core.display.HTML object>"
      ]
     },
     "metadata": {},
     "output_type": "display_data"
    },
    {
     "data": {
      "text/html": [
       "\n",
       "<style>\n",
       "    /* Turns off some styling */\n",
       "    progress {\n",
       "        /* gets rid of default border in Firefox and Opera. */\n",
       "        border: none;\n",
       "        /* Needs to be in here for Safari polyfill so background images work as expected. */\n",
       "        background-size: auto;\n",
       "    }\n",
       "    .progress-bar-interrupted, .progress-bar-interrupted::-webkit-progress-bar {\n",
       "        background: #F44336;\n",
       "    }\n",
       "</style>\n"
      ],
      "text/plain": [
       "<IPython.core.display.HTML object>"
      ]
     },
     "metadata": {},
     "output_type": "display_data"
    },
    {
     "data": {
      "text/html": [
       "<table border=\"1\" class=\"dataframe\">\n",
       "  <thead>\n",
       "    <tr style=\"text-align: left;\">\n",
       "      <th>epoch</th>\n",
       "      <th>train_loss</th>\n",
       "      <th>valid_loss</th>\n",
       "      <th>error_rate</th>\n",
       "      <th>time</th>\n",
       "    </tr>\n",
       "  </thead>\n",
       "  <tbody>\n",
       "    <tr>\n",
       "      <td>0</td>\n",
       "      <td>1.373396</td>\n",
       "      <td>1.172064</td>\n",
       "      <td>0.337940</td>\n",
       "      <td>00:44</td>\n",
       "    </tr>\n",
       "    <tr>\n",
       "      <td>1</td>\n",
       "      <td>0.687295</td>\n",
       "      <td>0.708424</td>\n",
       "      <td>0.204995</td>\n",
       "      <td>00:44</td>\n",
       "    </tr>\n",
       "    <tr>\n",
       "      <td>2</td>\n",
       "      <td>0.352746</td>\n",
       "      <td>0.537814</td>\n",
       "      <td>0.151515</td>\n",
       "      <td>00:44</td>\n",
       "    </tr>\n",
       "    <tr>\n",
       "      <td>3</td>\n",
       "      <td>0.219143</td>\n",
       "      <td>0.475548</td>\n",
       "      <td>0.127042</td>\n",
       "      <td>00:45</td>\n",
       "    </tr>\n",
       "    <tr>\n",
       "      <td>4</td>\n",
       "      <td>0.155818</td>\n",
       "      <td>0.433766</td>\n",
       "      <td>0.111567</td>\n",
       "      <td>00:44</td>\n",
       "    </tr>\n",
       "    <tr>\n",
       "      <td>5</td>\n",
       "      <td>0.121414</td>\n",
       "      <td>0.404443</td>\n",
       "      <td>0.100986</td>\n",
       "      <td>00:45</td>\n",
       "    </tr>\n",
       "    <tr>\n",
       "      <td>6</td>\n",
       "      <td>0.095548</td>\n",
       "      <td>0.416137</td>\n",
       "      <td>0.098683</td>\n",
       "      <td>00:43</td>\n",
       "    </tr>\n",
       "    <tr>\n",
       "      <td>7</td>\n",
       "      <td>0.070188</td>\n",
       "      <td>0.373929</td>\n",
       "      <td>0.087022</td>\n",
       "      <td>00:45</td>\n",
       "    </tr>\n",
       "    <tr>\n",
       "      <td>8</td>\n",
       "      <td>0.060596</td>\n",
       "      <td>0.372546</td>\n",
       "      <td>0.082704</td>\n",
       "      <td>00:44</td>\n",
       "    </tr>\n",
       "    <tr>\n",
       "      <td>9</td>\n",
       "      <td>0.046868</td>\n",
       "      <td>0.356085</td>\n",
       "      <td>0.077377</td>\n",
       "      <td>00:45</td>\n",
       "    </tr>\n",
       "    <tr>\n",
       "      <td>10</td>\n",
       "      <td>0.037688</td>\n",
       "      <td>0.356784</td>\n",
       "      <td>0.078025</td>\n",
       "      <td>00:45</td>\n",
       "    </tr>\n",
       "    <tr>\n",
       "      <td>11</td>\n",
       "      <td>0.027829</td>\n",
       "      <td>0.344971</td>\n",
       "      <td>0.073994</td>\n",
       "      <td>00:45</td>\n",
       "    </tr>\n",
       "    <tr>\n",
       "      <td>12</td>\n",
       "      <td>0.022941</td>\n",
       "      <td>0.339062</td>\n",
       "      <td>0.071475</td>\n",
       "      <td>00:45</td>\n",
       "    </tr>\n",
       "    <tr>\n",
       "      <td>13</td>\n",
       "      <td>0.021058</td>\n",
       "      <td>0.336004</td>\n",
       "      <td>0.071403</td>\n",
       "      <td>00:44</td>\n",
       "    </tr>\n",
       "    <tr>\n",
       "      <td>14</td>\n",
       "      <td>0.021503</td>\n",
       "      <td>0.335603</td>\n",
       "      <td>0.071331</td>\n",
       "      <td>00:45</td>\n",
       "    </tr>\n",
       "  </tbody>\n",
       "</table>"
      ],
      "text/plain": [
       "<IPython.core.display.HTML object>"
      ]
     },
     "metadata": {},
     "output_type": "display_data"
    },
    {
     "data": {
      "text/html": [
       "\n",
       "<style>\n",
       "    /* Turns off some styling */\n",
       "    progress {\n",
       "        /* gets rid of default border in Firefox and Opera. */\n",
       "        border: none;\n",
       "        /* Needs to be in here for Safari polyfill so background images work as expected. */\n",
       "        background-size: auto;\n",
       "    }\n",
       "    .progress-bar-interrupted, .progress-bar-interrupted::-webkit-progress-bar {\n",
       "        background: #F44336;\n",
       "    }\n",
       "</style>\n"
      ],
      "text/plain": [
       "<IPython.core.display.HTML object>"
      ]
     },
     "metadata": {},
     "output_type": "display_data"
    },
    {
     "data": {
      "text/html": [],
      "text/plain": [
       "<IPython.core.display.HTML object>"
      ]
     },
     "metadata": {},
     "output_type": "display_data"
    },
    {
     "data": {
      "text/html": [
       "\n",
       "<style>\n",
       "    /* Turns off some styling */\n",
       "    progress {\n",
       "        /* gets rid of default border in Firefox and Opera. */\n",
       "        border: none;\n",
       "        /* Needs to be in here for Safari polyfill so background images work as expected. */\n",
       "        background-size: auto;\n",
       "    }\n",
       "    .progress-bar-interrupted, .progress-bar-interrupted::-webkit-progress-bar {\n",
       "        background: #F44336;\n",
       "    }\n",
       "</style>\n"
      ],
      "text/plain": [
       "<IPython.core.display.HTML object>"
      ]
     },
     "metadata": {},
     "output_type": "display_data"
    },
    {
     "data": {
      "text/html": [
       "<table border=\"1\" class=\"dataframe\">\n",
       "  <thead>\n",
       "    <tr style=\"text-align: left;\">\n",
       "      <th>epoch</th>\n",
       "      <th>train_loss</th>\n",
       "      <th>valid_loss</th>\n",
       "      <th>error_rate</th>\n",
       "      <th>time</th>\n",
       "    </tr>\n",
       "  </thead>\n",
       "  <tbody>\n",
       "    <tr>\n",
       "      <td>0</td>\n",
       "      <td>3.165860</td>\n",
       "      <td>2.167290</td>\n",
       "      <td>0.560066</td>\n",
       "      <td>00:38</td>\n",
       "    </tr>\n",
       "  </tbody>\n",
       "</table>"
      ],
      "text/plain": [
       "<IPython.core.display.HTML object>"
      ]
     },
     "metadata": {},
     "output_type": "display_data"
    },
    {
     "data": {
      "text/html": [
       "\n",
       "<style>\n",
       "    /* Turns off some styling */\n",
       "    progress {\n",
       "        /* gets rid of default border in Firefox and Opera. */\n",
       "        border: none;\n",
       "        /* Needs to be in here for Safari polyfill so background images work as expected. */\n",
       "        background-size: auto;\n",
       "    }\n",
       "    .progress-bar-interrupted, .progress-bar-interrupted::-webkit-progress-bar {\n",
       "        background: #F44336;\n",
       "    }\n",
       "</style>\n"
      ],
      "text/plain": [
       "<IPython.core.display.HTML object>"
      ]
     },
     "metadata": {},
     "output_type": "display_data"
    },
    {
     "data": {
      "text/html": [
       "<table border=\"1\" class=\"dataframe\">\n",
       "  <thead>\n",
       "    <tr style=\"text-align: left;\">\n",
       "      <th>epoch</th>\n",
       "      <th>train_loss</th>\n",
       "      <th>valid_loss</th>\n",
       "      <th>error_rate</th>\n",
       "      <th>time</th>\n",
       "    </tr>\n",
       "  </thead>\n",
       "  <tbody>\n",
       "    <tr>\n",
       "      <td>0</td>\n",
       "      <td>1.373523</td>\n",
       "      <td>1.156174</td>\n",
       "      <td>0.332614</td>\n",
       "      <td>00:45</td>\n",
       "    </tr>\n",
       "    <tr>\n",
       "      <td>1</td>\n",
       "      <td>0.692914</td>\n",
       "      <td>0.693891</td>\n",
       "      <td>0.200173</td>\n",
       "      <td>00:45</td>\n",
       "    </tr>\n",
       "    <tr>\n",
       "      <td>2</td>\n",
       "      <td>0.350101</td>\n",
       "      <td>0.512189</td>\n",
       "      <td>0.143166</td>\n",
       "      <td>00:45</td>\n",
       "    </tr>\n",
       "    <tr>\n",
       "      <td>3</td>\n",
       "      <td>0.216021</td>\n",
       "      <td>0.443711</td>\n",
       "      <td>0.116965</td>\n",
       "      <td>00:45</td>\n",
       "    </tr>\n",
       "    <tr>\n",
       "      <td>4</td>\n",
       "      <td>0.160344</td>\n",
       "      <td>0.422853</td>\n",
       "      <td>0.108256</td>\n",
       "      <td>00:45</td>\n",
       "    </tr>\n",
       "    <tr>\n",
       "      <td>5</td>\n",
       "      <td>0.119554</td>\n",
       "      <td>0.399258</td>\n",
       "      <td>0.095444</td>\n",
       "      <td>00:44</td>\n",
       "    </tr>\n",
       "    <tr>\n",
       "      <td>6</td>\n",
       "      <td>0.091287</td>\n",
       "      <td>0.382306</td>\n",
       "      <td>0.090405</td>\n",
       "      <td>00:45</td>\n",
       "    </tr>\n",
       "    <tr>\n",
       "      <td>7</td>\n",
       "      <td>0.071596</td>\n",
       "      <td>0.368574</td>\n",
       "      <td>0.086374</td>\n",
       "      <td>00:44</td>\n",
       "    </tr>\n",
       "    <tr>\n",
       "      <td>8</td>\n",
       "      <td>0.056568</td>\n",
       "      <td>0.361634</td>\n",
       "      <td>0.081336</td>\n",
       "      <td>00:45</td>\n",
       "    </tr>\n",
       "    <tr>\n",
       "      <td>9</td>\n",
       "      <td>0.043164</td>\n",
       "      <td>0.349321</td>\n",
       "      <td>0.076945</td>\n",
       "      <td>00:45</td>\n",
       "    </tr>\n",
       "    <tr>\n",
       "      <td>10</td>\n",
       "      <td>0.038924</td>\n",
       "      <td>0.347066</td>\n",
       "      <td>0.075938</td>\n",
       "      <td>00:45</td>\n",
       "    </tr>\n",
       "    <tr>\n",
       "      <td>11</td>\n",
       "      <td>0.029386</td>\n",
       "      <td>0.328723</td>\n",
       "      <td>0.069963</td>\n",
       "      <td>00:44</td>\n",
       "    </tr>\n",
       "    <tr>\n",
       "      <td>12</td>\n",
       "      <td>0.022996</td>\n",
       "      <td>0.328053</td>\n",
       "      <td>0.069387</td>\n",
       "      <td>00:44</td>\n",
       "    </tr>\n",
       "    <tr>\n",
       "      <td>13</td>\n",
       "      <td>0.022109</td>\n",
       "      <td>0.329446</td>\n",
       "      <td>0.068812</td>\n",
       "      <td>00:45</td>\n",
       "    </tr>\n",
       "    <tr>\n",
       "      <td>14</td>\n",
       "      <td>0.020368</td>\n",
       "      <td>0.328685</td>\n",
       "      <td>0.068452</td>\n",
       "      <td>00:42</td>\n",
       "    </tr>\n",
       "  </tbody>\n",
       "</table>"
      ],
      "text/plain": [
       "<IPython.core.display.HTML object>"
      ]
     },
     "metadata": {},
     "output_type": "display_data"
    },
    {
     "data": {
      "text/html": [
       "\n",
       "<style>\n",
       "    /* Turns off some styling */\n",
       "    progress {\n",
       "        /* gets rid of default border in Firefox and Opera. */\n",
       "        border: none;\n",
       "        /* Needs to be in here for Safari polyfill so background images work as expected. */\n",
       "        background-size: auto;\n",
       "    }\n",
       "    .progress-bar-interrupted, .progress-bar-interrupted::-webkit-progress-bar {\n",
       "        background: #F44336;\n",
       "    }\n",
       "</style>\n"
      ],
      "text/plain": [
       "<IPython.core.display.HTML object>"
      ]
     },
     "metadata": {},
     "output_type": "display_data"
    },
    {
     "data": {
      "text/html": [],
      "text/plain": [
       "<IPython.core.display.HTML object>"
      ]
     },
     "metadata": {},
     "output_type": "display_data"
    },
    {
     "data": {
      "text/html": [
       "\n",
       "<style>\n",
       "    /* Turns off some styling */\n",
       "    progress {\n",
       "        /* gets rid of default border in Firefox and Opera. */\n",
       "        border: none;\n",
       "        /* Needs to be in here for Safari polyfill so background images work as expected. */\n",
       "        background-size: auto;\n",
       "    }\n",
       "    .progress-bar-interrupted, .progress-bar-interrupted::-webkit-progress-bar {\n",
       "        background: #F44336;\n",
       "    }\n",
       "</style>\n"
      ],
      "text/plain": [
       "<IPython.core.display.HTML object>"
      ]
     },
     "metadata": {},
     "output_type": "display_data"
    },
    {
     "data": {
      "text/html": [
       "<table border=\"1\" class=\"dataframe\">\n",
       "  <thead>\n",
       "    <tr style=\"text-align: left;\">\n",
       "      <th>epoch</th>\n",
       "      <th>train_loss</th>\n",
       "      <th>valid_loss</th>\n",
       "      <th>error_rate</th>\n",
       "      <th>time</th>\n",
       "    </tr>\n",
       "  </thead>\n",
       "  <tbody>\n",
       "    <tr>\n",
       "      <td>0</td>\n",
       "      <td>3.172179</td>\n",
       "      <td>2.173607</td>\n",
       "      <td>0.570215</td>\n",
       "      <td>00:39</td>\n",
       "    </tr>\n",
       "  </tbody>\n",
       "</table>"
      ],
      "text/plain": [
       "<IPython.core.display.HTML object>"
      ]
     },
     "metadata": {},
     "output_type": "display_data"
    },
    {
     "data": {
      "text/html": [
       "\n",
       "<style>\n",
       "    /* Turns off some styling */\n",
       "    progress {\n",
       "        /* gets rid of default border in Firefox and Opera. */\n",
       "        border: none;\n",
       "        /* Needs to be in here for Safari polyfill so background images work as expected. */\n",
       "        background-size: auto;\n",
       "    }\n",
       "    .progress-bar-interrupted, .progress-bar-interrupted::-webkit-progress-bar {\n",
       "        background: #F44336;\n",
       "    }\n",
       "</style>\n"
      ],
      "text/plain": [
       "<IPython.core.display.HTML object>"
      ]
     },
     "metadata": {},
     "output_type": "display_data"
    },
    {
     "data": {
      "text/html": [
       "<table border=\"1\" class=\"dataframe\">\n",
       "  <thead>\n",
       "    <tr style=\"text-align: left;\">\n",
       "      <th>epoch</th>\n",
       "      <th>train_loss</th>\n",
       "      <th>valid_loss</th>\n",
       "      <th>error_rate</th>\n",
       "      <th>time</th>\n",
       "    </tr>\n",
       "  </thead>\n",
       "  <tbody>\n",
       "    <tr>\n",
       "      <td>0</td>\n",
       "      <td>1.359136</td>\n",
       "      <td>1.163863</td>\n",
       "      <td>0.333621</td>\n",
       "      <td>00:44</td>\n",
       "    </tr>\n",
       "    <tr>\n",
       "      <td>1</td>\n",
       "      <td>0.689941</td>\n",
       "      <td>0.706387</td>\n",
       "      <td>0.206003</td>\n",
       "      <td>00:45</td>\n",
       "    </tr>\n",
       "    <tr>\n",
       "      <td>2</td>\n",
       "      <td>0.356080</td>\n",
       "      <td>0.526914</td>\n",
       "      <td>0.150148</td>\n",
       "      <td>00:44</td>\n",
       "    </tr>\n",
       "    <tr>\n",
       "      <td>3</td>\n",
       "      <td>0.218073</td>\n",
       "      <td>0.448983</td>\n",
       "      <td>0.117541</td>\n",
       "      <td>00:45</td>\n",
       "    </tr>\n",
       "    <tr>\n",
       "      <td>4</td>\n",
       "      <td>0.158387</td>\n",
       "      <td>0.427661</td>\n",
       "      <td>0.108472</td>\n",
       "      <td>00:45</td>\n",
       "    </tr>\n",
       "    <tr>\n",
       "      <td>5</td>\n",
       "      <td>0.117850</td>\n",
       "      <td>0.379300</td>\n",
       "      <td>0.093860</td>\n",
       "      <td>00:45</td>\n",
       "    </tr>\n",
       "    <tr>\n",
       "      <td>6</td>\n",
       "      <td>0.093291</td>\n",
       "      <td>0.381380</td>\n",
       "      <td>0.093068</td>\n",
       "      <td>00:45</td>\n",
       "    </tr>\n",
       "    <tr>\n",
       "      <td>7</td>\n",
       "      <td>0.076133</td>\n",
       "      <td>0.378183</td>\n",
       "      <td>0.086374</td>\n",
       "      <td>00:45</td>\n",
       "    </tr>\n",
       "    <tr>\n",
       "      <td>8</td>\n",
       "      <td>0.054461</td>\n",
       "      <td>0.372413</td>\n",
       "      <td>0.081984</td>\n",
       "      <td>00:45</td>\n",
       "    </tr>\n",
       "    <tr>\n",
       "      <td>9</td>\n",
       "      <td>0.045711</td>\n",
       "      <td>0.350690</td>\n",
       "      <td>0.075146</td>\n",
       "      <td>00:45</td>\n",
       "    </tr>\n",
       "    <tr>\n",
       "      <td>10</td>\n",
       "      <td>0.035014</td>\n",
       "      <td>0.352146</td>\n",
       "      <td>0.075578</td>\n",
       "      <td>00:45</td>\n",
       "    </tr>\n",
       "    <tr>\n",
       "      <td>11</td>\n",
       "      <td>0.029314</td>\n",
       "      <td>0.357916</td>\n",
       "      <td>0.074066</td>\n",
       "      <td>00:45</td>\n",
       "    </tr>\n",
       "    <tr>\n",
       "      <td>12</td>\n",
       "      <td>0.024203</td>\n",
       "      <td>0.345853</td>\n",
       "      <td>0.071547</td>\n",
       "      <td>00:44</td>\n",
       "    </tr>\n",
       "    <tr>\n",
       "      <td>13</td>\n",
       "      <td>0.021840</td>\n",
       "      <td>0.344649</td>\n",
       "      <td>0.070251</td>\n",
       "      <td>00:43</td>\n",
       "    </tr>\n",
       "    <tr>\n",
       "      <td>14</td>\n",
       "      <td>0.022228</td>\n",
       "      <td>0.345183</td>\n",
       "      <td>0.070467</td>\n",
       "      <td>00:44</td>\n",
       "    </tr>\n",
       "  </tbody>\n",
       "</table>"
      ],
      "text/plain": [
       "<IPython.core.display.HTML object>"
      ]
     },
     "metadata": {},
     "output_type": "display_data"
    },
    {
     "data": {
      "text/html": [
       "\n",
       "<style>\n",
       "    /* Turns off some styling */\n",
       "    progress {\n",
       "        /* gets rid of default border in Firefox and Opera. */\n",
       "        border: none;\n",
       "        /* Needs to be in here for Safari polyfill so background images work as expected. */\n",
       "        background-size: auto;\n",
       "    }\n",
       "    .progress-bar-interrupted, .progress-bar-interrupted::-webkit-progress-bar {\n",
       "        background: #F44336;\n",
       "    }\n",
       "</style>\n"
      ],
      "text/plain": [
       "<IPython.core.display.HTML object>"
      ]
     },
     "metadata": {},
     "output_type": "display_data"
    },
    {
     "data": {
      "text/html": [],
      "text/plain": [
       "<IPython.core.display.HTML object>"
      ]
     },
     "metadata": {},
     "output_type": "display_data"
    },
    {
     "data": {
      "text/html": [
       "\n",
       "<style>\n",
       "    /* Turns off some styling */\n",
       "    progress {\n",
       "        /* gets rid of default border in Firefox and Opera. */\n",
       "        border: none;\n",
       "        /* Needs to be in here for Safari polyfill so background images work as expected. */\n",
       "        background-size: auto;\n",
       "    }\n",
       "    .progress-bar-interrupted, .progress-bar-interrupted::-webkit-progress-bar {\n",
       "        background: #F44336;\n",
       "    }\n",
       "</style>\n"
      ],
      "text/plain": [
       "<IPython.core.display.HTML object>"
      ]
     },
     "metadata": {},
     "output_type": "display_data"
    },
    {
     "data": {
      "text/html": [
       "<table border=\"1\" class=\"dataframe\">\n",
       "  <thead>\n",
       "    <tr style=\"text-align: left;\">\n",
       "      <th>epoch</th>\n",
       "      <th>train_loss</th>\n",
       "      <th>valid_loss</th>\n",
       "      <th>error_rate</th>\n",
       "      <th>time</th>\n",
       "    </tr>\n",
       "  </thead>\n",
       "  <tbody>\n",
       "    <tr>\n",
       "      <td>0</td>\n",
       "      <td>3.174947</td>\n",
       "      <td>2.140594</td>\n",
       "      <td>0.555819</td>\n",
       "      <td>00:38</td>\n",
       "    </tr>\n",
       "  </tbody>\n",
       "</table>"
      ],
      "text/plain": [
       "<IPython.core.display.HTML object>"
      ]
     },
     "metadata": {},
     "output_type": "display_data"
    },
    {
     "data": {
      "text/html": [
       "\n",
       "<style>\n",
       "    /* Turns off some styling */\n",
       "    progress {\n",
       "        /* gets rid of default border in Firefox and Opera. */\n",
       "        border: none;\n",
       "        /* Needs to be in here for Safari polyfill so background images work as expected. */\n",
       "        background-size: auto;\n",
       "    }\n",
       "    .progress-bar-interrupted, .progress-bar-interrupted::-webkit-progress-bar {\n",
       "        background: #F44336;\n",
       "    }\n",
       "</style>\n"
      ],
      "text/plain": [
       "<IPython.core.display.HTML object>"
      ]
     },
     "metadata": {},
     "output_type": "display_data"
    },
    {
     "data": {
      "text/html": [
       "<table border=\"1\" class=\"dataframe\">\n",
       "  <thead>\n",
       "    <tr style=\"text-align: left;\">\n",
       "      <th>epoch</th>\n",
       "      <th>train_loss</th>\n",
       "      <th>valid_loss</th>\n",
       "      <th>error_rate</th>\n",
       "      <th>time</th>\n",
       "    </tr>\n",
       "  </thead>\n",
       "  <tbody>\n",
       "    <tr>\n",
       "      <td>0</td>\n",
       "      <td>1.356366</td>\n",
       "      <td>1.159775</td>\n",
       "      <td>0.331606</td>\n",
       "      <td>00:45</td>\n",
       "    </tr>\n",
       "    <tr>\n",
       "      <td>1</td>\n",
       "      <td>0.687512</td>\n",
       "      <td>0.710875</td>\n",
       "      <td>0.206075</td>\n",
       "      <td>00:45</td>\n",
       "    </tr>\n",
       "    <tr>\n",
       "      <td>2</td>\n",
       "      <td>0.350387</td>\n",
       "      <td>0.562120</td>\n",
       "      <td>0.158209</td>\n",
       "      <td>00:45</td>\n",
       "    </tr>\n",
       "    <tr>\n",
       "      <td>3</td>\n",
       "      <td>0.215358</td>\n",
       "      <td>0.463586</td>\n",
       "      <td>0.123659</td>\n",
       "      <td>00:45</td>\n",
       "    </tr>\n",
       "    <tr>\n",
       "      <td>4</td>\n",
       "      <td>0.160279</td>\n",
       "      <td>0.426838</td>\n",
       "      <td>0.109048</td>\n",
       "      <td>00:45</td>\n",
       "    </tr>\n",
       "    <tr>\n",
       "      <td>5</td>\n",
       "      <td>0.118933</td>\n",
       "      <td>0.423424</td>\n",
       "      <td>0.105881</td>\n",
       "      <td>00:45</td>\n",
       "    </tr>\n",
       "    <tr>\n",
       "      <td>6</td>\n",
       "      <td>0.090056</td>\n",
       "      <td>0.381372</td>\n",
       "      <td>0.090549</td>\n",
       "      <td>00:44</td>\n",
       "    </tr>\n",
       "    <tr>\n",
       "      <td>7</td>\n",
       "      <td>0.070498</td>\n",
       "      <td>0.383778</td>\n",
       "      <td>0.090333</td>\n",
       "      <td>00:43</td>\n",
       "    </tr>\n",
       "    <tr>\n",
       "      <td>8</td>\n",
       "      <td>0.054578</td>\n",
       "      <td>0.381856</td>\n",
       "      <td>0.083279</td>\n",
       "      <td>00:45</td>\n",
       "    </tr>\n",
       "    <tr>\n",
       "      <td>9</td>\n",
       "      <td>0.044950</td>\n",
       "      <td>0.367892</td>\n",
       "      <td>0.080832</td>\n",
       "      <td>00:45</td>\n",
       "    </tr>\n",
       "    <tr>\n",
       "      <td>10</td>\n",
       "      <td>0.035136</td>\n",
       "      <td>0.361007</td>\n",
       "      <td>0.076945</td>\n",
       "      <td>00:45</td>\n",
       "    </tr>\n",
       "    <tr>\n",
       "      <td>11</td>\n",
       "      <td>0.027379</td>\n",
       "      <td>0.344093</td>\n",
       "      <td>0.073562</td>\n",
       "      <td>00:44</td>\n",
       "    </tr>\n",
       "    <tr>\n",
       "      <td>12</td>\n",
       "      <td>0.022392</td>\n",
       "      <td>0.338815</td>\n",
       "      <td>0.071619</td>\n",
       "      <td>00:45</td>\n",
       "    </tr>\n",
       "    <tr>\n",
       "      <td>13</td>\n",
       "      <td>0.021397</td>\n",
       "      <td>0.336565</td>\n",
       "      <td>0.071259</td>\n",
       "      <td>00:44</td>\n",
       "    </tr>\n",
       "    <tr>\n",
       "      <td>14</td>\n",
       "      <td>0.020196</td>\n",
       "      <td>0.337401</td>\n",
       "      <td>0.071187</td>\n",
       "      <td>00:45</td>\n",
       "    </tr>\n",
       "  </tbody>\n",
       "</table>"
      ],
      "text/plain": [
       "<IPython.core.display.HTML object>"
      ]
     },
     "metadata": {},
     "output_type": "display_data"
    },
    {
     "data": {
      "text/html": [
       "\n",
       "<style>\n",
       "    /* Turns off some styling */\n",
       "    progress {\n",
       "        /* gets rid of default border in Firefox and Opera. */\n",
       "        border: none;\n",
       "        /* Needs to be in here for Safari polyfill so background images work as expected. */\n",
       "        background-size: auto;\n",
       "    }\n",
       "    .progress-bar-interrupted, .progress-bar-interrupted::-webkit-progress-bar {\n",
       "        background: #F44336;\n",
       "    }\n",
       "</style>\n"
      ],
      "text/plain": [
       "<IPython.core.display.HTML object>"
      ]
     },
     "metadata": {},
     "output_type": "display_data"
    },
    {
     "data": {
      "text/html": [],
      "text/plain": [
       "<IPython.core.display.HTML object>"
      ]
     },
     "metadata": {},
     "output_type": "display_data"
    },
    {
     "data": {
      "text/html": [
       "\n",
       "<style>\n",
       "    /* Turns off some styling */\n",
       "    progress {\n",
       "        /* gets rid of default border in Firefox and Opera. */\n",
       "        border: none;\n",
       "        /* Needs to be in here for Safari polyfill so background images work as expected. */\n",
       "        background-size: auto;\n",
       "    }\n",
       "    .progress-bar-interrupted, .progress-bar-interrupted::-webkit-progress-bar {\n",
       "        background: #F44336;\n",
       "    }\n",
       "</style>\n"
      ],
      "text/plain": [
       "<IPython.core.display.HTML object>"
      ]
     },
     "metadata": {},
     "output_type": "display_data"
    },
    {
     "data": {
      "text/html": [
       "<table border=\"1\" class=\"dataframe\">\n",
       "  <thead>\n",
       "    <tr style=\"text-align: left;\">\n",
       "      <th>epoch</th>\n",
       "      <th>train_loss</th>\n",
       "      <th>valid_loss</th>\n",
       "      <th>error_rate</th>\n",
       "      <th>time</th>\n",
       "    </tr>\n",
       "  </thead>\n",
       "  <tbody>\n",
       "    <tr>\n",
       "      <td>0</td>\n",
       "      <td>3.169443</td>\n",
       "      <td>2.157375</td>\n",
       "      <td>0.559850</td>\n",
       "      <td>00:39</td>\n",
       "    </tr>\n",
       "  </tbody>\n",
       "</table>"
      ],
      "text/plain": [
       "<IPython.core.display.HTML object>"
      ]
     },
     "metadata": {},
     "output_type": "display_data"
    },
    {
     "data": {
      "text/html": [
       "\n",
       "<style>\n",
       "    /* Turns off some styling */\n",
       "    progress {\n",
       "        /* gets rid of default border in Firefox and Opera. */\n",
       "        border: none;\n",
       "        /* Needs to be in here for Safari polyfill so background images work as expected. */\n",
       "        background-size: auto;\n",
       "    }\n",
       "    .progress-bar-interrupted, .progress-bar-interrupted::-webkit-progress-bar {\n",
       "        background: #F44336;\n",
       "    }\n",
       "</style>\n"
      ],
      "text/plain": [
       "<IPython.core.display.HTML object>"
      ]
     },
     "metadata": {},
     "output_type": "display_data"
    },
    {
     "data": {
      "text/html": [
       "<table border=\"1\" class=\"dataframe\">\n",
       "  <thead>\n",
       "    <tr style=\"text-align: left;\">\n",
       "      <th>epoch</th>\n",
       "      <th>train_loss</th>\n",
       "      <th>valid_loss</th>\n",
       "      <th>error_rate</th>\n",
       "      <th>time</th>\n",
       "    </tr>\n",
       "  </thead>\n",
       "  <tbody>\n",
       "    <tr>\n",
       "      <td>0</td>\n",
       "      <td>1.367625</td>\n",
       "      <td>1.166459</td>\n",
       "      <td>0.327863</td>\n",
       "      <td>00:45</td>\n",
       "    </tr>\n",
       "    <tr>\n",
       "      <td>1</td>\n",
       "      <td>0.684872</td>\n",
       "      <td>0.715618</td>\n",
       "      <td>0.206003</td>\n",
       "      <td>00:45</td>\n",
       "    </tr>\n",
       "    <tr>\n",
       "      <td>2</td>\n",
       "      <td>0.354999</td>\n",
       "      <td>0.536684</td>\n",
       "      <td>0.150939</td>\n",
       "      <td>00:44</td>\n",
       "    </tr>\n",
       "    <tr>\n",
       "      <td>3</td>\n",
       "      <td>0.223673</td>\n",
       "      <td>0.472165</td>\n",
       "      <td>0.124883</td>\n",
       "      <td>00:45</td>\n",
       "    </tr>\n",
       "    <tr>\n",
       "      <td>4</td>\n",
       "      <td>0.159079</td>\n",
       "      <td>0.414919</td>\n",
       "      <td>0.107104</td>\n",
       "      <td>00:43</td>\n",
       "    </tr>\n",
       "    <tr>\n",
       "      <td>5</td>\n",
       "      <td>0.119334</td>\n",
       "      <td>0.394654</td>\n",
       "      <td>0.096092</td>\n",
       "      <td>00:45</td>\n",
       "    </tr>\n",
       "    <tr>\n",
       "      <td>6</td>\n",
       "      <td>0.092748</td>\n",
       "      <td>0.383622</td>\n",
       "      <td>0.091269</td>\n",
       "      <td>00:44</td>\n",
       "    </tr>\n",
       "    <tr>\n",
       "      <td>7</td>\n",
       "      <td>0.072292</td>\n",
       "      <td>0.387036</td>\n",
       "      <td>0.089398</td>\n",
       "      <td>00:45</td>\n",
       "    </tr>\n",
       "    <tr>\n",
       "      <td>8</td>\n",
       "      <td>0.054207</td>\n",
       "      <td>0.375709</td>\n",
       "      <td>0.082128</td>\n",
       "      <td>00:45</td>\n",
       "    </tr>\n",
       "    <tr>\n",
       "      <td>9</td>\n",
       "      <td>0.045950</td>\n",
       "      <td>0.373439</td>\n",
       "      <td>0.081696</td>\n",
       "      <td>00:45</td>\n",
       "    </tr>\n",
       "    <tr>\n",
       "      <td>10</td>\n",
       "      <td>0.038770</td>\n",
       "      <td>0.362063</td>\n",
       "      <td>0.078529</td>\n",
       "      <td>00:45</td>\n",
       "    </tr>\n",
       "    <tr>\n",
       "      <td>11</td>\n",
       "      <td>0.028718</td>\n",
       "      <td>0.351277</td>\n",
       "      <td>0.074138</td>\n",
       "      <td>00:45</td>\n",
       "    </tr>\n",
       "    <tr>\n",
       "      <td>12</td>\n",
       "      <td>0.024971</td>\n",
       "      <td>0.347948</td>\n",
       "      <td>0.072195</td>\n",
       "      <td>00:45</td>\n",
       "    </tr>\n",
       "    <tr>\n",
       "      <td>13</td>\n",
       "      <td>0.021111</td>\n",
       "      <td>0.346591</td>\n",
       "      <td>0.072555</td>\n",
       "      <td>00:45</td>\n",
       "    </tr>\n",
       "    <tr>\n",
       "      <td>14</td>\n",
       "      <td>0.020644</td>\n",
       "      <td>0.346646</td>\n",
       "      <td>0.072483</td>\n",
       "      <td>00:45</td>\n",
       "    </tr>\n",
       "  </tbody>\n",
       "</table>"
      ],
      "text/plain": [
       "<IPython.core.display.HTML object>"
      ]
     },
     "metadata": {},
     "output_type": "display_data"
    },
    {
     "data": {
      "text/html": [
       "\n",
       "<style>\n",
       "    /* Turns off some styling */\n",
       "    progress {\n",
       "        /* gets rid of default border in Firefox and Opera. */\n",
       "        border: none;\n",
       "        /* Needs to be in here for Safari polyfill so background images work as expected. */\n",
       "        background-size: auto;\n",
       "    }\n",
       "    .progress-bar-interrupted, .progress-bar-interrupted::-webkit-progress-bar {\n",
       "        background: #F44336;\n",
       "    }\n",
       "</style>\n"
      ],
      "text/plain": [
       "<IPython.core.display.HTML object>"
      ]
     },
     "metadata": {},
     "output_type": "display_data"
    },
    {
     "data": {
      "text/html": [],
      "text/plain": [
       "<IPython.core.display.HTML object>"
      ]
     },
     "metadata": {},
     "output_type": "display_data"
    },
    {
     "data": {
      "text/html": [
       "\n",
       "<style>\n",
       "    /* Turns off some styling */\n",
       "    progress {\n",
       "        /* gets rid of default border in Firefox and Opera. */\n",
       "        border: none;\n",
       "        /* Needs to be in here for Safari polyfill so background images work as expected. */\n",
       "        background-size: auto;\n",
       "    }\n",
       "    .progress-bar-interrupted, .progress-bar-interrupted::-webkit-progress-bar {\n",
       "        background: #F44336;\n",
       "    }\n",
       "</style>\n"
      ],
      "text/plain": [
       "<IPython.core.display.HTML object>"
      ]
     },
     "metadata": {},
     "output_type": "display_data"
    },
    {
     "data": {
      "text/html": [
       "<table border=\"1\" class=\"dataframe\">\n",
       "  <thead>\n",
       "    <tr style=\"text-align: left;\">\n",
       "      <th>epoch</th>\n",
       "      <th>train_loss</th>\n",
       "      <th>valid_loss</th>\n",
       "      <th>error_rate</th>\n",
       "      <th>time</th>\n",
       "    </tr>\n",
       "  </thead>\n",
       "  <tbody>\n",
       "    <tr>\n",
       "      <td>0</td>\n",
       "      <td>3.155058</td>\n",
       "      <td>2.217402</td>\n",
       "      <td>0.585331</td>\n",
       "      <td>00:38</td>\n",
       "    </tr>\n",
       "  </tbody>\n",
       "</table>"
      ],
      "text/plain": [
       "<IPython.core.display.HTML object>"
      ]
     },
     "metadata": {},
     "output_type": "display_data"
    },
    {
     "data": {
      "text/html": [
       "\n",
       "<style>\n",
       "    /* Turns off some styling */\n",
       "    progress {\n",
       "        /* gets rid of default border in Firefox and Opera. */\n",
       "        border: none;\n",
       "        /* Needs to be in here for Safari polyfill so background images work as expected. */\n",
       "        background-size: auto;\n",
       "    }\n",
       "    .progress-bar-interrupted, .progress-bar-interrupted::-webkit-progress-bar {\n",
       "        background: #F44336;\n",
       "    }\n",
       "</style>\n"
      ],
      "text/plain": [
       "<IPython.core.display.HTML object>"
      ]
     },
     "metadata": {},
     "output_type": "display_data"
    },
    {
     "data": {
      "text/html": [
       "<table border=\"1\" class=\"dataframe\">\n",
       "  <thead>\n",
       "    <tr style=\"text-align: left;\">\n",
       "      <th>epoch</th>\n",
       "      <th>train_loss</th>\n",
       "      <th>valid_loss</th>\n",
       "      <th>error_rate</th>\n",
       "      <th>time</th>\n",
       "    </tr>\n",
       "  </thead>\n",
       "  <tbody>\n",
       "    <tr>\n",
       "      <td>0</td>\n",
       "      <td>1.354779</td>\n",
       "      <td>1.149691</td>\n",
       "      <td>0.328151</td>\n",
       "      <td>00:43</td>\n",
       "    </tr>\n",
       "    <tr>\n",
       "      <td>1</td>\n",
       "      <td>0.688096</td>\n",
       "      <td>0.715962</td>\n",
       "      <td>0.212193</td>\n",
       "      <td>00:45</td>\n",
       "    </tr>\n",
       "    <tr>\n",
       "      <td>2</td>\n",
       "      <td>0.348366</td>\n",
       "      <td>0.545739</td>\n",
       "      <td>0.151011</td>\n",
       "      <td>00:43</td>\n",
       "    </tr>\n",
       "    <tr>\n",
       "      <td>3</td>\n",
       "      <td>0.220869</td>\n",
       "      <td>0.459813</td>\n",
       "      <td>0.123300</td>\n",
       "      <td>00:44</td>\n",
       "    </tr>\n",
       "    <tr>\n",
       "      <td>4</td>\n",
       "      <td>0.156962</td>\n",
       "      <td>0.427036</td>\n",
       "      <td>0.110055</td>\n",
       "      <td>00:45</td>\n",
       "    </tr>\n",
       "    <tr>\n",
       "      <td>5</td>\n",
       "      <td>0.116562</td>\n",
       "      <td>0.404608</td>\n",
       "      <td>0.098107</td>\n",
       "      <td>00:43</td>\n",
       "    </tr>\n",
       "    <tr>\n",
       "      <td>6</td>\n",
       "      <td>0.091828</td>\n",
       "      <td>0.386652</td>\n",
       "      <td>0.092709</td>\n",
       "      <td>00:45</td>\n",
       "    </tr>\n",
       "    <tr>\n",
       "      <td>7</td>\n",
       "      <td>0.074411</td>\n",
       "      <td>0.374308</td>\n",
       "      <td>0.084071</td>\n",
       "      <td>00:45</td>\n",
       "    </tr>\n",
       "    <tr>\n",
       "      <td>8</td>\n",
       "      <td>0.059618</td>\n",
       "      <td>0.371550</td>\n",
       "      <td>0.082775</td>\n",
       "      <td>00:44</td>\n",
       "    </tr>\n",
       "    <tr>\n",
       "      <td>9</td>\n",
       "      <td>0.043980</td>\n",
       "      <td>0.359426</td>\n",
       "      <td>0.077953</td>\n",
       "      <td>00:45</td>\n",
       "    </tr>\n",
       "    <tr>\n",
       "      <td>10</td>\n",
       "      <td>0.036778</td>\n",
       "      <td>0.352877</td>\n",
       "      <td>0.077089</td>\n",
       "      <td>00:45</td>\n",
       "    </tr>\n",
       "    <tr>\n",
       "      <td>11</td>\n",
       "      <td>0.029044</td>\n",
       "      <td>0.346912</td>\n",
       "      <td>0.071763</td>\n",
       "      <td>00:45</td>\n",
       "    </tr>\n",
       "    <tr>\n",
       "      <td>12</td>\n",
       "      <td>0.023805</td>\n",
       "      <td>0.340024</td>\n",
       "      <td>0.069675</td>\n",
       "      <td>00:45</td>\n",
       "    </tr>\n",
       "    <tr>\n",
       "      <td>13</td>\n",
       "      <td>0.022735</td>\n",
       "      <td>0.339246</td>\n",
       "      <td>0.069603</td>\n",
       "      <td>00:45</td>\n",
       "    </tr>\n",
       "    <tr>\n",
       "      <td>14</td>\n",
       "      <td>0.020979</td>\n",
       "      <td>0.339100</td>\n",
       "      <td>0.069459</td>\n",
       "      <td>00:43</td>\n",
       "    </tr>\n",
       "  </tbody>\n",
       "</table>"
      ],
      "text/plain": [
       "<IPython.core.display.HTML object>"
      ]
     },
     "metadata": {},
     "output_type": "display_data"
    },
    {
     "data": {
      "text/html": [
       "\n",
       "<style>\n",
       "    /* Turns off some styling */\n",
       "    progress {\n",
       "        /* gets rid of default border in Firefox and Opera. */\n",
       "        border: none;\n",
       "        /* Needs to be in here for Safari polyfill so background images work as expected. */\n",
       "        background-size: auto;\n",
       "    }\n",
       "    .progress-bar-interrupted, .progress-bar-interrupted::-webkit-progress-bar {\n",
       "        background: #F44336;\n",
       "    }\n",
       "</style>\n"
      ],
      "text/plain": [
       "<IPython.core.display.HTML object>"
      ]
     },
     "metadata": {},
     "output_type": "display_data"
    },
    {
     "data": {
      "text/html": [],
      "text/plain": [
       "<IPython.core.display.HTML object>"
      ]
     },
     "metadata": {},
     "output_type": "display_data"
    },
    {
     "data": {
      "text/html": [
       "\n",
       "<style>\n",
       "    /* Turns off some styling */\n",
       "    progress {\n",
       "        /* gets rid of default border in Firefox and Opera. */\n",
       "        border: none;\n",
       "        /* Needs to be in here for Safari polyfill so background images work as expected. */\n",
       "        background-size: auto;\n",
       "    }\n",
       "    .progress-bar-interrupted, .progress-bar-interrupted::-webkit-progress-bar {\n",
       "        background: #F44336;\n",
       "    }\n",
       "</style>\n"
      ],
      "text/plain": [
       "<IPython.core.display.HTML object>"
      ]
     },
     "metadata": {},
     "output_type": "display_data"
    },
    {
     "data": {
      "text/html": [
       "<table border=\"1\" class=\"dataframe\">\n",
       "  <thead>\n",
       "    <tr style=\"text-align: left;\">\n",
       "      <th>epoch</th>\n",
       "      <th>train_loss</th>\n",
       "      <th>valid_loss</th>\n",
       "      <th>error_rate</th>\n",
       "      <th>time</th>\n",
       "    </tr>\n",
       "  </thead>\n",
       "  <tbody>\n",
       "    <tr>\n",
       "      <td>0</td>\n",
       "      <td>3.158238</td>\n",
       "      <td>2.166784</td>\n",
       "      <td>0.566400</td>\n",
       "      <td>00:39</td>\n",
       "    </tr>\n",
       "  </tbody>\n",
       "</table>"
      ],
      "text/plain": [
       "<IPython.core.display.HTML object>"
      ]
     },
     "metadata": {},
     "output_type": "display_data"
    },
    {
     "data": {
      "text/html": [
       "\n",
       "<style>\n",
       "    /* Turns off some styling */\n",
       "    progress {\n",
       "        /* gets rid of default border in Firefox and Opera. */\n",
       "        border: none;\n",
       "        /* Needs to be in here for Safari polyfill so background images work as expected. */\n",
       "        background-size: auto;\n",
       "    }\n",
       "    .progress-bar-interrupted, .progress-bar-interrupted::-webkit-progress-bar {\n",
       "        background: #F44336;\n",
       "    }\n",
       "</style>\n"
      ],
      "text/plain": [
       "<IPython.core.display.HTML object>"
      ]
     },
     "metadata": {},
     "output_type": "display_data"
    },
    {
     "data": {
      "text/html": [
       "<table border=\"1\" class=\"dataframe\">\n",
       "  <thead>\n",
       "    <tr style=\"text-align: left;\">\n",
       "      <th>epoch</th>\n",
       "      <th>train_loss</th>\n",
       "      <th>valid_loss</th>\n",
       "      <th>error_rate</th>\n",
       "      <th>time</th>\n",
       "    </tr>\n",
       "  </thead>\n",
       "  <tbody>\n",
       "    <tr>\n",
       "      <td>0</td>\n",
       "      <td>1.363437</td>\n",
       "      <td>1.164027</td>\n",
       "      <td>0.332686</td>\n",
       "      <td>00:45</td>\n",
       "    </tr>\n",
       "    <tr>\n",
       "      <td>1</td>\n",
       "      <td>0.688868</td>\n",
       "      <td>0.707417</td>\n",
       "      <td>0.205931</td>\n",
       "      <td>00:45</td>\n",
       "    </tr>\n",
       "    <tr>\n",
       "      <td>2</td>\n",
       "      <td>0.353657</td>\n",
       "      <td>0.527621</td>\n",
       "      <td>0.148996</td>\n",
       "      <td>00:44</td>\n",
       "    </tr>\n",
       "    <tr>\n",
       "      <td>3</td>\n",
       "      <td>0.218487</td>\n",
       "      <td>0.453320</td>\n",
       "      <td>0.124451</td>\n",
       "      <td>00:44</td>\n",
       "    </tr>\n",
       "    <tr>\n",
       "      <td>4</td>\n",
       "      <td>0.160420</td>\n",
       "      <td>0.415241</td>\n",
       "      <td>0.105737</td>\n",
       "      <td>00:45</td>\n",
       "    </tr>\n",
       "    <tr>\n",
       "      <td>5</td>\n",
       "      <td>0.119217</td>\n",
       "      <td>0.388637</td>\n",
       "      <td>0.097963</td>\n",
       "      <td>00:44</td>\n",
       "    </tr>\n",
       "    <tr>\n",
       "      <td>6</td>\n",
       "      <td>0.090382</td>\n",
       "      <td>0.378435</td>\n",
       "      <td>0.090765</td>\n",
       "      <td>00:45</td>\n",
       "    </tr>\n",
       "    <tr>\n",
       "      <td>7</td>\n",
       "      <td>0.074452</td>\n",
       "      <td>0.355894</td>\n",
       "      <td>0.081840</td>\n",
       "      <td>00:44</td>\n",
       "    </tr>\n",
       "    <tr>\n",
       "      <td>8</td>\n",
       "      <td>0.057196</td>\n",
       "      <td>0.367012</td>\n",
       "      <td>0.083351</td>\n",
       "      <td>00:45</td>\n",
       "    </tr>\n",
       "    <tr>\n",
       "      <td>9</td>\n",
       "      <td>0.046580</td>\n",
       "      <td>0.354262</td>\n",
       "      <td>0.076225</td>\n",
       "      <td>00:43</td>\n",
       "    </tr>\n",
       "    <tr>\n",
       "      <td>10</td>\n",
       "      <td>0.034253</td>\n",
       "      <td>0.347382</td>\n",
       "      <td>0.074138</td>\n",
       "      <td>00:45</td>\n",
       "    </tr>\n",
       "    <tr>\n",
       "      <td>11</td>\n",
       "      <td>0.027998</td>\n",
       "      <td>0.345295</td>\n",
       "      <td>0.073994</td>\n",
       "      <td>00:45</td>\n",
       "    </tr>\n",
       "    <tr>\n",
       "      <td>12</td>\n",
       "      <td>0.023722</td>\n",
       "      <td>0.340689</td>\n",
       "      <td>0.071619</td>\n",
       "      <td>00:45</td>\n",
       "    </tr>\n",
       "    <tr>\n",
       "      <td>13</td>\n",
       "      <td>0.020915</td>\n",
       "      <td>0.334846</td>\n",
       "      <td>0.070251</td>\n",
       "      <td>00:44</td>\n",
       "    </tr>\n",
       "    <tr>\n",
       "      <td>14</td>\n",
       "      <td>0.021884</td>\n",
       "      <td>0.333775</td>\n",
       "      <td>0.069819</td>\n",
       "      <td>00:45</td>\n",
       "    </tr>\n",
       "  </tbody>\n",
       "</table>"
      ],
      "text/plain": [
       "<IPython.core.display.HTML object>"
      ]
     },
     "metadata": {},
     "output_type": "display_data"
    },
    {
     "data": {
      "text/html": [
       "\n",
       "<style>\n",
       "    /* Turns off some styling */\n",
       "    progress {\n",
       "        /* gets rid of default border in Firefox and Opera. */\n",
       "        border: none;\n",
       "        /* Needs to be in here for Safari polyfill so background images work as expected. */\n",
       "        background-size: auto;\n",
       "    }\n",
       "    .progress-bar-interrupted, .progress-bar-interrupted::-webkit-progress-bar {\n",
       "        background: #F44336;\n",
       "    }\n",
       "</style>\n"
      ],
      "text/plain": [
       "<IPython.core.display.HTML object>"
      ]
     },
     "metadata": {},
     "output_type": "display_data"
    },
    {
     "data": {
      "text/html": [],
      "text/plain": [
       "<IPython.core.display.HTML object>"
      ]
     },
     "metadata": {},
     "output_type": "display_data"
    },
    {
     "data": {
      "text/html": [
       "\n",
       "<style>\n",
       "    /* Turns off some styling */\n",
       "    progress {\n",
       "        /* gets rid of default border in Firefox and Opera. */\n",
       "        border: none;\n",
       "        /* Needs to be in here for Safari polyfill so background images work as expected. */\n",
       "        background-size: auto;\n",
       "    }\n",
       "    .progress-bar-interrupted, .progress-bar-interrupted::-webkit-progress-bar {\n",
       "        background: #F44336;\n",
       "    }\n",
       "</style>\n"
      ],
      "text/plain": [
       "<IPython.core.display.HTML object>"
      ]
     },
     "metadata": {},
     "output_type": "display_data"
    },
    {
     "data": {
      "text/html": [
       "<table border=\"1\" class=\"dataframe\">\n",
       "  <thead>\n",
       "    <tr style=\"text-align: left;\">\n",
       "      <th>epoch</th>\n",
       "      <th>train_loss</th>\n",
       "      <th>valid_loss</th>\n",
       "      <th>error_rate</th>\n",
       "      <th>time</th>\n",
       "    </tr>\n",
       "  </thead>\n",
       "  <tbody>\n",
       "    <tr>\n",
       "      <td>0</td>\n",
       "      <td>3.171612</td>\n",
       "      <td>2.172088</td>\n",
       "      <td>0.564745</td>\n",
       "      <td>00:39</td>\n",
       "    </tr>\n",
       "  </tbody>\n",
       "</table>"
      ],
      "text/plain": [
       "<IPython.core.display.HTML object>"
      ]
     },
     "metadata": {},
     "output_type": "display_data"
    },
    {
     "data": {
      "text/html": [
       "\n",
       "<style>\n",
       "    /* Turns off some styling */\n",
       "    progress {\n",
       "        /* gets rid of default border in Firefox and Opera. */\n",
       "        border: none;\n",
       "        /* Needs to be in here for Safari polyfill so background images work as expected. */\n",
       "        background-size: auto;\n",
       "    }\n",
       "    .progress-bar-interrupted, .progress-bar-interrupted::-webkit-progress-bar {\n",
       "        background: #F44336;\n",
       "    }\n",
       "</style>\n"
      ],
      "text/plain": [
       "<IPython.core.display.HTML object>"
      ]
     },
     "metadata": {},
     "output_type": "display_data"
    },
    {
     "data": {
      "text/html": [
       "<table border=\"1\" class=\"dataframe\">\n",
       "  <thead>\n",
       "    <tr style=\"text-align: left;\">\n",
       "      <th>epoch</th>\n",
       "      <th>train_loss</th>\n",
       "      <th>valid_loss</th>\n",
       "      <th>error_rate</th>\n",
       "      <th>time</th>\n",
       "    </tr>\n",
       "  </thead>\n",
       "  <tbody>\n",
       "    <tr>\n",
       "      <td>0</td>\n",
       "      <td>1.367343</td>\n",
       "      <td>1.176270</td>\n",
       "      <td>0.335349</td>\n",
       "      <td>00:45</td>\n",
       "    </tr>\n",
       "    <tr>\n",
       "      <td>1</td>\n",
       "      <td>0.692805</td>\n",
       "      <td>0.717707</td>\n",
       "      <td>0.208018</td>\n",
       "      <td>00:45</td>\n",
       "    </tr>\n",
       "    <tr>\n",
       "      <td>2</td>\n",
       "      <td>0.355417</td>\n",
       "      <td>0.528593</td>\n",
       "      <td>0.148924</td>\n",
       "      <td>00:45</td>\n",
       "    </tr>\n",
       "    <tr>\n",
       "      <td>3</td>\n",
       "      <td>0.222534</td>\n",
       "      <td>0.491414</td>\n",
       "      <td>0.134888</td>\n",
       "      <td>00:44</td>\n",
       "    </tr>\n",
       "    <tr>\n",
       "      <td>4</td>\n",
       "      <td>0.154434</td>\n",
       "      <td>0.412076</td>\n",
       "      <td>0.109120</td>\n",
       "      <td>00:44</td>\n",
       "    </tr>\n",
       "    <tr>\n",
       "      <td>5</td>\n",
       "      <td>0.115308</td>\n",
       "      <td>0.409193</td>\n",
       "      <td>0.101418</td>\n",
       "      <td>00:45</td>\n",
       "    </tr>\n",
       "    <tr>\n",
       "      <td>6</td>\n",
       "      <td>0.092664</td>\n",
       "      <td>0.380644</td>\n",
       "      <td>0.092565</td>\n",
       "      <td>00:44</td>\n",
       "    </tr>\n",
       "    <tr>\n",
       "      <td>7</td>\n",
       "      <td>0.071367</td>\n",
       "      <td>0.390106</td>\n",
       "      <td>0.090333</td>\n",
       "      <td>00:45</td>\n",
       "    </tr>\n",
       "    <tr>\n",
       "      <td>8</td>\n",
       "      <td>0.056844</td>\n",
       "      <td>0.362097</td>\n",
       "      <td>0.081048</td>\n",
       "      <td>00:45</td>\n",
       "    </tr>\n",
       "    <tr>\n",
       "      <td>9</td>\n",
       "      <td>0.044513</td>\n",
       "      <td>0.355633</td>\n",
       "      <td>0.077233</td>\n",
       "      <td>00:44</td>\n",
       "    </tr>\n",
       "    <tr>\n",
       "      <td>10</td>\n",
       "      <td>0.032912</td>\n",
       "      <td>0.351247</td>\n",
       "      <td>0.077089</td>\n",
       "      <td>00:44</td>\n",
       "    </tr>\n",
       "    <tr>\n",
       "      <td>11</td>\n",
       "      <td>0.028106</td>\n",
       "      <td>0.344398</td>\n",
       "      <td>0.072698</td>\n",
       "      <td>00:45</td>\n",
       "    </tr>\n",
       "    <tr>\n",
       "      <td>12</td>\n",
       "      <td>0.023998</td>\n",
       "      <td>0.340900</td>\n",
       "      <td>0.070683</td>\n",
       "      <td>00:45</td>\n",
       "    </tr>\n",
       "    <tr>\n",
       "      <td>13</td>\n",
       "      <td>0.024699</td>\n",
       "      <td>0.338752</td>\n",
       "      <td>0.070899</td>\n",
       "      <td>00:45</td>\n",
       "    </tr>\n",
       "    <tr>\n",
       "      <td>14</td>\n",
       "      <td>0.019826</td>\n",
       "      <td>0.338614</td>\n",
       "      <td>0.070755</td>\n",
       "      <td>00:45</td>\n",
       "    </tr>\n",
       "  </tbody>\n",
       "</table>"
      ],
      "text/plain": [
       "<IPython.core.display.HTML object>"
      ]
     },
     "metadata": {},
     "output_type": "display_data"
    },
    {
     "data": {
      "text/html": [
       "\n",
       "<style>\n",
       "    /* Turns off some styling */\n",
       "    progress {\n",
       "        /* gets rid of default border in Firefox and Opera. */\n",
       "        border: none;\n",
       "        /* Needs to be in here for Safari polyfill so background images work as expected. */\n",
       "        background-size: auto;\n",
       "    }\n",
       "    .progress-bar-interrupted, .progress-bar-interrupted::-webkit-progress-bar {\n",
       "        background: #F44336;\n",
       "    }\n",
       "</style>\n"
      ],
      "text/plain": [
       "<IPython.core.display.HTML object>"
      ]
     },
     "metadata": {},
     "output_type": "display_data"
    },
    {
     "data": {
      "text/html": [],
      "text/plain": [
       "<IPython.core.display.HTML object>"
      ]
     },
     "metadata": {},
     "output_type": "display_data"
    }
   ],
   "source": [
    "for i in range(0,20):\n",
    "    learn = vision_learner(dls, resnet50, metrics=[error_rate])\n",
    "    gc.collect()\n",
    "    learn.fine_tune(15)\n",
    "    learn.export(f'speed-limit-experiment/fixed-model-{i}.model')\n",
    "    get_predictions(learn).to_csv(f'speed-limit-experiment/fixed-predictions-{i}.csv')"
   ]
  },
  {
   "cell_type": "markdown",
   "id": "9a612696",
   "metadata": {},
   "source": [
    "## Let's do the analysis"
   ]
  },
  {
   "cell_type": "markdown",
   "id": "d182e313",
   "metadata": {},
   "source": [
    "First let's check the error rates on one of the original models."
   ]
  },
  {
   "cell_type": "code",
   "execution_count": null,
   "id": "5e6959cb",
   "metadata": {},
   "outputs": [],
   "source": [
    "df = pd.read_csv(f'speed-limit-experiment/original-predictions-0.csv', index_col=0)\n",
    "df = pd.concat([data.loc[df.index], df], axis=1)"
   ]
  },
  {
   "cell_type": "code",
   "execution_count": null,
   "id": "e7e708a1",
   "metadata": {},
   "outputs": [
    {
     "data": {
      "text/html": [
       "<div>\n",
       "<style scoped>\n",
       "    .dataframe tbody tr th:only-of-type {\n",
       "        vertical-align: middle;\n",
       "    }\n",
       "\n",
       "    .dataframe tbody tr th {\n",
       "        vertical-align: top;\n",
       "    }\n",
       "\n",
       "    .dataframe thead th {\n",
       "        text-align: right;\n",
       "    }\n",
       "</style>\n",
       "<table border=\"1\" class=\"dataframe\">\n",
       "  <thead>\n",
       "    <tr style=\"text-align: right;\">\n",
       "      <th></th>\n",
       "      <th>fname</th>\n",
       "      <th>label</th>\n",
       "      <th>photo_id</th>\n",
       "      <th>new_label</th>\n",
       "      <th>valid</th>\n",
       "      <th>orig_errs</th>\n",
       "      <th>fixed_errs</th>\n",
       "      <th>pred</th>\n",
       "      <th>loss</th>\n",
       "    </tr>\n",
       "  </thead>\n",
       "  <tbody>\n",
       "    <tr>\n",
       "      <th>yolo-bbox-crops-aspects/regulatory--maximum-speed-limit-120--g1/2fLoo6nvIZt8D7hwnUAyPw-2.jpg</th>\n",
       "      <td>yolo-bbox-crops-aspects/regulatory--maximum-speed-limit-120--g1/2fLoo6nvIZt8D7hwnUAyPw-2.jpg</td>\n",
       "      <td>regulatory--maximum-speed-limit-120--g1</td>\n",
       "      <td>2fLoo6nvIZt8D7hwnUAyPw</td>\n",
       "      <td>invalid</td>\n",
       "      <td>True</td>\n",
       "      <td>0.0</td>\n",
       "      <td>NaN</td>\n",
       "      <td>regulatory--maximum-speed-limit-120--g1</td>\n",
       "      <td>-0.055474</td>\n",
       "    </tr>\n",
       "    <tr>\n",
       "      <th>yolo-bbox-crops-aspects/regulatory--maximum-speed-limit-70--g1/wd2sOhwuL6iY4Av5_5wFuA-4.jpg</th>\n",
       "      <td>yolo-bbox-crops-aspects/regulatory--maximum-speed-limit-70--g1/wd2sOhwuL6iY4Av5_5wFuA-4.jpg</td>\n",
       "      <td>regulatory--maximum-speed-limit-70--g1</td>\n",
       "      <td>wd2sOhwuL6iY4Av5_5wFuA</td>\n",
       "      <td>invalid</td>\n",
       "      <td>True</td>\n",
       "      <td>0.0</td>\n",
       "      <td>NaN</td>\n",
       "      <td>regulatory--maximum-speed-limit-70--g1</td>\n",
       "      <td>-0.002409</td>\n",
       "    </tr>\n",
       "    <tr>\n",
       "      <th>yolo-bbox-crops-aspects/regulatory--maximum-speed-limit-70--g1/YX-kKnj_qcx6ahJaTMeQ_Q-2.jpg</th>\n",
       "      <td>yolo-bbox-crops-aspects/regulatory--maximum-speed-limit-70--g1/YX-kKnj_qcx6ahJaTMeQ_Q-2.jpg</td>\n",
       "      <td>regulatory--maximum-speed-limit-70--g1</td>\n",
       "      <td>YX-kKnj_qcx6ahJaTMeQ_Q</td>\n",
       "      <td>invalid</td>\n",
       "      <td>True</td>\n",
       "      <td>0.0</td>\n",
       "      <td>NaN</td>\n",
       "      <td>regulatory--maximum-speed-limit-70--g1</td>\n",
       "      <td>-0.001256</td>\n",
       "    </tr>\n",
       "    <tr>\n",
       "      <th>yolo-bbox-crops-aspects/regulatory--maximum-speed-limit-60--g1/6YTKge0mwQoEOqVoX8bQrQ-8.jpg</th>\n",
       "      <td>yolo-bbox-crops-aspects/regulatory--maximum-speed-limit-60--g1/6YTKge0mwQoEOqVoX8bQrQ-8.jpg</td>\n",
       "      <td>regulatory--maximum-speed-limit-60--g1</td>\n",
       "      <td>6YTKge0mwQoEOqVoX8bQrQ</td>\n",
       "      <td>invalid</td>\n",
       "      <td>True</td>\n",
       "      <td>0.0</td>\n",
       "      <td>NaN</td>\n",
       "      <td>regulatory--maximum-speed-limit-60--g1</td>\n",
       "      <td>-0.020788</td>\n",
       "    </tr>\n",
       "    <tr>\n",
       "      <th>yolo-bbox-crops-aspects/regulatory--maximum-speed-limit-60--g1/DvyzaUJFVpm2m4TCFe9XZg-5.jpg</th>\n",
       "      <td>yolo-bbox-crops-aspects/regulatory--maximum-speed-limit-60--g1/DvyzaUJFVpm2m4TCFe9XZg-5.jpg</td>\n",
       "      <td>regulatory--maximum-speed-limit-60--g1</td>\n",
       "      <td>DvyzaUJFVpm2m4TCFe9XZg</td>\n",
       "      <td>invalid</td>\n",
       "      <td>True</td>\n",
       "      <td>0.0</td>\n",
       "      <td>NaN</td>\n",
       "      <td>regulatory--maximum-speed-limit-60--g1</td>\n",
       "      <td>-0.016922</td>\n",
       "    </tr>\n",
       "  </tbody>\n",
       "</table>\n",
       "</div>"
      ],
      "text/plain": [
       "                                                                                                                                                                                     fname  \\\n",
       "yolo-bbox-crops-aspects/regulatory--maximum-speed-limit-120--g1/2fLoo6nvIZt8D7hwnUAyPw-2.jpg  yolo-bbox-crops-aspects/regulatory--maximum-speed-limit-120--g1/2fLoo6nvIZt8D7hwnUAyPw-2.jpg   \n",
       "yolo-bbox-crops-aspects/regulatory--maximum-speed-limit-70--g1/wd2sOhwuL6iY4Av5_5wFuA-4.jpg    yolo-bbox-crops-aspects/regulatory--maximum-speed-limit-70--g1/wd2sOhwuL6iY4Av5_5wFuA-4.jpg   \n",
       "yolo-bbox-crops-aspects/regulatory--maximum-speed-limit-70--g1/YX-kKnj_qcx6ahJaTMeQ_Q-2.jpg    yolo-bbox-crops-aspects/regulatory--maximum-speed-limit-70--g1/YX-kKnj_qcx6ahJaTMeQ_Q-2.jpg   \n",
       "yolo-bbox-crops-aspects/regulatory--maximum-speed-limit-60--g1/6YTKge0mwQoEOqVoX8bQrQ-8.jpg    yolo-bbox-crops-aspects/regulatory--maximum-speed-limit-60--g1/6YTKge0mwQoEOqVoX8bQrQ-8.jpg   \n",
       "yolo-bbox-crops-aspects/regulatory--maximum-speed-limit-60--g1/DvyzaUJFVpm2m4TCFe9XZg-5.jpg    yolo-bbox-crops-aspects/regulatory--maximum-speed-limit-60--g1/DvyzaUJFVpm2m4TCFe9XZg-5.jpg   \n",
       "\n",
       "                                                                                                                                label  \\\n",
       "yolo-bbox-crops-aspects/regulatory--maximum-speed-limit-120--g1/2fLoo6nvIZt8D7hwnUAyPw-2.jpg  regulatory--maximum-speed-limit-120--g1   \n",
       "yolo-bbox-crops-aspects/regulatory--maximum-speed-limit-70--g1/wd2sOhwuL6iY4Av5_5wFuA-4.jpg    regulatory--maximum-speed-limit-70--g1   \n",
       "yolo-bbox-crops-aspects/regulatory--maximum-speed-limit-70--g1/YX-kKnj_qcx6ahJaTMeQ_Q-2.jpg    regulatory--maximum-speed-limit-70--g1   \n",
       "yolo-bbox-crops-aspects/regulatory--maximum-speed-limit-60--g1/6YTKge0mwQoEOqVoX8bQrQ-8.jpg    regulatory--maximum-speed-limit-60--g1   \n",
       "yolo-bbox-crops-aspects/regulatory--maximum-speed-limit-60--g1/DvyzaUJFVpm2m4TCFe9XZg-5.jpg    regulatory--maximum-speed-limit-60--g1   \n",
       "\n",
       "                                                                                                            photo_id  \\\n",
       "yolo-bbox-crops-aspects/regulatory--maximum-speed-limit-120--g1/2fLoo6nvIZt8D7hwnUAyPw-2.jpg  2fLoo6nvIZt8D7hwnUAyPw   \n",
       "yolo-bbox-crops-aspects/regulatory--maximum-speed-limit-70--g1/wd2sOhwuL6iY4Av5_5wFuA-4.jpg   wd2sOhwuL6iY4Av5_5wFuA   \n",
       "yolo-bbox-crops-aspects/regulatory--maximum-speed-limit-70--g1/YX-kKnj_qcx6ahJaTMeQ_Q-2.jpg   YX-kKnj_qcx6ahJaTMeQ_Q   \n",
       "yolo-bbox-crops-aspects/regulatory--maximum-speed-limit-60--g1/6YTKge0mwQoEOqVoX8bQrQ-8.jpg   6YTKge0mwQoEOqVoX8bQrQ   \n",
       "yolo-bbox-crops-aspects/regulatory--maximum-speed-limit-60--g1/DvyzaUJFVpm2m4TCFe9XZg-5.jpg   DvyzaUJFVpm2m4TCFe9XZg   \n",
       "\n",
       "                                                                                             new_label  \\\n",
       "yolo-bbox-crops-aspects/regulatory--maximum-speed-limit-120--g1/2fLoo6nvIZt8D7hwnUAyPw-2.jpg   invalid   \n",
       "yolo-bbox-crops-aspects/regulatory--maximum-speed-limit-70--g1/wd2sOhwuL6iY4Av5_5wFuA-4.jpg    invalid   \n",
       "yolo-bbox-crops-aspects/regulatory--maximum-speed-limit-70--g1/YX-kKnj_qcx6ahJaTMeQ_Q-2.jpg    invalid   \n",
       "yolo-bbox-crops-aspects/regulatory--maximum-speed-limit-60--g1/6YTKge0mwQoEOqVoX8bQrQ-8.jpg    invalid   \n",
       "yolo-bbox-crops-aspects/regulatory--maximum-speed-limit-60--g1/DvyzaUJFVpm2m4TCFe9XZg-5.jpg    invalid   \n",
       "\n",
       "                                                                                              valid  \\\n",
       "yolo-bbox-crops-aspects/regulatory--maximum-speed-limit-120--g1/2fLoo6nvIZt8D7hwnUAyPw-2.jpg   True   \n",
       "yolo-bbox-crops-aspects/regulatory--maximum-speed-limit-70--g1/wd2sOhwuL6iY4Av5_5wFuA-4.jpg    True   \n",
       "yolo-bbox-crops-aspects/regulatory--maximum-speed-limit-70--g1/YX-kKnj_qcx6ahJaTMeQ_Q-2.jpg    True   \n",
       "yolo-bbox-crops-aspects/regulatory--maximum-speed-limit-60--g1/6YTKge0mwQoEOqVoX8bQrQ-8.jpg    True   \n",
       "yolo-bbox-crops-aspects/regulatory--maximum-speed-limit-60--g1/DvyzaUJFVpm2m4TCFe9XZg-5.jpg    True   \n",
       "\n",
       "                                                                                              orig_errs  \\\n",
       "yolo-bbox-crops-aspects/regulatory--maximum-speed-limit-120--g1/2fLoo6nvIZt8D7hwnUAyPw-2.jpg        0.0   \n",
       "yolo-bbox-crops-aspects/regulatory--maximum-speed-limit-70--g1/wd2sOhwuL6iY4Av5_5wFuA-4.jpg         0.0   \n",
       "yolo-bbox-crops-aspects/regulatory--maximum-speed-limit-70--g1/YX-kKnj_qcx6ahJaTMeQ_Q-2.jpg         0.0   \n",
       "yolo-bbox-crops-aspects/regulatory--maximum-speed-limit-60--g1/6YTKge0mwQoEOqVoX8bQrQ-8.jpg         0.0   \n",
       "yolo-bbox-crops-aspects/regulatory--maximum-speed-limit-60--g1/DvyzaUJFVpm2m4TCFe9XZg-5.jpg         0.0   \n",
       "\n",
       "                                                                                              fixed_errs  \\\n",
       "yolo-bbox-crops-aspects/regulatory--maximum-speed-limit-120--g1/2fLoo6nvIZt8D7hwnUAyPw-2.jpg         NaN   \n",
       "yolo-bbox-crops-aspects/regulatory--maximum-speed-limit-70--g1/wd2sOhwuL6iY4Av5_5wFuA-4.jpg          NaN   \n",
       "yolo-bbox-crops-aspects/regulatory--maximum-speed-limit-70--g1/YX-kKnj_qcx6ahJaTMeQ_Q-2.jpg          NaN   \n",
       "yolo-bbox-crops-aspects/regulatory--maximum-speed-limit-60--g1/6YTKge0mwQoEOqVoX8bQrQ-8.jpg          NaN   \n",
       "yolo-bbox-crops-aspects/regulatory--maximum-speed-limit-60--g1/DvyzaUJFVpm2m4TCFe9XZg-5.jpg          NaN   \n",
       "\n",
       "                                                                                                                                 pred  \\\n",
       "yolo-bbox-crops-aspects/regulatory--maximum-speed-limit-120--g1/2fLoo6nvIZt8D7hwnUAyPw-2.jpg  regulatory--maximum-speed-limit-120--g1   \n",
       "yolo-bbox-crops-aspects/regulatory--maximum-speed-limit-70--g1/wd2sOhwuL6iY4Av5_5wFuA-4.jpg    regulatory--maximum-speed-limit-70--g1   \n",
       "yolo-bbox-crops-aspects/regulatory--maximum-speed-limit-70--g1/YX-kKnj_qcx6ahJaTMeQ_Q-2.jpg    regulatory--maximum-speed-limit-70--g1   \n",
       "yolo-bbox-crops-aspects/regulatory--maximum-speed-limit-60--g1/6YTKge0mwQoEOqVoX8bQrQ-8.jpg    regulatory--maximum-speed-limit-60--g1   \n",
       "yolo-bbox-crops-aspects/regulatory--maximum-speed-limit-60--g1/DvyzaUJFVpm2m4TCFe9XZg-5.jpg    regulatory--maximum-speed-limit-60--g1   \n",
       "\n",
       "                                                                                                  loss  \n",
       "yolo-bbox-crops-aspects/regulatory--maximum-speed-limit-120--g1/2fLoo6nvIZt8D7hwnUAyPw-2.jpg -0.055474  \n",
       "yolo-bbox-crops-aspects/regulatory--maximum-speed-limit-70--g1/wd2sOhwuL6iY4Av5_5wFuA-4.jpg  -0.002409  \n",
       "yolo-bbox-crops-aspects/regulatory--maximum-speed-limit-70--g1/YX-kKnj_qcx6ahJaTMeQ_Q-2.jpg  -0.001256  \n",
       "yolo-bbox-crops-aspects/regulatory--maximum-speed-limit-60--g1/6YTKge0mwQoEOqVoX8bQrQ-8.jpg  -0.020788  \n",
       "yolo-bbox-crops-aspects/regulatory--maximum-speed-limit-60--g1/DvyzaUJFVpm2m4TCFe9XZg-5.jpg  -0.016922  "
      ]
     },
     "execution_count": null,
     "metadata": {},
     "output_type": "execute_result"
    }
   ],
   "source": [
    "df[df['new_label'] == 'invalid'].head()"
   ]
  },
  {
   "cell_type": "code",
   "execution_count": null,
   "id": "ac291a9f",
   "metadata": {},
   "outputs": [
    {
     "name": "stdout",
     "output_type": "stream",
     "text": [
      "7.28 %\n"
     ]
    }
   ],
   "source": [
    "# Overall prediction error rate\n",
    "print(f\"{(df['label'] != df['pred']).mean() * 100:.2f} %\")"
   ]
  },
  {
   "cell_type": "code",
   "execution_count": null,
   "id": "77816613",
   "metadata": {},
   "outputs": [
    {
     "name": "stdout",
     "output_type": "stream",
     "text": [
      "8.79 %\n"
     ]
    }
   ],
   "source": [
    "# Prediction error rate for speed limits (ignoring the ones we deemed invalid)\n",
    "speed_limits = df[df['new_label'].str.contains('speed')]\n",
    "print(f\"{(speed_limits['label'] != speed_limits['pred']).mean() * 100:.2f} %\")"
   ]
  },
  {
   "cell_type": "code",
   "execution_count": null,
   "id": "825e385a",
   "metadata": {},
   "outputs": [],
   "source": [
    "def load_preds(fname):\n",
    "    df = pd.read_csv(fname, index_col=0)\n",
    "    return pd.concat([data.loc[df.index], df], axis=1)\n",
    "    \n",
    "def calc_error_rate(df):\n",
    "    return (df['label'] != df['pred']).mean()\n",
    "\n",
    "def calc_stats(fname):\n",
    "    df = load_preds(fname)\n",
    "    sel = df['label'].str.contains('speed')\n",
    "    return calc_error_rate(df), calc_error_rate(df[sel]), calc_error_rate(df[(~sel)])"
   ]
  },
  {
   "cell_type": "code",
   "execution_count": null,
   "id": "f7a43050",
   "metadata": {},
   "outputs": [],
   "source": [
    "orig_errs = np.array([calc_stats(f'speed-limit-experiment/original-predictions-{i}.csv') for i in range(20)])"
   ]
  },
  {
   "cell_type": "code",
   "execution_count": null,
   "id": "ca3f9b87",
   "metadata": {},
   "outputs": [],
   "source": [
    "fixed_errs = np.array([calc_stats(f'speed-limit-experiment/fixed-predictions-{i}.csv') for i in range(20)])"
   ]
  },
  {
   "cell_type": "markdown",
   "id": "829d4e55",
   "metadata": {},
   "source": [
    "## The results"
   ]
  },
  {
   "cell_type": "code",
   "execution_count": null,
   "id": "e669d295",
   "metadata": {},
   "outputs": [
    {
     "name": "stdout",
     "output_type": "stream",
     "text": [
      "The speed limits signs are 3.70% of the whole dataset\n",
      "and we corrected 2.97% of these\n",
      "so we fixed the labels for 0.11% of all the traffic signs.\n"
     ]
    }
   ],
   "source": [
    "# Some population statistics\n",
    "speed_sel = data['label'].str.contains('speed')\n",
    "print(f\"\"\"\\\n",
    "The speed limits signs are {(data['label'].str.contains('speed')).mean() * 100:.2f}% of the whole dataset\n",
    "and we corrected {(data.loc[speed_sel, 'new_label'] == 'invalid').mean() * 100:.2f}% of these\n",
    "so we fixed the labels for {(data['new_label'] == 'invalid').mean() * 100:.2f}% of all the traffic signs.\"\"\")"
   ]
  },
  {
   "cell_type": "code",
   "execution_count": null,
   "id": "0006dda1",
   "metadata": {},
   "outputs": [
    {
     "name": "stdout",
     "output_type": "stream",
     "text": [
      "The total model error rate went down from 7.28 to 7.05 (by 0.23)\n"
     ]
    },
    {
     "data": {
      "image/png": "[encoded data removed]",
      "text/plain": [
       "<Figure size 432x288 with 1 Axes>"
      ]
     },
     "metadata": {
      "needs_background": "light"
     },
     "output_type": "display_data"
    }
   ],
   "source": [
    "err = orig_errs[:,0].mean() * 100, fixed_errs[:,0].mean() * 100\n",
    "print(f\"The total model error rate went down from {err[0]:.2f} to {err[1]:.2f} (by {err[0] - err[1]:.2f})\")\n",
    "plt.hist([orig_errs[:,0] * 100, fixed_errs[:,0] * 100], bins=5, label=['orig','fixed']); plt.legend();"
   ]
  },
  {
   "cell_type": "code",
   "execution_count": null,
   "id": "d6599b11",
   "metadata": {},
   "outputs": [
    {
     "name": "stdout",
     "output_type": "stream",
     "text": [
      "The model error rate for speed signs went down from 10.42 to 8.49 (by 1.93)\n"
     ]
    },
    {
     "data": {
      "image/png": "[encoded data removed]",
      "text/plain": [
       "<Figure size 432x288 with 1 Axes>"
      ]
     },
     "metadata": {
      "needs_background": "light"
     },
     "output_type": "display_data"
    }
   ],
   "source": [
    "err = orig_errs[:,1].mean() * 100, fixed_errs[:,1].mean() * 100\n",
    "print(f\"The model error rate for speed signs went down from {err[0]:.2f} to {err[1]:.2f} (by {err[0] - err[1]:.2f})\")\n",
    "plt.hist([orig_errs[:,1] * 100, fixed_errs[:,1] * 100], bins=5, label=['orig','fixed']); plt.legend();"
   ]
  },
  {
   "cell_type": "code",
   "execution_count": null,
   "id": "b61165c4",
   "metadata": {},
   "outputs": [
    {
     "name": "stdout",
     "output_type": "stream",
     "text": [
      "The model error rate for all the other signs went down from 6.90 to 6.88 (by 0.02)\n"
     ]
    },
    {
     "data": {
      "image/png": "[encoded data removed]",
      "text/plain": [
       "<Figure size 432x288 with 1 Axes>"
      ]
     },
     "metadata": {
      "needs_background": "light"
     },
     "output_type": "display_data"
    }
   ],
   "source": [
    "err = orig_errs[:,2].mean() * 100, fixed_errs[:,2].mean() * 100\n",
    "print(f\"The model error rate for all the other signs went {'down' if err[0] > err[1] else 'up'} from {err[0]:.2f} to {err[1]:.2f} (by {err[0] - err[1]:.2f})\")\n",
    "plt.hist([orig_errs[:,2] * 100, fixed_errs[:,2] * 100], bins=5, label=['orig','fixed']); plt.legend();"
   ]
  },
  {
   "cell_type": "code",
   "execution_count": null,
   "id": "56b9aa09",
   "metadata": {},
   "outputs": [],
   "source": []
  }
 ],
 "metadata": {
  "kernelspec": {
   "display_name": "Python 3 (ipykernel)",
   "language": "python",
   "name": "python3"
  }
 },
 "nbformat": 4,
 "nbformat_minor": 5
}
