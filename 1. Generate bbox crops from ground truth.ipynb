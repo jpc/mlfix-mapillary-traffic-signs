{
 "cells": [
  {
   "cell_type": "markdown",
   "id": "dc0a1067",
   "metadata": {},
   "source": [
    "# Generate bbox crops from ground truth"
   ]
  },
  {
   "cell_type": "code",
   "execution_count": null,
   "id": "17c2ec5b",
   "metadata": {},
   "outputs": [],
   "source": [
    "from fastai.vision.all import *"
   ]
  },
  {
   "cell_type": "markdown",
   "id": "a79dc8a0",
   "metadata": {},
   "source": [
    "Download the dataset from https://www.mapillary.com/dataset/trafficsign (unfortunatelly manually – you need to provide your name and accept the license) and unpack them somewhere (see `path` below).\n",
    "\n",
    "We will need these files:\n",
    "- mtsd_fully_annotated_annotation.zip\n",
    "- mtsd_fully_annotated_images.test.zip\n",
    "- mtsd_fully_annotated_images.train.0.zip\n",
    "- mtsd_fully_annotated_images.train.1.zip\n",
    "- mtsd_fully_annotated_images.train.2.zip\n",
    "- mtsd_fully_annotated_images.val.zip"
   ]
  },
  {
   "cell_type": "code",
   "execution_count": null,
   "id": "8d824822",
   "metadata": {},
   "outputs": [],
   "source": [
    "# Mapillary dataset path:\n",
    "path = Path('.')\n",
    "# Where to put the cropped traffic signs (in separate subfolders for each label):\n",
    "outpath = Path('yolo-bbox-crops-aspects')"
   ]
  },
  {
   "cell_type": "markdown",
   "id": "0d001842",
   "metadata": {},
   "source": [
    "Let's do a quick sanity check on the unpacked data:"
   ]
  },
  {
   "cell_type": "code",
   "execution_count": null,
   "id": "d6b130b6",
   "metadata": {},
   "outputs": [],
   "source": [
    "if not (path/'mtsd_v2_fully_annotated/splits/val.txt').exists():\n",
    "    raise IOError(f\"Missing Mapillary annotations, please unpack them to: {path.absolute()}\")"
   ]
  },
  {
   "cell_type": "code",
   "execution_count": null,
   "id": "9971d937",
   "metadata": {},
   "outputs": [],
   "source": [
    "if not (path/'images/--48MAqc82-bZdgGpaiexA.jpg').exists():\n",
    "    raise IOError(f\"Missing Mapillary images, please unpack them to: {path.absolute()}\")"
   ]
  },
  {
   "cell_type": "code",
   "execution_count": null,
   "id": "8d56d693",
   "metadata": {},
   "outputs": [],
   "source": [
    "with open(path/'mtsd_v2_fully_annotated/splits/train.txt', 'r') as f:\n",
    "    trnidx = [x.strip() for x in f.readlines()]\n",
    "with open(path/'mtsd_v2_fully_annotated/splits/val.txt', 'r') as f:\n",
    "    validx = [x.strip() for x in f.readlines()]"
   ]
  },
  {
   "cell_type": "markdown",
   "id": "8711fa91",
   "metadata": {},
   "source": [
    "## Loading the bounding box annotations"
   ]
  },
  {
   "cell_type": "code",
   "execution_count": null,
   "id": "016f4abe",
   "metadata": {},
   "outputs": [],
   "source": [
    "def read_mapillary_annotation(idx):\n",
    "    with open(Path('mtsd_v2_fully_annotated/annotations')/(idx+'.json')) as fd:\n",
    "        anno = json.load(fd)\n",
    "    \n",
    "    w,h = float(anno['width']), float(anno['height'])\n",
    "        \n",
    "    labels = []\n",
    "    bboxes = []\n",
    "    \n",
    "    for obj in anno['objects']:\n",
    "        bbox = obj['bbox']\n",
    "        bboxes.append([bbox['xmin'], bbox['ymin'], bbox['xmax'], bbox['ymax']])\n",
    "        labels.append(obj['label'])\n",
    "    return dict(\n",
    "        idx = idx, w = w, h = h, pano = anno['ispano'],\n",
    "        labels = np.array(labels),\n",
    "        bboxes = np.array(bboxes),\n",
    "    )"
   ]
  },
  {
   "cell_type": "code",
   "execution_count": null,
   "id": "aef1caab",
   "metadata": {},
   "outputs": [
    {
     "data": {
      "text/plain": [
       "{'idx': 'aVuSPwmImhhe01o_hJm7IA',\n",
       " 'w': 3264.0,\n",
       " 'h': 2448.0,\n",
       " 'pano': False,\n",
       " 'labels': array(['warning--traffic-merges-right--g1',\n",
       "        'warning--added-lane-right--g1'], dtype='<U33'),\n",
       " 'bboxes': array([[1529.203125  , 1829.42578125, 1602.515625  , 1904.1328125 ],\n",
       "        [2209.734375  , 1893.97265625, 2259.140625  , 1942.98046875]])}"
      ]
     },
     "execution_count": null,
     "metadata": {},
     "output_type": "execute_result"
    }
   ],
   "source": [
    "read_mapillary_annotation(trnidx[0])"
   ]
  },
  {
   "cell_type": "markdown",
   "id": "f46553af",
   "metadata": {},
   "source": [
    "Calculating width and height – we'll need it to get the aspect ratio of each sign. We are resizing (squishing) every sign into a 40x40 pixels square so remembering the original aspect ratio might be helpful."
   ]
  },
  {
   "cell_type": "code",
   "execution_count": null,
   "id": "eb55296a",
   "metadata": {},
   "outputs": [],
   "source": [
    "bboxes = read_mapillary_annotation(trnidx[0])['bboxes']"
   ]
  },
  {
   "cell_type": "code",
   "execution_count": null,
   "id": "00c2a26f",
   "metadata": {},
   "outputs": [
    {
     "data": {
      "text/plain": [
       "array([[73.3125    , 74.70703125],\n",
       "       [49.40625   , 49.0078125 ]])"
      ]
     },
     "execution_count": null,
     "metadata": {},
     "output_type": "execute_result"
    }
   ],
   "source": [
    "wh = bboxes[:,2:] - bboxes[:,:2]\n",
    "wh"
   ]
  },
  {
   "cell_type": "code",
   "execution_count": null,
   "id": "5deb4805",
   "metadata": {},
   "outputs": [],
   "source": [
    "def create_crops(annotation, output_size=(40,40)):\n",
    "    aspects = {}\n",
    "    img = Image.open(f\"images/{annotation['idx']}.jpg\")\n",
    "    for i, (bbox, label) in enumerate(zip(annotation['bboxes'], annotation['labels'])):\n",
    "        try:\n",
    "            wh = bbox[2:] - bbox[:2]\n",
    "            size = np.exp(np.log(wh).mean(-1))\n",
    "            !mkdir -p {outpath}/{label}\n",
    "            name = f\"{label}/{annotation['idx']}-{i}.jpg\"\n",
    "            aspects[name] = wh[0]/wh[1]\n",
    "            img.crop(bbox).resize(output_size).save(f\"{outpath}/{name}\")\n",
    "        except:\n",
    "            print(f\"Skipping {annotation['idx']}-{i} / {label}\")\n",
    "    return aspects"
   ]
  },
  {
   "cell_type": "markdown",
   "id": "85cfe2c7",
   "metadata": {},
   "source": [
    "First let's verify it works for just a couple of images:"
   ]
  },
  {
   "cell_type": "code",
   "execution_count": null,
   "id": "a5174f2b",
   "metadata": {},
   "outputs": [
    {
     "name": "stdout",
     "output_type": "stream",
     "text": [
      "rm: cannot remove 'yolo-bbox-crops-aspects': No such file or directory\r\n"
     ]
    }
   ],
   "source": [
    "!rm -r {outpath}"
   ]
  },
  {
   "cell_type": "code",
   "execution_count": null,
   "id": "9a0c99ae",
   "metadata": {},
   "outputs": [
    {
     "data": {
      "text/plain": [
       "{'warning--traffic-merges-right--g1/aVuSPwmImhhe01o_hJm7IA-0.jpg': 0.9813333333333333,\n",
       " 'warning--added-lane-right--g1/aVuSPwmImhhe01o_hJm7IA-1.jpg': 1.008130081300813,\n",
       " 'warning--playground--g1/cydOiChUMzcddBqofGmlYQ-0.jpg': 0.9863013698630136,\n",
       " 'other-sign/iMeyPoRIiG_jtafHEXkNuA-0.jpg': 0.96045197740113,\n",
       " 'other-sign/iMeyPoRIiG_jtafHEXkNuA-1.jpg': 0.6654252017380509,\n",
       " 'other-sign/yBt7KOsmqzNZr9dK9FOdAA-0.jpg': 1.7851239669421488,\n",
       " 'other-sign/yBt7KOsmqzNZr9dK9FOdAA-1.jpg': 2.3655913978494625,\n",
       " 'other-sign/lWhwLkHcnSv7KS9IvK_4pw-0.jpg': 1.2941176470588236,\n",
       " 'other-sign/lWhwLkHcnSv7KS9IvK_4pw-1.jpg': 1.4054054054054055,\n",
       " 'other-sign/lWhwLkHcnSv7KS9IvK_4pw-2.jpg': 1.0747782002534854}"
      ]
     },
     "execution_count": null,
     "metadata": {},
     "output_type": "execute_result"
    }
   ],
   "source": [
    "aspects = {k:v for idx in trnidx[:5] for k,v in create_crops(read_mapillary_annotation(idx)).items()}\n",
    "aspects"
   ]
  },
  {
   "cell_type": "code",
   "execution_count": null,
   "id": "68930438",
   "metadata": {},
   "outputs": [
    {
     "name": "stdout",
     "output_type": "stream",
     "text": [
      "yolo-bbox-crops-aspects:\r\n",
      "total 16\r\n",
      "drwxrwxr-x 2 jpc jpc 4096 Jul 20 18:17 other-sign\r\n",
      "drwxrwxr-x 2 jpc jpc 4096 Jul 20 18:17 warning--added-lane-right--g1\r\n",
      "drwxrwxr-x 2 jpc jpc 4096 Jul 20 18:17 warning--playground--g1\r\n",
      "drwxrwxr-x 2 jpc jpc 4096 Jul 20 18:17 warning--traffic-merges-right--g1\r\n",
      "\r\n",
      "yolo-bbox-crops-aspects/other-sign:\r\n",
      "total 28\r\n",
      "-rw-rw-r-- 1 jpc jpc  878 Jul 20 18:17 iMeyPoRIiG_jtafHEXkNuA-0.jpg\r\n",
      "-rw-rw-r-- 1 jpc jpc  966 Jul 20 18:17 iMeyPoRIiG_jtafHEXkNuA-1.jpg\r\n",
      "-rw-rw-r-- 1 jpc jpc 1076 Jul 20 18:17 lWhwLkHcnSv7KS9IvK_4pw-0.jpg\r\n",
      "-rw-rw-r-- 1 jpc jpc 1007 Jul 20 18:17 lWhwLkHcnSv7KS9IvK_4pw-1.jpg\r\n",
      "-rw-rw-r-- 1 jpc jpc 1125 Jul 20 18:17 lWhwLkHcnSv7KS9IvK_4pw-2.jpg\r\n",
      "-rw-rw-r-- 1 jpc jpc 1051 Jul 20 18:17 yBt7KOsmqzNZr9dK9FOdAA-0.jpg\r\n",
      "-rw-rw-r-- 1 jpc jpc  989 Jul 20 18:17 yBt7KOsmqzNZr9dK9FOdAA-1.jpg\r\n",
      "\r\n",
      "yolo-bbox-crops-aspects/warning--added-lane-right--g1:\r\n",
      "total 4\r\n",
      "-rw-rw-r-- 1 jpc jpc 1189 Jul 20 18:17 aVuSPwmImhhe01o_hJm7IA-1.jpg\r\n",
      "\r\n",
      "yolo-bbox-crops-aspects/warning--playground--g1:\r\n",
      "total 4\r\n",
      "-rw-rw-r-- 1 jpc jpc 970 Jul 20 18:17 cydOiChUMzcddBqofGmlYQ-0.jpg\r\n",
      "\r\n",
      "yolo-bbox-crops-aspects/warning--traffic-merges-right--g1:\r\n",
      "total 4\r\n",
      "-rw-rw-r-- 1 jpc jpc 1191 Jul 20 18:17 aVuSPwmImhhe01o_hJm7IA-0.jpg\r\n"
     ]
    }
   ],
   "source": [
    "!ls -lR {outpath}"
   ]
  },
  {
   "cell_type": "code",
   "execution_count": null,
   "id": "c018f98e",
   "metadata": {},
   "outputs": [
    {
     "name": "stdout",
     "output_type": "stream",
     "text": [
      "warning--traffic-merges-right--g1/aVuSPwmImhhe01o_hJm7IA-0.jpg\n",
      "0.9813333333333333\n"
     ]
    },
    {
     "data": {
      "image/png": "[encoded data removed]",
      "text/plain": [
       "<PIL.JpegImagePlugin.JpegImageFile image mode=RGB size=40x40>"
      ]
     },
     "execution_count": null,
     "metadata": {},
     "output_type": "execute_result"
    }
   ],
   "source": [
    "crop = list(aspects.keys())[0]\n",
    "print(crop)\n",
    "print(aspects[crop])\n",
    "Image.open(f\"{outpath}/{crop}\")"
   ]
  },
  {
   "cell_type": "markdown",
   "id": "868b7a69",
   "metadata": {},
   "source": [
    "## Generating all the cropped signs (in parallel)"
   ]
  },
  {
   "cell_type": "code",
   "execution_count": null,
   "id": "73695b93",
   "metadata": {},
   "outputs": [],
   "source": [
    "!rm -r {outpath}"
   ]
  },
  {
   "cell_type": "code",
   "execution_count": null,
   "id": "b102c8ae",
   "metadata": {},
   "outputs": [],
   "source": [
    "def make_crops(idx): return create_crops(read_mapillary_annotation(idx))"
   ]
  },
  {
   "cell_type": "code",
   "execution_count": null,
   "id": "a622ae45",
   "metadata": {},
   "outputs": [
    {
     "data": {
      "text/html": [
       "\n",
       "<style>\n",
       "    /* Turns off some styling */\n",
       "    progress {\n",
       "        /* gets rid of default border in Firefox and Opera. */\n",
       "        border: none;\n",
       "        /* Needs to be in here for Safari polyfill so background images work as expected. */\n",
       "        background-size: auto;\n",
       "    }\n",
       "    .progress-bar-interrupted, .progress-bar-interrupted::-webkit-progress-bar {\n",
       "        background: #F44336;\n",
       "    }\n",
       "</style>\n"
      ],
      "text/plain": [
       "<IPython.core.display.HTML object>"
      ]
     },
     "metadata": {},
     "output_type": "display_data"
    },
    {
     "data": {
      "text/html": [],
      "text/plain": [
       "<IPython.core.display.HTML object>"
      ]
     },
     "metadata": {},
     "output_type": "display_data"
    },
    {
     "name": "stderr",
     "output_type": "stream",
     "text": [
      "/tmp/ipykernel_19088/1987497340.py:7: RuntimeWarning: invalid value encountered in log\n",
      "  size = np.exp(np.log(wh).mean(-1))\n"
     ]
    },
    {
     "name": "stdout",
     "output_type": "stream",
     "text": [
      "Skipping dtjhRwZcYld3CdbIFmQJaA-4 / other-sign\n"
     ]
    },
    {
     "name": "stderr",
     "output_type": "stream",
     "text": [
      "/tmp/ipykernel_19088/1987497340.py:7: RuntimeWarning: invalid value encountered in log\n",
      "  size = np.exp(np.log(wh).mean(-1))\n"
     ]
    },
    {
     "name": "stdout",
     "output_type": "stream",
     "text": [
      "Skipping OENb8BfFyAocFzHHM4Mehg-1 / regulatory--no-entry--g1\n"
     ]
    }
   ],
   "source": [
    "trn_aspects = parallel(make_crops, trnidx, progress=True)"
   ]
  },
  {
   "cell_type": "code",
   "execution_count": null,
   "id": "960f6fc7",
   "metadata": {},
   "outputs": [
    {
     "data": {
      "text/html": [
       "\n",
       "<style>\n",
       "    /* Turns off some styling */\n",
       "    progress {\n",
       "        /* gets rid of default border in Firefox and Opera. */\n",
       "        border: none;\n",
       "        /* Needs to be in here for Safari polyfill so background images work as expected. */\n",
       "        background-size: auto;\n",
       "    }\n",
       "    .progress-bar-interrupted, .progress-bar-interrupted::-webkit-progress-bar {\n",
       "        background: #F44336;\n",
       "    }\n",
       "</style>\n"
      ],
      "text/plain": [
       "<IPython.core.display.HTML object>"
      ]
     },
     "metadata": {},
     "output_type": "display_data"
    },
    {
     "data": {
      "text/html": [],
      "text/plain": [
       "<IPython.core.display.HTML object>"
      ]
     },
     "metadata": {},
     "output_type": "display_data"
    },
    {
     "name": "stderr",
     "output_type": "stream",
     "text": [
      "/tmp/ipykernel_19088/1987497340.py:7: RuntimeWarning: invalid value encountered in log\n",
      "  size = np.exp(np.log(wh).mean(-1))\n"
     ]
    },
    {
     "name": "stdout",
     "output_type": "stream",
     "text": [
      "Skipping mw82Ix9zLKMBsOBqASEiDQ-8 / other-sign\n"
     ]
    }
   ],
   "source": [
    "val_aspects = parallel(make_crops, validx, progress=True)"
   ]
  },
  {
   "cell_type": "code",
   "execution_count": null,
   "id": "e718764c",
   "metadata": {},
   "outputs": [
    {
     "data": {
      "text/plain": [
       "206386"
      ]
     },
     "execution_count": null,
     "metadata": {},
     "output_type": "execute_result"
    }
   ],
   "source": [
    "all_aspects = {k:v for d in trn_aspects+val_aspects for k,v in d.items()}\n",
    "len(all_aspects)"
   ]
  },
  {
   "cell_type": "code",
   "execution_count": null,
   "id": "e66aff7c",
   "metadata": {},
   "outputs": [
    {
     "data": {
      "text/plain": [
       "count    206386.000000\n",
       "mean          1.273720\n",
       "std           0.880521\n",
       "min         -34.660870\n",
       "25%           0.838095\n",
       "50%           1.011570\n",
       "75%           1.333333\n",
       "max          17.502110\n",
       "dtype: float64"
      ]
     },
     "execution_count": null,
     "metadata": {},
     "output_type": "execute_result"
    }
   ],
   "source": [
    "pd.Series(all_aspects.values()).describe()"
   ]
  },
  {
   "cell_type": "code",
   "execution_count": null,
   "id": "a767dd81",
   "metadata": {},
   "outputs": [
    {
     "data": {
      "text/plain": [
       "<AxesSubplot:>"
      ]
     },
     "execution_count": null,
     "metadata": {},
     "output_type": "execute_result"
    },
    {
     "data": {
      "image/png": "[encoded data removed]",
      "text/plain": [
       "<Figure size 432x288 with 1 Axes>"
      ]
     },
     "metadata": {
      "needs_background": "light"
     },
     "output_type": "display_data"
    }
   ],
   "source": [
    "pd.Series(all_aspects.values()).hist(range=(0,5), bins=50)"
   ]
  },
  {
   "cell_type": "code",
   "execution_count": null,
   "id": "86d27968",
   "metadata": {},
   "outputs": [],
   "source": [
    "pd.Series(all_aspects).to_csv('aspect-ratios.csv')"
   ]
  }
 ],
 "metadata": {
  "kernelspec": {
   "display_name": "Python 3 (ipykernel)",
   "language": "python",
   "name": "python3"
  }
 },
 "nbformat": 4,
 "nbformat_minor": 5
}
