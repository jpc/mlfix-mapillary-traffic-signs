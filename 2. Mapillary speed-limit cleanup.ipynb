{
 "cells": [
  {
   "cell_type": "code",
   "execution_count": null,
   "id": "70e7be58",
   "metadata": {},
   "outputs": [],
   "source": [
    "%load_ext autoreload\n",
    "%autoreload 2\n",
    "from fastai.vision.all import *"
   ]
  },
  {
   "cell_type": "code",
   "execution_count": null,
   "id": "e8483e9a",
   "metadata": {},
   "outputs": [],
   "source": [
    "from MLfix import MLfix"
   ]
  },
  {
   "cell_type": "markdown",
   "id": "166efe28",
   "metadata": {},
   "source": [
    "## Load crops and labels into a Pandas DataFrame"
   ]
  },
  {
   "cell_type": "code",
   "execution_count": null,
   "id": "1e3107fd",
   "metadata": {},
   "outputs": [],
   "source": [
    "path = Path('yolo-bbox-crops-aspects')"
   ]
  },
  {
   "cell_type": "code",
   "execution_count": null,
   "id": "9640f3c6",
   "metadata": {},
   "outputs": [],
   "source": [
    "fnames = get_image_files(path)"
   ]
  },
  {
   "cell_type": "code",
   "execution_count": null,
   "id": "9f6be4a2",
   "metadata": {},
   "outputs": [],
   "source": [
    "data = pd.DataFrame(dict(fname = fnames), index = [str(x) for x in fnames])\n",
    "data['label'] = data.fname.map(lambda x: x.parent.name)\n",
    "data['photo_id'] = data['fname'].apply(lambda x: re.sub(\"-[0-9]+.jpg\", \"\", Path(x).name))"
   ]
  },
  {
   "cell_type": "code",
   "execution_count": null,
   "id": "8b3c6d86",
   "metadata": {},
   "outputs": [
    {
     "data": {
      "text/html": [
       "<div>\n",
       "<style scoped>\n",
       "    .dataframe tbody tr th:only-of-type {\n",
       "        vertical-align: middle;\n",
       "    }\n",
       "\n",
       "    .dataframe tbody tr th {\n",
       "        vertical-align: top;\n",
       "    }\n",
       "\n",
       "    .dataframe thead th {\n",
       "        text-align: right;\n",
       "    }\n",
       "</style>\n",
       "<table border=\"1\" class=\"dataframe\">\n",
       "  <thead>\n",
       "    <tr style=\"text-align: right;\">\n",
       "      <th></th>\n",
       "      <th>fname</th>\n",
       "      <th>label</th>\n",
       "      <th>photo_id</th>\n",
       "    </tr>\n",
       "  </thead>\n",
       "  <tbody>\n",
       "    <tr>\n",
       "      <th>yolo-bbox-crops-aspects/warning--winding-road-first-left--g1/a3K73YQChXmdfsn69D1kjA-1.jpg</th>\n",
       "      <td>yolo-bbox-crops-aspects/warning--winding-road-first-left--g1/a3K73YQChXmdfsn69D1kjA-1.jpg</td>\n",
       "      <td>warning--winding-road-first-left--g1</td>\n",
       "      <td>a3K73YQChXmdfsn69D1kjA</td>\n",
       "    </tr>\n",
       "    <tr>\n",
       "      <th>yolo-bbox-crops-aspects/warning--winding-road-first-left--g1/l8GLcMia5zPhB7Q1agVYTg-0.jpg</th>\n",
       "      <td>yolo-bbox-crops-aspects/warning--winding-road-first-left--g1/l8GLcMia5zPhB7Q1agVYTg-0.jpg</td>\n",
       "      <td>warning--winding-road-first-left--g1</td>\n",
       "      <td>l8GLcMia5zPhB7Q1agVYTg</td>\n",
       "    </tr>\n",
       "    <tr>\n",
       "      <th>yolo-bbox-crops-aspects/warning--winding-road-first-left--g1/BCxKRFT-Wvn49LnVoSlOgw-0.jpg</th>\n",
       "      <td>yolo-bbox-crops-aspects/warning--winding-road-first-left--g1/BCxKRFT-Wvn49LnVoSlOgw-0.jpg</td>\n",
       "      <td>warning--winding-road-first-left--g1</td>\n",
       "      <td>BCxKRFT-Wvn49LnVoSlOgw</td>\n",
       "    </tr>\n",
       "    <tr>\n",
       "      <th>yolo-bbox-crops-aspects/warning--winding-road-first-left--g1/5D1e0maBSjs1UaV5tE2MHg-0.jpg</th>\n",
       "      <td>yolo-bbox-crops-aspects/warning--winding-road-first-left--g1/5D1e0maBSjs1UaV5tE2MHg-0.jpg</td>\n",
       "      <td>warning--winding-road-first-left--g1</td>\n",
       "      <td>5D1e0maBSjs1UaV5tE2MHg</td>\n",
       "    </tr>\n",
       "    <tr>\n",
       "      <th>yolo-bbox-crops-aspects/warning--winding-road-first-left--g1/Oz7f7PDh0FZogR2Lle9HsQ-1.jpg</th>\n",
       "      <td>yolo-bbox-crops-aspects/warning--winding-road-first-left--g1/Oz7f7PDh0FZogR2Lle9HsQ-1.jpg</td>\n",
       "      <td>warning--winding-road-first-left--g1</td>\n",
       "      <td>Oz7f7PDh0FZogR2Lle9HsQ</td>\n",
       "    </tr>\n",
       "    <tr>\n",
       "      <th>...</th>\n",
       "      <td>...</td>\n",
       "      <td>...</td>\n",
       "      <td>...</td>\n",
       "    </tr>\n",
       "    <tr>\n",
       "      <th>yolo-bbox-crops-aspects/complementary--one-direction-left--g1/jz9ydBI3G46OM_DSDxRI2Q-3.jpg</th>\n",
       "      <td>yolo-bbox-crops-aspects/complementary--one-direction-left--g1/jz9ydBI3G46OM_DSDxRI2Q-3.jpg</td>\n",
       "      <td>complementary--one-direction-left--g1</td>\n",
       "      <td>jz9ydBI3G46OM_DSDxRI2Q</td>\n",
       "    </tr>\n",
       "    <tr>\n",
       "      <th>yolo-bbox-crops-aspects/complementary--one-direction-left--g1/jjP8oXmH91HYeNRRZy36ig-1.jpg</th>\n",
       "      <td>yolo-bbox-crops-aspects/complementary--one-direction-left--g1/jjP8oXmH91HYeNRRZy36ig-1.jpg</td>\n",
       "      <td>complementary--one-direction-left--g1</td>\n",
       "      <td>jjP8oXmH91HYeNRRZy36ig</td>\n",
       "    </tr>\n",
       "    <tr>\n",
       "      <th>yolo-bbox-crops-aspects/complementary--one-direction-left--g1/PrXKSuASmK0TB3tqCLVY9A-4.jpg</th>\n",
       "      <td>yolo-bbox-crops-aspects/complementary--one-direction-left--g1/PrXKSuASmK0TB3tqCLVY9A-4.jpg</td>\n",
       "      <td>complementary--one-direction-left--g1</td>\n",
       "      <td>PrXKSuASmK0TB3tqCLVY9A</td>\n",
       "    </tr>\n",
       "    <tr>\n",
       "      <th>yolo-bbox-crops-aspects/complementary--one-direction-left--g1/DdilxFWJ13kSsBTDlCNCcg-2.jpg</th>\n",
       "      <td>yolo-bbox-crops-aspects/complementary--one-direction-left--g1/DdilxFWJ13kSsBTDlCNCcg-2.jpg</td>\n",
       "      <td>complementary--one-direction-left--g1</td>\n",
       "      <td>DdilxFWJ13kSsBTDlCNCcg</td>\n",
       "    </tr>\n",
       "    <tr>\n",
       "      <th>yolo-bbox-crops-aspects/complementary--one-direction-left--g1/PDqWPuPSTTm0A6c4aAHJjA-3.jpg</th>\n",
       "      <td>yolo-bbox-crops-aspects/complementary--one-direction-left--g1/PDqWPuPSTTm0A6c4aAHJjA-3.jpg</td>\n",
       "      <td>complementary--one-direction-left--g1</td>\n",
       "      <td>PDqWPuPSTTm0A6c4aAHJjA</td>\n",
       "    </tr>\n",
       "  </tbody>\n",
       "</table>\n",
       "<p>206383 rows × 3 columns</p>\n",
       "</div>"
      ],
      "text/plain": [
       "                                                                                                                                                                                 fname  \\\n",
       "yolo-bbox-crops-aspects/warning--winding-road-first-left--g1/a3K73YQChXmdfsn69D1kjA-1.jpg    yolo-bbox-crops-aspects/warning--winding-road-first-left--g1/a3K73YQChXmdfsn69D1kjA-1.jpg   \n",
       "yolo-bbox-crops-aspects/warning--winding-road-first-left--g1/l8GLcMia5zPhB7Q1agVYTg-0.jpg    yolo-bbox-crops-aspects/warning--winding-road-first-left--g1/l8GLcMia5zPhB7Q1agVYTg-0.jpg   \n",
       "yolo-bbox-crops-aspects/warning--winding-road-first-left--g1/BCxKRFT-Wvn49LnVoSlOgw-0.jpg    yolo-bbox-crops-aspects/warning--winding-road-first-left--g1/BCxKRFT-Wvn49LnVoSlOgw-0.jpg   \n",
       "yolo-bbox-crops-aspects/warning--winding-road-first-left--g1/5D1e0maBSjs1UaV5tE2MHg-0.jpg    yolo-bbox-crops-aspects/warning--winding-road-first-left--g1/5D1e0maBSjs1UaV5tE2MHg-0.jpg   \n",
       "yolo-bbox-crops-aspects/warning--winding-road-first-left--g1/Oz7f7PDh0FZogR2Lle9HsQ-1.jpg    yolo-bbox-crops-aspects/warning--winding-road-first-left--g1/Oz7f7PDh0FZogR2Lle9HsQ-1.jpg   \n",
       "...                                                                                                                                                                                ...   \n",
       "yolo-bbox-crops-aspects/complementary--one-direction-left--g1/jz9ydBI3G46OM_DSDxRI2Q-3.jpg  yolo-bbox-crops-aspects/complementary--one-direction-left--g1/jz9ydBI3G46OM_DSDxRI2Q-3.jpg   \n",
       "yolo-bbox-crops-aspects/complementary--one-direction-left--g1/jjP8oXmH91HYeNRRZy36ig-1.jpg  yolo-bbox-crops-aspects/complementary--one-direction-left--g1/jjP8oXmH91HYeNRRZy36ig-1.jpg   \n",
       "yolo-bbox-crops-aspects/complementary--one-direction-left--g1/PrXKSuASmK0TB3tqCLVY9A-4.jpg  yolo-bbox-crops-aspects/complementary--one-direction-left--g1/PrXKSuASmK0TB3tqCLVY9A-4.jpg   \n",
       "yolo-bbox-crops-aspects/complementary--one-direction-left--g1/DdilxFWJ13kSsBTDlCNCcg-2.jpg  yolo-bbox-crops-aspects/complementary--one-direction-left--g1/DdilxFWJ13kSsBTDlCNCcg-2.jpg   \n",
       "yolo-bbox-crops-aspects/complementary--one-direction-left--g1/PDqWPuPSTTm0A6c4aAHJjA-3.jpg  yolo-bbox-crops-aspects/complementary--one-direction-left--g1/PDqWPuPSTTm0A6c4aAHJjA-3.jpg   \n",
       "\n",
       "                                                                                                                            label  \\\n",
       "yolo-bbox-crops-aspects/warning--winding-road-first-left--g1/a3K73YQChXmdfsn69D1kjA-1.jpg    warning--winding-road-first-left--g1   \n",
       "yolo-bbox-crops-aspects/warning--winding-road-first-left--g1/l8GLcMia5zPhB7Q1agVYTg-0.jpg    warning--winding-road-first-left--g1   \n",
       "yolo-bbox-crops-aspects/warning--winding-road-first-left--g1/BCxKRFT-Wvn49LnVoSlOgw-0.jpg    warning--winding-road-first-left--g1   \n",
       "yolo-bbox-crops-aspects/warning--winding-road-first-left--g1/5D1e0maBSjs1UaV5tE2MHg-0.jpg    warning--winding-road-first-left--g1   \n",
       "yolo-bbox-crops-aspects/warning--winding-road-first-left--g1/Oz7f7PDh0FZogR2Lle9HsQ-1.jpg    warning--winding-road-first-left--g1   \n",
       "...                                                                                                                           ...   \n",
       "yolo-bbox-crops-aspects/complementary--one-direction-left--g1/jz9ydBI3G46OM_DSDxRI2Q-3.jpg  complementary--one-direction-left--g1   \n",
       "yolo-bbox-crops-aspects/complementary--one-direction-left--g1/jjP8oXmH91HYeNRRZy36ig-1.jpg  complementary--one-direction-left--g1   \n",
       "yolo-bbox-crops-aspects/complementary--one-direction-left--g1/PrXKSuASmK0TB3tqCLVY9A-4.jpg  complementary--one-direction-left--g1   \n",
       "yolo-bbox-crops-aspects/complementary--one-direction-left--g1/DdilxFWJ13kSsBTDlCNCcg-2.jpg  complementary--one-direction-left--g1   \n",
       "yolo-bbox-crops-aspects/complementary--one-direction-left--g1/PDqWPuPSTTm0A6c4aAHJjA-3.jpg  complementary--one-direction-left--g1   \n",
       "\n",
       "                                                                                                          photo_id  \n",
       "yolo-bbox-crops-aspects/warning--winding-road-first-left--g1/a3K73YQChXmdfsn69D1kjA-1.jpg   a3K73YQChXmdfsn69D1kjA  \n",
       "yolo-bbox-crops-aspects/warning--winding-road-first-left--g1/l8GLcMia5zPhB7Q1agVYTg-0.jpg   l8GLcMia5zPhB7Q1agVYTg  \n",
       "yolo-bbox-crops-aspects/warning--winding-road-first-left--g1/BCxKRFT-Wvn49LnVoSlOgw-0.jpg   BCxKRFT-Wvn49LnVoSlOgw  \n",
       "yolo-bbox-crops-aspects/warning--winding-road-first-left--g1/5D1e0maBSjs1UaV5tE2MHg-0.jpg   5D1e0maBSjs1UaV5tE2MHg  \n",
       "yolo-bbox-crops-aspects/warning--winding-road-first-left--g1/Oz7f7PDh0FZogR2Lle9HsQ-1.jpg   Oz7f7PDh0FZogR2Lle9HsQ  \n",
       "...                                                                                                            ...  \n",
       "yolo-bbox-crops-aspects/complementary--one-direction-left--g1/jz9ydBI3G46OM_DSDxRI2Q-3.jpg  jz9ydBI3G46OM_DSDxRI2Q  \n",
       "yolo-bbox-crops-aspects/complementary--one-direction-left--g1/jjP8oXmH91HYeNRRZy36ig-1.jpg  jjP8oXmH91HYeNRRZy36ig  \n",
       "yolo-bbox-crops-aspects/complementary--one-direction-left--g1/PrXKSuASmK0TB3tqCLVY9A-4.jpg  PrXKSuASmK0TB3tqCLVY9A  \n",
       "yolo-bbox-crops-aspects/complementary--one-direction-left--g1/DdilxFWJ13kSsBTDlCNCcg-2.jpg  DdilxFWJ13kSsBTDlCNCcg  \n",
       "yolo-bbox-crops-aspects/complementary--one-direction-left--g1/PDqWPuPSTTm0A6c4aAHJjA-3.jpg  PDqWPuPSTTm0A6c4aAHJjA  \n",
       "\n",
       "[206383 rows x 3 columns]"
      ]
     },
     "execution_count": null,
     "metadata": {},
     "output_type": "execute_result"
    }
   ],
   "source": [
    "data"
   ]
  },
  {
   "cell_type": "markdown",
   "id": "95934c04",
   "metadata": {},
   "source": [
    "## Find all the signs with \"speed\" in the label"
   ]
  },
  {
   "cell_type": "code",
   "execution_count": null,
   "id": "d08ac48c",
   "metadata": {},
   "outputs": [],
   "source": [
    "speed_limits = data[data['label'].str.contains(\"speed\")].copy()\n",
    "speed_limits['new_label'] = speed_limits['label']"
   ]
  },
  {
   "cell_type": "code",
   "execution_count": null,
   "id": "48786f6f",
   "metadata": {},
   "outputs": [],
   "source": [
    "# if you don't want to do all the work yourself you can load the result of the analysis we did\n",
    "invalid = pd.read_csv('invalid-speed-limits.csv', index_col=0)\n",
    "speed_limits.loc[invalid.index, 'new_label'] = 'invalid'"
   ]
  },
  {
   "cell_type": "markdown",
   "id": "4644fa5c",
   "metadata": {},
   "source": [
    "## Run MLfix"
   ]
  },
  {
   "cell_type": "code",
   "execution_count": null,
   "id": "762e761f",
   "metadata": {},
   "outputs": [
    {
     "data": {
      "text/html": [
       "\n",
       "    <style>\n",
       "      .mlfix-container {\n",
       "        position: relative;\n",
       "        background-color: white;\n",
       "      }\n",
       "      .mlfix-fullscreen {\n",
       "        width: 100%;\n",
       "        height: 100%;\n",
       "        position: absolute;\n",
       "        top: 0;\n",
       "        left: 0;\n",
       "        z-index: 10000;\n",
       "      }\n",
       "      .mlfix-fullscreen iframe {\n",
       "        height: 100%;\n",
       "      }\n",
       "    </style>\n",
       "    <div id=mlfix-sRNZq-container class=mlfix-container>\n",
       "      <iframe id=mlfix-sRNZq src=\"/proxy/50147/mlfix-sRNZq/#mlfix-sRNZq\"\n",
       "              width=\"100%\" height=\"500px\" frameborder=\"0\" allowfullscreen></iframe>\n",
       "      <script>(function () {\n",
       "        var iframe = document.getElementById('mlfix-sRNZq');\n",
       "        var outputEl = iframe.parentNode;\n",
       "        var parentEl = outputEl.parentNode;\n",
       "        console.log('MLfix init:', outputEl, parentEl);\n",
       "        var bringMLfixIframeToFocus = function() {\n",
       "            iframe.contentWindow.focus();\n",
       "        }\n",
       "        setTimeout(bringMLfixIframeToFocus, 100);\n",
       "\n",
       "        var isFullscreen = false;\n",
       "        var parentEl;\n",
       "        window.addEventListener('message', (ev) => {\n",
       "          if (ev.data == 'mlfix-toggle-fullscreen-mlfix-sRNZq') {\n",
       "            if (!isFullscreen) {\n",
       "              $(outputEl).appendTo(document.body).addClass('mlfix-fullscreen');\n",
       "            } else {\n",
       "              $(outputEl).appendTo(parentEl).removeClass('mlfix-fullscreen');\n",
       "            }\n",
       "            isFullscreen = !isFullscreen;\n",
       "            console.log('fullscreen', isFullscreen);\n",
       "            setTimeout(bringMLfixIframeToFocus, 100);\n",
       "          }\n",
       "        });\n",
       "      })();</script>\n",
       "    </div>\n",
       "    "
      ],
      "text/plain": [
       "<IPython.core.display.HTML object>"
      ]
     },
     "metadata": {},
     "output_type": "display_data"
    }
   ],
   "source": [
    "new_labels = MLfix(\n",
    "    speed_limits,\n",
    "    group='label',\n",
    "    label='new_label',\n",
    "    sort='fname',\n",
    "    size=200,\n",
    "    label_icons={x:'icons/' + x + '.svg' for x in speed_limits['label'].unique()}\n",
    ")"
   ]
  },
  {
   "cell_type": "code",
   "execution_count": null,
   "id": "6830c993",
   "metadata": {},
   "outputs": [
    {
     "name": "stdout",
     "output_type": "stream",
     "text": [
      "2.96 %\n"
     ]
    }
   ],
   "source": [
    "# How many changes did we make?\n",
    "print(f\"{(speed_limits['label'] != speed_limits['new_label']).mean() * 100:.2f} %\")"
   ]
  },
  {
   "cell_type": "code",
   "execution_count": null,
   "id": "fd8b538c",
   "metadata": {},
   "outputs": [],
   "source": [
    "def sample_epoch(self):\n",
    "    item_labels = self.items['label']\n",
    "    label_freq = {label:count for label, count in zip(*np.unique(item_labels, return_counts=True))}\n",
    "    weights = [1/label_freq[label] for label in item_labels]\n",
    "    return random.choices(range(len(self.items)), weights=weights, k=len(self.items))"
   ]
  },
  {
   "cell_type": "code",
   "execution_count": null,
   "id": "28adb2e0",
   "metadata": {},
   "outputs": [
    {
     "data": {
      "text/html": [
       "\n",
       "    <style>\n",
       "      .mlfix-container {\n",
       "        position: relative;\n",
       "        background-color: white;\n",
       "      }\n",
       "      .mlfix-fullscreen {\n",
       "        width: 100%;\n",
       "        height: 100%;\n",
       "        position: absolute;\n",
       "        top: 0;\n",
       "        left: 0;\n",
       "        z-index: 10000;\n",
       "      }\n",
       "      .mlfix-fullscreen iframe {\n",
       "        height: 100%;\n",
       "      }\n",
       "    </style>\n",
       "    <div id=mlfix-uRGk5-container class=mlfix-container>\n",
       "      <iframe id=mlfix-uRGk5 src=\"/proxy/38167/mlfix-uRGk5/#mlfix-uRGk5\"\n",
       "              width=\"100%\" height=\"500px\" frameborder=\"0\" allowfullscreen></iframe>\n",
       "      <script>(function () {\n",
       "        var iframe = document.getElementById('mlfix-uRGk5');\n",
       "        var outputEl = iframe.parentNode;\n",
       "        var parentEl = outputEl.parentNode;\n",
       "        console.log('MLfix init:', outputEl, parentEl);\n",
       "        var bringMLfixIframeToFocus = function() {\n",
       "            iframe.contentWindow.focus();\n",
       "        }\n",
       "        setTimeout(bringMLfixIframeToFocus, 100);\n",
       "\n",
       "        var isFullscreen = false;\n",
       "        var parentEl;\n",
       "        window.addEventListener('message', (ev) => {\n",
       "          if (ev.data == 'mlfix-toggle-fullscreen-mlfix-uRGk5') {\n",
       "            if (!isFullscreen) {\n",
       "              $(outputEl).appendTo(document.body).addClass('mlfix-fullscreen');\n",
       "            } else {\n",
       "              $(outputEl).appendTo(parentEl).removeClass('mlfix-fullscreen');\n",
       "            }\n",
       "            isFullscreen = !isFullscreen;\n",
       "            console.log('fullscreen', isFullscreen);\n",
       "            setTimeout(bringMLfixIframeToFocus, 100);\n",
       "          }\n",
       "        });\n",
       "      })();</script>\n",
       "    </div>\n",
       "    "
      ],
      "text/plain": [
       "<IPython.core.display.HTML object>"
      ]
     },
     "metadata": {},
     "output_type": "display_data"
    },
    {
     "name": "stdout",
     "output_type": "stream",
     "text": [
      "data/\n",
      "data/\n",
      "data/\n"
     ]
    }
   ],
   "source": [
    "chevron_groups = [\n",
    "        \"complementary--chevron-left--g1\",\n",
    "        \"complementary--chevron-left--g2\",\n",
    "        \"complementary--chevron-left--g3\",\n",
    "        \"complementary--chevron-left--g4\",\n",
    "        \"complementary--chevron-left--g5\",\n",
    "]\n",
    "new_labels = MLfix(\n",
    "    data[data['label'].str.startswith('complementary--chevron-left--')],\n",
    "    group='label',\n",
    "    label='label',\n",
    "    size=200,\n",
    "    hotkey_labels=chevron_groups,\n",
    "    label_icons={x:'icons/' + x + '.svg' for x in chevron_groups}\n",
    ")"
   ]
  },
  {
   "cell_type": "code",
   "execution_count": null,
   "id": "ae611395",
   "metadata": {},
   "outputs": [],
   "source": [
    "data['valid'] = pd.Series(dtype=np.bool_)\n",
    "data['valid'] = False"
   ]
  },
  {
   "cell_type": "code",
   "execution_count": null,
   "id": "1b0b9e4c",
   "metadata": {},
   "outputs": [],
   "source": [
    "def set_valid_split(df, sel, p=0.2):\n",
    "    sel = random.sample(list(df.index[sel]), int(sel.sum() * p))\n",
    "    df.loc[sel, 'valid'] = True"
   ]
  },
  {
   "cell_type": "code",
   "execution_count": null,
   "id": "e2a59ff4",
   "metadata": {},
   "outputs": [],
   "source": [
    "random.seed(42)\n",
    "for label in data['label'].unique():\n",
    "    set_valid_split(data, data['label'] == label, p=0.5)"
   ]
  },
  {
   "cell_type": "code",
   "execution_count": null,
   "id": "c5370838",
   "metadata": {},
   "outputs": [
    {
     "data": {
      "text/html": [
       "<div>\n",
       "<style scoped>\n",
       "    .dataframe tbody tr th:only-of-type {\n",
       "        vertical-align: middle;\n",
       "    }\n",
       "\n",
       "    .dataframe tbody tr th {\n",
       "        vertical-align: top;\n",
       "    }\n",
       "\n",
       "    .dataframe thead th {\n",
       "        text-align: right;\n",
       "    }\n",
       "</style>\n",
       "<table border=\"1\" class=\"dataframe\">\n",
       "  <thead>\n",
       "    <tr style=\"text-align: right;\">\n",
       "      <th></th>\n",
       "      <th>fname</th>\n",
       "      <th>label</th>\n",
       "      <th>invalid</th>\n",
       "      <th>valid</th>\n",
       "    </tr>\n",
       "  </thead>\n",
       "  <tbody>\n",
       "    <tr>\n",
       "      <th>count</th>\n",
       "      <td>206383</td>\n",
       "      <td>206383</td>\n",
       "      <td>206383</td>\n",
       "      <td>206383</td>\n",
       "    </tr>\n",
       "    <tr>\n",
       "      <th>unique</th>\n",
       "      <td>206383</td>\n",
       "      <td>401</td>\n",
       "      <td>2</td>\n",
       "      <td>2</td>\n",
       "    </tr>\n",
       "    <tr>\n",
       "      <th>top</th>\n",
       "      <td>warning--winding-road-first-left--g1/a3K73YQChXmdfsn69D1kjA-1.jpg</td>\n",
       "      <td>other-sign</td>\n",
       "      <td>False</td>\n",
       "      <td>False</td>\n",
       "    </tr>\n",
       "    <tr>\n",
       "      <th>freq</th>\n",
       "      <td>1</td>\n",
       "      <td>135956</td>\n",
       "      <td>206216</td>\n",
       "      <td>103277</td>\n",
       "    </tr>\n",
       "  </tbody>\n",
       "</table>\n",
       "</div>"
      ],
      "text/plain": [
       "                                                                    fname  \\\n",
       "count                                                              206383   \n",
       "unique                                                             206383   \n",
       "top     warning--winding-road-first-left--g1/a3K73YQChXmdfsn69D1kjA-1.jpg   \n",
       "freq                                                                    1   \n",
       "\n",
       "             label invalid   valid  \n",
       "count       206383  206383  206383  \n",
       "unique         401       2       2  \n",
       "top     other-sign   False   False  \n",
       "freq        135956  206216  103277  "
      ]
     },
     "execution_count": null,
     "metadata": {},
     "output_type": "execute_result"
    }
   ],
   "source": [
    "data.describe()"
   ]
  },
  {
   "cell_type": "code",
   "execution_count": null,
   "id": "058e133a",
   "metadata": {},
   "outputs": [
    {
     "data": {
      "text/html": [
       "<div>\n",
       "<style scoped>\n",
       "    .dataframe tbody tr th:only-of-type {\n",
       "        vertical-align: middle;\n",
       "    }\n",
       "\n",
       "    .dataframe tbody tr th {\n",
       "        vertical-align: top;\n",
       "    }\n",
       "\n",
       "    .dataframe thead th {\n",
       "        text-align: right;\n",
       "    }\n",
       "</style>\n",
       "<table border=\"1\" class=\"dataframe\">\n",
       "  <thead>\n",
       "    <tr style=\"text-align: right;\">\n",
       "      <th></th>\n",
       "      <th>invalid</th>\n",
       "      <th>valid</th>\n",
       "    </tr>\n",
       "    <tr>\n",
       "      <th>label</th>\n",
       "      <th></th>\n",
       "      <th></th>\n",
       "    </tr>\n",
       "  </thead>\n",
       "  <tbody>\n",
       "    <tr>\n",
       "      <th>complementary--accident-area--g3</th>\n",
       "      <td>0.0</td>\n",
       "      <td>0.500000</td>\n",
       "    </tr>\n",
       "    <tr>\n",
       "      <th>complementary--both-directions--g1</th>\n",
       "      <td>0.0</td>\n",
       "      <td>0.500000</td>\n",
       "    </tr>\n",
       "    <tr>\n",
       "      <th>complementary--buses--g1</th>\n",
       "      <td>0.0</td>\n",
       "      <td>0.500000</td>\n",
       "    </tr>\n",
       "    <tr>\n",
       "      <th>complementary--chevron-left--g1</th>\n",
       "      <td>0.0</td>\n",
       "      <td>0.500000</td>\n",
       "    </tr>\n",
       "    <tr>\n",
       "      <th>complementary--chevron-left--g2</th>\n",
       "      <td>0.0</td>\n",
       "      <td>0.500000</td>\n",
       "    </tr>\n",
       "    <tr>\n",
       "      <th>...</th>\n",
       "      <td>...</td>\n",
       "      <td>...</td>\n",
       "    </tr>\n",
       "    <tr>\n",
       "      <th>warning--winding-road-first-left--g2</th>\n",
       "      <td>0.0</td>\n",
       "      <td>0.500000</td>\n",
       "    </tr>\n",
       "    <tr>\n",
       "      <th>warning--winding-road-first-right--g1</th>\n",
       "      <td>0.0</td>\n",
       "      <td>0.500000</td>\n",
       "    </tr>\n",
       "    <tr>\n",
       "      <th>warning--winding-road-first-right--g3</th>\n",
       "      <td>0.0</td>\n",
       "      <td>0.484848</td>\n",
       "    </tr>\n",
       "    <tr>\n",
       "      <th>warning--wombat-crossing--g1</th>\n",
       "      <td>0.0</td>\n",
       "      <td>0.488889</td>\n",
       "    </tr>\n",
       "    <tr>\n",
       "      <th>warning--y-roads--g1</th>\n",
       "      <td>0.0</td>\n",
       "      <td>0.500000</td>\n",
       "    </tr>\n",
       "  </tbody>\n",
       "</table>\n",
       "<p>401 rows × 2 columns</p>\n",
       "</div>"
      ],
      "text/plain": [
       "                                       invalid     valid\n",
       "label                                                   \n",
       "complementary--accident-area--g3           0.0  0.500000\n",
       "complementary--both-directions--g1         0.0  0.500000\n",
       "complementary--buses--g1                   0.0  0.500000\n",
       "complementary--chevron-left--g1            0.0  0.500000\n",
       "complementary--chevron-left--g2            0.0  0.500000\n",
       "...                                        ...       ...\n",
       "warning--winding-road-first-left--g2       0.0  0.500000\n",
       "warning--winding-road-first-right--g1      0.0  0.500000\n",
       "warning--winding-road-first-right--g3      0.0  0.484848\n",
       "warning--wombat-crossing--g1               0.0  0.488889\n",
       "warning--y-roads--g1                       0.0  0.500000\n",
       "\n",
       "[401 rows x 2 columns]"
      ]
     },
     "execution_count": null,
     "metadata": {},
     "output_type": "execute_result"
    }
   ],
   "source": [
    "data.groupby('label').mean('valid')"
   ]
  },
  {
   "cell_type": "code",
   "execution_count": null,
   "id": "c028bffd",
   "metadata": {},
   "outputs": [],
   "source": [
    "from albumentations import Blur"
   ]
  },
  {
   "cell_type": "code",
   "execution_count": null,
   "id": "aec49f0c",
   "metadata": {},
   "outputs": [],
   "source": [
    "class AlbumentationsTransform(Transform):\n",
    "    split_idx = 0\n",
    "    def __init__(self, aug): self.aug = aug\n",
    "    def encodes(self, img: PILImage):\n",
    "        aug_img = self.aug(image=np.array(img))['image']\n",
    "        return PILImage.create(aug_img)"
   ]
  },
  {
   "cell_type": "code",
   "execution_count": null,
   "id": "93c0f658",
   "metadata": {},
   "outputs": [],
   "source": [
    "dls = ImageDataLoaders.from_df(\n",
    "    data, path=path, label_col='label', valid_col='valid',\n",
    "    bs=1024,\n",
    "    item_tfms=[AlbumentationsTransform(Blur(blur_limit=5, p=0.25))],\n",
    "    batch_tfms=aug_transforms(do_flip=False),\n",
    ")"
   ]
  },
  {
   "cell_type": "code",
   "execution_count": null,
   "id": "a6064ff2",
   "metadata": {},
   "outputs": [
    {
     "data": {
      "image/png": "[encoded data removed]",
      "text/plain": [
       "<Figure size 648x648 with 9 Axes>"
      ]
     },
     "metadata": {
      "needs_background": "light"
     },
     "output_type": "display_data"
    }
   ],
   "source": [
    "dls.show_batch()"
   ]
  },
  {
   "cell_type": "code",
   "execution_count": null,
   "id": "acd2dd7e",
   "metadata": {},
   "outputs": [
    {
     "data": {
      "image/png": "[encoded data removed]",
      "text/plain": [
       "<Figure size 648x648 with 9 Axes>"
      ]
     },
     "metadata": {
      "needs_background": "light"
     },
     "output_type": "display_data"
    }
   ],
   "source": [
    "dls.valid.show_batch()"
   ]
  },
  {
   "cell_type": "code",
   "execution_count": null,
   "id": "d1e48d94",
   "metadata": {},
   "outputs": [
    {
     "data": {
      "text/html": [
       "\n",
       "<style>\n",
       "    /* Turns off some styling */\n",
       "    progress {\n",
       "        /* gets rid of default border in Firefox and Opera. */\n",
       "        border: none;\n",
       "        /* Needs to be in here for Safari polyfill so background images work as expected. */\n",
       "        background-size: auto;\n",
       "    }\n",
       "    .progress-bar-interrupted, .progress-bar-interrupted::-webkit-progress-bar {\n",
       "        background: #F44336;\n",
       "    }\n",
       "</style>\n"
      ],
      "text/plain": [
       "<IPython.core.display.HTML object>"
      ]
     },
     "metadata": {},
     "output_type": "display_data"
    },
    {
     "data": {
      "text/html": [],
      "text/plain": [
       "<IPython.core.display.HTML object>"
      ]
     },
     "metadata": {},
     "output_type": "display_data"
    },
    {
     "data": {
      "text/plain": [
       "SuggestedLRs(valley=0.0008317637839354575)"
      ]
     },
     "execution_count": null,
     "metadata": {},
     "output_type": "execute_result"
    },
    {
     "data": {
      "image/png": "[encoded data removed]",
      "text/plain": [
       "<Figure size 432x288 with 1 Axes>"
      ]
     },
     "metadata": {
      "needs_background": "light"
     },
     "output_type": "display_data"
    }
   ],
   "source": [
    "learn = vision_learner(dls, resnet50, metrics=[error_rate])\n",
    "learn.dls.train.get_idxs = types.MethodType(sample_epoch, learn.dls.train)\n",
    "learn.lr_find()"
   ]
  },
  {
   "cell_type": "code",
   "execution_count": null,
   "id": "90329e1d",
   "metadata": {},
   "outputs": [
    {
     "data": {
      "text/html": [
       "\n",
       "<style>\n",
       "    /* Turns off some styling */\n",
       "    progress {\n",
       "        /* gets rid of default border in Firefox and Opera. */\n",
       "        border: none;\n",
       "        /* Needs to be in here for Safari polyfill so background images work as expected. */\n",
       "        background-size: auto;\n",
       "    }\n",
       "    .progress-bar-interrupted, .progress-bar-interrupted::-webkit-progress-bar {\n",
       "        background: #F44336;\n",
       "    }\n",
       "</style>\n"
      ],
      "text/plain": [
       "<IPython.core.display.HTML object>"
      ]
     },
     "metadata": {},
     "output_type": "display_data"
    },
    {
     "data": {
      "text/html": [
       "<table border=\"1\" class=\"dataframe\">\n",
       "  <thead>\n",
       "    <tr style=\"text-align: left;\">\n",
       "      <th>epoch</th>\n",
       "      <th>train_loss</th>\n",
       "      <th>valid_loss</th>\n",
       "      <th>error_rate</th>\n",
       "      <th>time</th>\n",
       "    </tr>\n",
       "  </thead>\n",
       "  <tbody>\n",
       "    <tr>\n",
       "      <td>0</td>\n",
       "      <td>5.079092</td>\n",
       "      <td>6.091725</td>\n",
       "      <td>0.924282</td>\n",
       "      <td>00:30</td>\n",
       "    </tr>\n",
       "  </tbody>\n",
       "</table>"
      ],
      "text/plain": [
       "<IPython.core.display.HTML object>"
      ]
     },
     "metadata": {},
     "output_type": "display_data"
    },
    {
     "name": "stdout",
     "output_type": "stream",
     "text": [
      "icon: complementary--chevron-left--g1 icons/complementary--chevron-left--g1.svg\n"
     ]
    },
    {
     "data": {
      "text/html": [
       "\n",
       "<style>\n",
       "    /* Turns off some styling */\n",
       "    progress {\n",
       "        /* gets rid of default border in Firefox and Opera. */\n",
       "        border: none;\n",
       "        /* Needs to be in here for Safari polyfill so background images work as expected. */\n",
       "        background-size: auto;\n",
       "    }\n",
       "    .progress-bar-interrupted, .progress-bar-interrupted::-webkit-progress-bar {\n",
       "        background: #F44336;\n",
       "    }\n",
       "</style>\n"
      ],
      "text/plain": [
       "<IPython.core.display.HTML object>"
      ]
     },
     "metadata": {},
     "output_type": "display_data"
    },
    {
     "data": {
      "text/html": [
       "<table border=\"1\" class=\"dataframe\">\n",
       "  <thead>\n",
       "    <tr style=\"text-align: left;\">\n",
       "      <th>epoch</th>\n",
       "      <th>train_loss</th>\n",
       "      <th>valid_loss</th>\n",
       "      <th>error_rate</th>\n",
       "      <th>time</th>\n",
       "    </tr>\n",
       "  </thead>\n",
       "  <tbody>\n",
       "    <tr>\n",
       "      <td>0</td>\n",
       "      <td>3.031179</td>\n",
       "      <td>5.601538</td>\n",
       "      <td>0.871123</td>\n",
       "      <td>00:31</td>\n",
       "    </tr>\n",
       "    <tr>\n",
       "      <td>1</td>\n",
       "      <td>2.167284</td>\n",
       "      <td>5.218641</td>\n",
       "      <td>0.818565</td>\n",
       "      <td>00:30</td>\n",
       "    </tr>\n",
       "    <tr>\n",
       "      <td>2</td>\n",
       "      <td>1.386633</td>\n",
       "      <td>4.622600</td>\n",
       "      <td>0.736669</td>\n",
       "      <td>00:29</td>\n",
       "    </tr>\n",
       "    <tr>\n",
       "      <td>3</td>\n",
       "      <td>0.847007</td>\n",
       "      <td>4.701922</td>\n",
       "      <td>0.712257</td>\n",
       "      <td>00:30</td>\n",
       "    </tr>\n",
       "    <tr>\n",
       "      <td>4</td>\n",
       "      <td>0.544369</td>\n",
       "      <td>4.392797</td>\n",
       "      <td>0.669980</td>\n",
       "      <td>00:30</td>\n",
       "    </tr>\n",
       "    <tr>\n",
       "      <td>5</td>\n",
       "      <td>0.381517</td>\n",
       "      <td>4.105965</td>\n",
       "      <td>0.625007</td>\n",
       "      <td>00:31</td>\n",
       "    </tr>\n",
       "    <tr>\n",
       "      <td>6</td>\n",
       "      <td>0.280622</td>\n",
       "      <td>3.848773</td>\n",
       "      <td>0.580694</td>\n",
       "      <td>00:30</td>\n",
       "    </tr>\n",
       "    <tr>\n",
       "      <td>7</td>\n",
       "      <td>0.212546</td>\n",
       "      <td>3.584036</td>\n",
       "      <td>0.544663</td>\n",
       "      <td>00:29</td>\n",
       "    </tr>\n",
       "    <tr>\n",
       "      <td>8</td>\n",
       "      <td>0.170309</td>\n",
       "      <td>3.524228</td>\n",
       "      <td>0.538058</td>\n",
       "      <td>00:31</td>\n",
       "    </tr>\n",
       "    <tr>\n",
       "      <td>9</td>\n",
       "      <td>0.141544</td>\n",
       "      <td>3.457462</td>\n",
       "      <td>0.532966</td>\n",
       "      <td>00:31</td>\n",
       "    </tr>\n",
       "    <tr>\n",
       "      <td>10</td>\n",
       "      <td>0.115650</td>\n",
       "      <td>3.160331</td>\n",
       "      <td>0.483735</td>\n",
       "      <td>00:32</td>\n",
       "    </tr>\n",
       "    <tr>\n",
       "      <td>11</td>\n",
       "      <td>0.098234</td>\n",
       "      <td>3.106721</td>\n",
       "      <td>0.486839</td>\n",
       "      <td>00:30</td>\n",
       "    </tr>\n",
       "    <tr>\n",
       "      <td>12</td>\n",
       "      <td>0.086181</td>\n",
       "      <td>2.954199</td>\n",
       "      <td>0.462980</td>\n",
       "      <td>00:30</td>\n",
       "    </tr>\n",
       "    <tr>\n",
       "      <td>13</td>\n",
       "      <td>0.078989</td>\n",
       "      <td>3.066718</td>\n",
       "      <td>0.477693</td>\n",
       "      <td>00:30</td>\n",
       "    </tr>\n",
       "    <tr>\n",
       "      <td>14</td>\n",
       "      <td>0.074979</td>\n",
       "      <td>3.032655</td>\n",
       "      <td>0.473474</td>\n",
       "      <td>00:30</td>\n",
       "    </tr>\n",
       "  </tbody>\n",
       "</table>"
      ],
      "text/plain": [
       "<IPython.core.display.HTML object>"
      ]
     },
     "metadata": {},
     "output_type": "display_data"
    },
    {
     "name": "stdout",
     "output_type": "stream",
     "text": [
      "icon: complementary--chevron-left--g2 icons/complementary--chevron-left--g2.svg\n",
      "icon: complementary--chevron-left--g3 icons/complementary--chevron-left--g3.svg\n",
      "icon: complementary--chevron-left--g4 icons/complementary--chevron-left--g4.svg\n",
      "icon: complementary--chevron-left--g5 icons/complementary--chevron-left--g5.svg\n"
     ]
    }
   ],
   "source": [
    "learn = vision_learner(dls, resnet50, metrics=[error_rate])\n",
    "learn.dls.train.get_idxs = types.MethodType(sample_epoch, learn.dls.train)\n",
    "learn.fine_tune(15)"
   ]
  },
  {
   "cell_type": "code",
   "execution_count": null,
   "id": "f7443438",
   "metadata": {},
   "outputs": [],
   "source": [
    "chevrons = val.loc[val['label'].str.startswith('complementary--chevron-left')].copy()\n",
    "chevrons['corrected'] = chevrons['label']"
   ]
  },
  {
   "cell_type": "code",
   "execution_count": null,
   "id": "464dc276",
   "metadata": {},
   "outputs": [
    {
     "data": {
      "text/plain": [
       "0.06056236481614996"
      ]
     },
     "execution_count": null,
     "metadata": {},
     "output_type": "execute_result"
    }
   ],
   "source": [
    "(chevrons['pred'] != chevrons['label']).mean()"
   ]
  },
  {
   "cell_type": "code",
   "execution_count": null,
   "id": "8a56d55a",
   "metadata": {},
   "outputs": [],
   "source": [
    "class MLfixFile2:\n",
    "    def __init__(self, df, label='label', sort='score', group=None, invalid_group='invalid', group_labels=[], text=None, **opts):\n",
    "        self.df = df\n",
    "        self.opts = opts\n",
    "        self.group_labels = group_labels\n",
    "        self.invalid_group = invalid_group\n",
    "        if invalid_group not in self.group_labels: self.group_labels.append(invalid_group)\n",
    "        self.label_col = label\n",
    "        self.sort_col = sort\n",
    "        self.group_col = group\n",
    "        self.text_col = text\n",
    "        if self.label_col in df:\n",
    "            self.clusters = []\n",
    "            for name,rows in df.groupby(self.label_col):\n",
    "                self.add_group(name, rows)\n",
    "        if self.group_col not in df:\n",
    "            df[self.group_col] = pd.Series([], dtype=object)\n",
    "            \n",
    "    def add_group(self, name, rows):\n",
    "        if self.sort_col in rows:\n",
    "            rows = rows.sort_values(self.sort_col)\n",
    "        photos = []\n",
    "        for row in rows.itertuples():\n",
    "            photo = dict(dist_to_mean=0,\n",
    "                murl=str(row.fname),\n",
    "                idx=str(row.Index)\n",
    "            )\n",
    "            photo['group'] = getattr(row, self.group_col)\n",
    "            if self.text_col and hasattr(row, self.text_col):\n",
    "                photo['label'] = getattr(row, self.text_col)\n",
    "            photos.append(photo)\n",
    "        self.clusters.append(dict(\n",
    "            name = f\"{name}\",\n",
    "            photos = photos\n",
    "        ))\n",
    "\n",
    "    @cherrypy.expose\n",
    "    def icons(self, group):\n",
    "        return cherrypy.lib.static.serve_file(str(Path(self.opts['group_icons'][group]).absolute()))\n",
    "\n",
    "    def _cp_dispatch(self, vpath):\n",
    "        if len(vpath) > 1 and vpath[0] == 'icons' and 'group_icons' in self.opts:\n",
    "            cherrypy.request.params['group'] = vpath.pop(1)\n",
    "            return vpath\n",
    "\n",
    "        return vpath\n",
    "\n",
    "    @cherrypy.expose\n",
    "    def data(self):\n",
    "        data = self.opts.copy()\n",
    "        data['invalid_group'] = self.invalid_group\n",
    "        data['labeled_clusters'] = self.clusters\n",
    "        data['group_labels'] = self.group_labels\n",
    "        return json.dumps(data)\n",
    "\n",
    "    @cherrypy.expose\n",
    "    def set_group(self, idx, group):\n",
    "        print(idx, '-> group:', group)\n",
    "        self.df.at[idx,self.group_col] = group\n",
    "        \n",
    "    def display(self):\n",
    "        cherrypy.tree.mount(self, '/', {\n",
    "            '/': {\n",
    "                'tools.staticdir.on': True,\n",
    "                'tools.staticdir.dir': Path('../bing-manual').absolute(),\n",
    "                'tools.staticdir.index': 'index.html',\n",
    "            },\n",
    "            '/imgs': {\n",
    "                'tools.staticdir.on': True,\n",
    "                'tools.staticdir.dir': path.absolute(),\n",
    "            }\n",
    "        })\n",
    "        frameid = 'mlfix-' + ''.join(random.choices(string.ascii_letters + string.digits, k=5))\n",
    "        display(HTML(\"\"\"\n",
    "        <style>\n",
    "            .mlfix-container {\n",
    "                position: relative;\n",
    "                background-color: white;\n",
    "            }\n",
    "            .mlfix-fullscreen {\n",
    "                width: 100%;\n",
    "                height: 100%;\n",
    "                position: absolute;\n",
    "                top: 0;\n",
    "                left: 0;\n",
    "                z-index: 10000;\n",
    "            }\n",
    "            .mlfix-fullscreen iframe {\n",
    "                height: 100%;\n",
    "            }\n",
    "        </style>\n",
    "        <div id=\"\"\"+frameid+\"\"\"-container class=mlfix-container>\n",
    "            <iframe id=\"\"\"+frameid+\"\"\" src=\"/proxy/\"\"\"+str(cherrypy.server.bound_addr[1])+\"\"\"/#\"\"\"+frameid+\"\"\"\"\n",
    "                width=\"100%\" height=\"500px\" frameborder=\"0\" allowfullscreen></iframe>\n",
    "            <script>(function () {\n",
    "                var iframe = document.getElementById('\"\"\"+frameid+\"\"\"');\n",
    "                var outputEl = iframe.parentNode;\n",
    "                var parentEl = outputEl.parentNode;\n",
    "                console.log('MLfix init:', outputEl, parentEl);\n",
    "                var bringMLfixIframeToFocus = function() {\n",
    "                    iframe.contentWindow.focus();\n",
    "                }\n",
    "                setTimeout(bringMLfixIframeToFocus, 100);\n",
    "\n",
    "                var isFullscreen = false;\n",
    "                var parentEl;\n",
    "                window.addEventListener('message', (ev) => {\n",
    "                    //console.log('window message:', ev.data);\n",
    "                    if (ev.data == 'mlfix-toggle-fullscreen-\"\"\"+frameid+\"\"\"') {\n",
    "                        if (!isFullscreen) {\n",
    "                            $(outputEl).appendTo(document.body).addClass('mlfix-fullscreen');\n",
    "                        } else {\n",
    "                            $(outputEl).appendTo(parentEl).removeClass('mlfix-fullscreen');\n",
    "                        }\n",
    "                        isFullscreen = !isFullscreen;\n",
    "                        console.log('fullscreen', isFullscreen);\n",
    "                        setTimeout(bringMLfixIframeToFocus, 100);\n",
    "                    }\n",
    "                });\n",
    "            })();</script>\n",
    "        </div>\n",
    "        \"\"\"))"
   ]
  },
  {
   "cell_type": "code",
   "execution_count": null,
   "id": "9dfe217f",
   "metadata": {},
   "outputs": [
    {
     "data": {
      "text/html": [
       "\n",
       "        <style>\n",
       "            .mlfix-container {\n",
       "                position: relative;\n",
       "                background-color: white;\n",
       "            }\n",
       "            .mlfix-fullscreen {\n",
       "                width: 100%;\n",
       "                height: 100%;\n",
       "                position: absolute;\n",
       "                top: 0;\n",
       "                left: 0;\n",
       "                z-index: 10000;\n",
       "            }\n",
       "            .mlfix-fullscreen iframe {\n",
       "                height: 100%;\n",
       "            }\n",
       "        </style>\n",
       "        <div id=mlfix-mKb3g-container class=mlfix-container>\n",
       "            <iframe id=mlfix-mKb3g src=\"/proxy/37475/#mlfix-mKb3g\"\n",
       "                width=\"100%\" height=\"500px\" frameborder=\"0\" allowfullscreen></iframe>\n",
       "            <script>(function () {\n",
       "                var iframe = document.getElementById('mlfix-mKb3g');\n",
       "                var outputEl = iframe.parentNode;\n",
       "                var parentEl = outputEl.parentNode;\n",
       "                console.log('MLfix init:', outputEl, parentEl);\n",
       "                var bringMLfixIframeToFocus = function() {\n",
       "                    iframe.contentWindow.focus();\n",
       "                }\n",
       "                setTimeout(bringMLfixIframeToFocus, 100);\n",
       "\n",
       "                var isFullscreen = false;\n",
       "                var parentEl;\n",
       "                window.addEventListener('message', (ev) => {\n",
       "                    //console.log('window message:', ev.data);\n",
       "                    if (ev.data == 'mlfix-toggle-fullscreen-mlfix-mKb3g') {\n",
       "                        if (!isFullscreen) {\n",
       "                            $(outputEl).appendTo(document.body).addClass('mlfix-fullscreen');\n",
       "                        } else {\n",
       "                            $(outputEl).appendTo(parentEl).removeClass('mlfix-fullscreen');\n",
       "                        }\n",
       "                        isFullscreen = !isFullscreen;\n",
       "                        console.log('fullscreen', isFullscreen);\n",
       "                        setTimeout(bringMLfixIframeToFocus, 100);\n",
       "                    }\n",
       "                });\n",
       "            })();</script>\n",
       "        </div>\n",
       "        "
      ],
      "text/plain": [
       "<IPython.core.display.HTML object>"
      ]
     },
     "metadata": {},
     "output_type": "display_data"
    },
    {
     "name": "stdout",
     "output_type": "stream",
     "text": [
      "complementary--chevron-left--g1/fkzkWuTzvxZmOrETtfAzbg-0.jpg -> group: complementary--chevron-left--g3\n",
      "complementary--chevron-left--g1/fkzkWuTzvxZmOrETtfAzbg-0.jpg -> group: complementary--chevron-left--g2\n",
      "complementary--chevron-left--g1/_AMTVNEBtCJ6x7RY1XViBA-1.jpg -> group: complementary--chevron-left--g1\n",
      "complementary--chevron-left--g1/fkzkWuTzvxZmOrETtfAzbg-0.jpg -> group: complementary--chevron-left--g1\n",
      "complementary--chevron-left--g1/3xEUQ8B8rcNMBi9VHrZJ3Q-2.jpg -> group: complementary--chevron-left--g2\n",
      "complementary--chevron-left--g1/oidhlZX2u1bYpfKVPuxUhQ-5.jpg -> group: complementary--chevron-left--g2\n",
      "complementary--chevron-left--g1/oidhlZX2u1bYpfKVPuxUhQ-5.jpg -> group: complementary--chevron-left--g1\n",
      "complementary--chevron-left--g1/3xEUQ8B8rcNMBi9VHrZJ3Q-2.jpg -> group: complementary--chevron-left--g1\n",
      "complementary--chevron-left--g1/3xEUQ8B8rcNMBi9VHrZJ3Q-2.jpg -> group: complementary--chevron-left--g2\n",
      "complementary--chevron-left--g1/3xEUQ8B8rcNMBi9VHrZJ3Q-2.jpg -> group: complementary--chevron-left--g1\n",
      "complementary--chevron-left--g1/C84mG_IQy_zHuuTz-Yw7OA-6.jpg -> group: complementary--chevron-left--g1\n"
     ]
    }
   ],
   "source": [
    "chevron_groups = [\n",
    "        \"complementary--chevron-left--g1\",\n",
    "        \"complementary--chevron-left--g2\",\n",
    "        \"complementary--chevron-left--g3\",\n",
    "        \"complementary--chevron-left--g4\",\n",
    "        \"complementary--chevron-left--g5\",\n",
    "]\n",
    "MLfixFile2(\n",
    "    chevrons,\n",
    "    label='label',\n",
    "    group='corrected',\n",
    "    sort='loss',\n",
    "    size=200,\n",
    "    group_labels=chevron_groups,\n",
    "    group_icons={x:'icons/' + x + '.svg' for x in chevron_groups}\n",
    ").display()"
   ]
  },
  {
   "cell_type": "code",
   "execution_count": null,
   "id": "2b0702dc",
   "metadata": {},
   "outputs": [
    {
     "data": {
      "text/html": [
       "<div>\n",
       "<style scoped>\n",
       "    .dataframe tbody tr th:only-of-type {\n",
       "        vertical-align: middle;\n",
       "    }\n",
       "\n",
       "    .dataframe tbody tr th {\n",
       "        vertical-align: top;\n",
       "    }\n",
       "\n",
       "    .dataframe thead th {\n",
       "        text-align: right;\n",
       "    }\n",
       "</style>\n",
       "<table border=\"1\" class=\"dataframe\">\n",
       "  <thead>\n",
       "    <tr style=\"text-align: right;\">\n",
       "      <th></th>\n",
       "      <th>fname</th>\n",
       "      <th>label</th>\n",
       "      <th>invalid</th>\n",
       "      <th>valid</th>\n",
       "      <th>pred</th>\n",
       "      <th>loss</th>\n",
       "      <th>corrected</th>\n",
       "      <th>None</th>\n",
       "    </tr>\n",
       "  </thead>\n",
       "  <tbody>\n",
       "    <tr>\n",
       "      <th>complementary--chevron-left--g1/STw8jbaiKJHgTt7clHYX7w-14.jpg</th>\n",
       "      <td>complementary--chevron-left--g1/STw8jbaiKJHgTt7clHYX7w-14.jpg</td>\n",
       "      <td>complementary--chevron-left--g1</td>\n",
       "      <td>False</td>\n",
       "      <td>True</td>\n",
       "      <td>complementary--chevron-left--g1</td>\n",
       "      <td>-0.291499</td>\n",
       "      <td>complementary--chevron-left--g5</td>\n",
       "      <td>NaN</td>\n",
       "    </tr>\n",
       "    <tr>\n",
       "      <th>complementary--chevron-left--g1/3KIZfTdWpV-RntKDkiwdHw-2.jpg</th>\n",
       "      <td>complementary--chevron-left--g1/3KIZfTdWpV-RntKDkiwdHw-2.jpg</td>\n",
       "      <td>complementary--chevron-left--g1</td>\n",
       "      <td>False</td>\n",
       "      <td>True</td>\n",
       "      <td>complementary--chevron-left--g1</td>\n",
       "      <td>-0.108359</td>\n",
       "      <td>complementary--chevron-left--g2</td>\n",
       "      <td>NaN</td>\n",
       "    </tr>\n",
       "    <tr>\n",
       "      <th>complementary--chevron-left--g1/gMAw7IVKlvCOfTXD1u2Byw-2.jpg</th>\n",
       "      <td>complementary--chevron-left--g1/gMAw7IVKlvCOfTXD1u2Byw-2.jpg</td>\n",
       "      <td>complementary--chevron-left--g1</td>\n",
       "      <td>False</td>\n",
       "      <td>True</td>\n",
       "      <td>complementary--chevron-left--g1</td>\n",
       "      <td>-0.003712</td>\n",
       "      <td>complementary--chevron-left--g2</td>\n",
       "      <td>NaN</td>\n",
       "    </tr>\n",
       "    <tr>\n",
       "      <th>complementary--chevron-left--g1/KwvXmPhc8Jw0WZTEXGCPVg-0.jpg</th>\n",
       "      <td>complementary--chevron-left--g1/KwvXmPhc8Jw0WZTEXGCPVg-0.jpg</td>\n",
       "      <td>complementary--chevron-left--g1</td>\n",
       "      <td>False</td>\n",
       "      <td>True</td>\n",
       "      <td>complementary--chevron-left--g1</td>\n",
       "      <td>-0.002079</td>\n",
       "      <td>complementary--chevron-left--g5</td>\n",
       "      <td>NaN</td>\n",
       "    </tr>\n",
       "    <tr>\n",
       "      <th>complementary--chevron-left--g1/_I8ij42B8f1iuNfm9GkA8Q-2.jpg</th>\n",
       "      <td>complementary--chevron-left--g1/_I8ij42B8f1iuNfm9GkA8Q-2.jpg</td>\n",
       "      <td>complementary--chevron-left--g1</td>\n",
       "      <td>False</td>\n",
       "      <td>True</td>\n",
       "      <td>complementary--chevron-left--g1</td>\n",
       "      <td>-0.055953</td>\n",
       "      <td>invalid</td>\n",
       "      <td>True</td>\n",
       "    </tr>\n",
       "    <tr>\n",
       "      <th>...</th>\n",
       "      <td>...</td>\n",
       "      <td>...</td>\n",
       "      <td>...</td>\n",
       "      <td>...</td>\n",
       "      <td>...</td>\n",
       "      <td>...</td>\n",
       "      <td>...</td>\n",
       "      <td>...</td>\n",
       "    </tr>\n",
       "    <tr>\n",
       "      <th>complementary--chevron-left--g3/pQLC9vIPkZQaWjSfb-u6Dg-1.jpg</th>\n",
       "      <td>complementary--chevron-left--g3/pQLC9vIPkZQaWjSfb-u6Dg-1.jpg</td>\n",
       "      <td>complementary--chevron-left--g3</td>\n",
       "      <td>False</td>\n",
       "      <td>True</td>\n",
       "      <td>complementary--chevron-left--g3</td>\n",
       "      <td>-0.000093</td>\n",
       "      <td>complementary--chevron-left--g4</td>\n",
       "      <td>NaN</td>\n",
       "    </tr>\n",
       "    <tr>\n",
       "      <th>complementary--chevron-left--g3/Fc0_DtAb--TZwvZxLlL6dA-8.jpg</th>\n",
       "      <td>complementary--chevron-left--g3/Fc0_DtAb--TZwvZxLlL6dA-8.jpg</td>\n",
       "      <td>complementary--chevron-left--g3</td>\n",
       "      <td>False</td>\n",
       "      <td>True</td>\n",
       "      <td>complementary--chevron-left--g3</td>\n",
       "      <td>-0.000986</td>\n",
       "      <td>invalid</td>\n",
       "      <td>True</td>\n",
       "    </tr>\n",
       "    <tr>\n",
       "      <th>complementary--chevron-left--g3/Nn24AzuwNxYdRIFeI2AoXA-1.jpg</th>\n",
       "      <td>complementary--chevron-left--g3/Nn24AzuwNxYdRIFeI2AoXA-1.jpg</td>\n",
       "      <td>complementary--chevron-left--g3</td>\n",
       "      <td>False</td>\n",
       "      <td>True</td>\n",
       "      <td>complementary--chevron-left--g3</td>\n",
       "      <td>-0.000045</td>\n",
       "      <td>complementary--chevron-left--g4</td>\n",
       "      <td>NaN</td>\n",
       "    </tr>\n",
       "    <tr>\n",
       "      <th>complementary--chevron-left--g5/dJWXQSPEq0xTRT5Zt-oyag-9.jpg</th>\n",
       "      <td>complementary--chevron-left--g5/dJWXQSPEq0xTRT5Zt-oyag-9.jpg</td>\n",
       "      <td>complementary--chevron-left--g5</td>\n",
       "      <td>False</td>\n",
       "      <td>True</td>\n",
       "      <td>complementary--chevron-left--g1</td>\n",
       "      <td>-8.979251</td>\n",
       "      <td>complementary--chevron-left--g1</td>\n",
       "      <td>NaN</td>\n",
       "    </tr>\n",
       "    <tr>\n",
       "      <th>complementary--chevron-left--g5/VbMRhDzyck31LEuK-Et5ug-2.jpg</th>\n",
       "      <td>complementary--chevron-left--g5/VbMRhDzyck31LEuK-Et5ug-2.jpg</td>\n",
       "      <td>complementary--chevron-left--g5</td>\n",
       "      <td>False</td>\n",
       "      <td>True</td>\n",
       "      <td>complementary--chevron-right--g5</td>\n",
       "      <td>-2.192956</td>\n",
       "      <td>invalid</td>\n",
       "      <td>True</td>\n",
       "    </tr>\n",
       "  </tbody>\n",
       "</table>\n",
       "<p>322 rows × 8 columns</p>\n",
       "</div>"
      ],
      "text/plain": [
       "                                                                                                                       fname  \\\n",
       "complementary--chevron-left--g1/STw8jbaiKJHgTt7clHYX7w-14.jpg  complementary--chevron-left--g1/STw8jbaiKJHgTt7clHYX7w-14.jpg   \n",
       "complementary--chevron-left--g1/3KIZfTdWpV-RntKDkiwdHw-2.jpg    complementary--chevron-left--g1/3KIZfTdWpV-RntKDkiwdHw-2.jpg   \n",
       "complementary--chevron-left--g1/gMAw7IVKlvCOfTXD1u2Byw-2.jpg    complementary--chevron-left--g1/gMAw7IVKlvCOfTXD1u2Byw-2.jpg   \n",
       "complementary--chevron-left--g1/KwvXmPhc8Jw0WZTEXGCPVg-0.jpg    complementary--chevron-left--g1/KwvXmPhc8Jw0WZTEXGCPVg-0.jpg   \n",
       "complementary--chevron-left--g1/_I8ij42B8f1iuNfm9GkA8Q-2.jpg    complementary--chevron-left--g1/_I8ij42B8f1iuNfm9GkA8Q-2.jpg   \n",
       "...                                                                                                                      ...   \n",
       "complementary--chevron-left--g3/pQLC9vIPkZQaWjSfb-u6Dg-1.jpg    complementary--chevron-left--g3/pQLC9vIPkZQaWjSfb-u6Dg-1.jpg   \n",
       "complementary--chevron-left--g3/Fc0_DtAb--TZwvZxLlL6dA-8.jpg    complementary--chevron-left--g3/Fc0_DtAb--TZwvZxLlL6dA-8.jpg   \n",
       "complementary--chevron-left--g3/Nn24AzuwNxYdRIFeI2AoXA-1.jpg    complementary--chevron-left--g3/Nn24AzuwNxYdRIFeI2AoXA-1.jpg   \n",
       "complementary--chevron-left--g5/dJWXQSPEq0xTRT5Zt-oyag-9.jpg    complementary--chevron-left--g5/dJWXQSPEq0xTRT5Zt-oyag-9.jpg   \n",
       "complementary--chevron-left--g5/VbMRhDzyck31LEuK-Et5ug-2.jpg    complementary--chevron-left--g5/VbMRhDzyck31LEuK-Et5ug-2.jpg   \n",
       "\n",
       "                                                                                         label  \\\n",
       "complementary--chevron-left--g1/STw8jbaiKJHgTt7clHYX7w-14.jpg  complementary--chevron-left--g1   \n",
       "complementary--chevron-left--g1/3KIZfTdWpV-RntKDkiwdHw-2.jpg   complementary--chevron-left--g1   \n",
       "complementary--chevron-left--g1/gMAw7IVKlvCOfTXD1u2Byw-2.jpg   complementary--chevron-left--g1   \n",
       "complementary--chevron-left--g1/KwvXmPhc8Jw0WZTEXGCPVg-0.jpg   complementary--chevron-left--g1   \n",
       "complementary--chevron-left--g1/_I8ij42B8f1iuNfm9GkA8Q-2.jpg   complementary--chevron-left--g1   \n",
       "...                                                                                        ...   \n",
       "complementary--chevron-left--g3/pQLC9vIPkZQaWjSfb-u6Dg-1.jpg   complementary--chevron-left--g3   \n",
       "complementary--chevron-left--g3/Fc0_DtAb--TZwvZxLlL6dA-8.jpg   complementary--chevron-left--g3   \n",
       "complementary--chevron-left--g3/Nn24AzuwNxYdRIFeI2AoXA-1.jpg   complementary--chevron-left--g3   \n",
       "complementary--chevron-left--g5/dJWXQSPEq0xTRT5Zt-oyag-9.jpg   complementary--chevron-left--g5   \n",
       "complementary--chevron-left--g5/VbMRhDzyck31LEuK-Et5ug-2.jpg   complementary--chevron-left--g5   \n",
       "\n",
       "                                                               invalid  valid  \\\n",
       "complementary--chevron-left--g1/STw8jbaiKJHgTt7clHYX7w-14.jpg    False   True   \n",
       "complementary--chevron-left--g1/3KIZfTdWpV-RntKDkiwdHw-2.jpg     False   True   \n",
       "complementary--chevron-left--g1/gMAw7IVKlvCOfTXD1u2Byw-2.jpg     False   True   \n",
       "complementary--chevron-left--g1/KwvXmPhc8Jw0WZTEXGCPVg-0.jpg     False   True   \n",
       "complementary--chevron-left--g1/_I8ij42B8f1iuNfm9GkA8Q-2.jpg     False   True   \n",
       "...                                                                ...    ...   \n",
       "complementary--chevron-left--g3/pQLC9vIPkZQaWjSfb-u6Dg-1.jpg     False   True   \n",
       "complementary--chevron-left--g3/Fc0_DtAb--TZwvZxLlL6dA-8.jpg     False   True   \n",
       "complementary--chevron-left--g3/Nn24AzuwNxYdRIFeI2AoXA-1.jpg     False   True   \n",
       "complementary--chevron-left--g5/dJWXQSPEq0xTRT5Zt-oyag-9.jpg     False   True   \n",
       "complementary--chevron-left--g5/VbMRhDzyck31LEuK-Et5ug-2.jpg     False   True   \n",
       "\n",
       "                                                                                           pred  \\\n",
       "complementary--chevron-left--g1/STw8jbaiKJHgTt7clHYX7w-14.jpg   complementary--chevron-left--g1   \n",
       "complementary--chevron-left--g1/3KIZfTdWpV-RntKDkiwdHw-2.jpg    complementary--chevron-left--g1   \n",
       "complementary--chevron-left--g1/gMAw7IVKlvCOfTXD1u2Byw-2.jpg    complementary--chevron-left--g1   \n",
       "complementary--chevron-left--g1/KwvXmPhc8Jw0WZTEXGCPVg-0.jpg    complementary--chevron-left--g1   \n",
       "complementary--chevron-left--g1/_I8ij42B8f1iuNfm9GkA8Q-2.jpg    complementary--chevron-left--g1   \n",
       "...                                                                                         ...   \n",
       "complementary--chevron-left--g3/pQLC9vIPkZQaWjSfb-u6Dg-1.jpg    complementary--chevron-left--g3   \n",
       "complementary--chevron-left--g3/Fc0_DtAb--TZwvZxLlL6dA-8.jpg    complementary--chevron-left--g3   \n",
       "complementary--chevron-left--g3/Nn24AzuwNxYdRIFeI2AoXA-1.jpg    complementary--chevron-left--g3   \n",
       "complementary--chevron-left--g5/dJWXQSPEq0xTRT5Zt-oyag-9.jpg    complementary--chevron-left--g1   \n",
       "complementary--chevron-left--g5/VbMRhDzyck31LEuK-Et5ug-2.jpg   complementary--chevron-right--g5   \n",
       "\n",
       "                                                                   loss  \\\n",
       "complementary--chevron-left--g1/STw8jbaiKJHgTt7clHYX7w-14.jpg -0.291499   \n",
       "complementary--chevron-left--g1/3KIZfTdWpV-RntKDkiwdHw-2.jpg  -0.108359   \n",
       "complementary--chevron-left--g1/gMAw7IVKlvCOfTXD1u2Byw-2.jpg  -0.003712   \n",
       "complementary--chevron-left--g1/KwvXmPhc8Jw0WZTEXGCPVg-0.jpg  -0.002079   \n",
       "complementary--chevron-left--g1/_I8ij42B8f1iuNfm9GkA8Q-2.jpg  -0.055953   \n",
       "...                                                                 ...   \n",
       "complementary--chevron-left--g3/pQLC9vIPkZQaWjSfb-u6Dg-1.jpg  -0.000093   \n",
       "complementary--chevron-left--g3/Fc0_DtAb--TZwvZxLlL6dA-8.jpg  -0.000986   \n",
       "complementary--chevron-left--g3/Nn24AzuwNxYdRIFeI2AoXA-1.jpg  -0.000045   \n",
       "complementary--chevron-left--g5/dJWXQSPEq0xTRT5Zt-oyag-9.jpg  -8.979251   \n",
       "complementary--chevron-left--g5/VbMRhDzyck31LEuK-Et5ug-2.jpg  -2.192956   \n",
       "\n",
       "                                                                                     corrected  \\\n",
       "complementary--chevron-left--g1/STw8jbaiKJHgTt7clHYX7w-14.jpg  complementary--chevron-left--g5   \n",
       "complementary--chevron-left--g1/3KIZfTdWpV-RntKDkiwdHw-2.jpg   complementary--chevron-left--g2   \n",
       "complementary--chevron-left--g1/gMAw7IVKlvCOfTXD1u2Byw-2.jpg   complementary--chevron-left--g2   \n",
       "complementary--chevron-left--g1/KwvXmPhc8Jw0WZTEXGCPVg-0.jpg   complementary--chevron-left--g5   \n",
       "complementary--chevron-left--g1/_I8ij42B8f1iuNfm9GkA8Q-2.jpg                           invalid   \n",
       "...                                                                                        ...   \n",
       "complementary--chevron-left--g3/pQLC9vIPkZQaWjSfb-u6Dg-1.jpg   complementary--chevron-left--g4   \n",
       "complementary--chevron-left--g3/Fc0_DtAb--TZwvZxLlL6dA-8.jpg                           invalid   \n",
       "complementary--chevron-left--g3/Nn24AzuwNxYdRIFeI2AoXA-1.jpg   complementary--chevron-left--g4   \n",
       "complementary--chevron-left--g5/dJWXQSPEq0xTRT5Zt-oyag-9.jpg   complementary--chevron-left--g1   \n",
       "complementary--chevron-left--g5/VbMRhDzyck31LEuK-Et5ug-2.jpg                           invalid   \n",
       "\n",
       "                                                               None  \n",
       "complementary--chevron-left--g1/STw8jbaiKJHgTt7clHYX7w-14.jpg   NaN  \n",
       "complementary--chevron-left--g1/3KIZfTdWpV-RntKDkiwdHw-2.jpg    NaN  \n",
       "complementary--chevron-left--g1/gMAw7IVKlvCOfTXD1u2Byw-2.jpg    NaN  \n",
       "complementary--chevron-left--g1/KwvXmPhc8Jw0WZTEXGCPVg-0.jpg    NaN  \n",
       "complementary--chevron-left--g1/_I8ij42B8f1iuNfm9GkA8Q-2.jpg   True  \n",
       "...                                                             ...  \n",
       "complementary--chevron-left--g3/pQLC9vIPkZQaWjSfb-u6Dg-1.jpg    NaN  \n",
       "complementary--chevron-left--g3/Fc0_DtAb--TZwvZxLlL6dA-8.jpg   True  \n",
       "complementary--chevron-left--g3/Nn24AzuwNxYdRIFeI2AoXA-1.jpg    NaN  \n",
       "complementary--chevron-left--g5/dJWXQSPEq0xTRT5Zt-oyag-9.jpg    NaN  \n",
       "complementary--chevron-left--g5/VbMRhDzyck31LEuK-Et5ug-2.jpg   True  \n",
       "\n",
       "[322 rows x 8 columns]"
      ]
     },
     "execution_count": null,
     "metadata": {},
     "output_type": "execute_result"
    }
   ],
   "source": [
    "chevrons[chevrons['corrected'] != chevrons['label']]"
   ]
  },
  {
   "cell_type": "code",
   "execution_count": null,
   "id": "9360e382",
   "metadata": {},
   "outputs": [
    {
     "data": {
      "text/html": [
       "<div>\n",
       "<style scoped>\n",
       "    .dataframe tbody tr th:only-of-type {\n",
       "        vertical-align: middle;\n",
       "    }\n",
       "\n",
       "    .dataframe tbody tr th {\n",
       "        vertical-align: top;\n",
       "    }\n",
       "\n",
       "    .dataframe thead th {\n",
       "        text-align: right;\n",
       "    }\n",
       "</style>\n",
       "<table border=\"1\" class=\"dataframe\">\n",
       "  <thead>\n",
       "    <tr style=\"text-align: right;\">\n",
       "      <th></th>\n",
       "      <th>fname</th>\n",
       "      <th>label</th>\n",
       "      <th>invalid</th>\n",
       "      <th>valid</th>\n",
       "      <th>pred</th>\n",
       "      <th>loss</th>\n",
       "      <th>corrected</th>\n",
       "      <th>None</th>\n",
       "    </tr>\n",
       "  </thead>\n",
       "  <tbody>\n",
       "    <tr>\n",
       "      <th>complementary--chevron-left--g1/_I8ij42B8f1iuNfm9GkA8Q-2.jpg</th>\n",
       "      <td>complementary--chevron-left--g1/_I8ij42B8f1iuNfm9GkA8Q-2.jpg</td>\n",
       "      <td>complementary--chevron-left--g1</td>\n",
       "      <td>False</td>\n",
       "      <td>True</td>\n",
       "      <td>complementary--chevron-left--g1</td>\n",
       "      <td>-0.055953</td>\n",
       "      <td>invalid</td>\n",
       "      <td>True</td>\n",
       "    </tr>\n",
       "    <tr>\n",
       "      <th>complementary--chevron-left--g1/XMZKSQr0cuWLoFRMwWjTRQ-3.jpg</th>\n",
       "      <td>complementary--chevron-left--g1/XMZKSQr0cuWLoFRMwWjTRQ-3.jpg</td>\n",
       "      <td>complementary--chevron-left--g1</td>\n",
       "      <td>False</td>\n",
       "      <td>True</td>\n",
       "      <td>complementary--chevron-left--g1</td>\n",
       "      <td>-0.023959</td>\n",
       "      <td>invalid</td>\n",
       "      <td>True</td>\n",
       "    </tr>\n",
       "    <tr>\n",
       "      <th>complementary--chevron-left--g1/o3OE1AfaAwiro0b-effwnQ-7.jpg</th>\n",
       "      <td>complementary--chevron-left--g1/o3OE1AfaAwiro0b-effwnQ-7.jpg</td>\n",
       "      <td>complementary--chevron-left--g1</td>\n",
       "      <td>False</td>\n",
       "      <td>True</td>\n",
       "      <td>complementary--chevron-left--g1</td>\n",
       "      <td>-0.018589</td>\n",
       "      <td>invalid</td>\n",
       "      <td>True</td>\n",
       "    </tr>\n",
       "    <tr>\n",
       "      <th>complementary--chevron-left--g1/UjwAOCv1G34khaBfgNuyJA-2.jpg</th>\n",
       "      <td>complementary--chevron-left--g1/UjwAOCv1G34khaBfgNuyJA-2.jpg</td>\n",
       "      <td>complementary--chevron-left--g1</td>\n",
       "      <td>False</td>\n",
       "      <td>True</td>\n",
       "      <td>complementary--chevron-left--g1</td>\n",
       "      <td>-0.023150</td>\n",
       "      <td>invalid</td>\n",
       "      <td>True</td>\n",
       "    </tr>\n",
       "    <tr>\n",
       "      <th>complementary--chevron-left--g1/syczzNHsV2xOC8cmVtiZ7Q-4.jpg</th>\n",
       "      <td>complementary--chevron-left--g1/syczzNHsV2xOC8cmVtiZ7Q-4.jpg</td>\n",
       "      <td>complementary--chevron-left--g1</td>\n",
       "      <td>False</td>\n",
       "      <td>True</td>\n",
       "      <td>complementary--chevron-left--g1</td>\n",
       "      <td>-0.001950</td>\n",
       "      <td>invalid</td>\n",
       "      <td>True</td>\n",
       "    </tr>\n",
       "    <tr>\n",
       "      <th>...</th>\n",
       "      <td>...</td>\n",
       "      <td>...</td>\n",
       "      <td>...</td>\n",
       "      <td>...</td>\n",
       "      <td>...</td>\n",
       "      <td>...</td>\n",
       "      <td>...</td>\n",
       "      <td>...</td>\n",
       "    </tr>\n",
       "    <tr>\n",
       "      <th>complementary--chevron-left--g2/t5sAZajdwwyDcFFtZhFO5g-7.jpg</th>\n",
       "      <td>complementary--chevron-left--g2/t5sAZajdwwyDcFFtZhFO5g-7.jpg</td>\n",
       "      <td>complementary--chevron-left--g2</td>\n",
       "      <td>False</td>\n",
       "      <td>True</td>\n",
       "      <td>complementary--chevron-left--g2</td>\n",
       "      <td>-0.015914</td>\n",
       "      <td>invalid</td>\n",
       "      <td>True</td>\n",
       "    </tr>\n",
       "    <tr>\n",
       "      <th>complementary--chevron-left--g2/LhOBpYYM67G6qoHcmF-iPw-3.jpg</th>\n",
       "      <td>complementary--chevron-left--g2/LhOBpYYM67G6qoHcmF-iPw-3.jpg</td>\n",
       "      <td>complementary--chevron-left--g2</td>\n",
       "      <td>False</td>\n",
       "      <td>True</td>\n",
       "      <td>complementary--chevron-left--g2</td>\n",
       "      <td>-0.318769</td>\n",
       "      <td>invalid</td>\n",
       "      <td>True</td>\n",
       "    </tr>\n",
       "    <tr>\n",
       "      <th>complementary--chevron-left--g2/vcKJG0vrJkzB3E9I-W1-5g-3.jpg</th>\n",
       "      <td>complementary--chevron-left--g2/vcKJG0vrJkzB3E9I-W1-5g-3.jpg</td>\n",
       "      <td>complementary--chevron-left--g2</td>\n",
       "      <td>False</td>\n",
       "      <td>True</td>\n",
       "      <td>complementary--chevron-left--g2</td>\n",
       "      <td>-0.026636</td>\n",
       "      <td>invalid</td>\n",
       "      <td>True</td>\n",
       "    </tr>\n",
       "    <tr>\n",
       "      <th>complementary--chevron-left--g3/Fc0_DtAb--TZwvZxLlL6dA-8.jpg</th>\n",
       "      <td>complementary--chevron-left--g3/Fc0_DtAb--TZwvZxLlL6dA-8.jpg</td>\n",
       "      <td>complementary--chevron-left--g3</td>\n",
       "      <td>False</td>\n",
       "      <td>True</td>\n",
       "      <td>complementary--chevron-left--g3</td>\n",
       "      <td>-0.000986</td>\n",
       "      <td>invalid</td>\n",
       "      <td>True</td>\n",
       "    </tr>\n",
       "    <tr>\n",
       "      <th>complementary--chevron-left--g5/VbMRhDzyck31LEuK-Et5ug-2.jpg</th>\n",
       "      <td>complementary--chevron-left--g5/VbMRhDzyck31LEuK-Et5ug-2.jpg</td>\n",
       "      <td>complementary--chevron-left--g5</td>\n",
       "      <td>False</td>\n",
       "      <td>True</td>\n",
       "      <td>complementary--chevron-right--g5</td>\n",
       "      <td>-2.192956</td>\n",
       "      <td>invalid</td>\n",
       "      <td>True</td>\n",
       "    </tr>\n",
       "  </tbody>\n",
       "</table>\n",
       "<p>71 rows × 8 columns</p>\n",
       "</div>"
      ],
      "text/plain": [
       "                                                                                                                     fname  \\\n",
       "complementary--chevron-left--g1/_I8ij42B8f1iuNfm9GkA8Q-2.jpg  complementary--chevron-left--g1/_I8ij42B8f1iuNfm9GkA8Q-2.jpg   \n",
       "complementary--chevron-left--g1/XMZKSQr0cuWLoFRMwWjTRQ-3.jpg  complementary--chevron-left--g1/XMZKSQr0cuWLoFRMwWjTRQ-3.jpg   \n",
       "complementary--chevron-left--g1/o3OE1AfaAwiro0b-effwnQ-7.jpg  complementary--chevron-left--g1/o3OE1AfaAwiro0b-effwnQ-7.jpg   \n",
       "complementary--chevron-left--g1/UjwAOCv1G34khaBfgNuyJA-2.jpg  complementary--chevron-left--g1/UjwAOCv1G34khaBfgNuyJA-2.jpg   \n",
       "complementary--chevron-left--g1/syczzNHsV2xOC8cmVtiZ7Q-4.jpg  complementary--chevron-left--g1/syczzNHsV2xOC8cmVtiZ7Q-4.jpg   \n",
       "...                                                                                                                    ...   \n",
       "complementary--chevron-left--g2/t5sAZajdwwyDcFFtZhFO5g-7.jpg  complementary--chevron-left--g2/t5sAZajdwwyDcFFtZhFO5g-7.jpg   \n",
       "complementary--chevron-left--g2/LhOBpYYM67G6qoHcmF-iPw-3.jpg  complementary--chevron-left--g2/LhOBpYYM67G6qoHcmF-iPw-3.jpg   \n",
       "complementary--chevron-left--g2/vcKJG0vrJkzB3E9I-W1-5g-3.jpg  complementary--chevron-left--g2/vcKJG0vrJkzB3E9I-W1-5g-3.jpg   \n",
       "complementary--chevron-left--g3/Fc0_DtAb--TZwvZxLlL6dA-8.jpg  complementary--chevron-left--g3/Fc0_DtAb--TZwvZxLlL6dA-8.jpg   \n",
       "complementary--chevron-left--g5/VbMRhDzyck31LEuK-Et5ug-2.jpg  complementary--chevron-left--g5/VbMRhDzyck31LEuK-Et5ug-2.jpg   \n",
       "\n",
       "                                                                                        label  \\\n",
       "complementary--chevron-left--g1/_I8ij42B8f1iuNfm9GkA8Q-2.jpg  complementary--chevron-left--g1   \n",
       "complementary--chevron-left--g1/XMZKSQr0cuWLoFRMwWjTRQ-3.jpg  complementary--chevron-left--g1   \n",
       "complementary--chevron-left--g1/o3OE1AfaAwiro0b-effwnQ-7.jpg  complementary--chevron-left--g1   \n",
       "complementary--chevron-left--g1/UjwAOCv1G34khaBfgNuyJA-2.jpg  complementary--chevron-left--g1   \n",
       "complementary--chevron-left--g1/syczzNHsV2xOC8cmVtiZ7Q-4.jpg  complementary--chevron-left--g1   \n",
       "...                                                                                       ...   \n",
       "complementary--chevron-left--g2/t5sAZajdwwyDcFFtZhFO5g-7.jpg  complementary--chevron-left--g2   \n",
       "complementary--chevron-left--g2/LhOBpYYM67G6qoHcmF-iPw-3.jpg  complementary--chevron-left--g2   \n",
       "complementary--chevron-left--g2/vcKJG0vrJkzB3E9I-W1-5g-3.jpg  complementary--chevron-left--g2   \n",
       "complementary--chevron-left--g3/Fc0_DtAb--TZwvZxLlL6dA-8.jpg  complementary--chevron-left--g3   \n",
       "complementary--chevron-left--g5/VbMRhDzyck31LEuK-Et5ug-2.jpg  complementary--chevron-left--g5   \n",
       "\n",
       "                                                              invalid  valid  \\\n",
       "complementary--chevron-left--g1/_I8ij42B8f1iuNfm9GkA8Q-2.jpg    False   True   \n",
       "complementary--chevron-left--g1/XMZKSQr0cuWLoFRMwWjTRQ-3.jpg    False   True   \n",
       "complementary--chevron-left--g1/o3OE1AfaAwiro0b-effwnQ-7.jpg    False   True   \n",
       "complementary--chevron-left--g1/UjwAOCv1G34khaBfgNuyJA-2.jpg    False   True   \n",
       "complementary--chevron-left--g1/syczzNHsV2xOC8cmVtiZ7Q-4.jpg    False   True   \n",
       "...                                                               ...    ...   \n",
       "complementary--chevron-left--g2/t5sAZajdwwyDcFFtZhFO5g-7.jpg    False   True   \n",
       "complementary--chevron-left--g2/LhOBpYYM67G6qoHcmF-iPw-3.jpg    False   True   \n",
       "complementary--chevron-left--g2/vcKJG0vrJkzB3E9I-W1-5g-3.jpg    False   True   \n",
       "complementary--chevron-left--g3/Fc0_DtAb--TZwvZxLlL6dA-8.jpg    False   True   \n",
       "complementary--chevron-left--g5/VbMRhDzyck31LEuK-Et5ug-2.jpg    False   True   \n",
       "\n",
       "                                                                                          pred  \\\n",
       "complementary--chevron-left--g1/_I8ij42B8f1iuNfm9GkA8Q-2.jpg   complementary--chevron-left--g1   \n",
       "complementary--chevron-left--g1/XMZKSQr0cuWLoFRMwWjTRQ-3.jpg   complementary--chevron-left--g1   \n",
       "complementary--chevron-left--g1/o3OE1AfaAwiro0b-effwnQ-7.jpg   complementary--chevron-left--g1   \n",
       "complementary--chevron-left--g1/UjwAOCv1G34khaBfgNuyJA-2.jpg   complementary--chevron-left--g1   \n",
       "complementary--chevron-left--g1/syczzNHsV2xOC8cmVtiZ7Q-4.jpg   complementary--chevron-left--g1   \n",
       "...                                                                                        ...   \n",
       "complementary--chevron-left--g2/t5sAZajdwwyDcFFtZhFO5g-7.jpg   complementary--chevron-left--g2   \n",
       "complementary--chevron-left--g2/LhOBpYYM67G6qoHcmF-iPw-3.jpg   complementary--chevron-left--g2   \n",
       "complementary--chevron-left--g2/vcKJG0vrJkzB3E9I-W1-5g-3.jpg   complementary--chevron-left--g2   \n",
       "complementary--chevron-left--g3/Fc0_DtAb--TZwvZxLlL6dA-8.jpg   complementary--chevron-left--g3   \n",
       "complementary--chevron-left--g5/VbMRhDzyck31LEuK-Et5ug-2.jpg  complementary--chevron-right--g5   \n",
       "\n",
       "                                                                  loss  \\\n",
       "complementary--chevron-left--g1/_I8ij42B8f1iuNfm9GkA8Q-2.jpg -0.055953   \n",
       "complementary--chevron-left--g1/XMZKSQr0cuWLoFRMwWjTRQ-3.jpg -0.023959   \n",
       "complementary--chevron-left--g1/o3OE1AfaAwiro0b-effwnQ-7.jpg -0.018589   \n",
       "complementary--chevron-left--g1/UjwAOCv1G34khaBfgNuyJA-2.jpg -0.023150   \n",
       "complementary--chevron-left--g1/syczzNHsV2xOC8cmVtiZ7Q-4.jpg -0.001950   \n",
       "...                                                                ...   \n",
       "complementary--chevron-left--g2/t5sAZajdwwyDcFFtZhFO5g-7.jpg -0.015914   \n",
       "complementary--chevron-left--g2/LhOBpYYM67G6qoHcmF-iPw-3.jpg -0.318769   \n",
       "complementary--chevron-left--g2/vcKJG0vrJkzB3E9I-W1-5g-3.jpg -0.026636   \n",
       "complementary--chevron-left--g3/Fc0_DtAb--TZwvZxLlL6dA-8.jpg -0.000986   \n",
       "complementary--chevron-left--g5/VbMRhDzyck31LEuK-Et5ug-2.jpg -2.192956   \n",
       "\n",
       "                                                             corrected  None  \n",
       "complementary--chevron-left--g1/_I8ij42B8f1iuNfm9GkA8Q-2.jpg   invalid  True  \n",
       "complementary--chevron-left--g1/XMZKSQr0cuWLoFRMwWjTRQ-3.jpg   invalid  True  \n",
       "complementary--chevron-left--g1/o3OE1AfaAwiro0b-effwnQ-7.jpg   invalid  True  \n",
       "complementary--chevron-left--g1/UjwAOCv1G34khaBfgNuyJA-2.jpg   invalid  True  \n",
       "complementary--chevron-left--g1/syczzNHsV2xOC8cmVtiZ7Q-4.jpg   invalid  True  \n",
       "...                                                                ...   ...  \n",
       "complementary--chevron-left--g2/t5sAZajdwwyDcFFtZhFO5g-7.jpg   invalid  True  \n",
       "complementary--chevron-left--g2/LhOBpYYM67G6qoHcmF-iPw-3.jpg   invalid  True  \n",
       "complementary--chevron-left--g2/vcKJG0vrJkzB3E9I-W1-5g-3.jpg   invalid  True  \n",
       "complementary--chevron-left--g3/Fc0_DtAb--TZwvZxLlL6dA-8.jpg   invalid  True  \n",
       "complementary--chevron-left--g5/VbMRhDzyck31LEuK-Et5ug-2.jpg   invalid  True  \n",
       "\n",
       "[71 rows x 8 columns]"
      ]
     },
     "execution_count": null,
     "metadata": {},
     "output_type": "execute_result"
    }
   ],
   "source": [
    "chevrons[chevrons['corrected'] == 'invalid']"
   ]
  },
  {
   "cell_type": "code",
   "execution_count": null,
   "id": "0c1371c0",
   "metadata": {},
   "outputs": [],
   "source": [
    "len(chev)"
   ]
  },
  {
   "cell_type": "code",
   "execution_count": null,
   "id": "db68e344",
   "metadata": {},
   "outputs": [
    {
     "data": {
      "text/plain": [
       "(1387, 0.006720514771080951)"
      ]
     },
     "execution_count": null,
     "metadata": {},
     "output_type": "execute_result"
    }
   ],
   "source": [
    "len(chevrons), len(chevrons) / len(data)"
   ]
  },
  {
   "cell_type": "code",
   "execution_count": null,
   "id": "e0d3e92a",
   "metadata": {},
   "outputs": [
    {
     "data": {
      "text/plain": [
       "0.15795874660219106"
      ]
     },
     "execution_count": null,
     "metadata": {},
     "output_type": "execute_result"
    }
   ],
   "source": [
    "326/len(data) * 100"
   ]
  },
  {
   "cell_type": "code",
   "execution_count": null,
   "id": "93f7e168",
   "metadata": {},
   "outputs": [
    {
     "data": {
      "text/plain": [
       "0"
      ]
     },
     "execution_count": null,
     "metadata": {},
     "output_type": "execute_result"
    }
   ],
   "source": [
    "chevrons['invalid'].sum()"
   ]
  },
  {
   "cell_type": "code",
   "execution_count": null,
   "id": "a7e676a7",
   "metadata": {},
   "outputs": [],
   "source": [
    "chevrons.to_pickle('chevrons.pd')"
   ]
  },
  {
   "cell_type": "code",
   "execution_count": null,
   "id": "70e4bf4e",
   "metadata": {},
   "outputs": [],
   "source": [
    "chevrons = pd.read_pickle('chevrons.pd')"
   ]
  },
  {
   "cell_type": "code",
   "execution_count": null,
   "id": "bfa90994",
   "metadata": {},
   "outputs": [
    {
     "data": {
      "text/plain": [
       "0.06056236481614996"
      ]
     },
     "execution_count": null,
     "metadata": {},
     "output_type": "execute_result"
    }
   ],
   "source": [
    "(chevrons['pred'] != chevrons['label']).mean()"
   ]
  },
  {
   "cell_type": "code",
   "execution_count": null,
   "id": "ca8784a9",
   "metadata": {},
   "outputs": [
    {
     "data": {
      "text/plain": [
       "0.20440729483282674"
      ]
     },
     "execution_count": null,
     "metadata": {},
     "output_type": "execute_result"
    }
   ],
   "source": [
    "(chevrons['pred'] != chevrons['corrected'])[chevrons['corrected'] != 'invalid'].mean()"
   ]
  },
  {
   "cell_type": "code",
   "execution_count": null,
   "id": "f4027963",
   "metadata": {},
   "outputs": [],
   "source": [
    "mirror = data.copy()\n",
    "mirror['valid'] = ~data['valid']\n",
    "#chevrons['corrected']\n",
    "#mirror['label']"
   ]
  },
  {
   "cell_type": "code",
   "execution_count": null,
   "id": "169a570a",
   "metadata": {},
   "outputs": [],
   "source": [
    "dls = ImageDataLoaders.from_df(\n",
    "    mirror, path=path, label_col='label', valid_col='valid',\n",
    "    bs=1024,\n",
    "    item_tfms=[AlbumentationsTransform(Blur(blur_limit=5, p=0.25))],\n",
    "    batch_tfms=aug_transforms(do_flip=False),\n",
    ")"
   ]
  },
  {
   "cell_type": "code",
   "execution_count": null,
   "id": "b8b5f31a",
   "metadata": {},
   "outputs": [
    {
     "data": {
      "text/html": [
       "\n",
       "<style>\n",
       "    /* Turns off some styling */\n",
       "    progress {\n",
       "        /* gets rid of default border in Firefox and Opera. */\n",
       "        border: none;\n",
       "        /* Needs to be in here for Safari polyfill so background images work as expected. */\n",
       "        background-size: auto;\n",
       "    }\n",
       "    .progress-bar-interrupted, .progress-bar-interrupted::-webkit-progress-bar {\n",
       "        background: #F44336;\n",
       "    }\n",
       "</style>\n"
      ],
      "text/plain": [
       "<IPython.core.display.HTML object>"
      ]
     },
     "metadata": {},
     "output_type": "display_data"
    },
    {
     "data": {
      "text/html": [
       "<table border=\"1\" class=\"dataframe\">\n",
       "  <thead>\n",
       "    <tr style=\"text-align: left;\">\n",
       "      <th>epoch</th>\n",
       "      <th>train_loss</th>\n",
       "      <th>valid_loss</th>\n",
       "      <th>error_rate</th>\n",
       "      <th>time</th>\n",
       "    </tr>\n",
       "  </thead>\n",
       "  <tbody>\n",
       "    <tr>\n",
       "      <td>0</td>\n",
       "      <td>5.086249</td>\n",
       "      <td>6.028560</td>\n",
       "      <td>0.926479</td>\n",
       "      <td>00:27</td>\n",
       "    </tr>\n",
       "  </tbody>\n",
       "</table>"
      ],
      "text/plain": [
       "<IPython.core.display.HTML object>"
      ]
     },
     "metadata": {},
     "output_type": "display_data"
    },
    {
     "data": {
      "text/html": [
       "\n",
       "<style>\n",
       "    /* Turns off some styling */\n",
       "    progress {\n",
       "        /* gets rid of default border in Firefox and Opera. */\n",
       "        border: none;\n",
       "        /* Needs to be in here for Safari polyfill so background images work as expected. */\n",
       "        background-size: auto;\n",
       "    }\n",
       "    .progress-bar-interrupted, .progress-bar-interrupted::-webkit-progress-bar {\n",
       "        background: #F44336;\n",
       "    }\n",
       "</style>\n"
      ],
      "text/plain": [
       "<IPython.core.display.HTML object>"
      ]
     },
     "metadata": {},
     "output_type": "display_data"
    },
    {
     "data": {
      "text/html": [
       "<table border=\"1\" class=\"dataframe\">\n",
       "  <thead>\n",
       "    <tr style=\"text-align: left;\">\n",
       "      <th>epoch</th>\n",
       "      <th>train_loss</th>\n",
       "      <th>valid_loss</th>\n",
       "      <th>error_rate</th>\n",
       "      <th>time</th>\n",
       "    </tr>\n",
       "  </thead>\n",
       "  <tbody>\n",
       "    <tr>\n",
       "      <td>0</td>\n",
       "      <td>3.021924</td>\n",
       "      <td>5.719494</td>\n",
       "      <td>0.875994</td>\n",
       "      <td>00:28</td>\n",
       "    </tr>\n",
       "    <tr>\n",
       "      <td>1</td>\n",
       "      <td>2.165450</td>\n",
       "      <td>5.413651</td>\n",
       "      <td>0.819001</td>\n",
       "      <td>00:27</td>\n",
       "    </tr>\n",
       "    <tr>\n",
       "      <td>2</td>\n",
       "      <td>1.367490</td>\n",
       "      <td>5.059329</td>\n",
       "      <td>0.757477</td>\n",
       "      <td>00:27</td>\n",
       "    </tr>\n",
       "    <tr>\n",
       "      <td>3</td>\n",
       "      <td>0.840482</td>\n",
       "      <td>4.647243</td>\n",
       "      <td>0.704765</td>\n",
       "      <td>00:27</td>\n",
       "    </tr>\n",
       "    <tr>\n",
       "      <td>4</td>\n",
       "      <td>0.543618</td>\n",
       "      <td>4.493270</td>\n",
       "      <td>0.677653</td>\n",
       "      <td>00:28</td>\n",
       "    </tr>\n",
       "    <tr>\n",
       "      <td>5</td>\n",
       "      <td>0.382607</td>\n",
       "      <td>4.082226</td>\n",
       "      <td>0.623769</td>\n",
       "      <td>00:27</td>\n",
       "    </tr>\n",
       "    <tr>\n",
       "      <td>6</td>\n",
       "      <td>0.277245</td>\n",
       "      <td>3.842886</td>\n",
       "      <td>0.582966</td>\n",
       "      <td>00:28</td>\n",
       "    </tr>\n",
       "    <tr>\n",
       "      <td>7</td>\n",
       "      <td>0.222408</td>\n",
       "      <td>3.623310</td>\n",
       "      <td>0.550965</td>\n",
       "      <td>00:27</td>\n",
       "    </tr>\n",
       "    <tr>\n",
       "      <td>8</td>\n",
       "      <td>0.178094</td>\n",
       "      <td>3.604002</td>\n",
       "      <td>0.539859</td>\n",
       "      <td>00:27</td>\n",
       "    </tr>\n",
       "    <tr>\n",
       "      <td>9</td>\n",
       "      <td>0.145871</td>\n",
       "      <td>3.308730</td>\n",
       "      <td>0.506560</td>\n",
       "      <td>00:28</td>\n",
       "    </tr>\n",
       "    <tr>\n",
       "      <td>10</td>\n",
       "      <td>0.121241</td>\n",
       "      <td>3.240744</td>\n",
       "      <td>0.499637</td>\n",
       "      <td>00:28</td>\n",
       "    </tr>\n",
       "    <tr>\n",
       "      <td>11</td>\n",
       "      <td>0.102317</td>\n",
       "      <td>3.033162</td>\n",
       "      <td>0.469746</td>\n",
       "      <td>00:27</td>\n",
       "    </tr>\n",
       "    <tr>\n",
       "      <td>12</td>\n",
       "      <td>0.090474</td>\n",
       "      <td>2.980728</td>\n",
       "      <td>0.465806</td>\n",
       "      <td>00:28</td>\n",
       "    </tr>\n",
       "    <tr>\n",
       "      <td>13</td>\n",
       "      <td>0.086599</td>\n",
       "      <td>3.012381</td>\n",
       "      <td>0.468555</td>\n",
       "      <td>00:27</td>\n",
       "    </tr>\n",
       "    <tr>\n",
       "      <td>14</td>\n",
       "      <td>0.079445</td>\n",
       "      <td>2.979128</td>\n",
       "      <td>0.464411</td>\n",
       "      <td>00:28</td>\n",
       "    </tr>\n",
       "  </tbody>\n",
       "</table>"
      ],
      "text/plain": [
       "<IPython.core.display.HTML object>"
      ]
     },
     "metadata": {},
     "output_type": "display_data"
    }
   ],
   "source": [
    "learn = vision_learner(dls, resnet50, metrics=[error_rate])\n",
    "learn.dls.train.get_idxs = types.MethodType(sample_epoch, learn.dls.train)\n",
    "learn.fine_tune(15)"
   ]
  },
  {
   "cell_type": "code",
   "execution_count": null,
   "id": "03caabbd",
   "metadata": {},
   "outputs": [
    {
     "data": {
      "text/html": [
       "\n",
       "<style>\n",
       "    /* Turns off some styling */\n",
       "    progress {\n",
       "        /* gets rid of default border in Firefox and Opera. */\n",
       "        border: none;\n",
       "        /* Needs to be in here for Safari polyfill so background images work as expected. */\n",
       "        background-size: auto;\n",
       "    }\n",
       "    .progress-bar-interrupted, .progress-bar-interrupted::-webkit-progress-bar {\n",
       "        background: #F44336;\n",
       "    }\n",
       "</style>\n"
      ],
      "text/plain": [
       "<IPython.core.display.HTML object>"
      ]
     },
     "metadata": {},
     "output_type": "display_data"
    },
    {
     "data": {
      "text/html": [],
      "text/plain": [
       "<IPython.core.display.HTML object>"
      ]
     },
     "metadata": {},
     "output_type": "display_data"
    }
   ],
   "source": [
    "preds,y,py,losses = learn.get_preds(with_loss=True, with_decoded=True)"
   ]
  },
  {
   "cell_type": "code",
   "execution_count": null,
   "id": "04fcc938",
   "metadata": {},
   "outputs": [],
   "source": [
    "val = learn.dls[1].items.copy()\n",
    "val['pred'] = py\n",
    "val['pred'] = val['pred'].map(lambda x: learn.dls.vocab[x])\n",
    "val['loss'] = -losses"
   ]
  },
  {
   "cell_type": "code",
   "execution_count": null,
   "id": "c97b8043",
   "metadata": {},
   "outputs": [],
   "source": [
    "val_flt = val[(val['label'] != 'other-sign')]"
   ]
  },
  {
   "cell_type": "code",
   "execution_count": null,
   "id": "497bc2d3",
   "metadata": {},
   "outputs": [
    {
     "data": {
      "text/plain": [
       "0.13870081305419418"
      ]
     },
     "execution_count": null,
     "metadata": {},
     "output_type": "execute_result"
    }
   ],
   "source": [
    "(val_flt['pred'] != val_flt['label']).mean()"
   ]
  },
  {
   "cell_type": "code",
   "execution_count": null,
   "id": "5c9c55f3",
   "metadata": {},
   "outputs": [
    {
     "data": {
      "text/html": [
       "<div>\n",
       "<style scoped>\n",
       "    .dataframe tbody tr th:only-of-type {\n",
       "        vertical-align: middle;\n",
       "    }\n",
       "\n",
       "    .dataframe tbody tr th {\n",
       "        vertical-align: top;\n",
       "    }\n",
       "\n",
       "    .dataframe thead th {\n",
       "        text-align: right;\n",
       "    }\n",
       "</style>\n",
       "<table border=\"1\" class=\"dataframe\">\n",
       "  <thead>\n",
       "    <tr style=\"text-align: right;\">\n",
       "      <th></th>\n",
       "      <th>fname</th>\n",
       "      <th>label</th>\n",
       "      <th>invalid</th>\n",
       "      <th>valid</th>\n",
       "    </tr>\n",
       "  </thead>\n",
       "  <tbody>\n",
       "    <tr>\n",
       "      <th>warning--winding-road-first-left--g1/a3K73YQChXmdfsn69D1kjA-1.jpg</th>\n",
       "      <td>warning--winding-road-first-left--g1/a3K73YQChXmdfsn69D1kjA-1.jpg</td>\n",
       "      <td>warning--winding-road-first-left--g1</td>\n",
       "      <td>False</td>\n",
       "      <td>True</td>\n",
       "    </tr>\n",
       "    <tr>\n",
       "      <th>warning--winding-road-first-left--g1/l8GLcMia5zPhB7Q1agVYTg-0.jpg</th>\n",
       "      <td>warning--winding-road-first-left--g1/l8GLcMia5zPhB7Q1agVYTg-0.jpg</td>\n",
       "      <td>warning--winding-road-first-left--g1</td>\n",
       "      <td>False</td>\n",
       "      <td>False</td>\n",
       "    </tr>\n",
       "    <tr>\n",
       "      <th>warning--winding-road-first-left--g1/BCxKRFT-Wvn49LnVoSlOgw-0.jpg</th>\n",
       "      <td>warning--winding-road-first-left--g1/BCxKRFT-Wvn49LnVoSlOgw-0.jpg</td>\n",
       "      <td>warning--winding-road-first-left--g1</td>\n",
       "      <td>False</td>\n",
       "      <td>True</td>\n",
       "    </tr>\n",
       "    <tr>\n",
       "      <th>warning--winding-road-first-left--g1/5D1e0maBSjs1UaV5tE2MHg-0.jpg</th>\n",
       "      <td>warning--winding-road-first-left--g1/5D1e0maBSjs1UaV5tE2MHg-0.jpg</td>\n",
       "      <td>warning--winding-road-first-left--g1</td>\n",
       "      <td>False</td>\n",
       "      <td>True</td>\n",
       "    </tr>\n",
       "    <tr>\n",
       "      <th>warning--winding-road-first-left--g1/Oz7f7PDh0FZogR2Lle9HsQ-1.jpg</th>\n",
       "      <td>warning--winding-road-first-left--g1/Oz7f7PDh0FZogR2Lle9HsQ-1.jpg</td>\n",
       "      <td>warning--winding-road-first-left--g1</td>\n",
       "      <td>False</td>\n",
       "      <td>True</td>\n",
       "    </tr>\n",
       "    <tr>\n",
       "      <th>...</th>\n",
       "      <td>...</td>\n",
       "      <td>...</td>\n",
       "      <td>...</td>\n",
       "      <td>...</td>\n",
       "    </tr>\n",
       "    <tr>\n",
       "      <th>complementary--one-direction-left--g1/jz9ydBI3G46OM_DSDxRI2Q-3.jpg</th>\n",
       "      <td>complementary--one-direction-left--g1/jz9ydBI3G46OM_DSDxRI2Q-3.jpg</td>\n",
       "      <td>complementary--one-direction-left--g1</td>\n",
       "      <td>False</td>\n",
       "      <td>True</td>\n",
       "    </tr>\n",
       "    <tr>\n",
       "      <th>complementary--one-direction-left--g1/jjP8oXmH91HYeNRRZy36ig-1.jpg</th>\n",
       "      <td>complementary--one-direction-left--g1/jjP8oXmH91HYeNRRZy36ig-1.jpg</td>\n",
       "      <td>complementary--one-direction-left--g1</td>\n",
       "      <td>False</td>\n",
       "      <td>False</td>\n",
       "    </tr>\n",
       "    <tr>\n",
       "      <th>complementary--one-direction-left--g1/PrXKSuASmK0TB3tqCLVY9A-4.jpg</th>\n",
       "      <td>complementary--one-direction-left--g1/PrXKSuASmK0TB3tqCLVY9A-4.jpg</td>\n",
       "      <td>complementary--one-direction-left--g1</td>\n",
       "      <td>False</td>\n",
       "      <td>True</td>\n",
       "    </tr>\n",
       "    <tr>\n",
       "      <th>complementary--one-direction-left--g1/DdilxFWJ13kSsBTDlCNCcg-2.jpg</th>\n",
       "      <td>complementary--one-direction-left--g1/DdilxFWJ13kSsBTDlCNCcg-2.jpg</td>\n",
       "      <td>complementary--one-direction-left--g1</td>\n",
       "      <td>False</td>\n",
       "      <td>False</td>\n",
       "    </tr>\n",
       "    <tr>\n",
       "      <th>complementary--one-direction-left--g1/PDqWPuPSTTm0A6c4aAHJjA-3.jpg</th>\n",
       "      <td>complementary--one-direction-left--g1/PDqWPuPSTTm0A6c4aAHJjA-3.jpg</td>\n",
       "      <td>complementary--one-direction-left--g1</td>\n",
       "      <td>False</td>\n",
       "      <td>False</td>\n",
       "    </tr>\n",
       "  </tbody>\n",
       "</table>\n",
       "<p>206312 rows × 4 columns</p>\n",
       "</div>"
      ],
      "text/plain": [
       "                                                                                                                                 fname  \\\n",
       "warning--winding-road-first-left--g1/a3K73YQChXmdfsn69D1kjA-1.jpg    warning--winding-road-first-left--g1/a3K73YQChXmdfsn69D1kjA-1.jpg   \n",
       "warning--winding-road-first-left--g1/l8GLcMia5zPhB7Q1agVYTg-0.jpg    warning--winding-road-first-left--g1/l8GLcMia5zPhB7Q1agVYTg-0.jpg   \n",
       "warning--winding-road-first-left--g1/BCxKRFT-Wvn49LnVoSlOgw-0.jpg    warning--winding-road-first-left--g1/BCxKRFT-Wvn49LnVoSlOgw-0.jpg   \n",
       "warning--winding-road-first-left--g1/5D1e0maBSjs1UaV5tE2MHg-0.jpg    warning--winding-road-first-left--g1/5D1e0maBSjs1UaV5tE2MHg-0.jpg   \n",
       "warning--winding-road-first-left--g1/Oz7f7PDh0FZogR2Lle9HsQ-1.jpg    warning--winding-road-first-left--g1/Oz7f7PDh0FZogR2Lle9HsQ-1.jpg   \n",
       "...                                                                                                                                ...   \n",
       "complementary--one-direction-left--g1/jz9ydBI3G46OM_DSDxRI2Q-3.jpg  complementary--one-direction-left--g1/jz9ydBI3G46OM_DSDxRI2Q-3.jpg   \n",
       "complementary--one-direction-left--g1/jjP8oXmH91HYeNRRZy36ig-1.jpg  complementary--one-direction-left--g1/jjP8oXmH91HYeNRRZy36ig-1.jpg   \n",
       "complementary--one-direction-left--g1/PrXKSuASmK0TB3tqCLVY9A-4.jpg  complementary--one-direction-left--g1/PrXKSuASmK0TB3tqCLVY9A-4.jpg   \n",
       "complementary--one-direction-left--g1/DdilxFWJ13kSsBTDlCNCcg-2.jpg  complementary--one-direction-left--g1/DdilxFWJ13kSsBTDlCNCcg-2.jpg   \n",
       "complementary--one-direction-left--g1/PDqWPuPSTTm0A6c4aAHJjA-3.jpg  complementary--one-direction-left--g1/PDqWPuPSTTm0A6c4aAHJjA-3.jpg   \n",
       "\n",
       "                                                                                                    label  \\\n",
       "warning--winding-road-first-left--g1/a3K73YQChXmdfsn69D1kjA-1.jpg    warning--winding-road-first-left--g1   \n",
       "warning--winding-road-first-left--g1/l8GLcMia5zPhB7Q1agVYTg-0.jpg    warning--winding-road-first-left--g1   \n",
       "warning--winding-road-first-left--g1/BCxKRFT-Wvn49LnVoSlOgw-0.jpg    warning--winding-road-first-left--g1   \n",
       "warning--winding-road-first-left--g1/5D1e0maBSjs1UaV5tE2MHg-0.jpg    warning--winding-road-first-left--g1   \n",
       "warning--winding-road-first-left--g1/Oz7f7PDh0FZogR2Lle9HsQ-1.jpg    warning--winding-road-first-left--g1   \n",
       "...                                                                                                   ...   \n",
       "complementary--one-direction-left--g1/jz9ydBI3G46OM_DSDxRI2Q-3.jpg  complementary--one-direction-left--g1   \n",
       "complementary--one-direction-left--g1/jjP8oXmH91HYeNRRZy36ig-1.jpg  complementary--one-direction-left--g1   \n",
       "complementary--one-direction-left--g1/PrXKSuASmK0TB3tqCLVY9A-4.jpg  complementary--one-direction-left--g1   \n",
       "complementary--one-direction-left--g1/DdilxFWJ13kSsBTDlCNCcg-2.jpg  complementary--one-direction-left--g1   \n",
       "complementary--one-direction-left--g1/PDqWPuPSTTm0A6c4aAHJjA-3.jpg  complementary--one-direction-left--g1   \n",
       "\n",
       "                                                                    invalid  \\\n",
       "warning--winding-road-first-left--g1/a3K73YQChXmdfsn69D1kjA-1.jpg     False   \n",
       "warning--winding-road-first-left--g1/l8GLcMia5zPhB7Q1agVYTg-0.jpg     False   \n",
       "warning--winding-road-first-left--g1/BCxKRFT-Wvn49LnVoSlOgw-0.jpg     False   \n",
       "warning--winding-road-first-left--g1/5D1e0maBSjs1UaV5tE2MHg-0.jpg     False   \n",
       "warning--winding-road-first-left--g1/Oz7f7PDh0FZogR2Lle9HsQ-1.jpg     False   \n",
       "...                                                                     ...   \n",
       "complementary--one-direction-left--g1/jz9ydBI3G46OM_DSDxRI2Q-3.jpg    False   \n",
       "complementary--one-direction-left--g1/jjP8oXmH91HYeNRRZy36ig-1.jpg    False   \n",
       "complementary--one-direction-left--g1/PrXKSuASmK0TB3tqCLVY9A-4.jpg    False   \n",
       "complementary--one-direction-left--g1/DdilxFWJ13kSsBTDlCNCcg-2.jpg    False   \n",
       "complementary--one-direction-left--g1/PDqWPuPSTTm0A6c4aAHJjA-3.jpg    False   \n",
       "\n",
       "                                                                    valid  \n",
       "warning--winding-road-first-left--g1/a3K73YQChXmdfsn69D1kjA-1.jpg    True  \n",
       "warning--winding-road-first-left--g1/l8GLcMia5zPhB7Q1agVYTg-0.jpg   False  \n",
       "warning--winding-road-first-left--g1/BCxKRFT-Wvn49LnVoSlOgw-0.jpg    True  \n",
       "warning--winding-road-first-left--g1/5D1e0maBSjs1UaV5tE2MHg-0.jpg    True  \n",
       "warning--winding-road-first-left--g1/Oz7f7PDh0FZogR2Lle9HsQ-1.jpg    True  \n",
       "...                                                                   ...  \n",
       "complementary--one-direction-left--g1/jz9ydBI3G46OM_DSDxRI2Q-3.jpg   True  \n",
       "complementary--one-direction-left--g1/jjP8oXmH91HYeNRRZy36ig-1.jpg  False  \n",
       "complementary--one-direction-left--g1/PrXKSuASmK0TB3tqCLVY9A-4.jpg   True  \n",
       "complementary--one-direction-left--g1/DdilxFWJ13kSsBTDlCNCcg-2.jpg  False  \n",
       "complementary--one-direction-left--g1/PDqWPuPSTTm0A6c4aAHJjA-3.jpg  False  \n",
       "\n",
       "[206312 rows x 4 columns]"
      ]
     },
     "execution_count": null,
     "metadata": {},
     "output_type": "execute_result"
    }
   ],
   "source": [
    "mirror = data.copy()\n",
    "mirror['valid'] = ~data['valid']\n",
    "mirror.loc[chevrons.index, 'label'] = chevrons['corrected']\n",
    "mirror = mirror[mirror['label'] != 'invalid'].copy()\n",
    "mirror"
   ]
  },
  {
   "cell_type": "code",
   "execution_count": null,
   "id": "e9c903e2",
   "metadata": {},
   "outputs": [],
   "source": [
    "dls = ImageDataLoaders.from_df(\n",
    "    mirror, path=path, label_col='label', valid_col='valid',\n",
    "    bs=1024,\n",
    "    item_tfms=[AlbumentationsTransform(Blur(blur_limit=5, p=0.25))],\n",
    "    batch_tfms=aug_transforms(do_flip=False),\n",
    ")"
   ]
  },
  {
   "cell_type": "code",
   "execution_count": null,
   "id": "62e8c8d7",
   "metadata": {},
   "outputs": [
    {
     "data": {
      "text/html": [
       "\n",
       "<style>\n",
       "    /* Turns off some styling */\n",
       "    progress {\n",
       "        /* gets rid of default border in Firefox and Opera. */\n",
       "        border: none;\n",
       "        /* Needs to be in here for Safari polyfill so background images work as expected. */\n",
       "        background-size: auto;\n",
       "    }\n",
       "    .progress-bar-interrupted, .progress-bar-interrupted::-webkit-progress-bar {\n",
       "        background: #F44336;\n",
       "    }\n",
       "</style>\n"
      ],
      "text/plain": [
       "<IPython.core.display.HTML object>"
      ]
     },
     "metadata": {},
     "output_type": "display_data"
    },
    {
     "data": {
      "text/html": [
       "<table border=\"1\" class=\"dataframe\">\n",
       "  <thead>\n",
       "    <tr style=\"text-align: left;\">\n",
       "      <th>epoch</th>\n",
       "      <th>train_loss</th>\n",
       "      <th>valid_loss</th>\n",
       "      <th>error_rate</th>\n",
       "      <th>time</th>\n",
       "    </tr>\n",
       "  </thead>\n",
       "  <tbody>\n",
       "    <tr>\n",
       "      <td>0</td>\n",
       "      <td>5.077369</td>\n",
       "      <td>6.012372</td>\n",
       "      <td>0.925889</td>\n",
       "      <td>00:26</td>\n",
       "    </tr>\n",
       "  </tbody>\n",
       "</table>"
      ],
      "text/plain": [
       "<IPython.core.display.HTML object>"
      ]
     },
     "metadata": {},
     "output_type": "display_data"
    },
    {
     "data": {
      "text/html": [
       "\n",
       "<style>\n",
       "    /* Turns off some styling */\n",
       "    progress {\n",
       "        /* gets rid of default border in Firefox and Opera. */\n",
       "        border: none;\n",
       "        /* Needs to be in here for Safari polyfill so background images work as expected. */\n",
       "        background-size: auto;\n",
       "    }\n",
       "    .progress-bar-interrupted, .progress-bar-interrupted::-webkit-progress-bar {\n",
       "        background: #F44336;\n",
       "    }\n",
       "</style>\n"
      ],
      "text/plain": [
       "<IPython.core.display.HTML object>"
      ]
     },
     "metadata": {},
     "output_type": "display_data"
    },
    {
     "data": {
      "text/html": [
       "<table border=\"1\" class=\"dataframe\">\n",
       "  <thead>\n",
       "    <tr style=\"text-align: left;\">\n",
       "      <th>epoch</th>\n",
       "      <th>train_loss</th>\n",
       "      <th>valid_loss</th>\n",
       "      <th>error_rate</th>\n",
       "      <th>time</th>\n",
       "    </tr>\n",
       "  </thead>\n",
       "  <tbody>\n",
       "    <tr>\n",
       "      <td>0</td>\n",
       "      <td>3.007262</td>\n",
       "      <td>5.601548</td>\n",
       "      <td>0.872760</td>\n",
       "      <td>00:27</td>\n",
       "    </tr>\n",
       "    <tr>\n",
       "      <td>1</td>\n",
       "      <td>2.153915</td>\n",
       "      <td>5.170571</td>\n",
       "      <td>0.821054</td>\n",
       "      <td>00:28</td>\n",
       "    </tr>\n",
       "    <tr>\n",
       "      <td>2</td>\n",
       "      <td>1.362319</td>\n",
       "      <td>4.792474</td>\n",
       "      <td>0.747340</td>\n",
       "      <td>00:27</td>\n",
       "    </tr>\n",
       "    <tr>\n",
       "      <td>3</td>\n",
       "      <td>0.840182</td>\n",
       "      <td>4.546010</td>\n",
       "      <td>0.693417</td>\n",
       "      <td>00:28</td>\n",
       "    </tr>\n",
       "    <tr>\n",
       "      <td>4</td>\n",
       "      <td>0.543795</td>\n",
       "      <td>4.394051</td>\n",
       "      <td>0.664514</td>\n",
       "      <td>00:28</td>\n",
       "    </tr>\n",
       "    <tr>\n",
       "      <td>5</td>\n",
       "      <td>0.364156</td>\n",
       "      <td>3.988784</td>\n",
       "      <td>0.604781</td>\n",
       "      <td>00:28</td>\n",
       "    </tr>\n",
       "    <tr>\n",
       "      <td>6</td>\n",
       "      <td>0.275639</td>\n",
       "      <td>3.811821</td>\n",
       "      <td>0.568103</td>\n",
       "      <td>00:28</td>\n",
       "    </tr>\n",
       "    <tr>\n",
       "      <td>7</td>\n",
       "      <td>0.212912</td>\n",
       "      <td>3.505237</td>\n",
       "      <td>0.549135</td>\n",
       "      <td>00:28</td>\n",
       "    </tr>\n",
       "    <tr>\n",
       "      <td>8</td>\n",
       "      <td>0.167912</td>\n",
       "      <td>3.521998</td>\n",
       "      <td>0.546094</td>\n",
       "      <td>00:28</td>\n",
       "    </tr>\n",
       "    <tr>\n",
       "      <td>9</td>\n",
       "      <td>0.138587</td>\n",
       "      <td>3.367808</td>\n",
       "      <td>0.522904</td>\n",
       "      <td>00:28</td>\n",
       "    </tr>\n",
       "    <tr>\n",
       "      <td>10</td>\n",
       "      <td>0.107562</td>\n",
       "      <td>3.229793</td>\n",
       "      <td>0.501360</td>\n",
       "      <td>00:28</td>\n",
       "    </tr>\n",
       "    <tr>\n",
       "      <td>11</td>\n",
       "      <td>0.095772</td>\n",
       "      <td>3.220892</td>\n",
       "      <td>0.503171</td>\n",
       "      <td>00:28</td>\n",
       "    </tr>\n",
       "    <tr>\n",
       "      <td>12</td>\n",
       "      <td>0.082364</td>\n",
       "      <td>3.111636</td>\n",
       "      <td>0.489983</td>\n",
       "      <td>00:28</td>\n",
       "    </tr>\n",
       "    <tr>\n",
       "      <td>13</td>\n",
       "      <td>0.076565</td>\n",
       "      <td>3.001389</td>\n",
       "      <td>0.473261</td>\n",
       "      <td>00:27</td>\n",
       "    </tr>\n",
       "    <tr>\n",
       "      <td>14</td>\n",
       "      <td>0.073478</td>\n",
       "      <td>2.996202</td>\n",
       "      <td>0.473048</td>\n",
       "      <td>00:27</td>\n",
       "    </tr>\n",
       "  </tbody>\n",
       "</table>"
      ],
      "text/plain": [
       "<IPython.core.display.HTML object>"
      ]
     },
     "metadata": {},
     "output_type": "display_data"
    }
   ],
   "source": [
    "learn = vision_learner(dls, resnet50, metrics=[error_rate])\n",
    "learn.dls.train.get_idxs = types.MethodType(sample_epoch, learn.dls.train)\n",
    "learn.fine_tune(15)"
   ]
  },
  {
   "cell_type": "code",
   "execution_count": null,
   "id": "49e1c03c",
   "metadata": {},
   "outputs": [],
   "source": [
    "preds,y,py,losses = learn.get_preds(with_loss=True, with_decoded=True)"
   ]
  },
  {
   "cell_type": "code",
   "execution_count": null,
   "id": "21008249",
   "metadata": {},
   "outputs": [],
   "source": [
    "val = learn.dls[1].items.copy()\n",
    "val['pred'] = py\n",
    "val['pred'] = val['pred'].map(lambda x: learn.dls.vocab[x])\n",
    "val['loss'] = -losses"
   ]
  },
  {
   "cell_type": "code",
   "execution_count": null,
   "id": "8c062b17",
   "metadata": {},
   "outputs": [],
   "source": [
    "val_flt = val[(val['label'] != 'other-sign')]"
   ]
  },
  {
   "cell_type": "code",
   "execution_count": null,
   "id": "b7ee6a32",
   "metadata": {},
   "outputs": [
    {
     "data": {
      "text/plain": [
       "0.13870081305419418"
      ]
     },
     "execution_count": null,
     "metadata": {},
     "output_type": "execute_result"
    }
   ],
   "source": [
    "(val_flt['pred'] != val_flt['label']).mean()"
   ]
  },
  {
   "cell_type": "code",
   "execution_count": null,
   "id": "b3a25f93",
   "metadata": {},
   "outputs": [],
   "source": [
    "chevrons = val.loc[val['label'].str.startswith('complementary--chevron-left')].copy()\n",
    "chevrons['corrected'] = chevrons['pred']"
   ]
  },
  {
   "cell_type": "code",
   "execution_count": null,
   "id": "8ffb422d",
   "metadata": {},
   "outputs": [
    {
     "data": {
      "text/plain": [
       "0.0734341252699784"
      ]
     },
     "execution_count": null,
     "metadata": {},
     "output_type": "execute_result"
    }
   ],
   "source": [
    "(chevrons['pred'] != chevrons['label']).mean()"
   ]
  },
  {
   "cell_type": "code",
   "execution_count": null,
   "id": "33b42dd0",
   "metadata": {},
   "outputs": [
    {
     "data": {
      "text/plain": [
       "0.2476601871850252"
      ]
     },
     "execution_count": null,
     "metadata": {},
     "output_type": "execute_result"
    }
   ],
   "source": [
    "(chevrons['corrected'] != chevrons['pred']).mean()"
   ]
  },
  {
   "cell_type": "code",
   "execution_count": null,
   "id": "540cb5b7",
   "metadata": {},
   "outputs": [
    {
     "data": {
      "text/plain": [
       "0.2476601871850252"
      ]
     },
     "execution_count": null,
     "metadata": {},
     "output_type": "execute_result"
    }
   ],
   "source": [
    "(chevrons['corrected'] != chevrons['pred']).mean()"
   ]
  },
  {
   "cell_type": "code",
   "execution_count": null,
   "id": "516ff8a3",
   "metadata": {},
   "outputs": [
    {
     "data": {
      "text/html": [
       "\n",
       "        <style>\n",
       "            .mlfix-container {\n",
       "                position: relative;\n",
       "                background-color: white;\n",
       "            }\n",
       "            .mlfix-fullscreen {\n",
       "                width: 100%;\n",
       "                height: 100%;\n",
       "                position: absolute;\n",
       "                top: 0;\n",
       "                left: 0;\n",
       "                z-index: 10000;\n",
       "            }\n",
       "            .mlfix-fullscreen iframe {\n",
       "                height: 100%;\n",
       "            }\n",
       "        </style>\n",
       "        <div id=mlfix-quBwY-container class=mlfix-container>\n",
       "            <iframe id=mlfix-quBwY src=\"/proxy/37475/#mlfix-quBwY\"\n",
       "                width=\"100%\" height=\"500px\" frameborder=\"0\" allowfullscreen></iframe>\n",
       "            <script>(function () {\n",
       "                var iframe = document.getElementById('mlfix-quBwY');\n",
       "                var outputEl = iframe.parentNode;\n",
       "                var parentEl = outputEl.parentNode;\n",
       "                console.log('MLfix init:', outputEl, parentEl);\n",
       "                var bringMLfixIframeToFocus = function() {\n",
       "                    iframe.contentWindow.focus();\n",
       "                }\n",
       "                setTimeout(bringMLfixIframeToFocus, 100);\n",
       "\n",
       "                var isFullscreen = false;\n",
       "                var parentEl;\n",
       "                window.addEventListener('message', (ev) => {\n",
       "                    //console.log('window message:', ev.data);\n",
       "                    if (ev.data == 'mlfix-toggle-fullscreen-mlfix-quBwY') {\n",
       "                        if (!isFullscreen) {\n",
       "                            $(outputEl).appendTo(document.body).addClass('mlfix-fullscreen');\n",
       "                        } else {\n",
       "                            $(outputEl).appendTo(parentEl).removeClass('mlfix-fullscreen');\n",
       "                        }\n",
       "                        isFullscreen = !isFullscreen;\n",
       "                        console.log('fullscreen', isFullscreen);\n",
       "                        setTimeout(bringMLfixIframeToFocus, 100);\n",
       "                    }\n",
       "                });\n",
       "            })();</script>\n",
       "        </div>\n",
       "        "
      ],
      "text/plain": [
       "<IPython.core.display.HTML object>"
      ]
     },
     "metadata": {},
     "output_type": "display_data"
    },
    {
     "name": "stdout",
     "output_type": "stream",
     "text": [
      "complementary--chevron-left--g5/FW966yPRYpC9WYaG8gT8BA-2.jpg -> group: invalid\n",
      "complementary--chevron-left--g5/1BS0QTJcirHw_FcD6ctS1Q-1.jpg -> group: complementary--chevron-left--g5\n",
      "complementary--chevron-left--g5/kL9IH7wK-c5IiRieFjAGgA-8.jpg -> group: complementary--chevron-left--g2\n",
      "complementary--chevron-left--g5/v_A1aK4W9EcwEU8cacEnwg-9.jpg -> group: invalid\n",
      "complementary--chevron-left--g5/pMVFGQ4TMufkjikcUNx_lw-0.jpg -> group: complementary--chevron-left--g2\n"
     ]
    }
   ],
   "source": [
    "chevron_groups = [\n",
    "        \"complementary--chevron-left--g1\",\n",
    "        \"complementary--chevron-left--g2\",\n",
    "        \"complementary--chevron-left--g3\",\n",
    "        \"complementary--chevron-left--g4\",\n",
    "        \"complementary--chevron-left--g5\",\n",
    "]\n",
    "MLfixFile2(\n",
    "    chevrons,\n",
    "    label='label',\n",
    "    group='corrected',\n",
    "    sort='loss',\n",
    "    size=200,\n",
    "    group_labels=chevron_groups,\n",
    "    group_icons={x:'icons/' + x + '.svg' for x in chevron_groups}\n",
    ").display()"
   ]
  },
  {
   "cell_type": "code",
   "execution_count": null,
   "id": "b746b036",
   "metadata": {},
   "outputs": [],
   "source": [
    "chevrons1 = pd.read_pickle('chevrons.pd')"
   ]
  },
  {
   "cell_type": "code",
   "execution_count": null,
   "id": "6c89955b",
   "metadata": {},
   "outputs": [
    {
     "data": {
      "text/plain": [
       "347"
      ]
     },
     "execution_count": null,
     "metadata": {},
     "output_type": "execute_result"
    }
   ],
   "source": [
    "(chevrons['label'] != chevrons['corrected']).sum()"
   ]
  },
  {
   "cell_type": "code",
   "execution_count": null,
   "id": "bdf3aba8",
   "metadata": {},
   "outputs": [
    {
     "data": {
      "text/plain": [
       "82"
      ]
     },
     "execution_count": null,
     "metadata": {},
     "output_type": "execute_result"
    }
   ],
   "source": [
    "(chevrons['corrected'] == 'invalid').sum()"
   ]
  },
  {
   "cell_type": "code",
   "execution_count": null,
   "id": "7e4e045d",
   "metadata": {},
   "outputs": [],
   "source": [
    "chevrons.to_pickle('chevrons2.pd')"
   ]
  },
  {
   "cell_type": "code",
   "execution_count": null,
   "id": "d26f0b14",
   "metadata": {},
   "outputs": [
    {
     "data": {
      "text/html": [
       "<div>\n",
       "<style scoped>\n",
       "    .dataframe tbody tr th:only-of-type {\n",
       "        vertical-align: middle;\n",
       "    }\n",
       "\n",
       "    .dataframe tbody tr th {\n",
       "        vertical-align: top;\n",
       "    }\n",
       "\n",
       "    .dataframe thead th {\n",
       "        text-align: right;\n",
       "    }\n",
       "</style>\n",
       "<table border=\"1\" class=\"dataframe\">\n",
       "  <thead>\n",
       "    <tr style=\"text-align: right;\">\n",
       "      <th></th>\n",
       "      <th>fname</th>\n",
       "      <th>label</th>\n",
       "      <th>invalid</th>\n",
       "      <th>valid</th>\n",
       "    </tr>\n",
       "  </thead>\n",
       "  <tbody>\n",
       "    <tr>\n",
       "      <th>warning--winding-road-first-left--g1/a3K73YQChXmdfsn69D1kjA-1.jpg</th>\n",
       "      <td>warning--winding-road-first-left--g1/a3K73YQChXmdfsn69D1kjA-1.jpg</td>\n",
       "      <td>warning--winding-road-first-left--g1</td>\n",
       "      <td>False</td>\n",
       "      <td>True</td>\n",
       "    </tr>\n",
       "    <tr>\n",
       "      <th>warning--winding-road-first-left--g1/l8GLcMia5zPhB7Q1agVYTg-0.jpg</th>\n",
       "      <td>warning--winding-road-first-left--g1/l8GLcMia5zPhB7Q1agVYTg-0.jpg</td>\n",
       "      <td>warning--winding-road-first-left--g1</td>\n",
       "      <td>False</td>\n",
       "      <td>False</td>\n",
       "    </tr>\n",
       "    <tr>\n",
       "      <th>warning--winding-road-first-left--g1/BCxKRFT-Wvn49LnVoSlOgw-0.jpg</th>\n",
       "      <td>warning--winding-road-first-left--g1/BCxKRFT-Wvn49LnVoSlOgw-0.jpg</td>\n",
       "      <td>warning--winding-road-first-left--g1</td>\n",
       "      <td>False</td>\n",
       "      <td>True</td>\n",
       "    </tr>\n",
       "    <tr>\n",
       "      <th>warning--winding-road-first-left--g1/5D1e0maBSjs1UaV5tE2MHg-0.jpg</th>\n",
       "      <td>warning--winding-road-first-left--g1/5D1e0maBSjs1UaV5tE2MHg-0.jpg</td>\n",
       "      <td>warning--winding-road-first-left--g1</td>\n",
       "      <td>False</td>\n",
       "      <td>True</td>\n",
       "    </tr>\n",
       "    <tr>\n",
       "      <th>warning--winding-road-first-left--g1/Oz7f7PDh0FZogR2Lle9HsQ-1.jpg</th>\n",
       "      <td>warning--winding-road-first-left--g1/Oz7f7PDh0FZogR2Lle9HsQ-1.jpg</td>\n",
       "      <td>warning--winding-road-first-left--g1</td>\n",
       "      <td>False</td>\n",
       "      <td>True</td>\n",
       "    </tr>\n",
       "    <tr>\n",
       "      <th>...</th>\n",
       "      <td>...</td>\n",
       "      <td>...</td>\n",
       "      <td>...</td>\n",
       "      <td>...</td>\n",
       "    </tr>\n",
       "    <tr>\n",
       "      <th>complementary--one-direction-left--g1/jz9ydBI3G46OM_DSDxRI2Q-3.jpg</th>\n",
       "      <td>complementary--one-direction-left--g1/jz9ydBI3G46OM_DSDxRI2Q-3.jpg</td>\n",
       "      <td>complementary--one-direction-left--g1</td>\n",
       "      <td>False</td>\n",
       "      <td>True</td>\n",
       "    </tr>\n",
       "    <tr>\n",
       "      <th>complementary--one-direction-left--g1/jjP8oXmH91HYeNRRZy36ig-1.jpg</th>\n",
       "      <td>complementary--one-direction-left--g1/jjP8oXmH91HYeNRRZy36ig-1.jpg</td>\n",
       "      <td>complementary--one-direction-left--g1</td>\n",
       "      <td>False</td>\n",
       "      <td>False</td>\n",
       "    </tr>\n",
       "    <tr>\n",
       "      <th>complementary--one-direction-left--g1/PrXKSuASmK0TB3tqCLVY9A-4.jpg</th>\n",
       "      <td>complementary--one-direction-left--g1/PrXKSuASmK0TB3tqCLVY9A-4.jpg</td>\n",
       "      <td>complementary--one-direction-left--g1</td>\n",
       "      <td>False</td>\n",
       "      <td>True</td>\n",
       "    </tr>\n",
       "    <tr>\n",
       "      <th>complementary--one-direction-left--g1/DdilxFWJ13kSsBTDlCNCcg-2.jpg</th>\n",
       "      <td>complementary--one-direction-left--g1/DdilxFWJ13kSsBTDlCNCcg-2.jpg</td>\n",
       "      <td>complementary--one-direction-left--g1</td>\n",
       "      <td>False</td>\n",
       "      <td>False</td>\n",
       "    </tr>\n",
       "    <tr>\n",
       "      <th>complementary--one-direction-left--g1/PDqWPuPSTTm0A6c4aAHJjA-3.jpg</th>\n",
       "      <td>complementary--one-direction-left--g1/PDqWPuPSTTm0A6c4aAHJjA-3.jpg</td>\n",
       "      <td>complementary--one-direction-left--g1</td>\n",
       "      <td>False</td>\n",
       "      <td>False</td>\n",
       "    </tr>\n",
       "  </tbody>\n",
       "</table>\n",
       "<p>206230 rows × 4 columns</p>\n",
       "</div>"
      ],
      "text/plain": [
       "                                                                                                                                 fname  \\\n",
       "warning--winding-road-first-left--g1/a3K73YQChXmdfsn69D1kjA-1.jpg    warning--winding-road-first-left--g1/a3K73YQChXmdfsn69D1kjA-1.jpg   \n",
       "warning--winding-road-first-left--g1/l8GLcMia5zPhB7Q1agVYTg-0.jpg    warning--winding-road-first-left--g1/l8GLcMia5zPhB7Q1agVYTg-0.jpg   \n",
       "warning--winding-road-first-left--g1/BCxKRFT-Wvn49LnVoSlOgw-0.jpg    warning--winding-road-first-left--g1/BCxKRFT-Wvn49LnVoSlOgw-0.jpg   \n",
       "warning--winding-road-first-left--g1/5D1e0maBSjs1UaV5tE2MHg-0.jpg    warning--winding-road-first-left--g1/5D1e0maBSjs1UaV5tE2MHg-0.jpg   \n",
       "warning--winding-road-first-left--g1/Oz7f7PDh0FZogR2Lle9HsQ-1.jpg    warning--winding-road-first-left--g1/Oz7f7PDh0FZogR2Lle9HsQ-1.jpg   \n",
       "...                                                                                                                                ...   \n",
       "complementary--one-direction-left--g1/jz9ydBI3G46OM_DSDxRI2Q-3.jpg  complementary--one-direction-left--g1/jz9ydBI3G46OM_DSDxRI2Q-3.jpg   \n",
       "complementary--one-direction-left--g1/jjP8oXmH91HYeNRRZy36ig-1.jpg  complementary--one-direction-left--g1/jjP8oXmH91HYeNRRZy36ig-1.jpg   \n",
       "complementary--one-direction-left--g1/PrXKSuASmK0TB3tqCLVY9A-4.jpg  complementary--one-direction-left--g1/PrXKSuASmK0TB3tqCLVY9A-4.jpg   \n",
       "complementary--one-direction-left--g1/DdilxFWJ13kSsBTDlCNCcg-2.jpg  complementary--one-direction-left--g1/DdilxFWJ13kSsBTDlCNCcg-2.jpg   \n",
       "complementary--one-direction-left--g1/PDqWPuPSTTm0A6c4aAHJjA-3.jpg  complementary--one-direction-left--g1/PDqWPuPSTTm0A6c4aAHJjA-3.jpg   \n",
       "\n",
       "                                                                                                    label  \\\n",
       "warning--winding-road-first-left--g1/a3K73YQChXmdfsn69D1kjA-1.jpg    warning--winding-road-first-left--g1   \n",
       "warning--winding-road-first-left--g1/l8GLcMia5zPhB7Q1agVYTg-0.jpg    warning--winding-road-first-left--g1   \n",
       "warning--winding-road-first-left--g1/BCxKRFT-Wvn49LnVoSlOgw-0.jpg    warning--winding-road-first-left--g1   \n",
       "warning--winding-road-first-left--g1/5D1e0maBSjs1UaV5tE2MHg-0.jpg    warning--winding-road-first-left--g1   \n",
       "warning--winding-road-first-left--g1/Oz7f7PDh0FZogR2Lle9HsQ-1.jpg    warning--winding-road-first-left--g1   \n",
       "...                                                                                                   ...   \n",
       "complementary--one-direction-left--g1/jz9ydBI3G46OM_DSDxRI2Q-3.jpg  complementary--one-direction-left--g1   \n",
       "complementary--one-direction-left--g1/jjP8oXmH91HYeNRRZy36ig-1.jpg  complementary--one-direction-left--g1   \n",
       "complementary--one-direction-left--g1/PrXKSuASmK0TB3tqCLVY9A-4.jpg  complementary--one-direction-left--g1   \n",
       "complementary--one-direction-left--g1/DdilxFWJ13kSsBTDlCNCcg-2.jpg  complementary--one-direction-left--g1   \n",
       "complementary--one-direction-left--g1/PDqWPuPSTTm0A6c4aAHJjA-3.jpg  complementary--one-direction-left--g1   \n",
       "\n",
       "                                                                    invalid  \\\n",
       "warning--winding-road-first-left--g1/a3K73YQChXmdfsn69D1kjA-1.jpg     False   \n",
       "warning--winding-road-first-left--g1/l8GLcMia5zPhB7Q1agVYTg-0.jpg     False   \n",
       "warning--winding-road-first-left--g1/BCxKRFT-Wvn49LnVoSlOgw-0.jpg     False   \n",
       "warning--winding-road-first-left--g1/5D1e0maBSjs1UaV5tE2MHg-0.jpg     False   \n",
       "warning--winding-road-first-left--g1/Oz7f7PDh0FZogR2Lle9HsQ-1.jpg     False   \n",
       "...                                                                     ...   \n",
       "complementary--one-direction-left--g1/jz9ydBI3G46OM_DSDxRI2Q-3.jpg    False   \n",
       "complementary--one-direction-left--g1/jjP8oXmH91HYeNRRZy36ig-1.jpg    False   \n",
       "complementary--one-direction-left--g1/PrXKSuASmK0TB3tqCLVY9A-4.jpg    False   \n",
       "complementary--one-direction-left--g1/DdilxFWJ13kSsBTDlCNCcg-2.jpg    False   \n",
       "complementary--one-direction-left--g1/PDqWPuPSTTm0A6c4aAHJjA-3.jpg    False   \n",
       "\n",
       "                                                                    valid  \n",
       "warning--winding-road-first-left--g1/a3K73YQChXmdfsn69D1kjA-1.jpg    True  \n",
       "warning--winding-road-first-left--g1/l8GLcMia5zPhB7Q1agVYTg-0.jpg   False  \n",
       "warning--winding-road-first-left--g1/BCxKRFT-Wvn49LnVoSlOgw-0.jpg    True  \n",
       "warning--winding-road-first-left--g1/5D1e0maBSjs1UaV5tE2MHg-0.jpg    True  \n",
       "warning--winding-road-first-left--g1/Oz7f7PDh0FZogR2Lle9HsQ-1.jpg    True  \n",
       "...                                                                   ...  \n",
       "complementary--one-direction-left--g1/jz9ydBI3G46OM_DSDxRI2Q-3.jpg   True  \n",
       "complementary--one-direction-left--g1/jjP8oXmH91HYeNRRZy36ig-1.jpg  False  \n",
       "complementary--one-direction-left--g1/PrXKSuASmK0TB3tqCLVY9A-4.jpg   True  \n",
       "complementary--one-direction-left--g1/DdilxFWJ13kSsBTDlCNCcg-2.jpg  False  \n",
       "complementary--one-direction-left--g1/PDqWPuPSTTm0A6c4aAHJjA-3.jpg  False  \n",
       "\n",
       "[206230 rows x 4 columns]"
      ]
     },
     "execution_count": null,
     "metadata": {},
     "output_type": "execute_result"
    }
   ],
   "source": [
    "mirror = data.copy()\n",
    "mirror['valid'] = ~data['valid']\n",
    "mirror.loc[chevrons.index, 'label'] = chevrons['corrected']\n",
    "mirror.loc[chevrons1.index, 'label'] = chevrons1['corrected']\n",
    "mirror = mirror[mirror['label'] != 'invalid'].copy()\n",
    "mirror"
   ]
  },
  {
   "cell_type": "code",
   "execution_count": null,
   "id": "eb46a637",
   "metadata": {},
   "outputs": [],
   "source": [
    "dls = ImageDataLoaders.from_df(\n",
    "    mirror, path=path, label_col='label', valid_col='valid',\n",
    "    bs=1024,\n",
    "    item_tfms=[AlbumentationsTransform(Blur(blur_limit=5, p=0.25))],\n",
    "    batch_tfms=aug_transforms(do_flip=False),\n",
    ")"
   ]
  },
  {
   "cell_type": "code",
   "execution_count": null,
   "id": "4e604e62",
   "metadata": {},
   "outputs": [
    {
     "data": {
      "text/html": [
       "\n",
       "<style>\n",
       "    /* Turns off some styling */\n",
       "    progress {\n",
       "        /* gets rid of default border in Firefox and Opera. */\n",
       "        border: none;\n",
       "        /* Needs to be in here for Safari polyfill so background images work as expected. */\n",
       "        background-size: auto;\n",
       "    }\n",
       "    .progress-bar-interrupted, .progress-bar-interrupted::-webkit-progress-bar {\n",
       "        background: #F44336;\n",
       "    }\n",
       "</style>\n"
      ],
      "text/plain": [
       "<IPython.core.display.HTML object>"
      ]
     },
     "metadata": {},
     "output_type": "display_data"
    },
    {
     "data": {
      "text/html": [
       "<table border=\"1\" class=\"dataframe\">\n",
       "  <thead>\n",
       "    <tr style=\"text-align: left;\">\n",
       "      <th>epoch</th>\n",
       "      <th>train_loss</th>\n",
       "      <th>valid_loss</th>\n",
       "      <th>error_rate</th>\n",
       "      <th>time</th>\n",
       "    </tr>\n",
       "  </thead>\n",
       "  <tbody>\n",
       "    <tr>\n",
       "      <td>0</td>\n",
       "      <td>5.024436</td>\n",
       "      <td>6.023483</td>\n",
       "      <td>0.927913</td>\n",
       "      <td>00:27</td>\n",
       "    </tr>\n",
       "  </tbody>\n",
       "</table>"
      ],
      "text/plain": [
       "<IPython.core.display.HTML object>"
      ]
     },
     "metadata": {},
     "output_type": "display_data"
    },
    {
     "data": {
      "text/html": [
       "\n",
       "<style>\n",
       "    /* Turns off some styling */\n",
       "    progress {\n",
       "        /* gets rid of default border in Firefox and Opera. */\n",
       "        border: none;\n",
       "        /* Needs to be in here for Safari polyfill so background images work as expected. */\n",
       "        background-size: auto;\n",
       "    }\n",
       "    .progress-bar-interrupted, .progress-bar-interrupted::-webkit-progress-bar {\n",
       "        background: #F44336;\n",
       "    }\n",
       "</style>\n"
      ],
      "text/plain": [
       "<IPython.core.display.HTML object>"
      ]
     },
     "metadata": {},
     "output_type": "display_data"
    },
    {
     "data": {
      "text/html": [
       "<table border=\"1\" class=\"dataframe\">\n",
       "  <thead>\n",
       "    <tr style=\"text-align: left;\">\n",
       "      <th>epoch</th>\n",
       "      <th>train_loss</th>\n",
       "      <th>valid_loss</th>\n",
       "      <th>error_rate</th>\n",
       "      <th>time</th>\n",
       "    </tr>\n",
       "  </thead>\n",
       "  <tbody>\n",
       "    <tr>\n",
       "      <td>0</td>\n",
       "      <td>3.002621</td>\n",
       "      <td>5.742830</td>\n",
       "      <td>0.874170</td>\n",
       "      <td>00:28</td>\n",
       "    </tr>\n",
       "    <tr>\n",
       "      <td>1</td>\n",
       "      <td>2.163244</td>\n",
       "      <td>5.342408</td>\n",
       "      <td>0.823083</td>\n",
       "      <td>00:28</td>\n",
       "    </tr>\n",
       "    <tr>\n",
       "      <td>2</td>\n",
       "      <td>1.376949</td>\n",
       "      <td>4.849100</td>\n",
       "      <td>0.753641</td>\n",
       "      <td>00:27</td>\n",
       "    </tr>\n",
       "    <tr>\n",
       "      <td>3</td>\n",
       "      <td>0.834425</td>\n",
       "      <td>4.846983</td>\n",
       "      <td>0.724987</td>\n",
       "      <td>00:28</td>\n",
       "    </tr>\n",
       "    <tr>\n",
       "      <td>4</td>\n",
       "      <td>0.526092</td>\n",
       "      <td>4.439445</td>\n",
       "      <td>0.659528</td>\n",
       "      <td>00:28</td>\n",
       "    </tr>\n",
       "    <tr>\n",
       "      <td>5</td>\n",
       "      <td>0.361762</td>\n",
       "      <td>4.128017</td>\n",
       "      <td>0.618858</td>\n",
       "      <td>00:28</td>\n",
       "    </tr>\n",
       "    <tr>\n",
       "      <td>6</td>\n",
       "      <td>0.273085</td>\n",
       "      <td>3.812862</td>\n",
       "      <td>0.591967</td>\n",
       "      <td>00:28</td>\n",
       "    </tr>\n",
       "    <tr>\n",
       "      <td>7</td>\n",
       "      <td>0.215335</td>\n",
       "      <td>3.473040</td>\n",
       "      <td>0.540055</td>\n",
       "      <td>00:27</td>\n",
       "    </tr>\n",
       "    <tr>\n",
       "      <td>8</td>\n",
       "      <td>0.168322</td>\n",
       "      <td>3.439951</td>\n",
       "      <td>0.531828</td>\n",
       "      <td>00:27</td>\n",
       "    </tr>\n",
       "    <tr>\n",
       "      <td>9</td>\n",
       "      <td>0.134989</td>\n",
       "      <td>3.444489</td>\n",
       "      <td>0.546073</td>\n",
       "      <td>00:28</td>\n",
       "    </tr>\n",
       "    <tr>\n",
       "      <td>10</td>\n",
       "      <td>0.111722</td>\n",
       "      <td>3.180053</td>\n",
       "      <td>0.494569</td>\n",
       "      <td>00:28</td>\n",
       "    </tr>\n",
       "    <tr>\n",
       "      <td>11</td>\n",
       "      <td>0.093810</td>\n",
       "      <td>3.090571</td>\n",
       "      <td>0.484113</td>\n",
       "      <td>00:28</td>\n",
       "    </tr>\n",
       "    <tr>\n",
       "      <td>12</td>\n",
       "      <td>0.079880</td>\n",
       "      <td>3.011130</td>\n",
       "      <td>0.470701</td>\n",
       "      <td>00:28</td>\n",
       "    </tr>\n",
       "    <tr>\n",
       "      <td>13</td>\n",
       "      <td>0.077347</td>\n",
       "      <td>3.076101</td>\n",
       "      <td>0.485285</td>\n",
       "      <td>00:28</td>\n",
       "    </tr>\n",
       "    <tr>\n",
       "      <td>14</td>\n",
       "      <td>0.075404</td>\n",
       "      <td>3.057786</td>\n",
       "      <td>0.483948</td>\n",
       "      <td>00:28</td>\n",
       "    </tr>\n",
       "  </tbody>\n",
       "</table>"
      ],
      "text/plain": [
       "<IPython.core.display.HTML object>"
      ]
     },
     "metadata": {},
     "output_type": "display_data"
    }
   ],
   "source": [
    "learn = vision_learner(dls, resnet50, metrics=[error_rate])\n",
    "learn.dls.train.get_idxs = types.MethodType(sample_epoch, learn.dls.train)\n",
    "learn.fine_tune(15)"
   ]
  },
  {
   "cell_type": "code",
   "execution_count": null,
   "id": "378e618f",
   "metadata": {},
   "outputs": [
    {
     "data": {
      "text/html": [
       "\n",
       "<style>\n",
       "    /* Turns off some styling */\n",
       "    progress {\n",
       "        /* gets rid of default border in Firefox and Opera. */\n",
       "        border: none;\n",
       "        /* Needs to be in here for Safari polyfill so background images work as expected. */\n",
       "        background-size: auto;\n",
       "    }\n",
       "    .progress-bar-interrupted, .progress-bar-interrupted::-webkit-progress-bar {\n",
       "        background: #F44336;\n",
       "    }\n",
       "</style>\n"
      ],
      "text/plain": [
       "<IPython.core.display.HTML object>"
      ]
     },
     "metadata": {},
     "output_type": "display_data"
    },
    {
     "data": {
      "text/html": [],
      "text/plain": [
       "<IPython.core.display.HTML object>"
      ]
     },
     "metadata": {},
     "output_type": "display_data"
    }
   ],
   "source": [
    "preds,y,py,losses = learn.get_preds(with_loss=True, with_decoded=True)"
   ]
  },
  {
   "cell_type": "code",
   "execution_count": null,
   "id": "4101401e",
   "metadata": {},
   "outputs": [],
   "source": [
    "val3 = learn.dls[1].items.copy()\n",
    "val3['pred'] = py\n",
    "val3['pred'] = val3['pred'].map(lambda x: learn.dls.vocab[x])\n",
    "val3['loss'] = -losses"
   ]
  },
  {
   "cell_type": "code",
   "execution_count": null,
   "id": "72e29ede",
   "metadata": {},
   "outputs": [],
   "source": [
    "val3_flt = val3[(val3['label'] != 'other-sign')]"
   ]
  },
  {
   "cell_type": "code",
   "execution_count": null,
   "id": "5147911b",
   "metadata": {},
   "outputs": [
    {
     "data": {
      "text/plain": [
       "0.14007439588834938"
      ]
     },
     "execution_count": null,
     "metadata": {},
     "output_type": "execute_result"
    }
   ],
   "source": [
    "(val3_flt['pred'] != val3_flt['label']).mean()"
   ]
  },
  {
   "cell_type": "code",
   "execution_count": null,
   "id": "84e221fb",
   "metadata": {},
   "outputs": [],
   "source": [
    "chevrons1 = pd.read_pickle('chevrons.pd')\n",
    "chevrons2 = pd.read_pickle('chevrons2.pd')"
   ]
  },
  {
   "cell_type": "code",
   "execution_count": null,
   "id": "57107542",
   "metadata": {},
   "outputs": [
    {
     "data": {
      "text/plain": [
       "fname      complementary--chevron-left--g1/O5H04nSViSQQf-e_mD0hZQ-0.jpg\n",
       "label                                   complementary--chevron-left--g1\n",
       "invalid                                                           False\n",
       "valid                                                              True\n",
       "pred                                    complementary--chevron-left--g1\n",
       "loss                                                          -0.006568\n",
       "Name: complementary--chevron-left--g1/O5H04nSViSQQf-e_mD0hZQ-0.jpg, dtype: object"
      ]
     },
     "execution_count": null,
     "metadata": {},
     "output_type": "execute_result"
    }
   ],
   "source": [
    "val3.loc[chevrons2.index[0]]"
   ]
  },
  {
   "cell_type": "code",
   "execution_count": null,
   "id": "1200e08a",
   "metadata": {},
   "outputs": [
    {
     "data": {
      "text/html": [
       "<div>\n",
       "<style scoped>\n",
       "    .dataframe tbody tr th:only-of-type {\n",
       "        vertical-align: middle;\n",
       "    }\n",
       "\n",
       "    .dataframe tbody tr th {\n",
       "        vertical-align: top;\n",
       "    }\n",
       "\n",
       "    .dataframe thead th {\n",
       "        text-align: right;\n",
       "    }\n",
       "</style>\n",
       "<table border=\"1\" class=\"dataframe\">\n",
       "  <thead>\n",
       "    <tr style=\"text-align: right;\">\n",
       "      <th></th>\n",
       "      <th>fname</th>\n",
       "      <th>label</th>\n",
       "      <th>invalid</th>\n",
       "      <th>valid</th>\n",
       "      <th>pred</th>\n",
       "      <th>loss</th>\n",
       "    </tr>\n",
       "  </thead>\n",
       "  <tbody>\n",
       "    <tr>\n",
       "      <th>complementary--chevron-left--g1/O5H04nSViSQQf-e_mD0hZQ-0.jpg</th>\n",
       "      <td>complementary--chevron-left--g1/O5H04nSViSQQf-e_mD0hZQ-0.jpg</td>\n",
       "      <td>complementary--chevron-left--g1</td>\n",
       "      <td>False</td>\n",
       "      <td>True</td>\n",
       "      <td>complementary--chevron-left--g1</td>\n",
       "      <td>-0.006568</td>\n",
       "    </tr>\n",
       "    <tr>\n",
       "      <th>complementary--chevron-left--g1/WQHyjx_xaYXg1OsLWY5DVg-0.jpg</th>\n",
       "      <td>complementary--chevron-left--g1/WQHyjx_xaYXg1OsLWY5DVg-0.jpg</td>\n",
       "      <td>complementary--chevron-left--g1</td>\n",
       "      <td>False</td>\n",
       "      <td>True</td>\n",
       "      <td>complementary--chevron-left--g1</td>\n",
       "      <td>-0.016900</td>\n",
       "    </tr>\n",
       "    <tr>\n",
       "      <th>complementary--chevron-left--g1/P3v4bTqwLRx1aItzzTqKrA-4.jpg</th>\n",
       "      <td>complementary--chevron-left--g1/P3v4bTqwLRx1aItzzTqKrA-4.jpg</td>\n",
       "      <td>complementary--chevron-left--g1</td>\n",
       "      <td>False</td>\n",
       "      <td>True</td>\n",
       "      <td>complementary--chevron-left--g1</td>\n",
       "      <td>-0.009794</td>\n",
       "    </tr>\n",
       "    <tr>\n",
       "      <th>complementary--chevron-left--g1/_sxL-VxyPZH3Vz_tvy4eEw-1.jpg</th>\n",
       "      <td>complementary--chevron-left--g1/_sxL-VxyPZH3Vz_tvy4eEw-1.jpg</td>\n",
       "      <td>complementary--chevron-left--g1</td>\n",
       "      <td>False</td>\n",
       "      <td>True</td>\n",
       "      <td>complementary--chevron-left--g1</td>\n",
       "      <td>-0.010090</td>\n",
       "    </tr>\n",
       "    <tr>\n",
       "      <th>complementary--chevron-left--g1/57PYyWsUWv7Zw09MeMqUSA-9.jpg</th>\n",
       "      <td>complementary--chevron-left--g1/57PYyWsUWv7Zw09MeMqUSA-9.jpg</td>\n",
       "      <td>complementary--chevron-left--g1</td>\n",
       "      <td>False</td>\n",
       "      <td>True</td>\n",
       "      <td>complementary--chevron-left--g1</td>\n",
       "      <td>-0.700759</td>\n",
       "    </tr>\n",
       "    <tr>\n",
       "      <th>...</th>\n",
       "      <td>...</td>\n",
       "      <td>...</td>\n",
       "      <td>...</td>\n",
       "      <td>...</td>\n",
       "      <td>...</td>\n",
       "      <td>...</td>\n",
       "    </tr>\n",
       "    <tr>\n",
       "      <th>complementary--chevron-left--g5/fiTKiSL0cRYWmaJWFdxw-g-4.jpg</th>\n",
       "      <td>complementary--chevron-left--g5/fiTKiSL0cRYWmaJWFdxw-g-4.jpg</td>\n",
       "      <td>complementary--chevron-left--g5</td>\n",
       "      <td>False</td>\n",
       "      <td>True</td>\n",
       "      <td>complementary--chevron-left--g5</td>\n",
       "      <td>-0.000005</td>\n",
       "    </tr>\n",
       "    <tr>\n",
       "      <th>complementary--chevron-left--g5/v_A1aK4W9EcwEU8cacEnwg-8.jpg</th>\n",
       "      <td>complementary--chevron-left--g5/v_A1aK4W9EcwEU8cacEnwg-8.jpg</td>\n",
       "      <td>complementary--chevron-left--g5</td>\n",
       "      <td>False</td>\n",
       "      <td>True</td>\n",
       "      <td>complementary--chevron-left--g5</td>\n",
       "      <td>-0.000024</td>\n",
       "    </tr>\n",
       "    <tr>\n",
       "      <th>complementary--chevron-left--g5/eB3f85xKiPZLvq8Is8GpRQ-0.jpg</th>\n",
       "      <td>complementary--chevron-left--g5/eB3f85xKiPZLvq8Is8GpRQ-0.jpg</td>\n",
       "      <td>complementary--chevron-left--g5</td>\n",
       "      <td>False</td>\n",
       "      <td>True</td>\n",
       "      <td>complementary--chevron-left--g5</td>\n",
       "      <td>-0.000048</td>\n",
       "    </tr>\n",
       "    <tr>\n",
       "      <th>complementary--chevron-left--g5/569K1cLxEz6Cz4Bw8qld1A-2.jpg</th>\n",
       "      <td>complementary--chevron-left--g5/569K1cLxEz6Cz4Bw8qld1A-2.jpg</td>\n",
       "      <td>complementary--chevron-left--g5</td>\n",
       "      <td>False</td>\n",
       "      <td>True</td>\n",
       "      <td>complementary--chevron-left--g5</td>\n",
       "      <td>-0.000106</td>\n",
       "    </tr>\n",
       "    <tr>\n",
       "      <th>complementary--chevron-left--g5/Q7rGkBFbzfKZMqg9sQpbEA-7.jpg</th>\n",
       "      <td>complementary--chevron-left--g5/Q7rGkBFbzfKZMqg9sQpbEA-7.jpg</td>\n",
       "      <td>complementary--chevron-left--g5</td>\n",
       "      <td>False</td>\n",
       "      <td>True</td>\n",
       "      <td>complementary--chevron-left--g5</td>\n",
       "      <td>-0.268921</td>\n",
       "    </tr>\n",
       "  </tbody>\n",
       "</table>\n",
       "<p>1307 rows × 6 columns</p>\n",
       "</div>"
      ],
      "text/plain": [
       "                                                                                                                     fname  \\\n",
       "complementary--chevron-left--g1/O5H04nSViSQQf-e_mD0hZQ-0.jpg  complementary--chevron-left--g1/O5H04nSViSQQf-e_mD0hZQ-0.jpg   \n",
       "complementary--chevron-left--g1/WQHyjx_xaYXg1OsLWY5DVg-0.jpg  complementary--chevron-left--g1/WQHyjx_xaYXg1OsLWY5DVg-0.jpg   \n",
       "complementary--chevron-left--g1/P3v4bTqwLRx1aItzzTqKrA-4.jpg  complementary--chevron-left--g1/P3v4bTqwLRx1aItzzTqKrA-4.jpg   \n",
       "complementary--chevron-left--g1/_sxL-VxyPZH3Vz_tvy4eEw-1.jpg  complementary--chevron-left--g1/_sxL-VxyPZH3Vz_tvy4eEw-1.jpg   \n",
       "complementary--chevron-left--g1/57PYyWsUWv7Zw09MeMqUSA-9.jpg  complementary--chevron-left--g1/57PYyWsUWv7Zw09MeMqUSA-9.jpg   \n",
       "...                                                                                                                    ...   \n",
       "complementary--chevron-left--g5/fiTKiSL0cRYWmaJWFdxw-g-4.jpg  complementary--chevron-left--g5/fiTKiSL0cRYWmaJWFdxw-g-4.jpg   \n",
       "complementary--chevron-left--g5/v_A1aK4W9EcwEU8cacEnwg-8.jpg  complementary--chevron-left--g5/v_A1aK4W9EcwEU8cacEnwg-8.jpg   \n",
       "complementary--chevron-left--g5/eB3f85xKiPZLvq8Is8GpRQ-0.jpg  complementary--chevron-left--g5/eB3f85xKiPZLvq8Is8GpRQ-0.jpg   \n",
       "complementary--chevron-left--g5/569K1cLxEz6Cz4Bw8qld1A-2.jpg  complementary--chevron-left--g5/569K1cLxEz6Cz4Bw8qld1A-2.jpg   \n",
       "complementary--chevron-left--g5/Q7rGkBFbzfKZMqg9sQpbEA-7.jpg  complementary--chevron-left--g5/Q7rGkBFbzfKZMqg9sQpbEA-7.jpg   \n",
       "\n",
       "                                                                                        label  \\\n",
       "complementary--chevron-left--g1/O5H04nSViSQQf-e_mD0hZQ-0.jpg  complementary--chevron-left--g1   \n",
       "complementary--chevron-left--g1/WQHyjx_xaYXg1OsLWY5DVg-0.jpg  complementary--chevron-left--g1   \n",
       "complementary--chevron-left--g1/P3v4bTqwLRx1aItzzTqKrA-4.jpg  complementary--chevron-left--g1   \n",
       "complementary--chevron-left--g1/_sxL-VxyPZH3Vz_tvy4eEw-1.jpg  complementary--chevron-left--g1   \n",
       "complementary--chevron-left--g1/57PYyWsUWv7Zw09MeMqUSA-9.jpg  complementary--chevron-left--g1   \n",
       "...                                                                                       ...   \n",
       "complementary--chevron-left--g5/fiTKiSL0cRYWmaJWFdxw-g-4.jpg  complementary--chevron-left--g5   \n",
       "complementary--chevron-left--g5/v_A1aK4W9EcwEU8cacEnwg-8.jpg  complementary--chevron-left--g5   \n",
       "complementary--chevron-left--g5/eB3f85xKiPZLvq8Is8GpRQ-0.jpg  complementary--chevron-left--g5   \n",
       "complementary--chevron-left--g5/569K1cLxEz6Cz4Bw8qld1A-2.jpg  complementary--chevron-left--g5   \n",
       "complementary--chevron-left--g5/Q7rGkBFbzfKZMqg9sQpbEA-7.jpg  complementary--chevron-left--g5   \n",
       "\n",
       "                                                              invalid  valid  \\\n",
       "complementary--chevron-left--g1/O5H04nSViSQQf-e_mD0hZQ-0.jpg    False   True   \n",
       "complementary--chevron-left--g1/WQHyjx_xaYXg1OsLWY5DVg-0.jpg    False   True   \n",
       "complementary--chevron-left--g1/P3v4bTqwLRx1aItzzTqKrA-4.jpg    False   True   \n",
       "complementary--chevron-left--g1/_sxL-VxyPZH3Vz_tvy4eEw-1.jpg    False   True   \n",
       "complementary--chevron-left--g1/57PYyWsUWv7Zw09MeMqUSA-9.jpg    False   True   \n",
       "...                                                               ...    ...   \n",
       "complementary--chevron-left--g5/fiTKiSL0cRYWmaJWFdxw-g-4.jpg    False   True   \n",
       "complementary--chevron-left--g5/v_A1aK4W9EcwEU8cacEnwg-8.jpg    False   True   \n",
       "complementary--chevron-left--g5/eB3f85xKiPZLvq8Is8GpRQ-0.jpg    False   True   \n",
       "complementary--chevron-left--g5/569K1cLxEz6Cz4Bw8qld1A-2.jpg    False   True   \n",
       "complementary--chevron-left--g5/Q7rGkBFbzfKZMqg9sQpbEA-7.jpg    False   True   \n",
       "\n",
       "                                                                                         pred  \\\n",
       "complementary--chevron-left--g1/O5H04nSViSQQf-e_mD0hZQ-0.jpg  complementary--chevron-left--g1   \n",
       "complementary--chevron-left--g1/WQHyjx_xaYXg1OsLWY5DVg-0.jpg  complementary--chevron-left--g1   \n",
       "complementary--chevron-left--g1/P3v4bTqwLRx1aItzzTqKrA-4.jpg  complementary--chevron-left--g1   \n",
       "complementary--chevron-left--g1/_sxL-VxyPZH3Vz_tvy4eEw-1.jpg  complementary--chevron-left--g1   \n",
       "complementary--chevron-left--g1/57PYyWsUWv7Zw09MeMqUSA-9.jpg  complementary--chevron-left--g1   \n",
       "...                                                                                       ...   \n",
       "complementary--chevron-left--g5/fiTKiSL0cRYWmaJWFdxw-g-4.jpg  complementary--chevron-left--g5   \n",
       "complementary--chevron-left--g5/v_A1aK4W9EcwEU8cacEnwg-8.jpg  complementary--chevron-left--g5   \n",
       "complementary--chevron-left--g5/eB3f85xKiPZLvq8Is8GpRQ-0.jpg  complementary--chevron-left--g5   \n",
       "complementary--chevron-left--g5/569K1cLxEz6Cz4Bw8qld1A-2.jpg  complementary--chevron-left--g5   \n",
       "complementary--chevron-left--g5/Q7rGkBFbzfKZMqg9sQpbEA-7.jpg  complementary--chevron-left--g5   \n",
       "\n",
       "                                                                  loss  \n",
       "complementary--chevron-left--g1/O5H04nSViSQQf-e_mD0hZQ-0.jpg -0.006568  \n",
       "complementary--chevron-left--g1/WQHyjx_xaYXg1OsLWY5DVg-0.jpg -0.016900  \n",
       "complementary--chevron-left--g1/P3v4bTqwLRx1aItzzTqKrA-4.jpg -0.009794  \n",
       "complementary--chevron-left--g1/_sxL-VxyPZH3Vz_tvy4eEw-1.jpg -0.010090  \n",
       "complementary--chevron-left--g1/57PYyWsUWv7Zw09MeMqUSA-9.jpg -0.700759  \n",
       "...                                                                ...  \n",
       "complementary--chevron-left--g5/fiTKiSL0cRYWmaJWFdxw-g-4.jpg -0.000005  \n",
       "complementary--chevron-left--g5/v_A1aK4W9EcwEU8cacEnwg-8.jpg -0.000024  \n",
       "complementary--chevron-left--g5/eB3f85xKiPZLvq8Is8GpRQ-0.jpg -0.000048  \n",
       "complementary--chevron-left--g5/569K1cLxEz6Cz4Bw8qld1A-2.jpg -0.000106  \n",
       "complementary--chevron-left--g5/Q7rGkBFbzfKZMqg9sQpbEA-7.jpg -0.268921  \n",
       "\n",
       "[1307 rows x 6 columns]"
      ]
     },
     "execution_count": null,
     "metadata": {},
     "output_type": "execute_result"
    }
   ],
   "source": [
    "val3.loc[chevrons2[chevrons2['corrected'] != 'invalid'].index]"
   ]
  },
  {
   "cell_type": "code",
   "execution_count": null,
   "id": "dd6dcf17",
   "metadata": {},
   "outputs": [],
   "source": [
    "fixed_chevrons = pd.concat([chevrons1, chevrons2])\n",
    "fixed_chevrons =  fixed_chevrons[fixed_chevrons['corrected'] != 'invalid'].copy()"
   ]
  },
  {
   "cell_type": "code",
   "execution_count": null,
   "id": "00c7bf91",
   "metadata": {},
   "outputs": [
    {
     "data": {
      "text/plain": [
       "0.19672131147540983"
      ]
     },
     "execution_count": null,
     "metadata": {},
     "output_type": "execute_result"
    }
   ],
   "source": [
    "(fixed_chevrons['label'] != fixed_chevrons['corrected']).mean()"
   ]
  },
  {
   "cell_type": "code",
   "execution_count": null,
   "id": "3910bcfa",
   "metadata": {},
   "outputs": [
    {
     "data": {
      "text/plain": [
       "0.0"
      ]
     },
     "execution_count": null,
     "metadata": {},
     "output_type": "execute_result"
    }
   ],
   "source": [
    "(fixed_chevrons['corrected'] == 'invalid').mean()"
   ]
  },
  {
   "cell_type": "code",
   "execution_count": null,
   "id": "172f7a99",
   "metadata": {},
   "outputs": [
    {
     "data": {
      "text/plain": [
       "complementary--chevron-left--g1/O5H04nSViSQQf-e_mD0hZQ-0.jpg    True\n",
       "complementary--chevron-left--g1/WQHyjx_xaYXg1OsLWY5DVg-0.jpg    True\n",
       "complementary--chevron-left--g1/P3v4bTqwLRx1aItzzTqKrA-4.jpg    True\n",
       "complementary--chevron-left--g1/_sxL-VxyPZH3Vz_tvy4eEw-1.jpg    True\n",
       "complementary--chevron-left--g1/57PYyWsUWv7Zw09MeMqUSA-9.jpg    True\n",
       "                                                                ... \n",
       "complementary--chevron-left--g5/fiTKiSL0cRYWmaJWFdxw-g-4.jpg    True\n",
       "complementary--chevron-left--g5/v_A1aK4W9EcwEU8cacEnwg-8.jpg    True\n",
       "complementary--chevron-left--g5/eB3f85xKiPZLvq8Is8GpRQ-0.jpg    True\n",
       "complementary--chevron-left--g5/569K1cLxEz6Cz4Bw8qld1A-2.jpg    True\n",
       "complementary--chevron-left--g5/Q7rGkBFbzfKZMqg9sQpbEA-7.jpg    True\n",
       "Length: 1307, dtype: bool"
      ]
     },
     "execution_count": null,
     "metadata": {},
     "output_type": "execute_result"
    }
   ],
   "source": [
    "(val3.loc[chevrons2[chevrons2['corrected'] != 'invalid'].index]['label'] == chevrons2[chevrons2['corrected'] != 'invalid']['corrected'])"
   ]
  },
  {
   "cell_type": "code",
   "execution_count": null,
   "id": "ef770ce7",
   "metadata": {},
   "outputs": [
    {
     "data": {
      "text/plain": [
       "1.0"
      ]
     },
     "execution_count": null,
     "metadata": {},
     "output_type": "execute_result"
    }
   ],
   "source": [
    "(val3[val3['label'].str.startswith('complementary--chevron-left--')].index == chevrons2[chevrons2['corrected'] != 'invalid'].index).mean()"
   ]
  },
  {
   "cell_type": "code",
   "execution_count": null,
   "id": "7e01353e",
   "metadata": {},
   "outputs": [
    {
     "data": {
      "text/plain": [
       "0.0"
      ]
     },
     "execution_count": null,
     "metadata": {},
     "output_type": "execute_result"
    }
   ],
   "source": [
    "(val3.loc[chevrons3.index, 'label'] != chevrons3['corrected']).mean()"
   ]
  },
  {
   "cell_type": "code",
   "execution_count": null,
   "id": "87aadb9d",
   "metadata": {},
   "outputs": [],
   "source": [
    "chevrons3 = chevrons2[chevrons2['corrected'] != 'invalid'].copy()\n",
    "chevrons3['pred'] = val3.loc[chevrons3.index, 'pred']\n",
    "chevrons3['loss'] = val3.loc[chevrons3.index, 'loss']"
   ]
  },
  {
   "cell_type": "code",
   "execution_count": null,
   "id": "def4104e",
   "metadata": {},
   "outputs": [
    {
     "data": {
      "text/plain": [
       "0.13925019127773527"
      ]
     },
     "execution_count": null,
     "metadata": {},
     "output_type": "execute_result"
    }
   ],
   "source": [
    "(chevrons3['corrected'] != chevrons3['pred']).mean()"
   ]
  },
  {
   "cell_type": "code",
   "execution_count": null,
   "id": "74aea951",
   "metadata": {},
   "outputs": [
    {
     "data": {
      "text/html": [
       "\n",
       "        <style>\n",
       "            .mlfix-container {\n",
       "                position: relative;\n",
       "                background-color: white;\n",
       "            }\n",
       "            .mlfix-fullscreen {\n",
       "                width: 100%;\n",
       "                height: 100%;\n",
       "                position: absolute;\n",
       "                top: 0;\n",
       "                left: 0;\n",
       "                z-index: 10000;\n",
       "            }\n",
       "            .mlfix-fullscreen iframe {\n",
       "                height: 100%;\n",
       "            }\n",
       "        </style>\n",
       "        <div id=mlfix-JvYD9-container class=mlfix-container>\n",
       "            <iframe id=mlfix-JvYD9 src=\"/proxy/37475/#mlfix-JvYD9\"\n",
       "                width=\"100%\" height=\"500px\" frameborder=\"0\" allowfullscreen></iframe>\n",
       "            <script>(function () {\n",
       "                var iframe = document.getElementById('mlfix-JvYD9');\n",
       "                var outputEl = iframe.parentNode;\n",
       "                var parentEl = outputEl.parentNode;\n",
       "                console.log('MLfix init:', outputEl, parentEl);\n",
       "                var bringMLfixIframeToFocus = function() {\n",
       "                    iframe.contentWindow.focus();\n",
       "                }\n",
       "                setTimeout(bringMLfixIframeToFocus, 100);\n",
       "\n",
       "                var isFullscreen = false;\n",
       "                var parentEl;\n",
       "                window.addEventListener('message', (ev) => {\n",
       "                    //console.log('window message:', ev.data);\n",
       "                    if (ev.data == 'mlfix-toggle-fullscreen-mlfix-JvYD9') {\n",
       "                        if (!isFullscreen) {\n",
       "                            $(outputEl).appendTo(document.body).addClass('mlfix-fullscreen');\n",
       "                        } else {\n",
       "                            $(outputEl).appendTo(parentEl).removeClass('mlfix-fullscreen');\n",
       "                        }\n",
       "                        isFullscreen = !isFullscreen;\n",
       "                        console.log('fullscreen', isFullscreen);\n",
       "                        setTimeout(bringMLfixIframeToFocus, 100);\n",
       "                    }\n",
       "                });\n",
       "            })();</script>\n",
       "        </div>\n",
       "        "
      ],
      "text/plain": [
       "<IPython.core.display.HTML object>"
      ]
     },
     "metadata": {},
     "output_type": "display_data"
    }
   ],
   "source": [
    "chevron_groups = [\n",
    "        \"complementary--chevron-left--g1\",\n",
    "        \"complementary--chevron-left--g2\",\n",
    "        \"complementary--chevron-left--g3\",\n",
    "        \"complementary--chevron-left--g4\",\n",
    "        \"complementary--chevron-left--g5\",\n",
    "]\n",
    "MLfixFile2(\n",
    "    chevrons3,\n",
    "    label='corrected',\n",
    "    group='pred',\n",
    "    sort='loss',\n",
    "    size=200,\n",
    "    group_labels=chevron_groups,\n",
    "    group_icons={x:'icons/' + x + '.svg' for x in chevron_groups}\n",
    ").display()"
   ]
  },
  {
   "cell_type": "code",
   "execution_count": null,
   "id": "9f391904",
   "metadata": {},
   "outputs": [],
   "source": [
    "data['context'] = data['fname'].apply(lambda x: re.sub(\"-[0-9]+.jpg\", \".jpg\", Path(x).name))"
   ]
  },
  {
   "cell_type": "code",
   "execution_count": null,
   "id": "4b6e014a",
   "metadata": {},
   "outputs": [],
   "source": [
    "photos_with_chevrons = data[data['label'].str.startswith('complementary--chevron-left')]['context'].unique()"
   ]
  },
  {
   "cell_type": "code",
   "execution_count": null,
   "id": "fe82a496",
   "metadata": {},
   "outputs": [
    {
     "data": {
      "text/html": [
       "<div>\n",
       "<style scoped>\n",
       "    .dataframe tbody tr th:only-of-type {\n",
       "        vertical-align: middle;\n",
       "    }\n",
       "\n",
       "    .dataframe tbody tr th {\n",
       "        vertical-align: top;\n",
       "    }\n",
       "\n",
       "    .dataframe thead th {\n",
       "        text-align: right;\n",
       "    }\n",
       "</style>\n",
       "<table border=\"1\" class=\"dataframe\">\n",
       "  <thead>\n",
       "    <tr style=\"text-align: right;\">\n",
       "      <th></th>\n",
       "      <th>fname</th>\n",
       "      <th>label</th>\n",
       "      <th>invalid</th>\n",
       "      <th>valid</th>\n",
       "      <th>context</th>\n",
       "    </tr>\n",
       "  </thead>\n",
       "  <tbody>\n",
       "    <tr>\n",
       "      <th>warning--winding-road-first-left--g1/bty2dQfzaGwP3k7q8wVmbA-0.jpg</th>\n",
       "      <td>warning--winding-road-first-left--g1/bty2dQfzaGwP3k7q8wVmbA-0.jpg</td>\n",
       "      <td>warning--winding-road-first-left--g1</td>\n",
       "      <td>False</td>\n",
       "      <td>True</td>\n",
       "      <td>bty2dQfzaGwP3k7q8wVmbA.jpg</td>\n",
       "    </tr>\n",
       "    <tr>\n",
       "      <th>warning--winding-road-first-left--g1/teLMYmJTo44s5GX6oPYl2Q-0.jpg</th>\n",
       "      <td>warning--winding-road-first-left--g1/teLMYmJTo44s5GX6oPYl2Q-0.jpg</td>\n",
       "      <td>warning--winding-road-first-left--g1</td>\n",
       "      <td>False</td>\n",
       "      <td>True</td>\n",
       "      <td>teLMYmJTo44s5GX6oPYl2Q.jpg</td>\n",
       "    </tr>\n",
       "    <tr>\n",
       "      <th>warning--winding-road-first-left--g1/KO8Glwjm6FxL1qeEulRExA-0.jpg</th>\n",
       "      <td>warning--winding-road-first-left--g1/KO8Glwjm6FxL1qeEulRExA-0.jpg</td>\n",
       "      <td>warning--winding-road-first-left--g1</td>\n",
       "      <td>False</td>\n",
       "      <td>False</td>\n",
       "      <td>KO8Glwjm6FxL1qeEulRExA.jpg</td>\n",
       "    </tr>\n",
       "    <tr>\n",
       "      <th>warning--winding-road-first-left--g1/pf1V6NZfhRptj6tyAO7J-Q-2.jpg</th>\n",
       "      <td>warning--winding-road-first-left--g1/pf1V6NZfhRptj6tyAO7J-Q-2.jpg</td>\n",
       "      <td>warning--winding-road-first-left--g1</td>\n",
       "      <td>False</td>\n",
       "      <td>False</td>\n",
       "      <td>pf1V6NZfhRptj6tyAO7J-Q.jpg</td>\n",
       "    </tr>\n",
       "    <tr>\n",
       "      <th>warning--winding-road-first-left--g1/QaRfxPiK9enIxoTA13j1kA-2.jpg</th>\n",
       "      <td>warning--winding-road-first-left--g1/QaRfxPiK9enIxoTA13j1kA-2.jpg</td>\n",
       "      <td>warning--winding-road-first-left--g1</td>\n",
       "      <td>False</td>\n",
       "      <td>False</td>\n",
       "      <td>QaRfxPiK9enIxoTA13j1kA.jpg</td>\n",
       "    </tr>\n",
       "    <tr>\n",
       "      <th>...</th>\n",
       "      <td>...</td>\n",
       "      <td>...</td>\n",
       "      <td>...</td>\n",
       "      <td>...</td>\n",
       "      <td>...</td>\n",
       "    </tr>\n",
       "    <tr>\n",
       "      <th>complementary--one-direction-left--g1/ld4tKU2ZBY9Q6kN-ezXxRg-5.jpg</th>\n",
       "      <td>complementary--one-direction-left--g1/ld4tKU2ZBY9Q6kN-ezXxRg-5.jpg</td>\n",
       "      <td>complementary--one-direction-left--g1</td>\n",
       "      <td>False</td>\n",
       "      <td>False</td>\n",
       "      <td>ld4tKU2ZBY9Q6kN-ezXxRg.jpg</td>\n",
       "    </tr>\n",
       "    <tr>\n",
       "      <th>complementary--one-direction-left--g1/r3gFX7oV1KXvIL4n8ZqcVQ-1.jpg</th>\n",
       "      <td>complementary--one-direction-left--g1/r3gFX7oV1KXvIL4n8ZqcVQ-1.jpg</td>\n",
       "      <td>complementary--one-direction-left--g1</td>\n",
       "      <td>False</td>\n",
       "      <td>True</td>\n",
       "      <td>r3gFX7oV1KXvIL4n8ZqcVQ.jpg</td>\n",
       "    </tr>\n",
       "    <tr>\n",
       "      <th>complementary--one-direction-left--g1/o3z8-Gsr4yUJ82YKF_-Q0w-2.jpg</th>\n",
       "      <td>complementary--one-direction-left--g1/o3z8-Gsr4yUJ82YKF_-Q0w-2.jpg</td>\n",
       "      <td>complementary--one-direction-left--g1</td>\n",
       "      <td>False</td>\n",
       "      <td>True</td>\n",
       "      <td>o3z8-Gsr4yUJ82YKF_-Q0w.jpg</td>\n",
       "    </tr>\n",
       "    <tr>\n",
       "      <th>complementary--one-direction-left--g1/nfcSbsfYGjVk01aeS4pfIQ-1.jpg</th>\n",
       "      <td>complementary--one-direction-left--g1/nfcSbsfYGjVk01aeS4pfIQ-1.jpg</td>\n",
       "      <td>complementary--one-direction-left--g1</td>\n",
       "      <td>False</td>\n",
       "      <td>True</td>\n",
       "      <td>nfcSbsfYGjVk01aeS4pfIQ.jpg</td>\n",
       "    </tr>\n",
       "    <tr>\n",
       "      <th>complementary--one-direction-left--g1/PDqWPuPSTTm0A6c4aAHJjA-3.jpg</th>\n",
       "      <td>complementary--one-direction-left--g1/PDqWPuPSTTm0A6c4aAHJjA-3.jpg</td>\n",
       "      <td>complementary--one-direction-left--g1</td>\n",
       "      <td>False</td>\n",
       "      <td>True</td>\n",
       "      <td>PDqWPuPSTTm0A6c4aAHJjA.jpg</td>\n",
       "    </tr>\n",
       "  </tbody>\n",
       "</table>\n",
       "<p>8391 rows × 5 columns</p>\n",
       "</div>"
      ],
      "text/plain": [
       "                                                                                                                                 fname  \\\n",
       "warning--winding-road-first-left--g1/bty2dQfzaGwP3k7q8wVmbA-0.jpg    warning--winding-road-first-left--g1/bty2dQfzaGwP3k7q8wVmbA-0.jpg   \n",
       "warning--winding-road-first-left--g1/teLMYmJTo44s5GX6oPYl2Q-0.jpg    warning--winding-road-first-left--g1/teLMYmJTo44s5GX6oPYl2Q-0.jpg   \n",
       "warning--winding-road-first-left--g1/KO8Glwjm6FxL1qeEulRExA-0.jpg    warning--winding-road-first-left--g1/KO8Glwjm6FxL1qeEulRExA-0.jpg   \n",
       "warning--winding-road-first-left--g1/pf1V6NZfhRptj6tyAO7J-Q-2.jpg    warning--winding-road-first-left--g1/pf1V6NZfhRptj6tyAO7J-Q-2.jpg   \n",
       "warning--winding-road-first-left--g1/QaRfxPiK9enIxoTA13j1kA-2.jpg    warning--winding-road-first-left--g1/QaRfxPiK9enIxoTA13j1kA-2.jpg   \n",
       "...                                                                                                                                ...   \n",
       "complementary--one-direction-left--g1/ld4tKU2ZBY9Q6kN-ezXxRg-5.jpg  complementary--one-direction-left--g1/ld4tKU2ZBY9Q6kN-ezXxRg-5.jpg   \n",
       "complementary--one-direction-left--g1/r3gFX7oV1KXvIL4n8ZqcVQ-1.jpg  complementary--one-direction-left--g1/r3gFX7oV1KXvIL4n8ZqcVQ-1.jpg   \n",
       "complementary--one-direction-left--g1/o3z8-Gsr4yUJ82YKF_-Q0w-2.jpg  complementary--one-direction-left--g1/o3z8-Gsr4yUJ82YKF_-Q0w-2.jpg   \n",
       "complementary--one-direction-left--g1/nfcSbsfYGjVk01aeS4pfIQ-1.jpg  complementary--one-direction-left--g1/nfcSbsfYGjVk01aeS4pfIQ-1.jpg   \n",
       "complementary--one-direction-left--g1/PDqWPuPSTTm0A6c4aAHJjA-3.jpg  complementary--one-direction-left--g1/PDqWPuPSTTm0A6c4aAHJjA-3.jpg   \n",
       "\n",
       "                                                                                                    label  \\\n",
       "warning--winding-road-first-left--g1/bty2dQfzaGwP3k7q8wVmbA-0.jpg    warning--winding-road-first-left--g1   \n",
       "warning--winding-road-first-left--g1/teLMYmJTo44s5GX6oPYl2Q-0.jpg    warning--winding-road-first-left--g1   \n",
       "warning--winding-road-first-left--g1/KO8Glwjm6FxL1qeEulRExA-0.jpg    warning--winding-road-first-left--g1   \n",
       "warning--winding-road-first-left--g1/pf1V6NZfhRptj6tyAO7J-Q-2.jpg    warning--winding-road-first-left--g1   \n",
       "warning--winding-road-first-left--g1/QaRfxPiK9enIxoTA13j1kA-2.jpg    warning--winding-road-first-left--g1   \n",
       "...                                                                                                   ...   \n",
       "complementary--one-direction-left--g1/ld4tKU2ZBY9Q6kN-ezXxRg-5.jpg  complementary--one-direction-left--g1   \n",
       "complementary--one-direction-left--g1/r3gFX7oV1KXvIL4n8ZqcVQ-1.jpg  complementary--one-direction-left--g1   \n",
       "complementary--one-direction-left--g1/o3z8-Gsr4yUJ82YKF_-Q0w-2.jpg  complementary--one-direction-left--g1   \n",
       "complementary--one-direction-left--g1/nfcSbsfYGjVk01aeS4pfIQ-1.jpg  complementary--one-direction-left--g1   \n",
       "complementary--one-direction-left--g1/PDqWPuPSTTm0A6c4aAHJjA-3.jpg  complementary--one-direction-left--g1   \n",
       "\n",
       "                                                                    invalid  \\\n",
       "warning--winding-road-first-left--g1/bty2dQfzaGwP3k7q8wVmbA-0.jpg     False   \n",
       "warning--winding-road-first-left--g1/teLMYmJTo44s5GX6oPYl2Q-0.jpg     False   \n",
       "warning--winding-road-first-left--g1/KO8Glwjm6FxL1qeEulRExA-0.jpg     False   \n",
       "warning--winding-road-first-left--g1/pf1V6NZfhRptj6tyAO7J-Q-2.jpg     False   \n",
       "warning--winding-road-first-left--g1/QaRfxPiK9enIxoTA13j1kA-2.jpg     False   \n",
       "...                                                                     ...   \n",
       "complementary--one-direction-left--g1/ld4tKU2ZBY9Q6kN-ezXxRg-5.jpg    False   \n",
       "complementary--one-direction-left--g1/r3gFX7oV1KXvIL4n8ZqcVQ-1.jpg    False   \n",
       "complementary--one-direction-left--g1/o3z8-Gsr4yUJ82YKF_-Q0w-2.jpg    False   \n",
       "complementary--one-direction-left--g1/nfcSbsfYGjVk01aeS4pfIQ-1.jpg    False   \n",
       "complementary--one-direction-left--g1/PDqWPuPSTTm0A6c4aAHJjA-3.jpg    False   \n",
       "\n",
       "                                                                    valid  \\\n",
       "warning--winding-road-first-left--g1/bty2dQfzaGwP3k7q8wVmbA-0.jpg    True   \n",
       "warning--winding-road-first-left--g1/teLMYmJTo44s5GX6oPYl2Q-0.jpg    True   \n",
       "warning--winding-road-first-left--g1/KO8Glwjm6FxL1qeEulRExA-0.jpg   False   \n",
       "warning--winding-road-first-left--g1/pf1V6NZfhRptj6tyAO7J-Q-2.jpg   False   \n",
       "warning--winding-road-first-left--g1/QaRfxPiK9enIxoTA13j1kA-2.jpg   False   \n",
       "...                                                                   ...   \n",
       "complementary--one-direction-left--g1/ld4tKU2ZBY9Q6kN-ezXxRg-5.jpg  False   \n",
       "complementary--one-direction-left--g1/r3gFX7oV1KXvIL4n8ZqcVQ-1.jpg   True   \n",
       "complementary--one-direction-left--g1/o3z8-Gsr4yUJ82YKF_-Q0w-2.jpg   True   \n",
       "complementary--one-direction-left--g1/nfcSbsfYGjVk01aeS4pfIQ-1.jpg   True   \n",
       "complementary--one-direction-left--g1/PDqWPuPSTTm0A6c4aAHJjA-3.jpg   True   \n",
       "\n",
       "                                                                                       context  \n",
       "warning--winding-road-first-left--g1/bty2dQfzaGwP3k7q8wVmbA-0.jpg   bty2dQfzaGwP3k7q8wVmbA.jpg  \n",
       "warning--winding-road-first-left--g1/teLMYmJTo44s5GX6oPYl2Q-0.jpg   teLMYmJTo44s5GX6oPYl2Q.jpg  \n",
       "warning--winding-road-first-left--g1/KO8Glwjm6FxL1qeEulRExA-0.jpg   KO8Glwjm6FxL1qeEulRExA.jpg  \n",
       "warning--winding-road-first-left--g1/pf1V6NZfhRptj6tyAO7J-Q-2.jpg   pf1V6NZfhRptj6tyAO7J-Q.jpg  \n",
       "warning--winding-road-first-left--g1/QaRfxPiK9enIxoTA13j1kA-2.jpg   QaRfxPiK9enIxoTA13j1kA.jpg  \n",
       "...                                                                                        ...  \n",
       "complementary--one-direction-left--g1/ld4tKU2ZBY9Q6kN-ezXxRg-5.jpg  ld4tKU2ZBY9Q6kN-ezXxRg.jpg  \n",
       "complementary--one-direction-left--g1/r3gFX7oV1KXvIL4n8ZqcVQ-1.jpg  r3gFX7oV1KXvIL4n8ZqcVQ.jpg  \n",
       "complementary--one-direction-left--g1/o3z8-Gsr4yUJ82YKF_-Q0w-2.jpg  o3z8-Gsr4yUJ82YKF_-Q0w.jpg  \n",
       "complementary--one-direction-left--g1/nfcSbsfYGjVk01aeS4pfIQ-1.jpg  nfcSbsfYGjVk01aeS4pfIQ.jpg  \n",
       "complementary--one-direction-left--g1/PDqWPuPSTTm0A6c4aAHJjA-3.jpg  PDqWPuPSTTm0A6c4aAHJjA.jpg  \n",
       "\n",
       "[8391 rows x 5 columns]"
      ]
     },
     "execution_count": null,
     "metadata": {},
     "output_type": "execute_result"
    }
   ],
   "source": [
    "photos_with_chevrons_labels = data[data['context'].isin(photos_with_chevrons)]\n",
    "photos_with_chevrons_labels"
   ]
  },
  {
   "cell_type": "code",
   "execution_count": null,
   "id": "c2fa3d2a",
   "metadata": {},
   "outputs": [
    {
     "data": {
      "text/html": [
       "\n",
       "        <style>\n",
       "            .mlfix-container {\n",
       "                position: relative;\n",
       "                background-color: white;\n",
       "            }\n",
       "            .mlfix-fullscreen {\n",
       "                width: 100%;\n",
       "                height: 100%;\n",
       "                position: absolute;\n",
       "                top: 0;\n",
       "                left: 0;\n",
       "                z-index: 10000;\n",
       "            }\n",
       "            .mlfix-fullscreen iframe {\n",
       "                height: 100%;\n",
       "            }\n",
       "        </style>\n",
       "        <div id=mlfix-ef8ZS-container class=mlfix-container>\n",
       "            <iframe id=mlfix-ef8ZS src=\"/proxy/37475/#mlfix-ef8ZS\"\n",
       "                width=\"100%\" height=\"500px\" frameborder=\"0\" allowfullscreen></iframe>\n",
       "            <script>(function () {\n",
       "                var iframe = document.getElementById('mlfix-ef8ZS');\n",
       "                var outputEl = iframe.parentNode;\n",
       "                var parentEl = outputEl.parentNode;\n",
       "                console.log('MLfix init:', outputEl, parentEl);\n",
       "                var bringMLfixIframeToFocus = function() {\n",
       "                    iframe.contentWindow.focus();\n",
       "                }\n",
       "                setTimeout(bringMLfixIframeToFocus, 100);\n",
       "\n",
       "                var isFullscreen = false;\n",
       "                var parentEl;\n",
       "                window.addEventListener('message', (ev) => {\n",
       "                    //console.log('window message:', ev.data);\n",
       "                    if (ev.data == 'mlfix-toggle-fullscreen-mlfix-ef8ZS') {\n",
       "                        if (!isFullscreen) {\n",
       "                            $(outputEl).appendTo(document.body).addClass('mlfix-fullscreen');\n",
       "                        } else {\n",
       "                            $(outputEl).appendTo(parentEl).removeClass('mlfix-fullscreen');\n",
       "                        }\n",
       "                        isFullscreen = !isFullscreen;\n",
       "                        console.log('fullscreen', isFullscreen);\n",
       "                        setTimeout(bringMLfixIframeToFocus, 100);\n",
       "                    }\n",
       "                });\n",
       "            })();</script>\n",
       "        </div>\n",
       "        "
      ],
      "text/plain": [
       "<IPython.core.display.HTML object>"
      ]
     },
     "metadata": {},
     "output_type": "display_data"
    },
    {
     "name": "stdout",
     "output_type": "stream",
     "text": [
      "other-sign/HBIomT5SmJjMHfVW0LqU-w-10.jpg -> group: complementary--chevron-left--g5\n",
      "other-sign/HBIomT5SmJjMHfVW0LqU-w-10.jpg -> group: complementary--chevron-left--g4\n",
      "other-sign/HBIomT5SmJjMHfVW0LqU-w-10.jpg -> group: complementary--chevron-left--g3\n",
      "other-sign/HBIomT5SmJjMHfVW0LqU-w-11.jpg -> group: complementary--chevron-left--g3\n",
      "other-sign/HBIomT5SmJjMHfVW0LqU-w-29.jpg -> group: complementary--chevron-left--g3\n",
      "other-sign/HBIomT5SmJjMHfVW0LqU-w-28.jpg -> group: complementary--chevron-left--g3\n",
      "other-sign/HBIomT5SmJjMHfVW0LqU-w-27.jpg -> group: complementary--chevron-left--g3\n",
      "other-sign/HBIomT5SmJjMHfVW0LqU-w-26.jpg -> group: complementary--chevron-left--g3\n",
      "other-sign/HBIomT5SmJjMHfVW0LqU-w-25.jpg -> group: complementary--chevron-left--g3\n",
      "other-sign/HBIomT5SmJjMHfVW0LqU-w-13.jpg -> group: complementary--chevron-left--g3\n",
      "other-sign/HBIomT5SmJjMHfVW0LqU-w-12.jpg -> group: complementary--chevron-left--g3\n",
      "other-sign/HBIomT5SmJjMHfVW0LqU-w-30.jpg -> group: complementary--chevron-left--g3\n",
      "other-sign/HBIomT5SmJjMHfVW0LqU-w-31.jpg -> group: complementary--chevron-left--g3\n",
      "other-sign/HBIomT5SmJjMHfVW0LqU-w-32.jpg -> group: complementary--chevron-left--g3\n",
      "other-sign/HBIomT5SmJjMHfVW0LqU-w-33.jpg -> group: complementary--chevron-left--g3\n",
      "other-sign/HBIomT5SmJjMHfVW0LqU-w-34.jpg -> group: complementary--chevron-left--g3\n",
      "other-sign/HBIomT5SmJjMHfVW0LqU-w-35.jpg -> group: complementary--chevron-left--g3\n",
      "other-sign/HBIomT5SmJjMHfVW0LqU-w-37.jpg -> group: complementary--chevron-left--g3\n",
      "other-sign/HBIomT5SmJjMHfVW0LqU-w-37.jpg -> group: complementary--chevron-left--g2\n",
      "other-sign/HBIomT5SmJjMHfVW0LqU-w-37.jpg -> group: complementary--chevron-left--g5\n",
      "other-sign/HBIomT5SmJjMHfVW0LqU-w-36.jpg -> group: complementary--chevron-left--g3\n",
      "other-sign/HBIomT5SmJjMHfVW0LqU-w-3.jpg -> group: invalid\n",
      "other-sign/HBIomT5SmJjMHfVW0LqU-w-4.jpg -> group: complementary--chevron-left--g4\n",
      "other-sign/HBIomT5SmJjMHfVW0LqU-w-4.jpg -> group: complementary--chevron-left--g3\n",
      "other-sign/HBIomT5SmJjMHfVW0LqU-w-5.jpg -> group: complementary--chevron-left--g3\n",
      "other-sign/HBIomT5SmJjMHfVW0LqU-w-6.jpg -> group: complementary--chevron-left--g3\n",
      "other-sign/HBIomT5SmJjMHfVW0LqU-w-7.jpg -> group: complementary--chevron-left--g3\n",
      "other-sign/HBIomT5SmJjMHfVW0LqU-w-8.jpg -> group: complementary--chevron-left--g3\n",
      "other-sign/HBIomT5SmJjMHfVW0LqU-w-9.jpg -> group: complementary--chevron-left--g3\n",
      "other-sign/HUqq75uSDcgGApPsoEx9Lw-4.jpg -> group: complementary--chevron-left--g1\n",
      "other-sign/HUqq75uSDcgGApPsoEx9Lw-5.jpg -> group: complementary--chevron-left--g1\n",
      "other-sign/HUqq75uSDcgGApPsoEx9Lw-6.jpg -> group: complementary--chevron-left--g1\n",
      "other-sign/HUqq75uSDcgGApPsoEx9Lw-7.jpg -> group: complementary--chevron-left--g1\n",
      "other-sign/H_MrCyBhai5RtNH7iVvJgg-2.jpg -> group: complementary--chevron-left--g1\n",
      "complementary--chevron-left--g2/I8XgcUCXgm3WKYcsI78GxA-1.jpg -> group: complementary--chevron-left--g1\n",
      "other-sign/I8XgcUCXgm3WKYcsI78GxA-6.jpg -> group: complementary--chevron-left--g1\n",
      "other-sign/I8XgcUCXgm3WKYcsI78GxA-10.jpg -> group: complementary--chevron-left--g1\n",
      "other-sign/I8XgcUCXgm3WKYcsI78GxA-7.jpg -> group: complementary--chevron-left--g1\n",
      "complementary--chevron-left--g2/I8XgcUCXgm3WKYcsI78GxA-9.jpg -> group: complementary--chevron-left--g1\n",
      "other-sign/IGMeZuHt1ffbu-WABj2NHg-5.jpg -> group: complementary--chevron-left--g1\n",
      "other-sign/IGMeZuHt1ffbu-WABj2NHg-4.jpg -> group: complementary--chevron-left--g1\n",
      "other-sign/IGMeZuHt1ffbu-WABj2NHg-3.jpg -> group: complementary--chevron-left--g1\n",
      "other-sign/IUnhYblKdm9AQznsR-CqGQ-2.jpg -> group: complementary--chevron-left--g1\n",
      "other-sign/IUnhYblKdm9AQznsR-CqGQ-3.jpg -> group: complementary--chevron-left--g1\n",
      "complementary--chevron-left--g3/IUyu7N2eoXNvSDCAzIKE-g-6.jpg -> group: complementary--chevron-left--g5\n",
      "complementary--chevron-left--g3/IUyu7N2eoXNvSDCAzIKE-g-6.jpg -> group: complementary--chevron-left--g4\n",
      "other-sign/IdMTxpsKtkFErOpRuA5Cjw-1.jpg -> group: complementary--chevron-left--g1\n",
      "other-sign/IeMQnJTg0fZJZZ6ZRwsmGw-3.jpg -> group: complementary--chevron-left--g1\n",
      "other-sign/IjGMZOXzaS_0baUH5IMf2Q-3.jpg -> group: complementary--chevron-left--g1\n",
      "other-sign/IjGMZOXzaS_0baUH5IMf2Q-6.jpg -> group: complementary--chevron-left--g1\n",
      "other-sign/Ili7trHvfpjYF9gMotQvMQ-4.jpg -> group: complementary--chevron-left--g1\n",
      "other-sign/Ili7trHvfpjYF9gMotQvMQ-3.jpg -> group: complementary--chevron-left--g1\n",
      "other-sign/It8vuqbIky2OH4fL6LPJrw-5.jpg -> group: complementary--chevron-left--g1\n",
      "complementary--chevron-left--g2/IwOSahyCPxAXq8B_N6frBA-5.jpg -> group: complementary--chevron-left--g1\n",
      "complementary--chevron-left--g2/IwOSahyCPxAXq8B_N6frBA-6.jpg -> group: complementary--chevron-left--g1\n",
      "complementary--chevron-left--g2/IwOSahyCPxAXq8B_N6frBA-7.jpg -> group: complementary--chevron-left--g1\n",
      "other-sign/IwOSahyCPxAXq8B_N6frBA-9.jpg -> group: complementary--chevron-left--g1\n",
      "other-sign/JHLE1nc7E71TbOAM28roCA-2.jpg -> group: complementary--chevron-left--g1\n",
      "other-sign/JP1Tqwo69SUeBv0BDaGdDw-2.jpg -> group: complementary--chevron-left--g2\n",
      "other-sign/JTv28Qki-1yssgAWWqbE9Q-3.jpg -> group: complementary--chevron-left--g5\n",
      "other-sign/JTv28Qki-1yssgAWWqbE9Q-18.jpg -> group: complementary--chevron-left--g5\n",
      "other-sign/JkBaoJ3s-ke08JUDR4QisA-1.jpg -> group: complementary--chevron-left--g1\n",
      "other-sign/JnBnruaVidLsAqGnuu0w2g-8.jpg -> group: complementary--chevron-left--g1\n",
      "other-sign/JnBnruaVidLsAqGnuu0w2g-9.jpg -> group: complementary--chevron-left--g1\n",
      "other-sign/JnBnruaVidLsAqGnuu0w2g-7.jpg -> group: complementary--chevron-left--g1\n",
      "other-sign/JpI-O43xmHFGaHAlAAYF_A-7.jpg -> group: complementary--chevron-left--g1\n",
      "other-sign/JwiiLm00xh8-dKtCPrd9OA-4.jpg -> group: complementary--chevron-left--g2\n",
      "other-sign/JwiiLm00xh8-dKtCPrd9OA-4.jpg -> group: complementary--chevron-left--g3\n",
      "other-sign/KGJKwxlEFwxc5tQcgt3meQ-1.jpg -> group: complementary--chevron-left--g1\n",
      "complementary--chevron-left--g2/KGJKwxlEFwxc5tQcgt3meQ-3.jpg -> group: complementary--chevron-left--g1\n",
      "complementary--chevron-left--g2/KGJKwxlEFwxc5tQcgt3meQ-4.jpg -> group: complementary--chevron-left--g1\n",
      "complementary--chevron-left--g2/KGJKwxlEFwxc5tQcgt3meQ-5.jpg -> group: complementary--chevron-left--g1\n",
      "complementary--chevron-left--g2/KGJKwxlEFwxc5tQcgt3meQ-6.jpg -> group: complementary--chevron-left--g1\n",
      "complementary--chevron-left--g3/KMUDoihuvqQuLm0v-M6vsw-1.jpg -> group: complementary--chevron-left--g4\n",
      "complementary--chevron-left--g3/KMUDoihuvqQuLm0v-M6vsw-1.jpg -> group: complementary--chevron-left--g5\n",
      "complementary--chevron-left--g3/KMUDoihuvqQuLm0v-M6vsw-1.jpg -> group: complementary--chevron-left--g4\n",
      "complementary--chevron-left--g3/KOXPkFvN3GtprofO8cZ3Xg-10.jpg -> group: complementary--chevron-left--g4\n",
      "other-sign/KRyNFHtz5Lf4Dh9ddihVJA-6.jpg -> group: complementary--chevron-left--g1\n",
      "other-sign/Krk1uKiUCSMJiOaDPs654w-2.jpg -> group: complementary--chevron-left--g1\n",
      "other-sign/Krk1uKiUCSMJiOaDPs654w-3.jpg -> group: complementary--chevron-left--g1\n",
      "other-sign/Krw9J_xtMijTguGt97jRAA-2.jpg -> group: complementary--chevron-left--g1\n",
      "complementary--chevron-left--g2/L2fhEq_0wTOBQXaGI4iJNQ-0.jpg -> group: complementary--chevron-left--g1\n",
      "complementary--chevron-left--g2/L2fhEq_0wTOBQXaGI4iJNQ-1.jpg -> group: complementary--chevron-left--g1\n",
      "complementary--chevron-left--g2/L2fhEq_0wTOBQXaGI4iJNQ-2.jpg -> group: complementary--chevron-left--g1\n",
      "complementary--chevron-left--g2/L2fhEq_0wTOBQXaGI4iJNQ-4.jpg -> group: complementary--chevron-left--g1\n",
      "complementary--chevron-left--g1/KwvXmPhc8Jw0WZTEXGCPVg-0.jpg -> group: complementary--chevron-left--g5\n",
      "complementary--chevron-left--g4/LWfThKFItd35cGKYvxBYtg-1.jpg -> group: complementary--chevron-left--g2\n",
      "complementary--chevron-left--g4/LWfThKFItd35cGKYvxBYtg-1.jpg -> group: complementary--chevron-left--g3\n",
      "complementary--chevron-left--g4/LWfThKFItd35cGKYvxBYtg-0.jpg -> group: complementary--chevron-left--g3\n",
      "other-sign/LawwL3J-bdvxCUld48IMCQ-3.jpg -> group: complementary--chevron-left--g1\n",
      "other-sign/Le14igwo5QHZwK9AmvDH1w-6.jpg -> group: complementary--chevron-left--g2\n",
      "other-sign/Le14igwo5QHZwK9AmvDH1w-7.jpg -> group: complementary--chevron-left--g2\n",
      "other-sign/Le14igwo5QHZwK9AmvDH1w-8.jpg -> group: complementary--chevron-left--g2\n",
      "other-sign/Le14igwo5QHZwK9AmvDH1w-5.jpg -> group: complementary--chevron-left--g2\n",
      "other-sign/LhOBpYYM67G6qoHcmF-iPw-6.jpg -> group: complementary--chevron-left--g2\n"
     ]
    },
    {
     "name": "stdout",
     "output_type": "stream",
     "text": [
      "complementary--chevron-left--g2/LhOBpYYM67G6qoHcmF-iPw-3.jpg -> group: complementary--chevron-left--g1\n",
      "other-sign/LhOBpYYM67G6qoHcmF-iPw-6.jpg -> group: complementary--chevron-left--g1\n",
      "other-sign/LhOBpYYM67G6qoHcmF-iPw-5.jpg -> group: invalid\n",
      "complementary--chevron-left--g3/LyzMEoMTm8eU_OeSiuKPxQ-5.jpg -> group: complementary--chevron-left--g4\n",
      "complementary--chevron-left--g3/LyzMEoMTm8eU_OeSiuKPxQ-2.jpg -> group: complementary--chevron-left--g4\n",
      "complementary--chevron-left--g1/M0psh_hITPFTYRnUQCJJ_g-7.jpg -> group: complementary--chevron-left--g5\n",
      "other-sign/M0psh_hITPFTYRnUQCJJ_g-10.jpg -> group: complementary--chevron-left--g5\n",
      "other-sign/M0psh_hITPFTYRnUQCJJ_g-9.jpg -> group: complementary--chevron-left--g5\n",
      "other-sign/M0psh_hITPFTYRnUQCJJ_g-4.jpg -> group: complementary--chevron-left--g5\n",
      "other-sign/M0psh_hITPFTYRnUQCJJ_g-4.jpg -> group: invalid\n",
      "other-sign/M0psh_hITPFTYRnUQCJJ_g-4.jpg -> group: other-sign\n",
      "other-sign/M0tjxAF1Hl9KN2xm_Hq80A-4.jpg -> group: complementary--chevron-left--g1\n",
      "other-sign/M0tjxAF1Hl9KN2xm_Hq80A-5.jpg -> group: invalid\n",
      "other-sign/M0tjxAF1Hl9KN2xm_Hq80A-4.jpg -> group: invalid\n",
      "complementary--chevron-left--g4/MBsMHMtB-ybmQ10qlyXzgQ-5.jpg -> group: complementary--chevron-left--g3\n",
      "complementary--chevron-left--g4/MBsMHMtB-ybmQ10qlyXzgQ-1.jpg -> group: complementary--chevron-left--g3\n",
      "other-sign/MWcOkejquLOuuTtwt1qp6A-1.jpg -> group: complementary--chevron-left--g1\n",
      "other-sign/MWcOkejquLOuuTtwt1qp6A-3.jpg -> group: complementary--chevron-left--g1\n",
      "other-sign/MWcOkejquLOuuTtwt1qp6A-2.jpg -> group: invalid\n",
      "complementary--chevron-left--g2/MpWCclLaacvZNo6u3Tg97g-8.jpg -> group: complementary--chevron-left--g1\n",
      "complementary--chevron-left--g3/Mte-c6_rdPNcgT9PkSZ0vw-6.jpg -> group: complementary--chevron-left--g4\n",
      "complementary--chevron-left--g3/Mte-c6_rdPNcgT9PkSZ0vw-5.jpg -> group: complementary--chevron-left--g4\n",
      "complementary--chevron-left--g3/Mte-c6_rdPNcgT9PkSZ0vw-4.jpg -> group: complementary--chevron-left--g4\n",
      "other-sign/NQgOvsC2tC4q7AzV7FFuFw-8.jpg -> group: complementary--chevron-left--g1\n",
      "other-sign/Newvb4-83dHaDyL9TxFkFA-2.jpg -> group: complementary--chevron-left--g1\n",
      "complementary--chevron-left--g3/Nib0aEaSwWNMHnZbdhW07Q-2.jpg -> group: complementary--chevron-left--g4\n",
      "complementary--chevron-left--g4/NwV42T1JVvitsYj3zgTLmQ-1.jpg -> group: complementary--chevron-left--g2\n",
      "complementary--chevron-left--g4/NwV42T1JVvitsYj3zgTLmQ-1.jpg -> group: complementary--chevron-left--g3\n",
      "complementary--chevron-left--g3/OD4Cuk3Wtd296CbKWUrnDA-3.jpg -> group: complementary--chevron-left--g4\n",
      "other-sign/OEavFetbwL17nkwlaqbQOA-11.jpg -> group: complementary--chevron-left--g1\n",
      "other-sign/OOX8un9h3QY-Y9c6yJl3UA-2.jpg -> group: complementary--chevron-left--g1\n",
      "other-sign/OOX8un9h3QY-Y9c6yJl3UA-3.jpg -> group: complementary--chevron-left--g1\n",
      "other-sign/OOX8un9h3QY-Y9c6yJl3UA-4.jpg -> group: complementary--chevron-left--g1\n",
      "complementary--chevron-left--g4/OXw5wPkZDrbli2YXIo7eBQ-0.jpg -> group: complementary--chevron-left--g2\n",
      "complementary--chevron-left--g4/OXw5wPkZDrbli2YXIo7eBQ-1.jpg -> group: complementary--chevron-left--g2\n",
      "complementary--chevron-left--g4/OXw5wPkZDrbli2YXIo7eBQ-2.jpg -> group: complementary--chevron-left--g2\n",
      "complementary--chevron-left--g4/OXw5wPkZDrbli2YXIo7eBQ-2.jpg -> group: complementary--chevron-left--g3\n",
      "complementary--chevron-left--g4/OXw5wPkZDrbli2YXIo7eBQ-1.jpg -> group: complementary--chevron-left--g3\n",
      "complementary--chevron-left--g4/OXw5wPkZDrbli2YXIo7eBQ-0.jpg -> group: complementary--chevron-left--g3\n",
      "complementary--chevron-left--g4/OXw5wPkZDrbli2YXIo7eBQ-3.jpg -> group: complementary--chevron-left--g3\n",
      "other-sign/Od_t1wfH7ogCZ9e8ohU4Bg-3.jpg -> group: complementary--chevron-left--g1\n",
      "other-sign/OmUDqwBZWLLLofbPc09Fag-39.jpg -> group: complementary--chevron-left--g3\n",
      "other-sign/OmUDqwBZWLLLofbPc09Fag-40.jpg -> group: complementary--chevron-left--g3\n",
      "other-sign/OmUDqwBZWLLLofbPc09Fag-41.jpg -> group: complementary--chevron-left--g3\n",
      "other-sign/OmUDqwBZWLLLofbPc09Fag-38.jpg -> group: complementary--chevron-left--g4\n",
      "complementary--chevron-left--g4/P0ssG87etOje-Y3LqzR3vA-1.jpg -> group: complementary--chevron-left--g2\n",
      "complementary--chevron-left--g4/P0ssG87etOje-Y3LqzR3vA-1.jpg -> group: complementary--chevron-left--g3\n",
      "other-sign/P8T-LDLI1LowsOXYLUcsPw-2.jpg -> group: complementary--chevron-left--g1\n",
      "other-sign/P8T-LDLI1LowsOXYLUcsPw-3.jpg -> group: complementary--chevron-left--g1\n",
      "other-sign/PDKaS_p1h2CD-vLGZi6TXg-1.jpg -> group: complementary--chevron-left--g1\n",
      "other-sign/PDKaS_p1h2CD-vLGZi6TXg-2.jpg -> group: complementary--chevron-left--g1\n",
      "other-sign/PDKaS_p1h2CD-vLGZi6TXg-3.jpg -> group: complementary--chevron-left--g1\n",
      "other-sign/PDKaS_p1h2CD-vLGZi6TXg-4.jpg -> group: complementary--chevron-left--g1\n",
      "other-sign/PDKaS_p1h2CD-vLGZi6TXg-6.jpg -> group: complementary--chevron-left--g1\n",
      "complementary--chevron-left--g3/PFM3ARCu3x9nOTtG00lvww-11.jpg -> group: complementary--chevron-left--g4\n",
      "other-sign/PLv_A9fGHCogfK51TQVzVA-5.jpg -> group: invalid\n",
      "complementary--chevron-left--g4/PNP-SsTO2qibZOHXCbJnhg-1.jpg -> group: complementary--chevron-left--g2\n",
      "complementary--chevron-left--g4/PNP-SsTO2qibZOHXCbJnhg-1.jpg -> group: complementary--chevron-left--g3\n",
      "complementary--chevron-left--g4/PNP-SsTO2qibZOHXCbJnhg-0.jpg -> group: complementary--chevron-left--g3\n",
      "complementary--chevron-left--g3/PVWYBOJOlZKKy0Yy3K0HIQ-5.jpg -> group: complementary--chevron-left--g4\n",
      "other-sign/PhXMHpJulFpM4Ilbqyi8ag-1.jpg -> group: complementary--chevron-left--g1\n",
      "other-sign/PhXMHpJulFpM4Ilbqyi8ag-2.jpg -> group: complementary--chevron-left--g1\n",
      "other-sign/PsxcoKqcH0grEg3tjUWTRg-7.jpg -> group: complementary--chevron-left--g5\n",
      "other-sign/PsxcoKqcH0grEg3tjUWTRg-4.jpg -> group: complementary--chevron-left--g5\n",
      "other-sign/PsxcoKqcH0grEg3tjUWTRg-1.jpg -> group: invalid\n",
      "other-sign/PsxcoKqcH0grEg3tjUWTRg-2.jpg -> group: invalid\n",
      "other-sign/Q7rGkBFbzfKZMqg9sQpbEA-4.jpg -> group: complementary--chevron-left--g5\n",
      "other-sign/Q9HkJSJX0DS_QlOXbbXvxg-3.jpg -> group: complementary--chevron-left--g1\n",
      "other-sign/QK_h095ny1FzAe3kSXMRjw-16.jpg -> group: complementary--chevron-left--g1\n",
      "other-sign/QK_h095ny1FzAe3kSXMRjw-36.jpg -> group: complementary--chevron-left--g1\n",
      "complementary--chevron-left--g1/QPr33uCZnw-WdpJ59aruVQ-4.jpg -> group: complementary--chevron-left--g5\n",
      "complementary--chevron-left--g1/QPr33uCZnw-WdpJ59aruVQ-5.jpg -> group: complementary--chevron-left--g5\n",
      "other-sign/QYmnN6_NVDS297Gnmckeew-6.jpg -> group: complementary--chevron-left--g5\n",
      "other-sign/QYmnN6_NVDS297Gnmckeew-6.jpg -> group: invalid\n",
      "other-sign/QYmnN6_NVDS297Gnmckeew-6.jpg -> group: complementary--chevron-left--g5\n",
      "other-sign/QYmnN6_NVDS297Gnmckeew-6.jpg -> group: complementary--chevron-left--g4\n",
      "complementary--chevron-left--g3/QngrhZQxTtm4A5bQpVXpVQ-4.jpg -> group: complementary--chevron-left--g4\n",
      "complementary--chevron-left--g3/QngrhZQxTtm4A5bQpVXpVQ-6.jpg -> group: complementary--chevron-left--g4\n",
      "complementary--chevron-left--g3/QngrhZQxTtm4A5bQpVXpVQ-7.jpg -> group: complementary--chevron-left--g4\n",
      "complementary--chevron-left--g3/QtjQcZygBKmLupsn9XL5_Q-4.jpg -> group: complementary--chevron-left--g4\n",
      "other-sign/QtjQcZygBKmLupsn9XL5_Q-1.jpg -> group: complementary--chevron-left--g4\n",
      "other-sign/QtjQcZygBKmLupsn9XL5_Q-3.jpg -> group: complementary--chevron-left--g4\n",
      "other-sign/QtjQcZygBKmLupsn9XL5_Q-1.jpg -> group: invalid\n",
      "other-sign/QtjQcZygBKmLupsn9XL5_Q-1.jpg -> group: other-sign\n",
      "other-sign/QzZSGnnN0co4K7bsMWJHvA-6.jpg -> group: complementary--chevron-left--g1\n",
      "other-sign/R7DEAoELyG82P0D6akubOw-3.jpg -> group: complementary--chevron-left--g1\n",
      "other-sign/R7DEAoELyG82P0D6akubOw-4.jpg -> group: complementary--chevron-left--g1\n",
      "other-sign/RGRGl4xBY_YANd1aiM8LGw-6.jpg -> group: complementary--chevron-left--g1\n",
      "other-sign/RGRGl4xBY_YANd1aiM8LGw-5.jpg -> group: complementary--chevron-left--g1\n",
      "other-sign/RGRGl4xBY_YANd1aiM8LGw-7.jpg -> group: complementary--chevron-left--g1\n",
      "complementary--chevron-left--g3/RVC92r8C6lrP8zHZXE76hg-7.jpg -> group: complementary--chevron-left--g4\n",
      "complementary--chevron-left--g3/RVC92r8C6lrP8zHZXE76hg-6.jpg -> group: complementary--chevron-left--g4\n",
      "complementary--chevron-left--g2/RnIkSnHTH4b3cAo0IWExKg-3.jpg -> group: complementary--chevron-left--g1\n",
      "complementary--chevron-left--g2/RnIkSnHTH4b3cAo0IWExKg-5.jpg -> group: complementary--chevron-left--g1\n"
     ]
    },
    {
     "name": "stdout",
     "output_type": "stream",
     "text": [
      "other-sign/RoFoRuKrbmOpsnmcXSrM2w-8.jpg -> group: complementary--chevron-left--g2\n",
      "other-sign/RoFoRuKrbmOpsnmcXSrM2w-8.jpg -> group: complementary--chevron-left--g3\n",
      "other-sign/RoFoRuKrbmOpsnmcXSrM2w-6.jpg -> group: invalid\n",
      "other-sign/RoFoRuKrbmOpsnmcXSrM2w-6.jpg -> group: other-sign\n",
      "other-sign/RoFoRuKrbmOpsnmcXSrM2w-6.jpg -> group: invalid\n",
      "other-sign/RqIvDqrPrav0G8C0HeVn6A-4.jpg -> group: complementary--chevron-left--g1\n",
      "other-sign/RqIvDqrPrav0G8C0HeVn6A-5.jpg -> group: complementary--chevron-left--g1\n",
      "complementary--chevron-left--g3/RwlyEntwxUuMTya9RBtXBQ-3.jpg -> group: complementary--chevron-left--g4\n",
      "complementary--chevron-left--g3/Rz983qRo07lrDKB5ytnSKQ-14.jpg -> group: complementary--chevron-left--g4\n",
      "other-sign/S5ss8q_2FryARKaA913Qdg-3.jpg -> group: complementary--chevron-left--g1\n",
      "other-sign/S5ss8q_2FryARKaA913Qdg-4.jpg -> group: complementary--chevron-left--g1\n",
      "complementary--chevron-left--g3/S9cVuEn8Z023OqQZWI8laA-0.jpg -> group: complementary--chevron-left--g4\n",
      "other-sign/SCmI7kbJ9Jfk_2SzUiEUbw-2.jpg -> group: complementary--chevron-left--g1\n",
      "other-sign/SJUK4EtFucjAviRj04BY_w-3.jpg -> group: complementary--chevron-left--g2\n",
      "other-sign/SJUK4EtFucjAviRj04BY_w-3.jpg -> group: complementary--chevron-left--g3\n",
      "other-sign/SJUK4EtFucjAviRj04BY_w-7.jpg -> group: complementary--chevron-left--g4\n",
      "complementary--chevron-left--g3/SJUK4EtFucjAviRj04BY_w-5.jpg -> group: complementary--chevron-left--g4\n",
      "complementary--chevron-left--g3/SJUK4EtFucjAviRj04BY_w-4.jpg -> group: complementary--chevron-left--g4\n",
      "complementary--chevron-left--g3/SmMSf4sL4O7s17enwHQHmg-5.jpg -> group: complementary--chevron-left--g4\n",
      "complementary--chevron-left--g3/SmMSf4sL4O7s17enwHQHmg-4.jpg -> group: complementary--chevron-left--g4\n",
      "other-sign/Suw--w5vyxiJrqdeKzgHVg-11.jpg -> group: complementary--chevron-left--g1\n",
      "other-sign/Suw--w5vyxiJrqdeKzgHVg-12.jpg -> group: complementary--chevron-left--g1\n",
      "other-sign/Suw--w5vyxiJrqdeKzgHVg-9.jpg -> group: complementary--chevron-left--g1\n",
      "other-sign/Suw--w5vyxiJrqdeKzgHVg-8.jpg -> group: complementary--chevron-left--g1\n",
      "other-sign/SwqJ2csD70gDVrib6ccNpQ-1.jpg -> group: complementary--chevron-left--g1\n",
      "complementary--chevron-left--g2/T8NoWhIGWaeCuj0tbOOOUA-3.jpg -> group: complementary--chevron-left--g1\n",
      "other-sign/T8NoWhIGWaeCuj0tbOOOUA-4.jpg -> group: complementary--chevron-left--g1\n",
      "complementary--chevron-left--g3/TNJnd-KjT50K0t--_0v9JQ-13.jpg -> group: complementary--chevron-left--g4\n",
      "other-sign/TYWiBGmWUSWuAeVE4AzP5Q-1.jpg -> group: invalid\n",
      "other-sign/TYWiBGmWUSWuAeVE4AzP5Q-1.jpg -> group: other-sign\n",
      "complementary--chevron-left--g4/T_L_z2cBs4oIIm4PQUYL1Q-1.jpg -> group: complementary--chevron-left--g2\n",
      "complementary--chevron-left--g4/T_L_z2cBs4oIIm4PQUYL1Q-1.jpg -> group: complementary--chevron-left--g3\n",
      "complementary--chevron-left--g4/Tg48gPGBjA4uwZ09wniy3g-0.jpg -> group: complementary--chevron-left--g3\n",
      "other-sign/TlIv7YW99nPbokYdbp_mqQ-3.jpg -> group: complementary--chevron-left--g5\n",
      "complementary--chevron-left--g4/U0Wd6r7Lc58QLTfetHGNzQ-1.jpg -> group: complementary--chevron-left--g3\n",
      "other-sign/U0npSKjS7pcomwjpBj--Qg-3.jpg -> group: complementary--chevron-left--g1\n",
      "other-sign/U0npSKjS7pcomwjpBj--Qg-4.jpg -> group: complementary--chevron-left--g1\n",
      "other-sign/U0npSKjS7pcomwjpBj--Qg-6.jpg -> group: complementary--chevron-left--g1\n",
      "complementary--chevron-left--g3/U2VQKXuS3l_2b337tbyE3A-9.jpg -> group: complementary--chevron-left--g4\n",
      "complementary--chevron-left--g3/U2VQKXuS3l_2b337tbyE3A-11.jpg -> group: complementary--chevron-left--g4\n",
      "complementary--chevron-left--g3/U7YkLuw9O_dwQRn7JjKnNQ-1.jpg -> group: complementary--chevron-left--g4\n",
      "other-sign/UEk830ng3ejaTVh5rf4u8w-6.jpg -> group: complementary--chevron-left--g1\n",
      "complementary--chevron-left--g4/URx8e-QCvP0dWWBmlOp58A-4.jpg -> group: complementary--chevron-left--g3\n",
      "other-sign/Uj1sPKhX7R6nJvw53fjntA-3.jpg -> group: complementary--chevron-left--g1\n",
      "other-sign/Uj1sPKhX7R6nJvw53fjntA-4.jpg -> group: complementary--chevron-left--g1\n",
      "other-sign/Uj1sPKhX7R6nJvw53fjntA-5.jpg -> group: invalid\n",
      "other-sign/Uj1sPKhX7R6nJvw53fjntA-6.jpg -> group: invalid\n",
      "other-sign/Uj1sPKhX7R6nJvw53fjntA-9.jpg -> group: invalid\n",
      "other-sign/Uj1sPKhX7R6nJvw53fjntA-8.jpg -> group: invalid\n",
      "other-sign/Uj1sPKhX7R6nJvw53fjntA-7.jpg -> group: invalid\n",
      "other-sign/UjwAOCv1G34khaBfgNuyJA-3.jpg -> group: complementary--chevron-left--g1\n",
      "other-sign/UjwAOCv1G34khaBfgNuyJA-5.jpg -> group: complementary--chevron-left--g1\n",
      "other-sign/UjwAOCv1G34khaBfgNuyJA-4.jpg -> group: complementary--chevron-left--g1\n",
      "other-sign/UjwAOCv1G34khaBfgNuyJA-7.jpgother-sign/UjwAOCv1G34khaBfgNuyJA-6.jpg -> group: invalid\n",
      " -> group: invalid\n",
      "other-sign/UjwAOCv1G34khaBfgNuyJA-8.jpg -> group: complementary--chevron-left--g1\n",
      "other-sign/UtsP4Kr629oOYpSZV8sHIQ-7.jpg -> group: complementary--chevron-left--g1\n",
      "other-sign/Ux8JWFHvR4yMsUqfBJd6wg-1.jpg -> group: complementary--chevron-left--g5\n",
      "other-sign/UxbE1IApKoBaYu6DtryJIg-5.jpg -> group: complementary--chevron-left--g5\n",
      "other-sign/UxbE1IApKoBaYu6DtryJIg-1.jpg -> group: complementary--chevron-left--g5\n",
      "other-sign/VFqCqg4k5ffUQk3PYROy_g-17.jpg -> group: complementary--chevron-left--g2\n",
      "other-sign/VFqCqg4k5ffUQk3PYROy_g-7.jpg -> group: complementary--chevron-left--g2\n",
      "complementary--chevron-left--g4/VRIQL7txhl7A40CtlMdj-w-0.jpg -> group: complementary--chevron-left--g3\n",
      "other-sign/VVM3orFRlDpEX1Gt-wpaOA-2.jpg -> group: complementary--chevron-left--g1\n",
      "other-sign/VVM3orFRlDpEX1Gt-wpaOA-6.jpg -> group: complementary--chevron-left--g1\n",
      "other-sign/VbMRhDzyck31LEuK-Et5ug-1.jpg -> group: complementary--chevron-left--g2\n",
      "other-sign/VbMRhDzyck31LEuK-Et5ug-1.jpg -> group: complementary--chevron-left--g3\n",
      "other-sign/VbMRhDzyck31LEuK-Et5ug-10.jpg -> group: complementary--chevron-left--g3\n",
      "other-sign/VbMRhDzyck31LEuK-Et5ug-11.jpg -> group: complementary--chevron-left--g3\n",
      "other-sign/VbMRhDzyck31LEuK-Et5ug-12.jpg -> group: complementary--chevron-left--g3\n",
      "other-sign/VbMRhDzyck31LEuK-Et5ug-5.jpg -> group: complementary--chevron-left--g3\n",
      "other-sign/VbMRhDzyck31LEuK-Et5ug-4.jpg -> group: complementary--chevron-left--g3\n",
      "other-sign/VbMRhDzyck31LEuK-Et5ug-18.jpg -> group: complementary--chevron-left--g3\n",
      "other-sign/VbMRhDzyck31LEuK-Et5ug-14.jpg -> group: complementary--chevron-left--g3\n",
      "other-sign/VbMRhDzyck31LEuK-Et5ug-6.jpg -> group: complementary--chevron-left--g3\n",
      "other-sign/VbMRhDzyck31LEuK-Et5ug-7.jpg -> group: complementary--chevron-left--g3\n",
      "other-sign/VbMRhDzyck31LEuK-Et5ug-8.jpg -> group: complementary--chevron-left--g3\n",
      "other-sign/VbMRhDzyck31LEuK-Et5ug-9.jpg -> group: complementary--chevron-left--g3\n",
      "other-sign/VhurCuS1PjHljuqayA9aoA-2.jpg -> group: complementary--chevron-left--g3\n",
      "other-sign/W7fl11iKsMFHGRBjW_kDyg-2.jpg -> group: complementary--chevron-left--g1\n",
      "other-sign/W7fl11iKsMFHGRBjW_kDyg-4.jpg -> group: invalid\n",
      "other-sign/WG7KaFElvBG7pafEC2veEQ-4.jpg -> group: complementary--chevron-left--g1\n",
      "other-sign/WG7KaFElvBG7pafEC2veEQ-4.jpg -> group: complementary--chevron-left--g2\n",
      "other-sign/WQHyjx_xaYXg1OsLWY5DVg-2.jpg -> group: invalid\n",
      "other-sign/WQHyjx_xaYXg1OsLWY5DVg-4.jpg -> group: invalid\n",
      "other-sign/WQHyjx_xaYXg1OsLWY5DVg-5.jpg -> group: invalid\n",
      "other-sign/WQHyjx_xaYXg1OsLWY5DVg-6.jpg -> group: invalid\n",
      "other-sign/WU0B0fejkrA9jIND77L7aw-8.jpg -> group: invalid\n",
      "other-sign/WU0B0fejkrA9jIND77L7aw-9.jpg -> group: invalid\n"
     ]
    }
   ],
   "source": [
    "chevron_groups = [\n",
    "        \"complementary--chevron-left--g1\",\n",
    "        \"complementary--chevron-left--g2\",\n",
    "        \"complementary--chevron-left--g3\",\n",
    "        \"complementary--chevron-left--g4\",\n",
    "        \"complementary--chevron-left--g5\",\n",
    "]\n",
    "MLfixFile2(\n",
    "    photos_with_chevrons_labels,\n",
    "    label='context',\n",
    "    group='label',\n",
    "    #context='context',\n",
    "    sort='fname',\n",
    "    size=200,\n",
    "    group_labels=chevron_groups,\n",
    "    group_icons={x:'icons/' + x + '.svg' for x in chevron_groups}\n",
    ").display()"
   ]
  },
  {
   "cell_type": "code",
   "execution_count": null,
   "id": "685506d6",
   "metadata": {},
   "outputs": [
    {
     "data": {
      "text/plain": [
       "38"
      ]
     },
     "execution_count": null,
     "metadata": {},
     "output_type": "execute_result"
    }
   ],
   "source": [
    "(photos_with_chevrons_labels['label'] == 'invalid').sum()"
   ]
  },
  {
   "cell_type": "code",
   "execution_count": null,
   "id": "3a6da70f",
   "metadata": {},
   "outputs": [
    {
     "data": {
      "text/plain": [
       "414"
      ]
     },
     "execution_count": null,
     "metadata": {},
     "output_type": "execute_result"
    }
   ],
   "source": [
    "(photos_with_chevrons_labels['label'] != data.loc[photos_with_chevrons_labels.index, 'label']).sum()"
   ]
  },
  {
   "cell_type": "code",
   "execution_count": null,
   "id": "3f2d9279",
   "metadata": {},
   "outputs": [],
   "source": [
    "photos_with_chevrons_labels.to_pickle('photos_with_chevrons_labels.pd')"
   ]
  },
  {
   "cell_type": "code",
   "execution_count": null,
   "id": "950d772f",
   "metadata": {},
   "outputs": [],
   "source": [
    "fixed = data.copy()\n",
    "fixed.loc[photos_with_chevrons_labels.index, 'label'] = photos_with_chevrons_labels['label']\n",
    "fixed = fixed[fixed['label'] != 'invalid']"
   ]
  },
  {
   "cell_type": "code",
   "execution_count": null,
   "id": "25bd1681",
   "metadata": {},
   "outputs": [],
   "source": [
    "dls = ImageDataLoaders.from_df(\n",
    "    fixed, path=path, label_col='label', valid_col='valid',\n",
    "    bs=1024,\n",
    "    item_tfms=[AlbumentationsTransform(Blur(blur_limit=5, p=0.25))],\n",
    "    batch_tfms=aug_transforms(do_flip=False),\n",
    ")"
   ]
  },
  {
   "cell_type": "code",
   "execution_count": null,
   "id": "12e4ba6c",
   "metadata": {},
   "outputs": [
    {
     "data": {
      "text/html": [
       "\n",
       "<style>\n",
       "    /* Turns off some styling */\n",
       "    progress {\n",
       "        /* gets rid of default border in Firefox and Opera. */\n",
       "        border: none;\n",
       "        /* Needs to be in here for Safari polyfill so background images work as expected. */\n",
       "        background-size: auto;\n",
       "    }\n",
       "    .progress-bar-interrupted, .progress-bar-interrupted::-webkit-progress-bar {\n",
       "        background: #F44336;\n",
       "    }\n",
       "</style>\n"
      ],
      "text/plain": [
       "<IPython.core.display.HTML object>"
      ]
     },
     "metadata": {},
     "output_type": "display_data"
    },
    {
     "data": {
      "text/html": [
       "<table border=\"1\" class=\"dataframe\">\n",
       "  <thead>\n",
       "    <tr style=\"text-align: left;\">\n",
       "      <th>epoch</th>\n",
       "      <th>train_loss</th>\n",
       "      <th>valid_loss</th>\n",
       "      <th>error_rate</th>\n",
       "      <th>time</th>\n",
       "    </tr>\n",
       "  </thead>\n",
       "  <tbody>\n",
       "    <tr>\n",
       "      <td>0</td>\n",
       "      <td>5.055284</td>\n",
       "      <td>5.755145</td>\n",
       "      <td>0.921550</td>\n",
       "      <td>00:28</td>\n",
       "    </tr>\n",
       "  </tbody>\n",
       "</table>"
      ],
      "text/plain": [
       "<IPython.core.display.HTML object>"
      ]
     },
     "metadata": {},
     "output_type": "display_data"
    },
    {
     "data": {
      "text/html": [
       "\n",
       "<style>\n",
       "    /* Turns off some styling */\n",
       "    progress {\n",
       "        /* gets rid of default border in Firefox and Opera. */\n",
       "        border: none;\n",
       "        /* Needs to be in here for Safari polyfill so background images work as expected. */\n",
       "        background-size: auto;\n",
       "    }\n",
       "    .progress-bar-interrupted, .progress-bar-interrupted::-webkit-progress-bar {\n",
       "        background: #F44336;\n",
       "    }\n",
       "</style>\n"
      ],
      "text/plain": [
       "<IPython.core.display.HTML object>"
      ]
     },
     "metadata": {},
     "output_type": "display_data"
    },
    {
     "data": {
      "text/html": [
       "<table border=\"1\" class=\"dataframe\">\n",
       "  <thead>\n",
       "    <tr style=\"text-align: left;\">\n",
       "      <th>epoch</th>\n",
       "      <th>train_loss</th>\n",
       "      <th>valid_loss</th>\n",
       "      <th>error_rate</th>\n",
       "      <th>time</th>\n",
       "    </tr>\n",
       "  </thead>\n",
       "  <tbody>\n",
       "    <tr>\n",
       "      <td>0</td>\n",
       "      <td>3.033833</td>\n",
       "      <td>5.479166</td>\n",
       "      <td>0.869506</td>\n",
       "      <td>00:29</td>\n",
       "    </tr>\n",
       "    <tr>\n",
       "      <td>1</td>\n",
       "      <td>2.180049</td>\n",
       "      <td>5.059568</td>\n",
       "      <td>0.812174</td>\n",
       "      <td>00:28</td>\n",
       "    </tr>\n",
       "    <tr>\n",
       "      <td>2</td>\n",
       "      <td>1.401712</td>\n",
       "      <td>4.888207</td>\n",
       "      <td>0.752757</td>\n",
       "      <td>00:27</td>\n",
       "    </tr>\n",
       "    <tr>\n",
       "      <td>3</td>\n",
       "      <td>0.856221</td>\n",
       "      <td>4.450779</td>\n",
       "      <td>0.692157</td>\n",
       "      <td>00:28</td>\n",
       "    </tr>\n",
       "    <tr>\n",
       "      <td>4</td>\n",
       "      <td>0.548685</td>\n",
       "      <td>4.416339</td>\n",
       "      <td>0.657981</td>\n",
       "      <td>00:28</td>\n",
       "    </tr>\n",
       "    <tr>\n",
       "      <td>5</td>\n",
       "      <td>0.389460</td>\n",
       "      <td>4.084971</td>\n",
       "      <td>0.634341</td>\n",
       "      <td>00:27</td>\n",
       "    </tr>\n",
       "    <tr>\n",
       "      <td>6</td>\n",
       "      <td>0.288064</td>\n",
       "      <td>3.938961</td>\n",
       "      <td>0.609536</td>\n",
       "      <td>00:28</td>\n",
       "    </tr>\n",
       "    <tr>\n",
       "      <td>7</td>\n",
       "      <td>0.226863</td>\n",
       "      <td>3.419039</td>\n",
       "      <td>0.530873</td>\n",
       "      <td>00:28</td>\n",
       "    </tr>\n",
       "    <tr>\n",
       "      <td>8</td>\n",
       "      <td>0.180020</td>\n",
       "      <td>3.286462</td>\n",
       "      <td>0.510967</td>\n",
       "      <td>00:27</td>\n",
       "    </tr>\n",
       "    <tr>\n",
       "      <td>9</td>\n",
       "      <td>0.144856</td>\n",
       "      <td>3.443318</td>\n",
       "      <td>0.540777</td>\n",
       "      <td>00:28</td>\n",
       "    </tr>\n",
       "    <tr>\n",
       "      <td>10</td>\n",
       "      <td>0.119438</td>\n",
       "      <td>3.308801</td>\n",
       "      <td>0.522491</td>\n",
       "      <td>00:28</td>\n",
       "    </tr>\n",
       "    <tr>\n",
       "      <td>11</td>\n",
       "      <td>0.096980</td>\n",
       "      <td>3.186131</td>\n",
       "      <td>0.502905</td>\n",
       "      <td>00:28</td>\n",
       "    </tr>\n",
       "    <tr>\n",
       "      <td>12</td>\n",
       "      <td>0.086861</td>\n",
       "      <td>3.018382</td>\n",
       "      <td>0.474657</td>\n",
       "      <td>00:28</td>\n",
       "    </tr>\n",
       "    <tr>\n",
       "      <td>13</td>\n",
       "      <td>0.079285</td>\n",
       "      <td>3.041087</td>\n",
       "      <td>0.479177</td>\n",
       "      <td>00:28</td>\n",
       "    </tr>\n",
       "    <tr>\n",
       "      <td>14</td>\n",
       "      <td>0.075884</td>\n",
       "      <td>2.998458</td>\n",
       "      <td>0.472794</td>\n",
       "      <td>00:28</td>\n",
       "    </tr>\n",
       "  </tbody>\n",
       "</table>"
      ],
      "text/plain": [
       "<IPython.core.display.HTML object>"
      ]
     },
     "metadata": {},
     "output_type": "display_data"
    }
   ],
   "source": [
    "learn = vision_learner(dls, resnet50, metrics=[error_rate])\n",
    "learn.dls.train.get_idxs = types.MethodType(sample_epoch, learn.dls.train)\n",
    "learn.fine_tune(15)"
   ]
  },
  {
   "cell_type": "code",
   "execution_count": null,
   "id": "9da14aaa",
   "metadata": {},
   "outputs": [
    {
     "data": {
      "text/html": [
       "\n",
       "<style>\n",
       "    /* Turns off some styling */\n",
       "    progress {\n",
       "        /* gets rid of default border in Firefox and Opera. */\n",
       "        border: none;\n",
       "        /* Needs to be in here for Safari polyfill so background images work as expected. */\n",
       "        background-size: auto;\n",
       "    }\n",
       "    .progress-bar-interrupted, .progress-bar-interrupted::-webkit-progress-bar {\n",
       "        background: #F44336;\n",
       "    }\n",
       "</style>\n"
      ],
      "text/plain": [
       "<IPython.core.display.HTML object>"
      ]
     },
     "metadata": {},
     "output_type": "display_data"
    },
    {
     "data": {
      "text/html": [],
      "text/plain": [
       "<IPython.core.display.HTML object>"
      ]
     },
     "metadata": {},
     "output_type": "display_data"
    }
   ],
   "source": [
    "preds,y,py,losses = learn.get_preds(with_loss=True, with_decoded=True)"
   ]
  },
  {
   "cell_type": "code",
   "execution_count": null,
   "id": "1a15358f",
   "metadata": {},
   "outputs": [],
   "source": [
    "fix_val = learn.dls[1].items.copy()\n",
    "fix_val['pred'] = py\n",
    "fix_val['pred'] = fix_val['pred'].map(lambda x: learn.dls.vocab[x])\n",
    "fix_val['loss'] = -losses"
   ]
  },
  {
   "cell_type": "code",
   "execution_count": null,
   "id": "3ec2f2b6",
   "metadata": {},
   "outputs": [],
   "source": [
    "fix_val_flt = fix_val[(fix_val['label'] != 'other-sign')]"
   ]
  },
  {
   "cell_type": "code",
   "execution_count": null,
   "id": "32e7f90f",
   "metadata": {},
   "outputs": [
    {
     "data": {
      "text/plain": [
       "0.13692804898792313"
      ]
     },
     "execution_count": null,
     "metadata": {},
     "output_type": "execute_result"
    }
   ],
   "source": [
    "(fix_val_flt['pred'] != fix_val_flt['label']).mean()"
   ]
  },
  {
   "cell_type": "code",
   "execution_count": null,
   "id": "3278f591",
   "metadata": {},
   "outputs": [],
   "source": [
    "chev_val_flt = fix_val[fix_val['label'].str.startswith('complementary--chevron-left--')]"
   ]
  },
  {
   "cell_type": "code",
   "execution_count": null,
   "id": "d10e7eb6",
   "metadata": {},
   "outputs": [
    {
     "data": {
      "text/plain": [
       "0.08741030658838878"
      ]
     },
     "execution_count": null,
     "metadata": {},
     "output_type": "execute_result"
    }
   ],
   "source": [
    "(chev_val_flt['pred'] != chev_val_flt['label']).mean()"
   ]
  },
  {
   "cell_type": "markdown",
   "id": "13a01ca2",
   "metadata": {},
   "source": [
    "# old"
   ]
  },
  {
   "cell_type": "code",
   "execution_count": null,
   "id": "ee490a70",
   "metadata": {},
   "outputs": [],
   "source": [
    "data['valid']"
   ]
  },
  {
   "cell_type": "code",
   "execution_count": null,
   "id": "47701976",
   "metadata": {},
   "outputs": [
    {
     "data": {
      "text/html": [
       "<div>\n",
       "<style scoped>\n",
       "    .dataframe tbody tr th:only-of-type {\n",
       "        vertical-align: middle;\n",
       "    }\n",
       "\n",
       "    .dataframe tbody tr th {\n",
       "        vertical-align: top;\n",
       "    }\n",
       "\n",
       "    .dataframe thead th {\n",
       "        text-align: right;\n",
       "    }\n",
       "</style>\n",
       "<table border=\"1\" class=\"dataframe\">\n",
       "  <thead>\n",
       "    <tr style=\"text-align: right;\">\n",
       "      <th></th>\n",
       "      <th>fname</th>\n",
       "      <th>label</th>\n",
       "      <th>invalid</th>\n",
       "      <th>valid</th>\n",
       "    </tr>\n",
       "  </thead>\n",
       "  <tbody>\n",
       "    <tr>\n",
       "      <th>other-sign/Wo77wJ8CsXseKCXkXqLD-A-12.jpg</th>\n",
       "      <td>other-sign/Wo77wJ8CsXseKCXkXqLD-A-12.jpg</td>\n",
       "      <td>other-sign</td>\n",
       "      <td>False</td>\n",
       "      <td>True</td>\n",
       "    </tr>\n",
       "    <tr>\n",
       "      <th>other-sign/MpspSimstY7LRKhANItWew-2.jpg</th>\n",
       "      <td>other-sign/MpspSimstY7LRKhANItWew-2.jpg</td>\n",
       "      <td>other-sign</td>\n",
       "      <td>False</td>\n",
       "      <td>True</td>\n",
       "    </tr>\n",
       "    <tr>\n",
       "      <th>other-sign/CTTWBYtak1vOHzosFzxeFg-0.jpg</th>\n",
       "      <td>other-sign/CTTWBYtak1vOHzosFzxeFg-0.jpg</td>\n",
       "      <td>other-sign</td>\n",
       "      <td>False</td>\n",
       "      <td>True</td>\n",
       "    </tr>\n",
       "    <tr>\n",
       "      <th>other-sign/ZQtCvpgd4pxKupBM-WVxtA-3.jpg</th>\n",
       "      <td>other-sign/ZQtCvpgd4pxKupBM-WVxtA-3.jpg</td>\n",
       "      <td>other-sign</td>\n",
       "      <td>False</td>\n",
       "      <td>True</td>\n",
       "    </tr>\n",
       "    <tr>\n",
       "      <th>other-sign/c2wk2SD-opl18BguwRUj4w-11.jpg</th>\n",
       "      <td>other-sign/c2wk2SD-opl18BguwRUj4w-11.jpg</td>\n",
       "      <td>other-sign</td>\n",
       "      <td>False</td>\n",
       "      <td>True</td>\n",
       "    </tr>\n",
       "    <tr>\n",
       "      <th>...</th>\n",
       "      <td>...</td>\n",
       "      <td>...</td>\n",
       "      <td>...</td>\n",
       "      <td>...</td>\n",
       "    </tr>\n",
       "    <tr>\n",
       "      <th>other-sign/9cqMQvNlGsRmRrEUfoDtHQ-8.jpg</th>\n",
       "      <td>other-sign/9cqMQvNlGsRmRrEUfoDtHQ-8.jpg</td>\n",
       "      <td>other-sign</td>\n",
       "      <td>False</td>\n",
       "      <td>True</td>\n",
       "    </tr>\n",
       "    <tr>\n",
       "      <th>other-sign/zxFoHgIJYcjq5XI4Kc7T8w-4.jpg</th>\n",
       "      <td>other-sign/zxFoHgIJYcjq5XI4Kc7T8w-4.jpg</td>\n",
       "      <td>other-sign</td>\n",
       "      <td>False</td>\n",
       "      <td>True</td>\n",
       "    </tr>\n",
       "    <tr>\n",
       "      <th>other-sign/d4fZjesyga44PLLAQJQKuw-0.jpg</th>\n",
       "      <td>other-sign/d4fZjesyga44PLLAQJQKuw-0.jpg</td>\n",
       "      <td>other-sign</td>\n",
       "      <td>False</td>\n",
       "      <td>True</td>\n",
       "    </tr>\n",
       "    <tr>\n",
       "      <th>other-sign/hLz2D4elMkb8utw52b-ZJw-1.jpg</th>\n",
       "      <td>other-sign/hLz2D4elMkb8utw52b-ZJw-1.jpg</td>\n",
       "      <td>other-sign</td>\n",
       "      <td>False</td>\n",
       "      <td>True</td>\n",
       "    </tr>\n",
       "    <tr>\n",
       "      <th>other-sign/e5Ggz5ZyfQXB7BhGzhUyaw-2.jpg</th>\n",
       "      <td>other-sign/e5Ggz5ZyfQXB7BhGzhUyaw-2.jpg</td>\n",
       "      <td>other-sign</td>\n",
       "      <td>False</td>\n",
       "      <td>True</td>\n",
       "    </tr>\n",
       "  </tbody>\n",
       "</table>\n",
       "<p>67978 rows × 4 columns</p>\n",
       "</div>"
      ],
      "text/plain": [
       "                                                                             fname  \\\n",
       "other-sign/Wo77wJ8CsXseKCXkXqLD-A-12.jpg  other-sign/Wo77wJ8CsXseKCXkXqLD-A-12.jpg   \n",
       "other-sign/MpspSimstY7LRKhANItWew-2.jpg    other-sign/MpspSimstY7LRKhANItWew-2.jpg   \n",
       "other-sign/CTTWBYtak1vOHzosFzxeFg-0.jpg    other-sign/CTTWBYtak1vOHzosFzxeFg-0.jpg   \n",
       "other-sign/ZQtCvpgd4pxKupBM-WVxtA-3.jpg    other-sign/ZQtCvpgd4pxKupBM-WVxtA-3.jpg   \n",
       "other-sign/c2wk2SD-opl18BguwRUj4w-11.jpg  other-sign/c2wk2SD-opl18BguwRUj4w-11.jpg   \n",
       "...                                                                            ...   \n",
       "other-sign/9cqMQvNlGsRmRrEUfoDtHQ-8.jpg    other-sign/9cqMQvNlGsRmRrEUfoDtHQ-8.jpg   \n",
       "other-sign/zxFoHgIJYcjq5XI4Kc7T8w-4.jpg    other-sign/zxFoHgIJYcjq5XI4Kc7T8w-4.jpg   \n",
       "other-sign/d4fZjesyga44PLLAQJQKuw-0.jpg    other-sign/d4fZjesyga44PLLAQJQKuw-0.jpg   \n",
       "other-sign/hLz2D4elMkb8utw52b-ZJw-1.jpg    other-sign/hLz2D4elMkb8utw52b-ZJw-1.jpg   \n",
       "other-sign/e5Ggz5ZyfQXB7BhGzhUyaw-2.jpg    other-sign/e5Ggz5ZyfQXB7BhGzhUyaw-2.jpg   \n",
       "\n",
       "                                               label  invalid  valid  \n",
       "other-sign/Wo77wJ8CsXseKCXkXqLD-A-12.jpg  other-sign    False   True  \n",
       "other-sign/MpspSimstY7LRKhANItWew-2.jpg   other-sign    False   True  \n",
       "other-sign/CTTWBYtak1vOHzosFzxeFg-0.jpg   other-sign    False   True  \n",
       "other-sign/ZQtCvpgd4pxKupBM-WVxtA-3.jpg   other-sign    False   True  \n",
       "other-sign/c2wk2SD-opl18BguwRUj4w-11.jpg  other-sign    False   True  \n",
       "...                                              ...      ...    ...  \n",
       "other-sign/9cqMQvNlGsRmRrEUfoDtHQ-8.jpg   other-sign    False   True  \n",
       "other-sign/zxFoHgIJYcjq5XI4Kc7T8w-4.jpg   other-sign    False   True  \n",
       "other-sign/d4fZjesyga44PLLAQJQKuw-0.jpg   other-sign    False   True  \n",
       "other-sign/hLz2D4elMkb8utw52b-ZJw-1.jpg   other-sign    False   True  \n",
       "other-sign/e5Ggz5ZyfQXB7BhGzhUyaw-2.jpg   other-sign    False   True  \n",
       "\n",
       "[67978 rows x 4 columns]"
      ]
     },
     "execution_count": null,
     "metadata": {},
     "output_type": "execute_result"
    }
   ],
   "source": [
    "data[data['valid'] & (data['label'] == 'other-sign')]"
   ]
  },
  {
   "cell_type": "code",
   "execution_count": null,
   "id": "8ae7cb7c",
   "metadata": {},
   "outputs": [
    {
     "data": {
      "text/html": [
       "\n",
       "<style>\n",
       "    /* Turns off some styling */\n",
       "    progress {\n",
       "        /* gets rid of default border in Firefox and Opera. */\n",
       "        border: none;\n",
       "        /* Needs to be in here for Safari polyfill so background images work as expected. */\n",
       "        background-size: auto;\n",
       "    }\n",
       "    .progress-bar-interrupted, .progress-bar-interrupted::-webkit-progress-bar {\n",
       "        background: #F44336;\n",
       "    }\n",
       "</style>\n"
      ],
      "text/plain": [
       "<IPython.core.display.HTML object>"
      ]
     },
     "metadata": {},
     "output_type": "display_data"
    },
    {
     "data": {
      "text/html": [],
      "text/plain": [
       "<IPython.core.display.HTML object>"
      ]
     },
     "metadata": {},
     "output_type": "display_data"
    }
   ],
   "source": [
    "preds,y,py,losses = learn.get_preds(with_loss=True, with_decoded=True)"
   ]
  },
  {
   "cell_type": "code",
   "execution_count": null,
   "id": "dd14f606",
   "metadata": {},
   "outputs": [],
   "source": [
    "val = learn.dls[1].items.copy()\n",
    "val['pred'] = py\n",
    "val['pred'] = val['pred'].map(lambda x: learn.dls.vocab[x])\n",
    "val['loss'] = -losses"
   ]
  },
  {
   "cell_type": "code",
   "execution_count": null,
   "id": "4c4ee4ff",
   "metadata": {},
   "outputs": [],
   "source": [
    "suspect = val[(val['label'] == 'other-sign') & (val['loss'] < -5)].copy()"
   ]
  },
  {
   "cell_type": "code",
   "execution_count": null,
   "id": "54a5e06d",
   "metadata": {},
   "outputs": [],
   "source": [
    "suspect['group'] = 'suspect'"
   ]
  },
  {
   "cell_type": "code",
   "execution_count": null,
   "id": "0f3dad37",
   "metadata": {},
   "outputs": [],
   "source": [
    "samples = data[~data['valid']].groupby('label').sample(n=5, replace=True)\n",
    "samples['pred'] = samples['label']\n",
    "samples['group'] = 'true'\n",
    "samples['loss'] = -1e6"
   ]
  },
  {
   "cell_type": "code",
   "execution_count": null,
   "id": "309dca65",
   "metadata": {},
   "outputs": [
    {
     "data": {
      "text/html": [
       "<div>\n",
       "<style scoped>\n",
       "    .dataframe tbody tr th:only-of-type {\n",
       "        vertical-align: middle;\n",
       "    }\n",
       "\n",
       "    .dataframe tbody tr th {\n",
       "        vertical-align: top;\n",
       "    }\n",
       "\n",
       "    .dataframe thead th {\n",
       "        text-align: right;\n",
       "    }\n",
       "</style>\n",
       "<table border=\"1\" class=\"dataframe\">\n",
       "  <thead>\n",
       "    <tr style=\"text-align: right;\">\n",
       "      <th></th>\n",
       "      <th>fname</th>\n",
       "      <th>label</th>\n",
       "      <th>invalid</th>\n",
       "      <th>valid</th>\n",
       "      <th>pred</th>\n",
       "      <th>group</th>\n",
       "      <th>loss</th>\n",
       "    </tr>\n",
       "  </thead>\n",
       "  <tbody>\n",
       "    <tr>\n",
       "      <th>complementary--accident-area--g3/9tB6aHjSKx9RiHewPHjabg-6.jpg</th>\n",
       "      <td>complementary--accident-area--g3/9tB6aHjSKx9RiHewPHjabg-6.jpg</td>\n",
       "      <td>complementary--accident-area--g3</td>\n",
       "      <td>False</td>\n",
       "      <td>False</td>\n",
       "      <td>complementary--accident-area--g3</td>\n",
       "      <td>true</td>\n",
       "      <td>-1000000.000000</td>\n",
       "    </tr>\n",
       "    <tr>\n",
       "      <th>complementary--accident-area--g3/FWMcm_I0nh0dW2XO6IER8Q-1.jpg</th>\n",
       "      <td>complementary--accident-area--g3/FWMcm_I0nh0dW2XO6IER8Q-1.jpg</td>\n",
       "      <td>complementary--accident-area--g3</td>\n",
       "      <td>False</td>\n",
       "      <td>False</td>\n",
       "      <td>complementary--accident-area--g3</td>\n",
       "      <td>true</td>\n",
       "      <td>-1000000.000000</td>\n",
       "    </tr>\n",
       "    <tr>\n",
       "      <th>complementary--accident-area--g3/I5GpEMbKjIU_B8puw6ibyw-0.jpg</th>\n",
       "      <td>complementary--accident-area--g3/I5GpEMbKjIU_B8puw6ibyw-0.jpg</td>\n",
       "      <td>complementary--accident-area--g3</td>\n",
       "      <td>False</td>\n",
       "      <td>False</td>\n",
       "      <td>complementary--accident-area--g3</td>\n",
       "      <td>true</td>\n",
       "      <td>-1000000.000000</td>\n",
       "    </tr>\n",
       "    <tr>\n",
       "      <th>complementary--accident-area--g3/4E5pBwKX7fJw9GigBPkRmg-1.jpg</th>\n",
       "      <td>complementary--accident-area--g3/4E5pBwKX7fJw9GigBPkRmg-1.jpg</td>\n",
       "      <td>complementary--accident-area--g3</td>\n",
       "      <td>False</td>\n",
       "      <td>False</td>\n",
       "      <td>complementary--accident-area--g3</td>\n",
       "      <td>true</td>\n",
       "      <td>-1000000.000000</td>\n",
       "    </tr>\n",
       "    <tr>\n",
       "      <th>complementary--accident-area--g3/4E5pBwKX7fJw9GigBPkRmg-1.jpg</th>\n",
       "      <td>complementary--accident-area--g3/4E5pBwKX7fJw9GigBPkRmg-1.jpg</td>\n",
       "      <td>complementary--accident-area--g3</td>\n",
       "      <td>False</td>\n",
       "      <td>False</td>\n",
       "      <td>complementary--accident-area--g3</td>\n",
       "      <td>true</td>\n",
       "      <td>-1000000.000000</td>\n",
       "    </tr>\n",
       "    <tr>\n",
       "      <th>...</th>\n",
       "      <td>...</td>\n",
       "      <td>...</td>\n",
       "      <td>...</td>\n",
       "      <td>...</td>\n",
       "      <td>...</td>\n",
       "      <td>...</td>\n",
       "      <td>...</td>\n",
       "    </tr>\n",
       "    <tr>\n",
       "      <th>other-sign/eJCdgS-W084xrPgZkwv6NA-0.jpg</th>\n",
       "      <td>other-sign/eJCdgS-W084xrPgZkwv6NA-0.jpg</td>\n",
       "      <td>other-sign</td>\n",
       "      <td>False</td>\n",
       "      <td>True</td>\n",
       "      <td>warning--railroad-crossing-without-barriers--g3</td>\n",
       "      <td>suspect</td>\n",
       "      <td>-9.546796</td>\n",
       "    </tr>\n",
       "    <tr>\n",
       "      <th>other-sign/8ZWqx85a8Yy0gI7vA9SMBA-0.jpg</th>\n",
       "      <td>other-sign/8ZWqx85a8Yy0gI7vA9SMBA-0.jpg</td>\n",
       "      <td>other-sign</td>\n",
       "      <td>False</td>\n",
       "      <td>True</td>\n",
       "      <td>regulatory--end-of-bicycles-only--g1</td>\n",
       "      <td>suspect</td>\n",
       "      <td>-8.104197</td>\n",
       "    </tr>\n",
       "    <tr>\n",
       "      <th>other-sign/ZH_M1dUNB_VGNk2chUg2IQ-2.jpg</th>\n",
       "      <td>other-sign/ZH_M1dUNB_VGNk2chUg2IQ-2.jpg</td>\n",
       "      <td>other-sign</td>\n",
       "      <td>False</td>\n",
       "      <td>True</td>\n",
       "      <td>regulatory--keep-right--g1</td>\n",
       "      <td>suspect</td>\n",
       "      <td>-15.779098</td>\n",
       "    </tr>\n",
       "    <tr>\n",
       "      <th>other-sign/9cqMQvNlGsRmRrEUfoDtHQ-8.jpg</th>\n",
       "      <td>other-sign/9cqMQvNlGsRmRrEUfoDtHQ-8.jpg</td>\n",
       "      <td>other-sign</td>\n",
       "      <td>False</td>\n",
       "      <td>True</td>\n",
       "      <td>regulatory--yield--g1</td>\n",
       "      <td>suspect</td>\n",
       "      <td>-12.720061</td>\n",
       "    </tr>\n",
       "    <tr>\n",
       "      <th>other-sign/e5Ggz5ZyfQXB7BhGzhUyaw-2.jpg</th>\n",
       "      <td>other-sign/e5Ggz5ZyfQXB7BhGzhUyaw-2.jpg</td>\n",
       "      <td>other-sign</td>\n",
       "      <td>False</td>\n",
       "      <td>True</td>\n",
       "      <td>regulatory--no-pedestrians--g2</td>\n",
       "      <td>suspect</td>\n",
       "      <td>-8.283386</td>\n",
       "    </tr>\n",
       "  </tbody>\n",
       "</table>\n",
       "<p>25240 rows × 7 columns</p>\n",
       "</div>"
      ],
      "text/plain": [
       "                                                                                                                       fname  \\\n",
       "complementary--accident-area--g3/9tB6aHjSKx9RiHewPHjabg-6.jpg  complementary--accident-area--g3/9tB6aHjSKx9RiHewPHjabg-6.jpg   \n",
       "complementary--accident-area--g3/FWMcm_I0nh0dW2XO6IER8Q-1.jpg  complementary--accident-area--g3/FWMcm_I0nh0dW2XO6IER8Q-1.jpg   \n",
       "complementary--accident-area--g3/I5GpEMbKjIU_B8puw6ibyw-0.jpg  complementary--accident-area--g3/I5GpEMbKjIU_B8puw6ibyw-0.jpg   \n",
       "complementary--accident-area--g3/4E5pBwKX7fJw9GigBPkRmg-1.jpg  complementary--accident-area--g3/4E5pBwKX7fJw9GigBPkRmg-1.jpg   \n",
       "complementary--accident-area--g3/4E5pBwKX7fJw9GigBPkRmg-1.jpg  complementary--accident-area--g3/4E5pBwKX7fJw9GigBPkRmg-1.jpg   \n",
       "...                                                                                                                      ...   \n",
       "other-sign/eJCdgS-W084xrPgZkwv6NA-0.jpg                                              other-sign/eJCdgS-W084xrPgZkwv6NA-0.jpg   \n",
       "other-sign/8ZWqx85a8Yy0gI7vA9SMBA-0.jpg                                              other-sign/8ZWqx85a8Yy0gI7vA9SMBA-0.jpg   \n",
       "other-sign/ZH_M1dUNB_VGNk2chUg2IQ-2.jpg                                              other-sign/ZH_M1dUNB_VGNk2chUg2IQ-2.jpg   \n",
       "other-sign/9cqMQvNlGsRmRrEUfoDtHQ-8.jpg                                              other-sign/9cqMQvNlGsRmRrEUfoDtHQ-8.jpg   \n",
       "other-sign/e5Ggz5ZyfQXB7BhGzhUyaw-2.jpg                                              other-sign/e5Ggz5ZyfQXB7BhGzhUyaw-2.jpg   \n",
       "\n",
       "                                                                                          label  \\\n",
       "complementary--accident-area--g3/9tB6aHjSKx9RiHewPHjabg-6.jpg  complementary--accident-area--g3   \n",
       "complementary--accident-area--g3/FWMcm_I0nh0dW2XO6IER8Q-1.jpg  complementary--accident-area--g3   \n",
       "complementary--accident-area--g3/I5GpEMbKjIU_B8puw6ibyw-0.jpg  complementary--accident-area--g3   \n",
       "complementary--accident-area--g3/4E5pBwKX7fJw9GigBPkRmg-1.jpg  complementary--accident-area--g3   \n",
       "complementary--accident-area--g3/4E5pBwKX7fJw9GigBPkRmg-1.jpg  complementary--accident-area--g3   \n",
       "...                                                                                         ...   \n",
       "other-sign/eJCdgS-W084xrPgZkwv6NA-0.jpg                                              other-sign   \n",
       "other-sign/8ZWqx85a8Yy0gI7vA9SMBA-0.jpg                                              other-sign   \n",
       "other-sign/ZH_M1dUNB_VGNk2chUg2IQ-2.jpg                                              other-sign   \n",
       "other-sign/9cqMQvNlGsRmRrEUfoDtHQ-8.jpg                                              other-sign   \n",
       "other-sign/e5Ggz5ZyfQXB7BhGzhUyaw-2.jpg                                              other-sign   \n",
       "\n",
       "                                                               invalid  valid  \\\n",
       "complementary--accident-area--g3/9tB6aHjSKx9RiHewPHjabg-6.jpg    False  False   \n",
       "complementary--accident-area--g3/FWMcm_I0nh0dW2XO6IER8Q-1.jpg    False  False   \n",
       "complementary--accident-area--g3/I5GpEMbKjIU_B8puw6ibyw-0.jpg    False  False   \n",
       "complementary--accident-area--g3/4E5pBwKX7fJw9GigBPkRmg-1.jpg    False  False   \n",
       "complementary--accident-area--g3/4E5pBwKX7fJw9GigBPkRmg-1.jpg    False  False   \n",
       "...                                                                ...    ...   \n",
       "other-sign/eJCdgS-W084xrPgZkwv6NA-0.jpg                          False   True   \n",
       "other-sign/8ZWqx85a8Yy0gI7vA9SMBA-0.jpg                          False   True   \n",
       "other-sign/ZH_M1dUNB_VGNk2chUg2IQ-2.jpg                          False   True   \n",
       "other-sign/9cqMQvNlGsRmRrEUfoDtHQ-8.jpg                          False   True   \n",
       "other-sign/e5Ggz5ZyfQXB7BhGzhUyaw-2.jpg                          False   True   \n",
       "\n",
       "                                                                                                          pred  \\\n",
       "complementary--accident-area--g3/9tB6aHjSKx9RiHewPHjabg-6.jpg                 complementary--accident-area--g3   \n",
       "complementary--accident-area--g3/FWMcm_I0nh0dW2XO6IER8Q-1.jpg                 complementary--accident-area--g3   \n",
       "complementary--accident-area--g3/I5GpEMbKjIU_B8puw6ibyw-0.jpg                 complementary--accident-area--g3   \n",
       "complementary--accident-area--g3/4E5pBwKX7fJw9GigBPkRmg-1.jpg                 complementary--accident-area--g3   \n",
       "complementary--accident-area--g3/4E5pBwKX7fJw9GigBPkRmg-1.jpg                 complementary--accident-area--g3   \n",
       "...                                                                                                        ...   \n",
       "other-sign/eJCdgS-W084xrPgZkwv6NA-0.jpg                        warning--railroad-crossing-without-barriers--g3   \n",
       "other-sign/8ZWqx85a8Yy0gI7vA9SMBA-0.jpg                                   regulatory--end-of-bicycles-only--g1   \n",
       "other-sign/ZH_M1dUNB_VGNk2chUg2IQ-2.jpg                                             regulatory--keep-right--g1   \n",
       "other-sign/9cqMQvNlGsRmRrEUfoDtHQ-8.jpg                                                  regulatory--yield--g1   \n",
       "other-sign/e5Ggz5ZyfQXB7BhGzhUyaw-2.jpg                                         regulatory--no-pedestrians--g2   \n",
       "\n",
       "                                                                 group  \\\n",
       "complementary--accident-area--g3/9tB6aHjSKx9RiHewPHjabg-6.jpg     true   \n",
       "complementary--accident-area--g3/FWMcm_I0nh0dW2XO6IER8Q-1.jpg     true   \n",
       "complementary--accident-area--g3/I5GpEMbKjIU_B8puw6ibyw-0.jpg     true   \n",
       "complementary--accident-area--g3/4E5pBwKX7fJw9GigBPkRmg-1.jpg     true   \n",
       "complementary--accident-area--g3/4E5pBwKX7fJw9GigBPkRmg-1.jpg     true   \n",
       "...                                                                ...   \n",
       "other-sign/eJCdgS-W084xrPgZkwv6NA-0.jpg                        suspect   \n",
       "other-sign/8ZWqx85a8Yy0gI7vA9SMBA-0.jpg                        suspect   \n",
       "other-sign/ZH_M1dUNB_VGNk2chUg2IQ-2.jpg                        suspect   \n",
       "other-sign/9cqMQvNlGsRmRrEUfoDtHQ-8.jpg                        suspect   \n",
       "other-sign/e5Ggz5ZyfQXB7BhGzhUyaw-2.jpg                        suspect   \n",
       "\n",
       "                                                                         loss  \n",
       "complementary--accident-area--g3/9tB6aHjSKx9RiHewPHjabg-6.jpg -1000000.000000  \n",
       "complementary--accident-area--g3/FWMcm_I0nh0dW2XO6IER8Q-1.jpg -1000000.000000  \n",
       "complementary--accident-area--g3/I5GpEMbKjIU_B8puw6ibyw-0.jpg -1000000.000000  \n",
       "complementary--accident-area--g3/4E5pBwKX7fJw9GigBPkRmg-1.jpg -1000000.000000  \n",
       "complementary--accident-area--g3/4E5pBwKX7fJw9GigBPkRmg-1.jpg -1000000.000000  \n",
       "...                                                                       ...  \n",
       "other-sign/eJCdgS-W084xrPgZkwv6NA-0.jpg                             -9.546796  \n",
       "other-sign/8ZWqx85a8Yy0gI7vA9SMBA-0.jpg                             -8.104197  \n",
       "other-sign/ZH_M1dUNB_VGNk2chUg2IQ-2.jpg                            -15.779098  \n",
       "other-sign/9cqMQvNlGsRmRrEUfoDtHQ-8.jpg                            -12.720061  \n",
       "other-sign/e5Ggz5ZyfQXB7BhGzhUyaw-2.jpg                             -8.283386  \n",
       "\n",
       "[25240 rows x 7 columns]"
      ]
     },
     "execution_count": null,
     "metadata": {},
     "output_type": "execute_result"
    }
   ],
   "source": [
    "work = pd.concat([samples, suspect]); work"
   ]
  },
  {
   "cell_type": "code",
   "execution_count": null,
   "id": "75b00612",
   "metadata": {},
   "outputs": [],
   "source": [
    "MLfixFile2(\n",
    "    work,\n",
    "    label='pred',\n",
    "    group='group',\n",
    "    marked='accepted',\n",
    "    sort='loss',\n",
    "    size=200,\n",
    ").display()"
   ]
  },
  {
   "cell_type": "code",
   "execution_count": null,
   "id": "706b8a44",
   "metadata": {},
   "outputs": [],
   "source": [
    "fixdls = ImageDataLoaders.from_df(\n",
    "    data[data['marked'] == False], path=path, label_col='label', valid_col='valid',\n",
    "    bs=1024,\n",
    "    item_tfms=[AlbumentationsTransform(Blur(blur_limit=5, p=0.25))],\n",
    "    batch_tfms=aug_transforms(do_flip=False),\n",
    ")"
   ]
  },
  {
   "cell_type": "code",
   "execution_count": null,
   "id": "ed6678d6",
   "metadata": {},
   "outputs": [
    {
     "data": {
      "text/plain": [
       "0"
      ]
     },
     "execution_count": null,
     "metadata": {},
     "output_type": "execute_result"
    }
   ],
   "source": [
    "len(fixdls[1].items[fixdls[1].items['marked'] == True])"
   ]
  },
  {
   "cell_type": "code",
   "execution_count": null,
   "id": "89fdd2c8",
   "metadata": {},
   "outputs": [
    {
     "data": {
      "text/html": [
       "\n",
       "<style>\n",
       "    /* Turns off some styling */\n",
       "    progress {\n",
       "        /* gets rid of default border in Firefox and Opera. */\n",
       "        border: none;\n",
       "        /* Needs to be in here for Safari polyfill so background images work as expected. */\n",
       "        background-size: auto;\n",
       "    }\n",
       "    .progress-bar-interrupted, .progress-bar-interrupted::-webkit-progress-bar {\n",
       "        background: #F44336;\n",
       "    }\n",
       "</style>\n"
      ],
      "text/plain": [
       "<IPython.core.display.HTML object>"
      ]
     },
     "metadata": {},
     "output_type": "display_data"
    },
    {
     "data": {
      "text/html": [
       "<table border=\"1\" class=\"dataframe\">\n",
       "  <thead>\n",
       "    <tr style=\"text-align: left;\">\n",
       "      <th>epoch</th>\n",
       "      <th>train_loss</th>\n",
       "      <th>valid_loss</th>\n",
       "      <th>error_rate</th>\n",
       "      <th>time</th>\n",
       "    </tr>\n",
       "  </thead>\n",
       "  <tbody>\n",
       "    <tr>\n",
       "      <td>0</td>\n",
       "      <td>4.058169</td>\n",
       "      <td>2.948170</td>\n",
       "      <td>0.707942</td>\n",
       "      <td>00:28</td>\n",
       "    </tr>\n",
       "  </tbody>\n",
       "</table>"
      ],
      "text/plain": [
       "<IPython.core.display.HTML object>"
      ]
     },
     "metadata": {},
     "output_type": "display_data"
    },
    {
     "data": {
      "text/html": [
       "\n",
       "<style>\n",
       "    /* Turns off some styling */\n",
       "    progress {\n",
       "        /* gets rid of default border in Firefox and Opera. */\n",
       "        border: none;\n",
       "        /* Needs to be in here for Safari polyfill so background images work as expected. */\n",
       "        background-size: auto;\n",
       "    }\n",
       "    .progress-bar-interrupted, .progress-bar-interrupted::-webkit-progress-bar {\n",
       "        background: #F44336;\n",
       "    }\n",
       "</style>\n"
      ],
      "text/plain": [
       "<IPython.core.display.HTML object>"
      ]
     },
     "metadata": {},
     "output_type": "display_data"
    },
    {
     "data": {
      "text/html": [
       "<table border=\"1\" class=\"dataframe\">\n",
       "  <thead>\n",
       "    <tr style=\"text-align: left;\">\n",
       "      <th>epoch</th>\n",
       "      <th>train_loss</th>\n",
       "      <th>valid_loss</th>\n",
       "      <th>error_rate</th>\n",
       "      <th>time</th>\n",
       "    </tr>\n",
       "  </thead>\n",
       "  <tbody>\n",
       "    <tr>\n",
       "      <td>0</td>\n",
       "      <td>2.196559</td>\n",
       "      <td>1.769699</td>\n",
       "      <td>0.484486</td>\n",
       "      <td>00:30</td>\n",
       "    </tr>\n",
       "    <tr>\n",
       "      <td>1</td>\n",
       "      <td>1.275107</td>\n",
       "      <td>1.089023</td>\n",
       "      <td>0.311415</td>\n",
       "      <td>00:30</td>\n",
       "    </tr>\n",
       "    <tr>\n",
       "      <td>2</td>\n",
       "      <td>0.698582</td>\n",
       "      <td>0.752897</td>\n",
       "      <td>0.215414</td>\n",
       "      <td>00:30</td>\n",
       "    </tr>\n",
       "    <tr>\n",
       "      <td>3</td>\n",
       "      <td>0.425805</td>\n",
       "      <td>0.611155</td>\n",
       "      <td>0.172858</td>\n",
       "      <td>00:30</td>\n",
       "    </tr>\n",
       "    <tr>\n",
       "      <td>4</td>\n",
       "      <td>0.287608</td>\n",
       "      <td>0.523419</td>\n",
       "      <td>0.143823</td>\n",
       "      <td>00:30</td>\n",
       "    </tr>\n",
       "    <tr>\n",
       "      <td>5</td>\n",
       "      <td>0.208913</td>\n",
       "      <td>0.499445</td>\n",
       "      <td>0.129946</td>\n",
       "      <td>00:30</td>\n",
       "    </tr>\n",
       "    <tr>\n",
       "      <td>6</td>\n",
       "      <td>0.162034</td>\n",
       "      <td>0.482670</td>\n",
       "      <td>0.122616</td>\n",
       "      <td>00:30</td>\n",
       "    </tr>\n",
       "    <tr>\n",
       "      <td>7</td>\n",
       "      <td>0.128120</td>\n",
       "      <td>0.448495</td>\n",
       "      <td>0.113720</td>\n",
       "      <td>00:30</td>\n",
       "    </tr>\n",
       "    <tr>\n",
       "      <td>8</td>\n",
       "      <td>0.101879</td>\n",
       "      <td>0.438886</td>\n",
       "      <td>0.108597</td>\n",
       "      <td>00:30</td>\n",
       "    </tr>\n",
       "    <tr>\n",
       "      <td>9</td>\n",
       "      <td>0.081095</td>\n",
       "      <td>0.411079</td>\n",
       "      <td>0.097353</td>\n",
       "      <td>00:30</td>\n",
       "    </tr>\n",
       "    <tr>\n",
       "      <td>10</td>\n",
       "      <td>0.063293</td>\n",
       "      <td>0.410151</td>\n",
       "      <td>0.095075</td>\n",
       "      <td>00:30</td>\n",
       "    </tr>\n",
       "    <tr>\n",
       "      <td>11</td>\n",
       "      <td>0.053179</td>\n",
       "      <td>0.402908</td>\n",
       "      <td>0.092300</td>\n",
       "      <td>00:30</td>\n",
       "    </tr>\n",
       "    <tr>\n",
       "      <td>12</td>\n",
       "      <td>0.049637</td>\n",
       "      <td>0.400948</td>\n",
       "      <td>0.092300</td>\n",
       "      <td>00:30</td>\n",
       "    </tr>\n",
       "    <tr>\n",
       "      <td>13</td>\n",
       "      <td>0.043902</td>\n",
       "      <td>0.395528</td>\n",
       "      <td>0.090663</td>\n",
       "      <td>00:31</td>\n",
       "    </tr>\n",
       "    <tr>\n",
       "      <td>14</td>\n",
       "      <td>0.043912</td>\n",
       "      <td>0.395272</td>\n",
       "      <td>0.089880</td>\n",
       "      <td>00:30</td>\n",
       "    </tr>\n",
       "  </tbody>\n",
       "</table>"
      ],
      "text/plain": [
       "<IPython.core.display.HTML object>"
      ]
     },
     "metadata": {},
     "output_type": "display_data"
    },
    {
     "data": {
      "text/html": [
       "\n",
       "<style>\n",
       "    /* Turns off some styling */\n",
       "    progress {\n",
       "        /* gets rid of default border in Firefox and Opera. */\n",
       "        border: none;\n",
       "        /* Needs to be in here for Safari polyfill so background images work as expected. */\n",
       "        background-size: auto;\n",
       "    }\n",
       "    .progress-bar-interrupted, .progress-bar-interrupted::-webkit-progress-bar {\n",
       "        background: #F44336;\n",
       "    }\n",
       "</style>\n"
      ],
      "text/plain": [
       "<IPython.core.display.HTML object>"
      ]
     },
     "metadata": {},
     "output_type": "display_data"
    },
    {
     "data": {
      "text/html": [],
      "text/plain": [
       "<IPython.core.display.HTML object>"
      ]
     },
     "metadata": {},
     "output_type": "display_data"
    },
    {
     "data": {
      "text/html": [
       "\n",
       "<style>\n",
       "    /* Turns off some styling */\n",
       "    progress {\n",
       "        /* gets rid of default border in Firefox and Opera. */\n",
       "        border: none;\n",
       "        /* Needs to be in here for Safari polyfill so background images work as expected. */\n",
       "        background-size: auto;\n",
       "    }\n",
       "    .progress-bar-interrupted, .progress-bar-interrupted::-webkit-progress-bar {\n",
       "        background: #F44336;\n",
       "    }\n",
       "</style>\n"
      ],
      "text/plain": [
       "<IPython.core.display.HTML object>"
      ]
     },
     "metadata": {},
     "output_type": "display_data"
    },
    {
     "data": {
      "text/html": [
       "<table border=\"1\" class=\"dataframe\">\n",
       "  <thead>\n",
       "    <tr style=\"text-align: left;\">\n",
       "      <th>epoch</th>\n",
       "      <th>train_loss</th>\n",
       "      <th>valid_loss</th>\n",
       "      <th>error_rate</th>\n",
       "      <th>time</th>\n",
       "    </tr>\n",
       "  </thead>\n",
       "  <tbody>\n",
       "    <tr>\n",
       "      <td>0</td>\n",
       "      <td>4.051312</td>\n",
       "      <td>2.928577</td>\n",
       "      <td>0.701324</td>\n",
       "      <td>00:28</td>\n",
       "    </tr>\n",
       "  </tbody>\n",
       "</table>"
      ],
      "text/plain": [
       "<IPython.core.display.HTML object>"
      ]
     },
     "metadata": {},
     "output_type": "display_data"
    },
    {
     "data": {
      "text/html": [
       "\n",
       "<style>\n",
       "    /* Turns off some styling */\n",
       "    progress {\n",
       "        /* gets rid of default border in Firefox and Opera. */\n",
       "        border: none;\n",
       "        /* Needs to be in here for Safari polyfill so background images work as expected. */\n",
       "        background-size: auto;\n",
       "    }\n",
       "    .progress-bar-interrupted, .progress-bar-interrupted::-webkit-progress-bar {\n",
       "        background: #F44336;\n",
       "    }\n",
       "</style>\n"
      ],
      "text/plain": [
       "<IPython.core.display.HTML object>"
      ]
     },
     "metadata": {},
     "output_type": "display_data"
    },
    {
     "data": {
      "text/html": [
       "<table border=\"1\" class=\"dataframe\">\n",
       "  <thead>\n",
       "    <tr style=\"text-align: left;\">\n",
       "      <th>epoch</th>\n",
       "      <th>train_loss</th>\n",
       "      <th>valid_loss</th>\n",
       "      <th>error_rate</th>\n",
       "      <th>time</th>\n",
       "    </tr>\n",
       "  </thead>\n",
       "  <tbody>\n",
       "    <tr>\n",
       "      <td>0</td>\n",
       "      <td>2.161491</td>\n",
       "      <td>1.745086</td>\n",
       "      <td>0.480643</td>\n",
       "      <td>00:30</td>\n",
       "    </tr>\n",
       "    <tr>\n",
       "      <td>1</td>\n",
       "      <td>1.270717</td>\n",
       "      <td>1.081766</td>\n",
       "      <td>0.312055</td>\n",
       "      <td>00:30</td>\n",
       "    </tr>\n",
       "    <tr>\n",
       "      <td>2</td>\n",
       "      <td>0.688956</td>\n",
       "      <td>0.754249</td>\n",
       "      <td>0.218830</td>\n",
       "      <td>00:30</td>\n",
       "    </tr>\n",
       "    <tr>\n",
       "      <td>3</td>\n",
       "      <td>0.418952</td>\n",
       "      <td>0.591783</td>\n",
       "      <td>0.168019</td>\n",
       "      <td>00:30</td>\n",
       "    </tr>\n",
       "    <tr>\n",
       "      <td>4</td>\n",
       "      <td>0.284414</td>\n",
       "      <td>0.527125</td>\n",
       "      <td>0.144535</td>\n",
       "      <td>00:30</td>\n",
       "    </tr>\n",
       "    <tr>\n",
       "      <td>5</td>\n",
       "      <td>0.210686</td>\n",
       "      <td>0.502882</td>\n",
       "      <td>0.136849</td>\n",
       "      <td>00:30</td>\n",
       "    </tr>\n",
       "    <tr>\n",
       "      <td>6</td>\n",
       "      <td>0.165204</td>\n",
       "      <td>0.492933</td>\n",
       "      <td>0.134145</td>\n",
       "      <td>00:30</td>\n",
       "    </tr>\n",
       "    <tr>\n",
       "      <td>7</td>\n",
       "      <td>0.132533</td>\n",
       "      <td>0.443970</td>\n",
       "      <td>0.114361</td>\n",
       "      <td>00:30</td>\n",
       "    </tr>\n",
       "    <tr>\n",
       "      <td>8</td>\n",
       "      <td>0.100791</td>\n",
       "      <td>0.426869</td>\n",
       "      <td>0.105323</td>\n",
       "      <td>00:30</td>\n",
       "    </tr>\n",
       "    <tr>\n",
       "      <td>9</td>\n",
       "      <td>0.082911</td>\n",
       "      <td>0.424478</td>\n",
       "      <td>0.101907</td>\n",
       "      <td>00:30</td>\n",
       "    </tr>\n",
       "    <tr>\n",
       "      <td>10</td>\n",
       "      <td>0.067428</td>\n",
       "      <td>0.410617</td>\n",
       "      <td>0.094791</td>\n",
       "      <td>00:30</td>\n",
       "    </tr>\n",
       "    <tr>\n",
       "      <td>11</td>\n",
       "      <td>0.056040</td>\n",
       "      <td>0.409220</td>\n",
       "      <td>0.094506</td>\n",
       "      <td>00:30</td>\n",
       "    </tr>\n",
       "    <tr>\n",
       "      <td>12</td>\n",
       "      <td>0.045518</td>\n",
       "      <td>0.403897</td>\n",
       "      <td>0.093866</td>\n",
       "      <td>00:30</td>\n",
       "    </tr>\n",
       "    <tr>\n",
       "      <td>13</td>\n",
       "      <td>0.043334</td>\n",
       "      <td>0.398128</td>\n",
       "      <td>0.091446</td>\n",
       "      <td>00:31</td>\n",
       "    </tr>\n",
       "    <tr>\n",
       "      <td>14</td>\n",
       "      <td>0.041040</td>\n",
       "      <td>0.397676</td>\n",
       "      <td>0.090307</td>\n",
       "      <td>00:30</td>\n",
       "    </tr>\n",
       "  </tbody>\n",
       "</table>"
      ],
      "text/plain": [
       "<IPython.core.display.HTML object>"
      ]
     },
     "metadata": {},
     "output_type": "display_data"
    },
    {
     "data": {
      "text/html": [
       "\n",
       "<style>\n",
       "    /* Turns off some styling */\n",
       "    progress {\n",
       "        /* gets rid of default border in Firefox and Opera. */\n",
       "        border: none;\n",
       "        /* Needs to be in here for Safari polyfill so background images work as expected. */\n",
       "        background-size: auto;\n",
       "    }\n",
       "    .progress-bar-interrupted, .progress-bar-interrupted::-webkit-progress-bar {\n",
       "        background: #F44336;\n",
       "    }\n",
       "</style>\n"
      ],
      "text/plain": [
       "<IPython.core.display.HTML object>"
      ]
     },
     "metadata": {},
     "output_type": "display_data"
    },
    {
     "data": {
      "text/html": [],
      "text/plain": [
       "<IPython.core.display.HTML object>"
      ]
     },
     "metadata": {},
     "output_type": "display_data"
    },
    {
     "data": {
      "text/html": [
       "\n",
       "<style>\n",
       "    /* Turns off some styling */\n",
       "    progress {\n",
       "        /* gets rid of default border in Firefox and Opera. */\n",
       "        border: none;\n",
       "        /* Needs to be in here for Safari polyfill so background images work as expected. */\n",
       "        background-size: auto;\n",
       "    }\n",
       "    .progress-bar-interrupted, .progress-bar-interrupted::-webkit-progress-bar {\n",
       "        background: #F44336;\n",
       "    }\n",
       "</style>\n"
      ],
      "text/plain": [
       "<IPython.core.display.HTML object>"
      ]
     },
     "metadata": {},
     "output_type": "display_data"
    },
    {
     "data": {
      "text/html": [
       "<table border=\"1\" class=\"dataframe\">\n",
       "  <thead>\n",
       "    <tr style=\"text-align: left;\">\n",
       "      <th>epoch</th>\n",
       "      <th>train_loss</th>\n",
       "      <th>valid_loss</th>\n",
       "      <th>error_rate</th>\n",
       "      <th>time</th>\n",
       "    </tr>\n",
       "  </thead>\n",
       "  <tbody>\n",
       "    <tr>\n",
       "      <td>0</td>\n",
       "      <td>4.045061</td>\n",
       "      <td>2.919559</td>\n",
       "      <td>0.697267</td>\n",
       "      <td>00:28</td>\n",
       "    </tr>\n",
       "  </tbody>\n",
       "</table>"
      ],
      "text/plain": [
       "<IPython.core.display.HTML object>"
      ]
     },
     "metadata": {},
     "output_type": "display_data"
    },
    {
     "data": {
      "text/html": [
       "\n",
       "<style>\n",
       "    /* Turns off some styling */\n",
       "    progress {\n",
       "        /* gets rid of default border in Firefox and Opera. */\n",
       "        border: none;\n",
       "        /* Needs to be in here for Safari polyfill so background images work as expected. */\n",
       "        background-size: auto;\n",
       "    }\n",
       "    .progress-bar-interrupted, .progress-bar-interrupted::-webkit-progress-bar {\n",
       "        background: #F44336;\n",
       "    }\n",
       "</style>\n"
      ],
      "text/plain": [
       "<IPython.core.display.HTML object>"
      ]
     },
     "metadata": {},
     "output_type": "display_data"
    },
    {
     "data": {
      "text/html": [
       "<table border=\"1\" class=\"dataframe\">\n",
       "  <thead>\n",
       "    <tr style=\"text-align: left;\">\n",
       "      <th>epoch</th>\n",
       "      <th>train_loss</th>\n",
       "      <th>valid_loss</th>\n",
       "      <th>error_rate</th>\n",
       "      <th>time</th>\n",
       "    </tr>\n",
       "  </thead>\n",
       "  <tbody>\n",
       "    <tr>\n",
       "      <td>0</td>\n",
       "      <td>2.176842</td>\n",
       "      <td>1.749786</td>\n",
       "      <td>0.480857</td>\n",
       "      <td>00:30</td>\n",
       "    </tr>\n",
       "    <tr>\n",
       "      <td>1</td>\n",
       "      <td>1.267611</td>\n",
       "      <td>1.085608</td>\n",
       "      <td>0.311913</td>\n",
       "      <td>00:31</td>\n",
       "    </tr>\n",
       "    <tr>\n",
       "      <td>2</td>\n",
       "      <td>0.691461</td>\n",
       "      <td>0.737091</td>\n",
       "      <td>0.216837</td>\n",
       "      <td>00:31</td>\n",
       "    </tr>\n",
       "    <tr>\n",
       "      <td>3</td>\n",
       "      <td>0.415243</td>\n",
       "      <td>0.589653</td>\n",
       "      <td>0.166026</td>\n",
       "      <td>00:31</td>\n",
       "    </tr>\n",
       "    <tr>\n",
       "      <td>4</td>\n",
       "      <td>0.278608</td>\n",
       "      <td>0.531685</td>\n",
       "      <td>0.148022</td>\n",
       "      <td>00:31</td>\n",
       "    </tr>\n",
       "    <tr>\n",
       "      <td>5</td>\n",
       "      <td>0.210429</td>\n",
       "      <td>0.471606</td>\n",
       "      <td>0.127811</td>\n",
       "      <td>00:30</td>\n",
       "    </tr>\n",
       "    <tr>\n",
       "      <td>6</td>\n",
       "      <td>0.160394</td>\n",
       "      <td>0.443934</td>\n",
       "      <td>0.114432</td>\n",
       "      <td>00:30</td>\n",
       "    </tr>\n",
       "    <tr>\n",
       "      <td>7</td>\n",
       "      <td>0.120998</td>\n",
       "      <td>0.424475</td>\n",
       "      <td>0.105465</td>\n",
       "      <td>00:31</td>\n",
       "    </tr>\n",
       "    <tr>\n",
       "      <td>8</td>\n",
       "      <td>0.102010</td>\n",
       "      <td>0.426277</td>\n",
       "      <td>0.103402</td>\n",
       "      <td>00:31</td>\n",
       "    </tr>\n",
       "    <tr>\n",
       "      <td>9</td>\n",
       "      <td>0.080414</td>\n",
       "      <td>0.415596</td>\n",
       "      <td>0.099061</td>\n",
       "      <td>00:31</td>\n",
       "    </tr>\n",
       "    <tr>\n",
       "      <td>10</td>\n",
       "      <td>0.065061</td>\n",
       "      <td>0.420377</td>\n",
       "      <td>0.097424</td>\n",
       "      <td>00:30</td>\n",
       "    </tr>\n",
       "    <tr>\n",
       "      <td>11</td>\n",
       "      <td>0.055938</td>\n",
       "      <td>0.406469</td>\n",
       "      <td>0.093367</td>\n",
       "      <td>00:31</td>\n",
       "    </tr>\n",
       "    <tr>\n",
       "      <td>12</td>\n",
       "      <td>0.047144</td>\n",
       "      <td>0.397962</td>\n",
       "      <td>0.090307</td>\n",
       "      <td>00:31</td>\n",
       "    </tr>\n",
       "    <tr>\n",
       "      <td>13</td>\n",
       "      <td>0.045877</td>\n",
       "      <td>0.399053</td>\n",
       "      <td>0.091090</td>\n",
       "      <td>00:31</td>\n",
       "    </tr>\n",
       "    <tr>\n",
       "      <td>14</td>\n",
       "      <td>0.042641</td>\n",
       "      <td>0.399075</td>\n",
       "      <td>0.091233</td>\n",
       "      <td>00:31</td>\n",
       "    </tr>\n",
       "  </tbody>\n",
       "</table>"
      ],
      "text/plain": [
       "<IPython.core.display.HTML object>"
      ]
     },
     "metadata": {},
     "output_type": "display_data"
    },
    {
     "data": {
      "text/html": [
       "\n",
       "<style>\n",
       "    /* Turns off some styling */\n",
       "    progress {\n",
       "        /* gets rid of default border in Firefox and Opera. */\n",
       "        border: none;\n",
       "        /* Needs to be in here for Safari polyfill so background images work as expected. */\n",
       "        background-size: auto;\n",
       "    }\n",
       "    .progress-bar-interrupted, .progress-bar-interrupted::-webkit-progress-bar {\n",
       "        background: #F44336;\n",
       "    }\n",
       "</style>\n"
      ],
      "text/plain": [
       "<IPython.core.display.HTML object>"
      ]
     },
     "metadata": {},
     "output_type": "display_data"
    },
    {
     "data": {
      "text/html": [],
      "text/plain": [
       "<IPython.core.display.HTML object>"
      ]
     },
     "metadata": {},
     "output_type": "display_data"
    },
    {
     "data": {
      "text/html": [
       "\n",
       "<style>\n",
       "    /* Turns off some styling */\n",
       "    progress {\n",
       "        /* gets rid of default border in Firefox and Opera. */\n",
       "        border: none;\n",
       "        /* Needs to be in here for Safari polyfill so background images work as expected. */\n",
       "        background-size: auto;\n",
       "    }\n",
       "    .progress-bar-interrupted, .progress-bar-interrupted::-webkit-progress-bar {\n",
       "        background: #F44336;\n",
       "    }\n",
       "</style>\n"
      ],
      "text/plain": [
       "<IPython.core.display.HTML object>"
      ]
     },
     "metadata": {},
     "output_type": "display_data"
    },
    {
     "data": {
      "text/html": [
       "<table border=\"1\" class=\"dataframe\">\n",
       "  <thead>\n",
       "    <tr style=\"text-align: left;\">\n",
       "      <th>epoch</th>\n",
       "      <th>train_loss</th>\n",
       "      <th>valid_loss</th>\n",
       "      <th>error_rate</th>\n",
       "      <th>time</th>\n",
       "    </tr>\n",
       "  </thead>\n",
       "  <tbody>\n",
       "    <tr>\n",
       "      <td>0</td>\n",
       "      <td>4.029009</td>\n",
       "      <td>2.926483</td>\n",
       "      <td>0.703814</td>\n",
       "      <td>00:29</td>\n",
       "    </tr>\n",
       "  </tbody>\n",
       "</table>"
      ],
      "text/plain": [
       "<IPython.core.display.HTML object>"
      ]
     },
     "metadata": {},
     "output_type": "display_data"
    },
    {
     "data": {
      "text/html": [
       "\n",
       "<style>\n",
       "    /* Turns off some styling */\n",
       "    progress {\n",
       "        /* gets rid of default border in Firefox and Opera. */\n",
       "        border: none;\n",
       "        /* Needs to be in here for Safari polyfill so background images work as expected. */\n",
       "        background-size: auto;\n",
       "    }\n",
       "    .progress-bar-interrupted, .progress-bar-interrupted::-webkit-progress-bar {\n",
       "        background: #F44336;\n",
       "    }\n",
       "</style>\n"
      ],
      "text/plain": [
       "<IPython.core.display.HTML object>"
      ]
     },
     "metadata": {},
     "output_type": "display_data"
    },
    {
     "data": {
      "text/html": [
       "<table border=\"1\" class=\"dataframe\">\n",
       "  <thead>\n",
       "    <tr style=\"text-align: left;\">\n",
       "      <th>epoch</th>\n",
       "      <th>train_loss</th>\n",
       "      <th>valid_loss</th>\n",
       "      <th>error_rate</th>\n",
       "      <th>time</th>\n",
       "    </tr>\n",
       "  </thead>\n",
       "  <tbody>\n",
       "    <tr>\n",
       "      <td>0</td>\n",
       "      <td>2.163478</td>\n",
       "      <td>1.741724</td>\n",
       "      <td>0.476160</td>\n",
       "      <td>00:31</td>\n",
       "    </tr>\n",
       "    <tr>\n",
       "      <td>1</td>\n",
       "      <td>1.263328</td>\n",
       "      <td>1.061846</td>\n",
       "      <td>0.307003</td>\n",
       "      <td>00:31</td>\n",
       "    </tr>\n",
       "    <tr>\n",
       "      <td>2</td>\n",
       "      <td>0.685835</td>\n",
       "      <td>0.726283</td>\n",
       "      <td>0.209579</td>\n",
       "      <td>00:31</td>\n",
       "    </tr>\n",
       "    <tr>\n",
       "      <td>3</td>\n",
       "      <td>0.419488</td>\n",
       "      <td>0.602736</td>\n",
       "      <td>0.172217</td>\n",
       "      <td>00:31</td>\n",
       "    </tr>\n",
       "    <tr>\n",
       "      <td>4</td>\n",
       "      <td>0.291675</td>\n",
       "      <td>0.520855</td>\n",
       "      <td>0.143396</td>\n",
       "      <td>00:31</td>\n",
       "    </tr>\n",
       "    <tr>\n",
       "      <td>5</td>\n",
       "      <td>0.222762</td>\n",
       "      <td>0.485960</td>\n",
       "      <td>0.129661</td>\n",
       "      <td>00:31</td>\n",
       "    </tr>\n",
       "    <tr>\n",
       "      <td>6</td>\n",
       "      <td>0.162768</td>\n",
       "      <td>0.448716</td>\n",
       "      <td>0.115073</td>\n",
       "      <td>00:31</td>\n",
       "    </tr>\n",
       "    <tr>\n",
       "      <td>7</td>\n",
       "      <td>0.129648</td>\n",
       "      <td>0.436800</td>\n",
       "      <td>0.109878</td>\n",
       "      <td>00:31</td>\n",
       "    </tr>\n",
       "    <tr>\n",
       "      <td>8</td>\n",
       "      <td>0.105457</td>\n",
       "      <td>0.433319</td>\n",
       "      <td>0.108312</td>\n",
       "      <td>00:32</td>\n",
       "    </tr>\n",
       "    <tr>\n",
       "      <td>9</td>\n",
       "      <td>0.081976</td>\n",
       "      <td>0.423676</td>\n",
       "      <td>0.101196</td>\n",
       "      <td>00:31</td>\n",
       "    </tr>\n",
       "    <tr>\n",
       "      <td>10</td>\n",
       "      <td>0.070465</td>\n",
       "      <td>0.410028</td>\n",
       "      <td>0.096641</td>\n",
       "      <td>00:31</td>\n",
       "    </tr>\n",
       "    <tr>\n",
       "      <td>11</td>\n",
       "      <td>0.056124</td>\n",
       "      <td>0.411236</td>\n",
       "      <td>0.096499</td>\n",
       "      <td>00:32</td>\n",
       "    </tr>\n",
       "    <tr>\n",
       "      <td>12</td>\n",
       "      <td>0.049017</td>\n",
       "      <td>0.405396</td>\n",
       "      <td>0.092087</td>\n",
       "      <td>00:31</td>\n",
       "    </tr>\n",
       "    <tr>\n",
       "      <td>13</td>\n",
       "      <td>0.044849</td>\n",
       "      <td>0.401522</td>\n",
       "      <td>0.089880</td>\n",
       "      <td>00:32</td>\n",
       "    </tr>\n",
       "    <tr>\n",
       "      <td>14</td>\n",
       "      <td>0.045790</td>\n",
       "      <td>0.402497</td>\n",
       "      <td>0.089667</td>\n",
       "      <td>00:31</td>\n",
       "    </tr>\n",
       "  </tbody>\n",
       "</table>"
      ],
      "text/plain": [
       "<IPython.core.display.HTML object>"
      ]
     },
     "metadata": {},
     "output_type": "display_data"
    },
    {
     "data": {
      "text/html": [
       "\n",
       "<style>\n",
       "    /* Turns off some styling */\n",
       "    progress {\n",
       "        /* gets rid of default border in Firefox and Opera. */\n",
       "        border: none;\n",
       "        /* Needs to be in here for Safari polyfill so background images work as expected. */\n",
       "        background-size: auto;\n",
       "    }\n",
       "    .progress-bar-interrupted, .progress-bar-interrupted::-webkit-progress-bar {\n",
       "        background: #F44336;\n",
       "    }\n",
       "</style>\n"
      ],
      "text/plain": [
       "<IPython.core.display.HTML object>"
      ]
     },
     "metadata": {},
     "output_type": "display_data"
    },
    {
     "data": {
      "text/html": [],
      "text/plain": [
       "<IPython.core.display.HTML object>"
      ]
     },
     "metadata": {},
     "output_type": "display_data"
    },
    {
     "data": {
      "text/html": [
       "\n",
       "<style>\n",
       "    /* Turns off some styling */\n",
       "    progress {\n",
       "        /* gets rid of default border in Firefox and Opera. */\n",
       "        border: none;\n",
       "        /* Needs to be in here for Safari polyfill so background images work as expected. */\n",
       "        background-size: auto;\n",
       "    }\n",
       "    .progress-bar-interrupted, .progress-bar-interrupted::-webkit-progress-bar {\n",
       "        background: #F44336;\n",
       "    }\n",
       "</style>\n"
      ],
      "text/plain": [
       "<IPython.core.display.HTML object>"
      ]
     },
     "metadata": {},
     "output_type": "display_data"
    },
    {
     "data": {
      "text/html": [
       "<table border=\"1\" class=\"dataframe\">\n",
       "  <thead>\n",
       "    <tr style=\"text-align: left;\">\n",
       "      <th>epoch</th>\n",
       "      <th>train_loss</th>\n",
       "      <th>valid_loss</th>\n",
       "      <th>error_rate</th>\n",
       "      <th>time</th>\n",
       "    </tr>\n",
       "  </thead>\n",
       "  <tbody>\n",
       "    <tr>\n",
       "      <td>0</td>\n",
       "      <td>4.024527</td>\n",
       "      <td>2.891339</td>\n",
       "      <td>0.693211</td>\n",
       "      <td>00:30</td>\n",
       "    </tr>\n",
       "  </tbody>\n",
       "</table>"
      ],
      "text/plain": [
       "<IPython.core.display.HTML object>"
      ]
     },
     "metadata": {},
     "output_type": "display_data"
    },
    {
     "data": {
      "text/html": [
       "\n",
       "<style>\n",
       "    /* Turns off some styling */\n",
       "    progress {\n",
       "        /* gets rid of default border in Firefox and Opera. */\n",
       "        border: none;\n",
       "        /* Needs to be in here for Safari polyfill so background images work as expected. */\n",
       "        background-size: auto;\n",
       "    }\n",
       "    .progress-bar-interrupted, .progress-bar-interrupted::-webkit-progress-bar {\n",
       "        background: #F44336;\n",
       "    }\n",
       "</style>\n"
      ],
      "text/plain": [
       "<IPython.core.display.HTML object>"
      ]
     },
     "metadata": {},
     "output_type": "display_data"
    },
    {
     "data": {
      "text/html": [
       "<table border=\"1\" class=\"dataframe\">\n",
       "  <thead>\n",
       "    <tr style=\"text-align: left;\">\n",
       "      <th>epoch</th>\n",
       "      <th>train_loss</th>\n",
       "      <th>valid_loss</th>\n",
       "      <th>error_rate</th>\n",
       "      <th>time</th>\n",
       "    </tr>\n",
       "  </thead>\n",
       "  <tbody>\n",
       "    <tr>\n",
       "      <td>0</td>\n",
       "      <td>2.151188</td>\n",
       "      <td>1.752334</td>\n",
       "      <td>0.482992</td>\n",
       "      <td>00:31</td>\n",
       "    </tr>\n",
       "    <tr>\n",
       "      <td>1</td>\n",
       "      <td>1.253539</td>\n",
       "      <td>1.077023</td>\n",
       "      <td>0.310561</td>\n",
       "      <td>00:33</td>\n",
       "    </tr>\n",
       "    <tr>\n",
       "      <td>2</td>\n",
       "      <td>0.682011</td>\n",
       "      <td>0.743716</td>\n",
       "      <td>0.217193</td>\n",
       "      <td>00:32</td>\n",
       "    </tr>\n",
       "    <tr>\n",
       "      <td>3</td>\n",
       "      <td>0.407057</td>\n",
       "      <td>0.563494</td>\n",
       "      <td>0.160760</td>\n",
       "      <td>00:30</td>\n",
       "    </tr>\n",
       "    <tr>\n",
       "      <td>4</td>\n",
       "      <td>0.277600</td>\n",
       "      <td>0.537565</td>\n",
       "      <td>0.143681</td>\n",
       "      <td>00:30</td>\n",
       "    </tr>\n",
       "    <tr>\n",
       "      <td>5</td>\n",
       "      <td>0.209750</td>\n",
       "      <td>0.485862</td>\n",
       "      <td>0.127811</td>\n",
       "      <td>00:30</td>\n",
       "    </tr>\n",
       "    <tr>\n",
       "      <td>6</td>\n",
       "      <td>0.157033</td>\n",
       "      <td>0.459502</td>\n",
       "      <td>0.120339</td>\n",
       "      <td>00:30</td>\n",
       "    </tr>\n",
       "    <tr>\n",
       "      <td>7</td>\n",
       "      <td>0.126645</td>\n",
       "      <td>0.435834</td>\n",
       "      <td>0.109735</td>\n",
       "      <td>00:30</td>\n",
       "    </tr>\n",
       "    <tr>\n",
       "      <td>8</td>\n",
       "      <td>0.100794</td>\n",
       "      <td>0.443890</td>\n",
       "      <td>0.104683</td>\n",
       "      <td>00:30</td>\n",
       "    </tr>\n",
       "    <tr>\n",
       "      <td>9</td>\n",
       "      <td>0.082514</td>\n",
       "      <td>0.428643</td>\n",
       "      <td>0.102192</td>\n",
       "      <td>00:30</td>\n",
       "    </tr>\n",
       "    <tr>\n",
       "      <td>10</td>\n",
       "      <td>0.064979</td>\n",
       "      <td>0.419908</td>\n",
       "      <td>0.096143</td>\n",
       "      <td>00:30</td>\n",
       "    </tr>\n",
       "    <tr>\n",
       "      <td>11</td>\n",
       "      <td>0.057337</td>\n",
       "      <td>0.412696</td>\n",
       "      <td>0.093439</td>\n",
       "      <td>00:31</td>\n",
       "    </tr>\n",
       "    <tr>\n",
       "      <td>12</td>\n",
       "      <td>0.046570</td>\n",
       "      <td>0.406649</td>\n",
       "      <td>0.090450</td>\n",
       "      <td>00:30</td>\n",
       "    </tr>\n",
       "    <tr>\n",
       "      <td>13</td>\n",
       "      <td>0.046448</td>\n",
       "      <td>0.405661</td>\n",
       "      <td>0.090877</td>\n",
       "      <td>00:30</td>\n",
       "    </tr>\n",
       "    <tr>\n",
       "      <td>14</td>\n",
       "      <td>0.042734</td>\n",
       "      <td>0.404016</td>\n",
       "      <td>0.089809</td>\n",
       "      <td>00:30</td>\n",
       "    </tr>\n",
       "  </tbody>\n",
       "</table>"
      ],
      "text/plain": [
       "<IPython.core.display.HTML object>"
      ]
     },
     "metadata": {},
     "output_type": "display_data"
    },
    {
     "data": {
      "text/html": [
       "\n",
       "<style>\n",
       "    /* Turns off some styling */\n",
       "    progress {\n",
       "        /* gets rid of default border in Firefox and Opera. */\n",
       "        border: none;\n",
       "        /* Needs to be in here for Safari polyfill so background images work as expected. */\n",
       "        background-size: auto;\n",
       "    }\n",
       "    .progress-bar-interrupted, .progress-bar-interrupted::-webkit-progress-bar {\n",
       "        background: #F44336;\n",
       "    }\n",
       "</style>\n"
      ],
      "text/plain": [
       "<IPython.core.display.HTML object>"
      ]
     },
     "metadata": {},
     "output_type": "display_data"
    },
    {
     "data": {
      "text/html": [],
      "text/plain": [
       "<IPython.core.display.HTML object>"
      ]
     },
     "metadata": {},
     "output_type": "display_data"
    },
    {
     "data": {
      "text/html": [
       "\n",
       "<style>\n",
       "    /* Turns off some styling */\n",
       "    progress {\n",
       "        /* gets rid of default border in Firefox and Opera. */\n",
       "        border: none;\n",
       "        /* Needs to be in here for Safari polyfill so background images work as expected. */\n",
       "        background-size: auto;\n",
       "    }\n",
       "    .progress-bar-interrupted, .progress-bar-interrupted::-webkit-progress-bar {\n",
       "        background: #F44336;\n",
       "    }\n",
       "</style>\n"
      ],
      "text/plain": [
       "<IPython.core.display.HTML object>"
      ]
     },
     "metadata": {},
     "output_type": "display_data"
    },
    {
     "data": {
      "text/html": [
       "<table border=\"1\" class=\"dataframe\">\n",
       "  <thead>\n",
       "    <tr style=\"text-align: left;\">\n",
       "      <th>epoch</th>\n",
       "      <th>train_loss</th>\n",
       "      <th>valid_loss</th>\n",
       "      <th>error_rate</th>\n",
       "      <th>time</th>\n",
       "    </tr>\n",
       "  </thead>\n",
       "  <tbody>\n",
       "    <tr>\n",
       "      <td>0</td>\n",
       "      <td>4.038887</td>\n",
       "      <td>2.972599</td>\n",
       "      <td>0.709579</td>\n",
       "      <td>00:27</td>\n",
       "    </tr>\n",
       "  </tbody>\n",
       "</table>"
      ],
      "text/plain": [
       "<IPython.core.display.HTML object>"
      ]
     },
     "metadata": {},
     "output_type": "display_data"
    },
    {
     "data": {
      "text/html": [
       "\n",
       "<style>\n",
       "    /* Turns off some styling */\n",
       "    progress {\n",
       "        /* gets rid of default border in Firefox and Opera. */\n",
       "        border: none;\n",
       "        /* Needs to be in here for Safari polyfill so background images work as expected. */\n",
       "        background-size: auto;\n",
       "    }\n",
       "    .progress-bar-interrupted, .progress-bar-interrupted::-webkit-progress-bar {\n",
       "        background: #F44336;\n",
       "    }\n",
       "</style>\n"
      ],
      "text/plain": [
       "<IPython.core.display.HTML object>"
      ]
     },
     "metadata": {},
     "output_type": "display_data"
    },
    {
     "data": {
      "text/html": [
       "<table border=\"1\" class=\"dataframe\">\n",
       "  <thead>\n",
       "    <tr style=\"text-align: left;\">\n",
       "      <th>epoch</th>\n",
       "      <th>train_loss</th>\n",
       "      <th>valid_loss</th>\n",
       "      <th>error_rate</th>\n",
       "      <th>time</th>\n",
       "    </tr>\n",
       "  </thead>\n",
       "  <tbody>\n",
       "    <tr>\n",
       "      <td>0</td>\n",
       "      <td>2.177240</td>\n",
       "      <td>1.769689</td>\n",
       "      <td>0.484059</td>\n",
       "      <td>00:30</td>\n",
       "    </tr>\n",
       "    <tr>\n",
       "      <td>1</td>\n",
       "      <td>1.256417</td>\n",
       "      <td>1.094227</td>\n",
       "      <td>0.315115</td>\n",
       "      <td>00:30</td>\n",
       "    </tr>\n",
       "    <tr>\n",
       "      <td>2</td>\n",
       "      <td>0.684856</td>\n",
       "      <td>0.748043</td>\n",
       "      <td>0.212781</td>\n",
       "      <td>00:30</td>\n",
       "    </tr>\n",
       "    <tr>\n",
       "      <td>3</td>\n",
       "      <td>0.417423</td>\n",
       "      <td>0.593117</td>\n",
       "      <td>0.167734</td>\n",
       "      <td>00:30</td>\n",
       "    </tr>\n",
       "    <tr>\n",
       "      <td>4</td>\n",
       "      <td>0.285637</td>\n",
       "      <td>0.519259</td>\n",
       "      <td>0.144677</td>\n",
       "      <td>00:30</td>\n",
       "    </tr>\n",
       "    <tr>\n",
       "      <td>5</td>\n",
       "      <td>0.209335</td>\n",
       "      <td>0.493887</td>\n",
       "      <td>0.131654</td>\n",
       "      <td>00:30</td>\n",
       "    </tr>\n",
       "    <tr>\n",
       "      <td>6</td>\n",
       "      <td>0.164062</td>\n",
       "      <td>0.452600</td>\n",
       "      <td>0.114503</td>\n",
       "      <td>00:30</td>\n",
       "    </tr>\n",
       "    <tr>\n",
       "      <td>7</td>\n",
       "      <td>0.132364</td>\n",
       "      <td>0.440516</td>\n",
       "      <td>0.108881</td>\n",
       "      <td>00:30</td>\n",
       "    </tr>\n",
       "    <tr>\n",
       "      <td>8</td>\n",
       "      <td>0.102388</td>\n",
       "      <td>0.444126</td>\n",
       "      <td>0.106746</td>\n",
       "      <td>00:30</td>\n",
       "    </tr>\n",
       "    <tr>\n",
       "      <td>9</td>\n",
       "      <td>0.083968</td>\n",
       "      <td>0.420908</td>\n",
       "      <td>0.099488</td>\n",
       "      <td>00:30</td>\n",
       "    </tr>\n",
       "    <tr>\n",
       "      <td>10</td>\n",
       "      <td>0.066876</td>\n",
       "      <td>0.427723</td>\n",
       "      <td>0.099772</td>\n",
       "      <td>00:30</td>\n",
       "    </tr>\n",
       "    <tr>\n",
       "      <td>11</td>\n",
       "      <td>0.057490</td>\n",
       "      <td>0.406205</td>\n",
       "      <td>0.092798</td>\n",
       "      <td>00:30</td>\n",
       "    </tr>\n",
       "    <tr>\n",
       "      <td>12</td>\n",
       "      <td>0.051315</td>\n",
       "      <td>0.402172</td>\n",
       "      <td>0.091944</td>\n",
       "      <td>00:30</td>\n",
       "    </tr>\n",
       "    <tr>\n",
       "      <td>13</td>\n",
       "      <td>0.044262</td>\n",
       "      <td>0.401121</td>\n",
       "      <td>0.090734</td>\n",
       "      <td>00:30</td>\n",
       "    </tr>\n",
       "    <tr>\n",
       "      <td>14</td>\n",
       "      <td>0.044607</td>\n",
       "      <td>0.400867</td>\n",
       "      <td>0.090734</td>\n",
       "      <td>00:30</td>\n",
       "    </tr>\n",
       "  </tbody>\n",
       "</table>"
      ],
      "text/plain": [
       "<IPython.core.display.HTML object>"
      ]
     },
     "metadata": {},
     "output_type": "display_data"
    },
    {
     "data": {
      "text/html": [
       "\n",
       "<style>\n",
       "    /* Turns off some styling */\n",
       "    progress {\n",
       "        /* gets rid of default border in Firefox and Opera. */\n",
       "        border: none;\n",
       "        /* Needs to be in here for Safari polyfill so background images work as expected. */\n",
       "        background-size: auto;\n",
       "    }\n",
       "    .progress-bar-interrupted, .progress-bar-interrupted::-webkit-progress-bar {\n",
       "        background: #F44336;\n",
       "    }\n",
       "</style>\n"
      ],
      "text/plain": [
       "<IPython.core.display.HTML object>"
      ]
     },
     "metadata": {},
     "output_type": "display_data"
    },
    {
     "data": {
      "text/html": [],
      "text/plain": [
       "<IPython.core.display.HTML object>"
      ]
     },
     "metadata": {},
     "output_type": "display_data"
    },
    {
     "data": {
      "text/html": [
       "\n",
       "<style>\n",
       "    /* Turns off some styling */\n",
       "    progress {\n",
       "        /* gets rid of default border in Firefox and Opera. */\n",
       "        border: none;\n",
       "        /* Needs to be in here for Safari polyfill so background images work as expected. */\n",
       "        background-size: auto;\n",
       "    }\n",
       "    .progress-bar-interrupted, .progress-bar-interrupted::-webkit-progress-bar {\n",
       "        background: #F44336;\n",
       "    }\n",
       "</style>\n"
      ],
      "text/plain": [
       "<IPython.core.display.HTML object>"
      ]
     },
     "metadata": {},
     "output_type": "display_data"
    },
    {
     "data": {
      "text/html": [
       "<table border=\"1\" class=\"dataframe\">\n",
       "  <thead>\n",
       "    <tr style=\"text-align: left;\">\n",
       "      <th>epoch</th>\n",
       "      <th>train_loss</th>\n",
       "      <th>valid_loss</th>\n",
       "      <th>error_rate</th>\n",
       "      <th>time</th>\n",
       "    </tr>\n",
       "  </thead>\n",
       "  <tbody>\n",
       "    <tr>\n",
       "      <td>0</td>\n",
       "      <td>4.013850</td>\n",
       "      <td>2.891332</td>\n",
       "      <td>0.692570</td>\n",
       "      <td>00:27</td>\n",
       "    </tr>\n",
       "  </tbody>\n",
       "</table>"
      ],
      "text/plain": [
       "<IPython.core.display.HTML object>"
      ]
     },
     "metadata": {},
     "output_type": "display_data"
    },
    {
     "data": {
      "text/html": [
       "\n",
       "<style>\n",
       "    /* Turns off some styling */\n",
       "    progress {\n",
       "        /* gets rid of default border in Firefox and Opera. */\n",
       "        border: none;\n",
       "        /* Needs to be in here for Safari polyfill so background images work as expected. */\n",
       "        background-size: auto;\n",
       "    }\n",
       "    .progress-bar-interrupted, .progress-bar-interrupted::-webkit-progress-bar {\n",
       "        background: #F44336;\n",
       "    }\n",
       "</style>\n"
      ],
      "text/plain": [
       "<IPython.core.display.HTML object>"
      ]
     },
     "metadata": {},
     "output_type": "display_data"
    },
    {
     "data": {
      "text/html": [
       "<table border=\"1\" class=\"dataframe\">\n",
       "  <thead>\n",
       "    <tr style=\"text-align: left;\">\n",
       "      <th>epoch</th>\n",
       "      <th>train_loss</th>\n",
       "      <th>valid_loss</th>\n",
       "      <th>error_rate</th>\n",
       "      <th>time</th>\n",
       "    </tr>\n",
       "  </thead>\n",
       "  <tbody>\n",
       "    <tr>\n",
       "      <td>0</td>\n",
       "      <td>2.161946</td>\n",
       "      <td>1.727563</td>\n",
       "      <td>0.470111</td>\n",
       "      <td>00:30</td>\n",
       "    </tr>\n",
       "    <tr>\n",
       "      <td>1</td>\n",
       "      <td>1.263239</td>\n",
       "      <td>1.105555</td>\n",
       "      <td>0.317820</td>\n",
       "      <td>00:30</td>\n",
       "    </tr>\n",
       "    <tr>\n",
       "      <td>2</td>\n",
       "      <td>0.690437</td>\n",
       "      <td>0.729722</td>\n",
       "      <td>0.213706</td>\n",
       "      <td>00:30</td>\n",
       "    </tr>\n",
       "    <tr>\n",
       "      <td>3</td>\n",
       "      <td>0.419920</td>\n",
       "      <td>0.593768</td>\n",
       "      <td>0.170581</td>\n",
       "      <td>00:30</td>\n",
       "    </tr>\n",
       "    <tr>\n",
       "      <td>4</td>\n",
       "      <td>0.289040</td>\n",
       "      <td>0.531240</td>\n",
       "      <td>0.143467</td>\n",
       "      <td>00:30</td>\n",
       "    </tr>\n",
       "    <tr>\n",
       "      <td>5</td>\n",
       "      <td>0.216019</td>\n",
       "      <td>0.486480</td>\n",
       "      <td>0.131512</td>\n",
       "      <td>00:30</td>\n",
       "    </tr>\n",
       "    <tr>\n",
       "      <td>6</td>\n",
       "      <td>0.169931</td>\n",
       "      <td>0.467658</td>\n",
       "      <td>0.120481</td>\n",
       "      <td>00:30</td>\n",
       "    </tr>\n",
       "    <tr>\n",
       "      <td>7</td>\n",
       "      <td>0.128956</td>\n",
       "      <td>0.441431</td>\n",
       "      <td>0.110732</td>\n",
       "      <td>00:30</td>\n",
       "    </tr>\n",
       "    <tr>\n",
       "      <td>8</td>\n",
       "      <td>0.104605</td>\n",
       "      <td>0.422012</td>\n",
       "      <td>0.105323</td>\n",
       "      <td>00:30</td>\n",
       "    </tr>\n",
       "    <tr>\n",
       "      <td>9</td>\n",
       "      <td>0.078624</td>\n",
       "      <td>0.419991</td>\n",
       "      <td>0.100982</td>\n",
       "      <td>00:30</td>\n",
       "    </tr>\n",
       "    <tr>\n",
       "      <td>10</td>\n",
       "      <td>0.069429</td>\n",
       "      <td>0.406912</td>\n",
       "      <td>0.096214</td>\n",
       "      <td>00:30</td>\n",
       "    </tr>\n",
       "    <tr>\n",
       "      <td>11</td>\n",
       "      <td>0.055002</td>\n",
       "      <td>0.401148</td>\n",
       "      <td>0.092941</td>\n",
       "      <td>00:30</td>\n",
       "    </tr>\n",
       "    <tr>\n",
       "      <td>12</td>\n",
       "      <td>0.049007</td>\n",
       "      <td>0.399171</td>\n",
       "      <td>0.092015</td>\n",
       "      <td>00:30</td>\n",
       "    </tr>\n",
       "    <tr>\n",
       "      <td>13</td>\n",
       "      <td>0.042851</td>\n",
       "      <td>0.394928</td>\n",
       "      <td>0.091090</td>\n",
       "      <td>00:30</td>\n",
       "    </tr>\n",
       "    <tr>\n",
       "      <td>14</td>\n",
       "      <td>0.044699</td>\n",
       "      <td>0.394157</td>\n",
       "      <td>0.090592</td>\n",
       "      <td>00:30</td>\n",
       "    </tr>\n",
       "  </tbody>\n",
       "</table>"
      ],
      "text/plain": [
       "<IPython.core.display.HTML object>"
      ]
     },
     "metadata": {},
     "output_type": "display_data"
    },
    {
     "data": {
      "text/html": [
       "\n",
       "<style>\n",
       "    /* Turns off some styling */\n",
       "    progress {\n",
       "        /* gets rid of default border in Firefox and Opera. */\n",
       "        border: none;\n",
       "        /* Needs to be in here for Safari polyfill so background images work as expected. */\n",
       "        background-size: auto;\n",
       "    }\n",
       "    .progress-bar-interrupted, .progress-bar-interrupted::-webkit-progress-bar {\n",
       "        background: #F44336;\n",
       "    }\n",
       "</style>\n"
      ],
      "text/plain": [
       "<IPython.core.display.HTML object>"
      ]
     },
     "metadata": {},
     "output_type": "display_data"
    },
    {
     "data": {
      "text/html": [],
      "text/plain": [
       "<IPython.core.display.HTML object>"
      ]
     },
     "metadata": {},
     "output_type": "display_data"
    },
    {
     "data": {
      "text/html": [
       "\n",
       "<style>\n",
       "    /* Turns off some styling */\n",
       "    progress {\n",
       "        /* gets rid of default border in Firefox and Opera. */\n",
       "        border: none;\n",
       "        /* Needs to be in here for Safari polyfill so background images work as expected. */\n",
       "        background-size: auto;\n",
       "    }\n",
       "    .progress-bar-interrupted, .progress-bar-interrupted::-webkit-progress-bar {\n",
       "        background: #F44336;\n",
       "    }\n",
       "</style>\n"
      ],
      "text/plain": [
       "<IPython.core.display.HTML object>"
      ]
     },
     "metadata": {},
     "output_type": "display_data"
    },
    {
     "data": {
      "text/html": [
       "<table border=\"1\" class=\"dataframe\">\n",
       "  <thead>\n",
       "    <tr style=\"text-align: left;\">\n",
       "      <th>epoch</th>\n",
       "      <th>train_loss</th>\n",
       "      <th>valid_loss</th>\n",
       "      <th>error_rate</th>\n",
       "      <th>time</th>\n",
       "    </tr>\n",
       "  </thead>\n",
       "  <tbody>\n",
       "    <tr>\n",
       "      <td>0</td>\n",
       "      <td>4.041440</td>\n",
       "      <td>2.921123</td>\n",
       "      <td>0.697979</td>\n",
       "      <td>00:28</td>\n",
       "    </tr>\n",
       "  </tbody>\n",
       "</table>"
      ],
      "text/plain": [
       "<IPython.core.display.HTML object>"
      ]
     },
     "metadata": {},
     "output_type": "display_data"
    },
    {
     "data": {
      "text/html": [
       "\n",
       "<style>\n",
       "    /* Turns off some styling */\n",
       "    progress {\n",
       "        /* gets rid of default border in Firefox and Opera. */\n",
       "        border: none;\n",
       "        /* Needs to be in here for Safari polyfill so background images work as expected. */\n",
       "        background-size: auto;\n",
       "    }\n",
       "    .progress-bar-interrupted, .progress-bar-interrupted::-webkit-progress-bar {\n",
       "        background: #F44336;\n",
       "    }\n",
       "</style>\n"
      ],
      "text/plain": [
       "<IPython.core.display.HTML object>"
      ]
     },
     "metadata": {},
     "output_type": "display_data"
    },
    {
     "data": {
      "text/html": [
       "<table border=\"1\" class=\"dataframe\">\n",
       "  <thead>\n",
       "    <tr style=\"text-align: left;\">\n",
       "      <th>epoch</th>\n",
       "      <th>train_loss</th>\n",
       "      <th>valid_loss</th>\n",
       "      <th>error_rate</th>\n",
       "      <th>time</th>\n",
       "    </tr>\n",
       "  </thead>\n",
       "  <tbody>\n",
       "    <tr>\n",
       "      <td>0</td>\n",
       "      <td>2.173030</td>\n",
       "      <td>1.739304</td>\n",
       "      <td>0.471677</td>\n",
       "      <td>00:30</td>\n",
       "    </tr>\n",
       "    <tr>\n",
       "      <td>1</td>\n",
       "      <td>1.266177</td>\n",
       "      <td>1.072158</td>\n",
       "      <td>0.304868</td>\n",
       "      <td>00:30</td>\n",
       "    </tr>\n",
       "    <tr>\n",
       "      <td>2</td>\n",
       "      <td>0.685776</td>\n",
       "      <td>0.721063</td>\n",
       "      <td>0.209721</td>\n",
       "      <td>00:30</td>\n",
       "    </tr>\n",
       "    <tr>\n",
       "      <td>3</td>\n",
       "      <td>0.426500</td>\n",
       "      <td>0.604173</td>\n",
       "      <td>0.172502</td>\n",
       "      <td>00:30</td>\n",
       "    </tr>\n",
       "    <tr>\n",
       "      <td>4</td>\n",
       "      <td>0.286026</td>\n",
       "      <td>0.526886</td>\n",
       "      <td>0.146741</td>\n",
       "      <td>00:30</td>\n",
       "    </tr>\n",
       "    <tr>\n",
       "      <td>5</td>\n",
       "      <td>0.211324</td>\n",
       "      <td>0.496977</td>\n",
       "      <td>0.131654</td>\n",
       "      <td>00:30</td>\n",
       "    </tr>\n",
       "    <tr>\n",
       "      <td>6</td>\n",
       "      <td>0.165576</td>\n",
       "      <td>0.468347</td>\n",
       "      <td>0.119698</td>\n",
       "      <td>00:30</td>\n",
       "    </tr>\n",
       "    <tr>\n",
       "      <td>7</td>\n",
       "      <td>0.128210</td>\n",
       "      <td>0.435987</td>\n",
       "      <td>0.108383</td>\n",
       "      <td>00:30</td>\n",
       "    </tr>\n",
       "    <tr>\n",
       "      <td>8</td>\n",
       "      <td>0.099685</td>\n",
       "      <td>0.440534</td>\n",
       "      <td>0.108383</td>\n",
       "      <td>00:30</td>\n",
       "    </tr>\n",
       "    <tr>\n",
       "      <td>9</td>\n",
       "      <td>0.080468</td>\n",
       "      <td>0.424125</td>\n",
       "      <td>0.100199</td>\n",
       "      <td>00:30</td>\n",
       "    </tr>\n",
       "    <tr>\n",
       "      <td>10</td>\n",
       "      <td>0.067377</td>\n",
       "      <td>0.413581</td>\n",
       "      <td>0.096499</td>\n",
       "      <td>00:31</td>\n",
       "    </tr>\n",
       "    <tr>\n",
       "      <td>11</td>\n",
       "      <td>0.057524</td>\n",
       "      <td>0.396758</td>\n",
       "      <td>0.091731</td>\n",
       "      <td>00:30</td>\n",
       "    </tr>\n",
       "    <tr>\n",
       "      <td>12</td>\n",
       "      <td>0.049439</td>\n",
       "      <td>0.397018</td>\n",
       "      <td>0.090877</td>\n",
       "      <td>00:30</td>\n",
       "    </tr>\n",
       "    <tr>\n",
       "      <td>13</td>\n",
       "      <td>0.044141</td>\n",
       "      <td>0.395701</td>\n",
       "      <td>0.090307</td>\n",
       "      <td>00:30</td>\n",
       "    </tr>\n",
       "    <tr>\n",
       "      <td>14</td>\n",
       "      <td>0.042999</td>\n",
       "      <td>0.392556</td>\n",
       "      <td>0.089667</td>\n",
       "      <td>00:30</td>\n",
       "    </tr>\n",
       "  </tbody>\n",
       "</table>"
      ],
      "text/plain": [
       "<IPython.core.display.HTML object>"
      ]
     },
     "metadata": {},
     "output_type": "display_data"
    },
    {
     "data": {
      "text/html": [
       "\n",
       "<style>\n",
       "    /* Turns off some styling */\n",
       "    progress {\n",
       "        /* gets rid of default border in Firefox and Opera. */\n",
       "        border: none;\n",
       "        /* Needs to be in here for Safari polyfill so background images work as expected. */\n",
       "        background-size: auto;\n",
       "    }\n",
       "    .progress-bar-interrupted, .progress-bar-interrupted::-webkit-progress-bar {\n",
       "        background: #F44336;\n",
       "    }\n",
       "</style>\n"
      ],
      "text/plain": [
       "<IPython.core.display.HTML object>"
      ]
     },
     "metadata": {},
     "output_type": "display_data"
    },
    {
     "data": {
      "text/html": [],
      "text/plain": [
       "<IPython.core.display.HTML object>"
      ]
     },
     "metadata": {},
     "output_type": "display_data"
    },
    {
     "data": {
      "text/html": [
       "\n",
       "<style>\n",
       "    /* Turns off some styling */\n",
       "    progress {\n",
       "        /* gets rid of default border in Firefox and Opera. */\n",
       "        border: none;\n",
       "        /* Needs to be in here for Safari polyfill so background images work as expected. */\n",
       "        background-size: auto;\n",
       "    }\n",
       "    .progress-bar-interrupted, .progress-bar-interrupted::-webkit-progress-bar {\n",
       "        background: #F44336;\n",
       "    }\n",
       "</style>\n"
      ],
      "text/plain": [
       "<IPython.core.display.HTML object>"
      ]
     },
     "metadata": {},
     "output_type": "display_data"
    },
    {
     "data": {
      "text/html": [
       "<table border=\"1\" class=\"dataframe\">\n",
       "  <thead>\n",
       "    <tr style=\"text-align: left;\">\n",
       "      <th>epoch</th>\n",
       "      <th>train_loss</th>\n",
       "      <th>valid_loss</th>\n",
       "      <th>error_rate</th>\n",
       "      <th>time</th>\n",
       "    </tr>\n",
       "  </thead>\n",
       "  <tbody>\n",
       "    <tr>\n",
       "      <td>0</td>\n",
       "      <td>4.047736</td>\n",
       "      <td>2.925004</td>\n",
       "      <td>0.696983</td>\n",
       "      <td>00:28</td>\n",
       "    </tr>\n",
       "  </tbody>\n",
       "</table>"
      ],
      "text/plain": [
       "<IPython.core.display.HTML object>"
      ]
     },
     "metadata": {},
     "output_type": "display_data"
    },
    {
     "data": {
      "text/html": [
       "\n",
       "<style>\n",
       "    /* Turns off some styling */\n",
       "    progress {\n",
       "        /* gets rid of default border in Firefox and Opera. */\n",
       "        border: none;\n",
       "        /* Needs to be in here for Safari polyfill so background images work as expected. */\n",
       "        background-size: auto;\n",
       "    }\n",
       "    .progress-bar-interrupted, .progress-bar-interrupted::-webkit-progress-bar {\n",
       "        background: #F44336;\n",
       "    }\n",
       "</style>\n"
      ],
      "text/plain": [
       "<IPython.core.display.HTML object>"
      ]
     },
     "metadata": {},
     "output_type": "display_data"
    },
    {
     "data": {
      "text/html": [
       "<table border=\"1\" class=\"dataframe\">\n",
       "  <thead>\n",
       "    <tr style=\"text-align: left;\">\n",
       "      <th>epoch</th>\n",
       "      <th>train_loss</th>\n",
       "      <th>valid_loss</th>\n",
       "      <th>error_rate</th>\n",
       "      <th>time</th>\n",
       "    </tr>\n",
       "  </thead>\n",
       "  <tbody>\n",
       "    <tr>\n",
       "      <td>0</td>\n",
       "      <td>2.175551</td>\n",
       "      <td>1.751111</td>\n",
       "      <td>0.480216</td>\n",
       "      <td>00:30</td>\n",
       "    </tr>\n",
       "    <tr>\n",
       "      <td>1</td>\n",
       "      <td>1.268934</td>\n",
       "      <td>1.078504</td>\n",
       "      <td>0.309778</td>\n",
       "      <td>00:30</td>\n",
       "    </tr>\n",
       "    <tr>\n",
       "      <td>2</td>\n",
       "      <td>0.690338</td>\n",
       "      <td>0.720470</td>\n",
       "      <td>0.206803</td>\n",
       "      <td>00:30</td>\n",
       "    </tr>\n",
       "    <tr>\n",
       "      <td>3</td>\n",
       "      <td>0.414596</td>\n",
       "      <td>0.596429</td>\n",
       "      <td>0.169442</td>\n",
       "      <td>00:30</td>\n",
       "    </tr>\n",
       "    <tr>\n",
       "      <td>4</td>\n",
       "      <td>0.288227</td>\n",
       "      <td>0.517627</td>\n",
       "      <td>0.141688</td>\n",
       "      <td>00:30</td>\n",
       "    </tr>\n",
       "    <tr>\n",
       "      <td>5</td>\n",
       "      <td>0.205325</td>\n",
       "      <td>0.492696</td>\n",
       "      <td>0.133646</td>\n",
       "      <td>00:30</td>\n",
       "    </tr>\n",
       "    <tr>\n",
       "      <td>6</td>\n",
       "      <td>0.164171</td>\n",
       "      <td>0.483271</td>\n",
       "      <td>0.126672</td>\n",
       "      <td>00:30</td>\n",
       "    </tr>\n",
       "    <tr>\n",
       "      <td>7</td>\n",
       "      <td>0.127316</td>\n",
       "      <td>0.450383</td>\n",
       "      <td>0.114503</td>\n",
       "      <td>00:30</td>\n",
       "    </tr>\n",
       "    <tr>\n",
       "      <td>8</td>\n",
       "      <td>0.100368</td>\n",
       "      <td>0.440050</td>\n",
       "      <td>0.107743</td>\n",
       "      <td>00:30</td>\n",
       "    </tr>\n",
       "    <tr>\n",
       "      <td>9</td>\n",
       "      <td>0.080410</td>\n",
       "      <td>0.426141</td>\n",
       "      <td>0.105038</td>\n",
       "      <td>00:30</td>\n",
       "    </tr>\n",
       "    <tr>\n",
       "      <td>10</td>\n",
       "      <td>0.066583</td>\n",
       "      <td>0.411376</td>\n",
       "      <td>0.097139</td>\n",
       "      <td>00:30</td>\n",
       "    </tr>\n",
       "    <tr>\n",
       "      <td>11</td>\n",
       "      <td>0.054195</td>\n",
       "      <td>0.411561</td>\n",
       "      <td>0.095004</td>\n",
       "      <td>00:30</td>\n",
       "    </tr>\n",
       "    <tr>\n",
       "      <td>12</td>\n",
       "      <td>0.049073</td>\n",
       "      <td>0.406025</td>\n",
       "      <td>0.093225</td>\n",
       "      <td>00:30</td>\n",
       "    </tr>\n",
       "    <tr>\n",
       "      <td>13</td>\n",
       "      <td>0.042695</td>\n",
       "      <td>0.403228</td>\n",
       "      <td>0.091588</td>\n",
       "      <td>00:30</td>\n",
       "    </tr>\n",
       "    <tr>\n",
       "      <td>14</td>\n",
       "      <td>0.042506</td>\n",
       "      <td>0.402378</td>\n",
       "      <td>0.090877</td>\n",
       "      <td>00:30</td>\n",
       "    </tr>\n",
       "  </tbody>\n",
       "</table>"
      ],
      "text/plain": [
       "<IPython.core.display.HTML object>"
      ]
     },
     "metadata": {},
     "output_type": "display_data"
    },
    {
     "data": {
      "text/html": [
       "\n",
       "<style>\n",
       "    /* Turns off some styling */\n",
       "    progress {\n",
       "        /* gets rid of default border in Firefox and Opera. */\n",
       "        border: none;\n",
       "        /* Needs to be in here for Safari polyfill so background images work as expected. */\n",
       "        background-size: auto;\n",
       "    }\n",
       "    .progress-bar-interrupted, .progress-bar-interrupted::-webkit-progress-bar {\n",
       "        background: #F44336;\n",
       "    }\n",
       "</style>\n"
      ],
      "text/plain": [
       "<IPython.core.display.HTML object>"
      ]
     },
     "metadata": {},
     "output_type": "display_data"
    },
    {
     "data": {
      "text/html": [],
      "text/plain": [
       "<IPython.core.display.HTML object>"
      ]
     },
     "metadata": {},
     "output_type": "display_data"
    },
    {
     "data": {
      "text/html": [
       "\n",
       "<style>\n",
       "    /* Turns off some styling */\n",
       "    progress {\n",
       "        /* gets rid of default border in Firefox and Opera. */\n",
       "        border: none;\n",
       "        /* Needs to be in here for Safari polyfill so background images work as expected. */\n",
       "        background-size: auto;\n",
       "    }\n",
       "    .progress-bar-interrupted, .progress-bar-interrupted::-webkit-progress-bar {\n",
       "        background: #F44336;\n",
       "    }\n",
       "</style>\n"
      ],
      "text/plain": [
       "<IPython.core.display.HTML object>"
      ]
     },
     "metadata": {},
     "output_type": "display_data"
    },
    {
     "data": {
      "text/html": [
       "<table border=\"1\" class=\"dataframe\">\n",
       "  <thead>\n",
       "    <tr style=\"text-align: left;\">\n",
       "      <th>epoch</th>\n",
       "      <th>train_loss</th>\n",
       "      <th>valid_loss</th>\n",
       "      <th>error_rate</th>\n",
       "      <th>time</th>\n",
       "    </tr>\n",
       "  </thead>\n",
       "  <tbody>\n",
       "    <tr>\n",
       "      <td>0</td>\n",
       "      <td>4.020652</td>\n",
       "      <td>2.914029</td>\n",
       "      <td>0.693353</td>\n",
       "      <td>00:28</td>\n",
       "    </tr>\n",
       "  </tbody>\n",
       "</table>"
      ],
      "text/plain": [
       "<IPython.core.display.HTML object>"
      ]
     },
     "metadata": {},
     "output_type": "display_data"
    },
    {
     "data": {
      "text/html": [
       "\n",
       "<style>\n",
       "    /* Turns off some styling */\n",
       "    progress {\n",
       "        /* gets rid of default border in Firefox and Opera. */\n",
       "        border: none;\n",
       "        /* Needs to be in here for Safari polyfill so background images work as expected. */\n",
       "        background-size: auto;\n",
       "    }\n",
       "    .progress-bar-interrupted, .progress-bar-interrupted::-webkit-progress-bar {\n",
       "        background: #F44336;\n",
       "    }\n",
       "</style>\n"
      ],
      "text/plain": [
       "<IPython.core.display.HTML object>"
      ]
     },
     "metadata": {},
     "output_type": "display_data"
    },
    {
     "data": {
      "text/html": [
       "<table border=\"1\" class=\"dataframe\">\n",
       "  <thead>\n",
       "    <tr style=\"text-align: left;\">\n",
       "      <th>epoch</th>\n",
       "      <th>train_loss</th>\n",
       "      <th>valid_loss</th>\n",
       "      <th>error_rate</th>\n",
       "      <th>time</th>\n",
       "    </tr>\n",
       "  </thead>\n",
       "  <tbody>\n",
       "    <tr>\n",
       "      <td>0</td>\n",
       "      <td>2.167609</td>\n",
       "      <td>1.755682</td>\n",
       "      <td>0.481924</td>\n",
       "      <td>00:30</td>\n",
       "    </tr>\n",
       "    <tr>\n",
       "      <td>1</td>\n",
       "      <td>1.264276</td>\n",
       "      <td>1.084578</td>\n",
       "      <td>0.312696</td>\n",
       "      <td>00:30</td>\n",
       "    </tr>\n",
       "    <tr>\n",
       "      <td>2</td>\n",
       "      <td>0.688059</td>\n",
       "      <td>0.739145</td>\n",
       "      <td>0.209792</td>\n",
       "      <td>00:30</td>\n",
       "    </tr>\n",
       "    <tr>\n",
       "      <td>3</td>\n",
       "      <td>0.416118</td>\n",
       "      <td>0.594996</td>\n",
       "      <td>0.170510</td>\n",
       "      <td>00:30</td>\n",
       "    </tr>\n",
       "    <tr>\n",
       "      <td>4</td>\n",
       "      <td>0.285250</td>\n",
       "      <td>0.536179</td>\n",
       "      <td>0.145033</td>\n",
       "      <td>00:30</td>\n",
       "    </tr>\n",
       "    <tr>\n",
       "      <td>5</td>\n",
       "      <td>0.212576</td>\n",
       "      <td>0.481937</td>\n",
       "      <td>0.129305</td>\n",
       "      <td>00:30</td>\n",
       "    </tr>\n",
       "    <tr>\n",
       "      <td>6</td>\n",
       "      <td>0.160999</td>\n",
       "      <td>0.466217</td>\n",
       "      <td>0.123897</td>\n",
       "      <td>00:30</td>\n",
       "    </tr>\n",
       "    <tr>\n",
       "      <td>7</td>\n",
       "      <td>0.127502</td>\n",
       "      <td>0.446273</td>\n",
       "      <td>0.111728</td>\n",
       "      <td>00:30</td>\n",
       "    </tr>\n",
       "    <tr>\n",
       "      <td>8</td>\n",
       "      <td>0.102363</td>\n",
       "      <td>0.426763</td>\n",
       "      <td>0.101978</td>\n",
       "      <td>00:30</td>\n",
       "    </tr>\n",
       "    <tr>\n",
       "      <td>9</td>\n",
       "      <td>0.081999</td>\n",
       "      <td>0.423094</td>\n",
       "      <td>0.101480</td>\n",
       "      <td>00:30</td>\n",
       "    </tr>\n",
       "    <tr>\n",
       "      <td>10</td>\n",
       "      <td>0.067569</td>\n",
       "      <td>0.411012</td>\n",
       "      <td>0.094364</td>\n",
       "      <td>00:30</td>\n",
       "    </tr>\n",
       "    <tr>\n",
       "      <td>11</td>\n",
       "      <td>0.053428</td>\n",
       "      <td>0.398037</td>\n",
       "      <td>0.089667</td>\n",
       "      <td>00:30</td>\n",
       "    </tr>\n",
       "    <tr>\n",
       "      <td>12</td>\n",
       "      <td>0.046694</td>\n",
       "      <td>0.400910</td>\n",
       "      <td>0.091090</td>\n",
       "      <td>00:30</td>\n",
       "    </tr>\n",
       "    <tr>\n",
       "      <td>13</td>\n",
       "      <td>0.043067</td>\n",
       "      <td>0.394380</td>\n",
       "      <td>0.087746</td>\n",
       "      <td>00:31</td>\n",
       "    </tr>\n",
       "    <tr>\n",
       "      <td>14</td>\n",
       "      <td>0.041580</td>\n",
       "      <td>0.393970</td>\n",
       "      <td>0.087746</td>\n",
       "      <td>00:30</td>\n",
       "    </tr>\n",
       "  </tbody>\n",
       "</table>"
      ],
      "text/plain": [
       "<IPython.core.display.HTML object>"
      ]
     },
     "metadata": {},
     "output_type": "display_data"
    },
    {
     "data": {
      "text/html": [
       "\n",
       "<style>\n",
       "    /* Turns off some styling */\n",
       "    progress {\n",
       "        /* gets rid of default border in Firefox and Opera. */\n",
       "        border: none;\n",
       "        /* Needs to be in here for Safari polyfill so background images work as expected. */\n",
       "        background-size: auto;\n",
       "    }\n",
       "    .progress-bar-interrupted, .progress-bar-interrupted::-webkit-progress-bar {\n",
       "        background: #F44336;\n",
       "    }\n",
       "</style>\n"
      ],
      "text/plain": [
       "<IPython.core.display.HTML object>"
      ]
     },
     "metadata": {},
     "output_type": "display_data"
    },
    {
     "data": {
      "text/html": [],
      "text/plain": [
       "<IPython.core.display.HTML object>"
      ]
     },
     "metadata": {},
     "output_type": "display_data"
    },
    {
     "data": {
      "text/html": [
       "\n",
       "<style>\n",
       "    /* Turns off some styling */\n",
       "    progress {\n",
       "        /* gets rid of default border in Firefox and Opera. */\n",
       "        border: none;\n",
       "        /* Needs to be in here for Safari polyfill so background images work as expected. */\n",
       "        background-size: auto;\n",
       "    }\n",
       "    .progress-bar-interrupted, .progress-bar-interrupted::-webkit-progress-bar {\n",
       "        background: #F44336;\n",
       "    }\n",
       "</style>\n"
      ],
      "text/plain": [
       "<IPython.core.display.HTML object>"
      ]
     },
     "metadata": {},
     "output_type": "display_data"
    },
    {
     "data": {
      "text/html": [
       "<table border=\"1\" class=\"dataframe\">\n",
       "  <thead>\n",
       "    <tr style=\"text-align: left;\">\n",
       "      <th>epoch</th>\n",
       "      <th>train_loss</th>\n",
       "      <th>valid_loss</th>\n",
       "      <th>error_rate</th>\n",
       "      <th>time</th>\n",
       "    </tr>\n",
       "  </thead>\n",
       "  <tbody>\n",
       "    <tr>\n",
       "      <td>0</td>\n",
       "      <td>4.040296</td>\n",
       "      <td>2.938397</td>\n",
       "      <td>0.699189</td>\n",
       "      <td>00:28</td>\n",
       "    </tr>\n",
       "  </tbody>\n",
       "</table>"
      ],
      "text/plain": [
       "<IPython.core.display.HTML object>"
      ]
     },
     "metadata": {},
     "output_type": "display_data"
    },
    {
     "data": {
      "text/html": [
       "\n",
       "<style>\n",
       "    /* Turns off some styling */\n",
       "    progress {\n",
       "        /* gets rid of default border in Firefox and Opera. */\n",
       "        border: none;\n",
       "        /* Needs to be in here for Safari polyfill so background images work as expected. */\n",
       "        background-size: auto;\n",
       "    }\n",
       "    .progress-bar-interrupted, .progress-bar-interrupted::-webkit-progress-bar {\n",
       "        background: #F44336;\n",
       "    }\n",
       "</style>\n"
      ],
      "text/plain": [
       "<IPython.core.display.HTML object>"
      ]
     },
     "metadata": {},
     "output_type": "display_data"
    },
    {
     "data": {
      "text/html": [
       "<table border=\"1\" class=\"dataframe\">\n",
       "  <thead>\n",
       "    <tr style=\"text-align: left;\">\n",
       "      <th>epoch</th>\n",
       "      <th>train_loss</th>\n",
       "      <th>valid_loss</th>\n",
       "      <th>error_rate</th>\n",
       "      <th>time</th>\n",
       "    </tr>\n",
       "  </thead>\n",
       "  <tbody>\n",
       "    <tr>\n",
       "      <td>0</td>\n",
       "      <td>2.165741</td>\n",
       "      <td>1.755281</td>\n",
       "      <td>0.482138</td>\n",
       "      <td>00:30</td>\n",
       "    </tr>\n",
       "    <tr>\n",
       "      <td>1</td>\n",
       "      <td>1.268268</td>\n",
       "      <td>1.062963</td>\n",
       "      <td>0.304654</td>\n",
       "      <td>00:30</td>\n",
       "    </tr>\n",
       "    <tr>\n",
       "      <td>2</td>\n",
       "      <td>0.694743</td>\n",
       "      <td>0.741650</td>\n",
       "      <td>0.218190</td>\n",
       "      <td>00:30</td>\n",
       "    </tr>\n",
       "    <tr>\n",
       "      <td>3</td>\n",
       "      <td>0.421913</td>\n",
       "      <td>0.595890</td>\n",
       "      <td>0.167663</td>\n",
       "      <td>00:30</td>\n",
       "    </tr>\n",
       "    <tr>\n",
       "      <td>4</td>\n",
       "      <td>0.287137</td>\n",
       "      <td>0.506853</td>\n",
       "      <td>0.138557</td>\n",
       "      <td>00:30</td>\n",
       "    </tr>\n",
       "    <tr>\n",
       "      <td>5</td>\n",
       "      <td>0.203954</td>\n",
       "      <td>0.473561</td>\n",
       "      <td>0.124822</td>\n",
       "      <td>00:30</td>\n",
       "    </tr>\n",
       "    <tr>\n",
       "      <td>6</td>\n",
       "      <td>0.162208</td>\n",
       "      <td>0.464318</td>\n",
       "      <td>0.120695</td>\n",
       "      <td>00:30</td>\n",
       "    </tr>\n",
       "    <tr>\n",
       "      <td>7</td>\n",
       "      <td>0.121939</td>\n",
       "      <td>0.419776</td>\n",
       "      <td>0.104683</td>\n",
       "      <td>00:30</td>\n",
       "    </tr>\n",
       "    <tr>\n",
       "      <td>8</td>\n",
       "      <td>0.098372</td>\n",
       "      <td>0.419982</td>\n",
       "      <td>0.105181</td>\n",
       "      <td>00:30</td>\n",
       "    </tr>\n",
       "    <tr>\n",
       "      <td>9</td>\n",
       "      <td>0.077334</td>\n",
       "      <td>0.407215</td>\n",
       "      <td>0.097637</td>\n",
       "      <td>00:30</td>\n",
       "    </tr>\n",
       "    <tr>\n",
       "      <td>10</td>\n",
       "      <td>0.065895</td>\n",
       "      <td>0.414289</td>\n",
       "      <td>0.097566</td>\n",
       "      <td>00:30</td>\n",
       "    </tr>\n",
       "    <tr>\n",
       "      <td>11</td>\n",
       "      <td>0.054338</td>\n",
       "      <td>0.400330</td>\n",
       "      <td>0.092869</td>\n",
       "      <td>00:30</td>\n",
       "    </tr>\n",
       "    <tr>\n",
       "      <td>12</td>\n",
       "      <td>0.048082</td>\n",
       "      <td>0.397579</td>\n",
       "      <td>0.091517</td>\n",
       "      <td>00:30</td>\n",
       "    </tr>\n",
       "    <tr>\n",
       "      <td>13</td>\n",
       "      <td>0.043392</td>\n",
       "      <td>0.391452</td>\n",
       "      <td>0.089809</td>\n",
       "      <td>00:30</td>\n",
       "    </tr>\n",
       "    <tr>\n",
       "      <td>14</td>\n",
       "      <td>0.041095</td>\n",
       "      <td>0.390407</td>\n",
       "      <td>0.089596</td>\n",
       "      <td>00:30</td>\n",
       "    </tr>\n",
       "  </tbody>\n",
       "</table>"
      ],
      "text/plain": [
       "<IPython.core.display.HTML object>"
      ]
     },
     "metadata": {},
     "output_type": "display_data"
    },
    {
     "data": {
      "text/html": [
       "\n",
       "<style>\n",
       "    /* Turns off some styling */\n",
       "    progress {\n",
       "        /* gets rid of default border in Firefox and Opera. */\n",
       "        border: none;\n",
       "        /* Needs to be in here for Safari polyfill so background images work as expected. */\n",
       "        background-size: auto;\n",
       "    }\n",
       "    .progress-bar-interrupted, .progress-bar-interrupted::-webkit-progress-bar {\n",
       "        background: #F44336;\n",
       "    }\n",
       "</style>\n"
      ],
      "text/plain": [
       "<IPython.core.display.HTML object>"
      ]
     },
     "metadata": {},
     "output_type": "display_data"
    },
    {
     "data": {
      "text/html": [],
      "text/plain": [
       "<IPython.core.display.HTML object>"
      ]
     },
     "metadata": {},
     "output_type": "display_data"
    },
    {
     "data": {
      "text/html": [
       "\n",
       "<style>\n",
       "    /* Turns off some styling */\n",
       "    progress {\n",
       "        /* gets rid of default border in Firefox and Opera. */\n",
       "        border: none;\n",
       "        /* Needs to be in here for Safari polyfill so background images work as expected. */\n",
       "        background-size: auto;\n",
       "    }\n",
       "    .progress-bar-interrupted, .progress-bar-interrupted::-webkit-progress-bar {\n",
       "        background: #F44336;\n",
       "    }\n",
       "</style>\n"
      ],
      "text/plain": [
       "<IPython.core.display.HTML object>"
      ]
     },
     "metadata": {},
     "output_type": "display_data"
    },
    {
     "data": {
      "text/html": [
       "<table border=\"1\" class=\"dataframe\">\n",
       "  <thead>\n",
       "    <tr style=\"text-align: left;\">\n",
       "      <th>epoch</th>\n",
       "      <th>train_loss</th>\n",
       "      <th>valid_loss</th>\n",
       "      <th>error_rate</th>\n",
       "      <th>time</th>\n",
       "    </tr>\n",
       "  </thead>\n",
       "  <tbody>\n",
       "    <tr>\n",
       "      <td>0</td>\n",
       "      <td>4.062858</td>\n",
       "      <td>2.932141</td>\n",
       "      <td>0.697837</td>\n",
       "      <td>00:28</td>\n",
       "    </tr>\n",
       "  </tbody>\n",
       "</table>"
      ],
      "text/plain": [
       "<IPython.core.display.HTML object>"
      ]
     },
     "metadata": {},
     "output_type": "display_data"
    },
    {
     "data": {
      "text/html": [
       "\n",
       "<style>\n",
       "    /* Turns off some styling */\n",
       "    progress {\n",
       "        /* gets rid of default border in Firefox and Opera. */\n",
       "        border: none;\n",
       "        /* Needs to be in here for Safari polyfill so background images work as expected. */\n",
       "        background-size: auto;\n",
       "    }\n",
       "    .progress-bar-interrupted, .progress-bar-interrupted::-webkit-progress-bar {\n",
       "        background: #F44336;\n",
       "    }\n",
       "</style>\n"
      ],
      "text/plain": [
       "<IPython.core.display.HTML object>"
      ]
     },
     "metadata": {},
     "output_type": "display_data"
    },
    {
     "data": {
      "text/html": [
       "<table border=\"1\" class=\"dataframe\">\n",
       "  <thead>\n",
       "    <tr style=\"text-align: left;\">\n",
       "      <th>epoch</th>\n",
       "      <th>train_loss</th>\n",
       "      <th>valid_loss</th>\n",
       "      <th>error_rate</th>\n",
       "      <th>time</th>\n",
       "    </tr>\n",
       "  </thead>\n",
       "  <tbody>\n",
       "    <tr>\n",
       "      <td>0</td>\n",
       "      <td>2.182522</td>\n",
       "      <td>1.787393</td>\n",
       "      <td>0.483775</td>\n",
       "      <td>00:30</td>\n",
       "    </tr>\n",
       "    <tr>\n",
       "      <td>1</td>\n",
       "      <td>1.274847</td>\n",
       "      <td>1.099142</td>\n",
       "      <td>0.316396</td>\n",
       "      <td>00:30</td>\n",
       "    </tr>\n",
       "    <tr>\n",
       "      <td>2</td>\n",
       "      <td>0.694252</td>\n",
       "      <td>0.735776</td>\n",
       "      <td>0.211500</td>\n",
       "      <td>00:31</td>\n",
       "    </tr>\n",
       "    <tr>\n",
       "      <td>3</td>\n",
       "      <td>0.413728</td>\n",
       "      <td>0.603494</td>\n",
       "      <td>0.172502</td>\n",
       "      <td>00:30</td>\n",
       "    </tr>\n",
       "    <tr>\n",
       "      <td>4</td>\n",
       "      <td>0.283305</td>\n",
       "      <td>0.525414</td>\n",
       "      <td>0.143965</td>\n",
       "      <td>00:30</td>\n",
       "    </tr>\n",
       "    <tr>\n",
       "      <td>5</td>\n",
       "      <td>0.207747</td>\n",
       "      <td>0.485248</td>\n",
       "      <td>0.127455</td>\n",
       "      <td>00:31</td>\n",
       "    </tr>\n",
       "    <tr>\n",
       "      <td>6</td>\n",
       "      <td>0.158645</td>\n",
       "      <td>0.457504</td>\n",
       "      <td>0.115784</td>\n",
       "      <td>00:31</td>\n",
       "    </tr>\n",
       "    <tr>\n",
       "      <td>7</td>\n",
       "      <td>0.124473</td>\n",
       "      <td>0.440909</td>\n",
       "      <td>0.111159</td>\n",
       "      <td>00:31</td>\n",
       "    </tr>\n",
       "    <tr>\n",
       "      <td>8</td>\n",
       "      <td>0.100736</td>\n",
       "      <td>0.430800</td>\n",
       "      <td>0.106106</td>\n",
       "      <td>00:31</td>\n",
       "    </tr>\n",
       "    <tr>\n",
       "      <td>9</td>\n",
       "      <td>0.079281</td>\n",
       "      <td>0.412603</td>\n",
       "      <td>0.099772</td>\n",
       "      <td>00:31</td>\n",
       "    </tr>\n",
       "    <tr>\n",
       "      <td>10</td>\n",
       "      <td>0.065961</td>\n",
       "      <td>0.408982</td>\n",
       "      <td>0.097851</td>\n",
       "      <td>00:31</td>\n",
       "    </tr>\n",
       "    <tr>\n",
       "      <td>11</td>\n",
       "      <td>0.056006</td>\n",
       "      <td>0.400837</td>\n",
       "      <td>0.092514</td>\n",
       "      <td>00:31</td>\n",
       "    </tr>\n",
       "    <tr>\n",
       "      <td>12</td>\n",
       "      <td>0.044505</td>\n",
       "      <td>0.393853</td>\n",
       "      <td>0.088457</td>\n",
       "      <td>00:30</td>\n",
       "    </tr>\n",
       "    <tr>\n",
       "      <td>13</td>\n",
       "      <td>0.046054</td>\n",
       "      <td>0.390545</td>\n",
       "      <td>0.088244</td>\n",
       "      <td>00:30</td>\n",
       "    </tr>\n",
       "    <tr>\n",
       "      <td>14</td>\n",
       "      <td>0.041977</td>\n",
       "      <td>0.390324</td>\n",
       "      <td>0.089382</td>\n",
       "      <td>00:31</td>\n",
       "    </tr>\n",
       "  </tbody>\n",
       "</table>"
      ],
      "text/plain": [
       "<IPython.core.display.HTML object>"
      ]
     },
     "metadata": {},
     "output_type": "display_data"
    },
    {
     "data": {
      "text/html": [
       "\n",
       "<style>\n",
       "    /* Turns off some styling */\n",
       "    progress {\n",
       "        /* gets rid of default border in Firefox and Opera. */\n",
       "        border: none;\n",
       "        /* Needs to be in here for Safari polyfill so background images work as expected. */\n",
       "        background-size: auto;\n",
       "    }\n",
       "    .progress-bar-interrupted, .progress-bar-interrupted::-webkit-progress-bar {\n",
       "        background: #F44336;\n",
       "    }\n",
       "</style>\n"
      ],
      "text/plain": [
       "<IPython.core.display.HTML object>"
      ]
     },
     "metadata": {},
     "output_type": "display_data"
    },
    {
     "data": {
      "text/html": [],
      "text/plain": [
       "<IPython.core.display.HTML object>"
      ]
     },
     "metadata": {},
     "output_type": "display_data"
    },
    {
     "data": {
      "text/html": [
       "\n",
       "<style>\n",
       "    /* Turns off some styling */\n",
       "    progress {\n",
       "        /* gets rid of default border in Firefox and Opera. */\n",
       "        border: none;\n",
       "        /* Needs to be in here for Safari polyfill so background images work as expected. */\n",
       "        background-size: auto;\n",
       "    }\n",
       "    .progress-bar-interrupted, .progress-bar-interrupted::-webkit-progress-bar {\n",
       "        background: #F44336;\n",
       "    }\n",
       "</style>\n"
      ],
      "text/plain": [
       "<IPython.core.display.HTML object>"
      ]
     },
     "metadata": {},
     "output_type": "display_data"
    },
    {
     "data": {
      "text/html": [
       "<table border=\"1\" class=\"dataframe\">\n",
       "  <thead>\n",
       "    <tr style=\"text-align: left;\">\n",
       "      <th>epoch</th>\n",
       "      <th>train_loss</th>\n",
       "      <th>valid_loss</th>\n",
       "      <th>error_rate</th>\n",
       "      <th>time</th>\n",
       "    </tr>\n",
       "  </thead>\n",
       "  <tbody>\n",
       "    <tr>\n",
       "      <td>0</td>\n",
       "      <td>4.052770</td>\n",
       "      <td>2.940460</td>\n",
       "      <td>0.698691</td>\n",
       "      <td>00:29</td>\n",
       "    </tr>\n",
       "  </tbody>\n",
       "</table>"
      ],
      "text/plain": [
       "<IPython.core.display.HTML object>"
      ]
     },
     "metadata": {},
     "output_type": "display_data"
    },
    {
     "data": {
      "text/html": [
       "\n",
       "<style>\n",
       "    /* Turns off some styling */\n",
       "    progress {\n",
       "        /* gets rid of default border in Firefox and Opera. */\n",
       "        border: none;\n",
       "        /* Needs to be in here for Safari polyfill so background images work as expected. */\n",
       "        background-size: auto;\n",
       "    }\n",
       "    .progress-bar-interrupted, .progress-bar-interrupted::-webkit-progress-bar {\n",
       "        background: #F44336;\n",
       "    }\n",
       "</style>\n"
      ],
      "text/plain": [
       "<IPython.core.display.HTML object>"
      ]
     },
     "metadata": {},
     "output_type": "display_data"
    },
    {
     "data": {
      "text/html": [
       "<table border=\"1\" class=\"dataframe\">\n",
       "  <thead>\n",
       "    <tr style=\"text-align: left;\">\n",
       "      <th>epoch</th>\n",
       "      <th>train_loss</th>\n",
       "      <th>valid_loss</th>\n",
       "      <th>error_rate</th>\n",
       "      <th>time</th>\n",
       "    </tr>\n",
       "  </thead>\n",
       "  <tbody>\n",
       "    <tr>\n",
       "      <td>0</td>\n",
       "      <td>2.196836</td>\n",
       "      <td>1.778918</td>\n",
       "      <td>0.482921</td>\n",
       "      <td>00:31</td>\n",
       "    </tr>\n",
       "    <tr>\n",
       "      <td>1</td>\n",
       "      <td>1.289950</td>\n",
       "      <td>1.113410</td>\n",
       "      <td>0.320310</td>\n",
       "      <td>00:31</td>\n",
       "    </tr>\n",
       "    <tr>\n",
       "      <td>2</td>\n",
       "      <td>0.699803</td>\n",
       "      <td>0.743926</td>\n",
       "      <td>0.218403</td>\n",
       "      <td>00:31</td>\n",
       "    </tr>\n",
       "    <tr>\n",
       "      <td>3</td>\n",
       "      <td>0.433700</td>\n",
       "      <td>0.595512</td>\n",
       "      <td>0.168161</td>\n",
       "      <td>00:31</td>\n",
       "    </tr>\n",
       "    <tr>\n",
       "      <td>4</td>\n",
       "      <td>0.279265</td>\n",
       "      <td>0.522610</td>\n",
       "      <td>0.142471</td>\n",
       "      <td>00:31</td>\n",
       "    </tr>\n",
       "    <tr>\n",
       "      <td>5</td>\n",
       "      <td>0.208790</td>\n",
       "      <td>0.482056</td>\n",
       "      <td>0.130800</td>\n",
       "      <td>00:31</td>\n",
       "    </tr>\n",
       "    <tr>\n",
       "      <td>6</td>\n",
       "      <td>0.163697</td>\n",
       "      <td>0.458617</td>\n",
       "      <td>0.117350</td>\n",
       "      <td>00:31</td>\n",
       "    </tr>\n",
       "    <tr>\n",
       "      <td>7</td>\n",
       "      <td>0.122323</td>\n",
       "      <td>0.437808</td>\n",
       "      <td>0.110305</td>\n",
       "      <td>00:31</td>\n",
       "    </tr>\n",
       "    <tr>\n",
       "      <td>8</td>\n",
       "      <td>0.101237</td>\n",
       "      <td>0.425554</td>\n",
       "      <td>0.105252</td>\n",
       "      <td>00:30</td>\n",
       "    </tr>\n",
       "    <tr>\n",
       "      <td>9</td>\n",
       "      <td>0.080292</td>\n",
       "      <td>0.418955</td>\n",
       "      <td>0.100840</td>\n",
       "      <td>00:31</td>\n",
       "    </tr>\n",
       "    <tr>\n",
       "      <td>10</td>\n",
       "      <td>0.065973</td>\n",
       "      <td>0.401396</td>\n",
       "      <td>0.095360</td>\n",
       "      <td>00:31</td>\n",
       "    </tr>\n",
       "    <tr>\n",
       "      <td>11</td>\n",
       "      <td>0.055691</td>\n",
       "      <td>0.386466</td>\n",
       "      <td>0.091517</td>\n",
       "      <td>00:32</td>\n",
       "    </tr>\n",
       "    <tr>\n",
       "      <td>12</td>\n",
       "      <td>0.045986</td>\n",
       "      <td>0.381243</td>\n",
       "      <td>0.088173</td>\n",
       "      <td>00:31</td>\n",
       "    </tr>\n",
       "    <tr>\n",
       "      <td>13</td>\n",
       "      <td>0.043828</td>\n",
       "      <td>0.385215</td>\n",
       "      <td>0.087461</td>\n",
       "      <td>00:32</td>\n",
       "    </tr>\n",
       "    <tr>\n",
       "      <td>14</td>\n",
       "      <td>0.043450</td>\n",
       "      <td>0.384889</td>\n",
       "      <td>0.087746</td>\n",
       "      <td>00:31</td>\n",
       "    </tr>\n",
       "  </tbody>\n",
       "</table>"
      ],
      "text/plain": [
       "<IPython.core.display.HTML object>"
      ]
     },
     "metadata": {},
     "output_type": "display_data"
    },
    {
     "data": {
      "text/html": [
       "\n",
       "<style>\n",
       "    /* Turns off some styling */\n",
       "    progress {\n",
       "        /* gets rid of default border in Firefox and Opera. */\n",
       "        border: none;\n",
       "        /* Needs to be in here for Safari polyfill so background images work as expected. */\n",
       "        background-size: auto;\n",
       "    }\n",
       "    .progress-bar-interrupted, .progress-bar-interrupted::-webkit-progress-bar {\n",
       "        background: #F44336;\n",
       "    }\n",
       "</style>\n"
      ],
      "text/plain": [
       "<IPython.core.display.HTML object>"
      ]
     },
     "metadata": {},
     "output_type": "display_data"
    },
    {
     "data": {
      "text/html": [],
      "text/plain": [
       "<IPython.core.display.HTML object>"
      ]
     },
     "metadata": {},
     "output_type": "display_data"
    },
    {
     "data": {
      "text/html": [
       "\n",
       "<style>\n",
       "    /* Turns off some styling */\n",
       "    progress {\n",
       "        /* gets rid of default border in Firefox and Opera. */\n",
       "        border: none;\n",
       "        /* Needs to be in here for Safari polyfill so background images work as expected. */\n",
       "        background-size: auto;\n",
       "    }\n",
       "    .progress-bar-interrupted, .progress-bar-interrupted::-webkit-progress-bar {\n",
       "        background: #F44336;\n",
       "    }\n",
       "</style>\n"
      ],
      "text/plain": [
       "<IPython.core.display.HTML object>"
      ]
     },
     "metadata": {},
     "output_type": "display_data"
    },
    {
     "data": {
      "text/html": [
       "<table border=\"1\" class=\"dataframe\">\n",
       "  <thead>\n",
       "    <tr style=\"text-align: left;\">\n",
       "      <th>epoch</th>\n",
       "      <th>train_loss</th>\n",
       "      <th>valid_loss</th>\n",
       "      <th>error_rate</th>\n",
       "      <th>time</th>\n",
       "    </tr>\n",
       "  </thead>\n",
       "  <tbody>\n",
       "    <tr>\n",
       "      <td>0</td>\n",
       "      <td>4.032775</td>\n",
       "      <td>2.901092</td>\n",
       "      <td>0.691930</td>\n",
       "      <td>00:28</td>\n",
       "    </tr>\n",
       "  </tbody>\n",
       "</table>"
      ],
      "text/plain": [
       "<IPython.core.display.HTML object>"
      ]
     },
     "metadata": {},
     "output_type": "display_data"
    },
    {
     "data": {
      "text/html": [
       "\n",
       "<style>\n",
       "    /* Turns off some styling */\n",
       "    progress {\n",
       "        /* gets rid of default border in Firefox and Opera. */\n",
       "        border: none;\n",
       "        /* Needs to be in here for Safari polyfill so background images work as expected. */\n",
       "        background-size: auto;\n",
       "    }\n",
       "    .progress-bar-interrupted, .progress-bar-interrupted::-webkit-progress-bar {\n",
       "        background: #F44336;\n",
       "    }\n",
       "</style>\n"
      ],
      "text/plain": [
       "<IPython.core.display.HTML object>"
      ]
     },
     "metadata": {},
     "output_type": "display_data"
    },
    {
     "data": {
      "text/html": [
       "<table border=\"1\" class=\"dataframe\">\n",
       "  <thead>\n",
       "    <tr style=\"text-align: left;\">\n",
       "      <th>epoch</th>\n",
       "      <th>train_loss</th>\n",
       "      <th>valid_loss</th>\n",
       "      <th>error_rate</th>\n",
       "      <th>time</th>\n",
       "    </tr>\n",
       "  </thead>\n",
       "  <tbody>\n",
       "    <tr>\n",
       "      <td>0</td>\n",
       "      <td>2.155320</td>\n",
       "      <td>1.728154</td>\n",
       "      <td>0.477939</td>\n",
       "      <td>00:31</td>\n",
       "    </tr>\n",
       "    <tr>\n",
       "      <td>1</td>\n",
       "      <td>1.257463</td>\n",
       "      <td>1.081035</td>\n",
       "      <td>0.313265</td>\n",
       "      <td>00:31</td>\n",
       "    </tr>\n",
       "    <tr>\n",
       "      <td>2</td>\n",
       "      <td>0.690031</td>\n",
       "      <td>0.732533</td>\n",
       "      <td>0.207373</td>\n",
       "      <td>00:32</td>\n",
       "    </tr>\n",
       "    <tr>\n",
       "      <td>3</td>\n",
       "      <td>0.420480</td>\n",
       "      <td>0.581185</td>\n",
       "      <td>0.164176</td>\n",
       "      <td>00:31</td>\n",
       "    </tr>\n",
       "    <tr>\n",
       "      <td>4</td>\n",
       "      <td>0.291066</td>\n",
       "      <td>0.503938</td>\n",
       "      <td>0.138913</td>\n",
       "      <td>00:32</td>\n",
       "    </tr>\n",
       "    <tr>\n",
       "      <td>5</td>\n",
       "      <td>0.215478</td>\n",
       "      <td>0.477330</td>\n",
       "      <td>0.127028</td>\n",
       "      <td>00:31</td>\n",
       "    </tr>\n",
       "    <tr>\n",
       "      <td>6</td>\n",
       "      <td>0.165828</td>\n",
       "      <td>0.436987</td>\n",
       "      <td>0.114076</td>\n",
       "      <td>00:33</td>\n",
       "    </tr>\n",
       "    <tr>\n",
       "      <td>7</td>\n",
       "      <td>0.132812</td>\n",
       "      <td>0.442575</td>\n",
       "      <td>0.112938</td>\n",
       "      <td>00:32</td>\n",
       "    </tr>\n",
       "    <tr>\n",
       "      <td>8</td>\n",
       "      <td>0.107670</td>\n",
       "      <td>0.429598</td>\n",
       "      <td>0.105821</td>\n",
       "      <td>00:30</td>\n",
       "    </tr>\n",
       "    <tr>\n",
       "      <td>9</td>\n",
       "      <td>0.086755</td>\n",
       "      <td>0.405563</td>\n",
       "      <td>0.097851</td>\n",
       "      <td>00:30</td>\n",
       "    </tr>\n",
       "    <tr>\n",
       "      <td>10</td>\n",
       "      <td>0.071776</td>\n",
       "      <td>0.409935</td>\n",
       "      <td>0.098278</td>\n",
       "      <td>00:30</td>\n",
       "    </tr>\n",
       "    <tr>\n",
       "      <td>11</td>\n",
       "      <td>0.059608</td>\n",
       "      <td>0.396367</td>\n",
       "      <td>0.091802</td>\n",
       "      <td>00:30</td>\n",
       "    </tr>\n",
       "    <tr>\n",
       "      <td>12</td>\n",
       "      <td>0.050726</td>\n",
       "      <td>0.400298</td>\n",
       "      <td>0.092300</td>\n",
       "      <td>00:30</td>\n",
       "    </tr>\n",
       "    <tr>\n",
       "      <td>13</td>\n",
       "      <td>0.047320</td>\n",
       "      <td>0.395629</td>\n",
       "      <td>0.091090</td>\n",
       "      <td>00:30</td>\n",
       "    </tr>\n",
       "    <tr>\n",
       "      <td>14</td>\n",
       "      <td>0.046656</td>\n",
       "      <td>0.396035</td>\n",
       "      <td>0.091233</td>\n",
       "      <td>00:30</td>\n",
       "    </tr>\n",
       "  </tbody>\n",
       "</table>"
      ],
      "text/plain": [
       "<IPython.core.display.HTML object>"
      ]
     },
     "metadata": {},
     "output_type": "display_data"
    },
    {
     "data": {
      "text/html": [
       "\n",
       "<style>\n",
       "    /* Turns off some styling */\n",
       "    progress {\n",
       "        /* gets rid of default border in Firefox and Opera. */\n",
       "        border: none;\n",
       "        /* Needs to be in here for Safari polyfill so background images work as expected. */\n",
       "        background-size: auto;\n",
       "    }\n",
       "    .progress-bar-interrupted, .progress-bar-interrupted::-webkit-progress-bar {\n",
       "        background: #F44336;\n",
       "    }\n",
       "</style>\n"
      ],
      "text/plain": [
       "<IPython.core.display.HTML object>"
      ]
     },
     "metadata": {},
     "output_type": "display_data"
    },
    {
     "data": {
      "text/html": [],
      "text/plain": [
       "<IPython.core.display.HTML object>"
      ]
     },
     "metadata": {},
     "output_type": "display_data"
    },
    {
     "data": {
      "text/html": [
       "\n",
       "<style>\n",
       "    /* Turns off some styling */\n",
       "    progress {\n",
       "        /* gets rid of default border in Firefox and Opera. */\n",
       "        border: none;\n",
       "        /* Needs to be in here for Safari polyfill so background images work as expected. */\n",
       "        background-size: auto;\n",
       "    }\n",
       "    .progress-bar-interrupted, .progress-bar-interrupted::-webkit-progress-bar {\n",
       "        background: #F44336;\n",
       "    }\n",
       "</style>\n"
      ],
      "text/plain": [
       "<IPython.core.display.HTML object>"
      ]
     },
     "metadata": {},
     "output_type": "display_data"
    },
    {
     "data": {
      "text/html": [
       "<table border=\"1\" class=\"dataframe\">\n",
       "  <thead>\n",
       "    <tr style=\"text-align: left;\">\n",
       "      <th>epoch</th>\n",
       "      <th>train_loss</th>\n",
       "      <th>valid_loss</th>\n",
       "      <th>error_rate</th>\n",
       "      <th>time</th>\n",
       "    </tr>\n",
       "  </thead>\n",
       "  <tbody>\n",
       "    <tr>\n",
       "      <td>0</td>\n",
       "      <td>4.022056</td>\n",
       "      <td>2.927211</td>\n",
       "      <td>0.695204</td>\n",
       "      <td>00:28</td>\n",
       "    </tr>\n",
       "  </tbody>\n",
       "</table>"
      ],
      "text/plain": [
       "<IPython.core.display.HTML object>"
      ]
     },
     "metadata": {},
     "output_type": "display_data"
    },
    {
     "data": {
      "text/html": [
       "\n",
       "<style>\n",
       "    /* Turns off some styling */\n",
       "    progress {\n",
       "        /* gets rid of default border in Firefox and Opera. */\n",
       "        border: none;\n",
       "        /* Needs to be in here for Safari polyfill so background images work as expected. */\n",
       "        background-size: auto;\n",
       "    }\n",
       "    .progress-bar-interrupted, .progress-bar-interrupted::-webkit-progress-bar {\n",
       "        background: #F44336;\n",
       "    }\n",
       "</style>\n"
      ],
      "text/plain": [
       "<IPython.core.display.HTML object>"
      ]
     },
     "metadata": {},
     "output_type": "display_data"
    },
    {
     "data": {
      "text/html": [
       "<table border=\"1\" class=\"dataframe\">\n",
       "  <thead>\n",
       "    <tr style=\"text-align: left;\">\n",
       "      <th>epoch</th>\n",
       "      <th>train_loss</th>\n",
       "      <th>valid_loss</th>\n",
       "      <th>error_rate</th>\n",
       "      <th>time</th>\n",
       "    </tr>\n",
       "  </thead>\n",
       "  <tbody>\n",
       "    <tr>\n",
       "      <td>0</td>\n",
       "      <td>2.150155</td>\n",
       "      <td>1.735989</td>\n",
       "      <td>0.476587</td>\n",
       "      <td>00:30</td>\n",
       "    </tr>\n",
       "    <tr>\n",
       "      <td>1</td>\n",
       "      <td>1.262282</td>\n",
       "      <td>1.071042</td>\n",
       "      <td>0.304014</td>\n",
       "      <td>00:30</td>\n",
       "    </tr>\n",
       "    <tr>\n",
       "      <td>2</td>\n",
       "      <td>0.677186</td>\n",
       "      <td>0.745856</td>\n",
       "      <td>0.214987</td>\n",
       "      <td>00:30</td>\n",
       "    </tr>\n",
       "    <tr>\n",
       "      <td>3</td>\n",
       "      <td>0.416986</td>\n",
       "      <td>0.607849</td>\n",
       "      <td>0.171577</td>\n",
       "      <td>00:30</td>\n",
       "    </tr>\n",
       "    <tr>\n",
       "      <td>4</td>\n",
       "      <td>0.284737</td>\n",
       "      <td>0.520939</td>\n",
       "      <td>0.144535</td>\n",
       "      <td>00:30</td>\n",
       "    </tr>\n",
       "    <tr>\n",
       "      <td>5</td>\n",
       "      <td>0.210767</td>\n",
       "      <td>0.463359</td>\n",
       "      <td>0.125818</td>\n",
       "      <td>00:30</td>\n",
       "    </tr>\n",
       "    <tr>\n",
       "      <td>6</td>\n",
       "      <td>0.160583</td>\n",
       "      <td>0.442503</td>\n",
       "      <td>0.116140</td>\n",
       "      <td>00:30</td>\n",
       "    </tr>\n",
       "    <tr>\n",
       "      <td>7</td>\n",
       "      <td>0.130623</td>\n",
       "      <td>0.454064</td>\n",
       "      <td>0.113151</td>\n",
       "      <td>00:30</td>\n",
       "    </tr>\n",
       "    <tr>\n",
       "      <td>8</td>\n",
       "      <td>0.099699</td>\n",
       "      <td>0.426627</td>\n",
       "      <td>0.103686</td>\n",
       "      <td>00:30</td>\n",
       "    </tr>\n",
       "    <tr>\n",
       "      <td>9</td>\n",
       "      <td>0.084822</td>\n",
       "      <td>0.412919</td>\n",
       "      <td>0.100270</td>\n",
       "      <td>00:31</td>\n",
       "    </tr>\n",
       "    <tr>\n",
       "      <td>10</td>\n",
       "      <td>0.065282</td>\n",
       "      <td>0.409302</td>\n",
       "      <td>0.097282</td>\n",
       "      <td>00:30</td>\n",
       "    </tr>\n",
       "    <tr>\n",
       "      <td>11</td>\n",
       "      <td>0.054185</td>\n",
       "      <td>0.404616</td>\n",
       "      <td>0.096356</td>\n",
       "      <td>00:30</td>\n",
       "    </tr>\n",
       "    <tr>\n",
       "      <td>12</td>\n",
       "      <td>0.046982</td>\n",
       "      <td>0.401480</td>\n",
       "      <td>0.093367</td>\n",
       "      <td>00:30</td>\n",
       "    </tr>\n",
       "    <tr>\n",
       "      <td>13</td>\n",
       "      <td>0.042911</td>\n",
       "      <td>0.397840</td>\n",
       "      <td>0.091802</td>\n",
       "      <td>00:30</td>\n",
       "    </tr>\n",
       "    <tr>\n",
       "      <td>14</td>\n",
       "      <td>0.042944</td>\n",
       "      <td>0.395527</td>\n",
       "      <td>0.091873</td>\n",
       "      <td>00:30</td>\n",
       "    </tr>\n",
       "  </tbody>\n",
       "</table>"
      ],
      "text/plain": [
       "<IPython.core.display.HTML object>"
      ]
     },
     "metadata": {},
     "output_type": "display_data"
    },
    {
     "data": {
      "text/html": [
       "\n",
       "<style>\n",
       "    /* Turns off some styling */\n",
       "    progress {\n",
       "        /* gets rid of default border in Firefox and Opera. */\n",
       "        border: none;\n",
       "        /* Needs to be in here for Safari polyfill so background images work as expected. */\n",
       "        background-size: auto;\n",
       "    }\n",
       "    .progress-bar-interrupted, .progress-bar-interrupted::-webkit-progress-bar {\n",
       "        background: #F44336;\n",
       "    }\n",
       "</style>\n"
      ],
      "text/plain": [
       "<IPython.core.display.HTML object>"
      ]
     },
     "metadata": {},
     "output_type": "display_data"
    },
    {
     "data": {
      "text/html": [],
      "text/plain": [
       "<IPython.core.display.HTML object>"
      ]
     },
     "metadata": {},
     "output_type": "display_data"
    },
    {
     "data": {
      "text/html": [
       "\n",
       "<style>\n",
       "    /* Turns off some styling */\n",
       "    progress {\n",
       "        /* gets rid of default border in Firefox and Opera. */\n",
       "        border: none;\n",
       "        /* Needs to be in here for Safari polyfill so background images work as expected. */\n",
       "        background-size: auto;\n",
       "    }\n",
       "    .progress-bar-interrupted, .progress-bar-interrupted::-webkit-progress-bar {\n",
       "        background: #F44336;\n",
       "    }\n",
       "</style>\n"
      ],
      "text/plain": [
       "<IPython.core.display.HTML object>"
      ]
     },
     "metadata": {},
     "output_type": "display_data"
    },
    {
     "data": {
      "text/html": [
       "<table border=\"1\" class=\"dataframe\">\n",
       "  <thead>\n",
       "    <tr style=\"text-align: left;\">\n",
       "      <th>epoch</th>\n",
       "      <th>train_loss</th>\n",
       "      <th>valid_loss</th>\n",
       "      <th>error_rate</th>\n",
       "      <th>time</th>\n",
       "    </tr>\n",
       "  </thead>\n",
       "  <tbody>\n",
       "    <tr>\n",
       "      <td>0</td>\n",
       "      <td>4.040456</td>\n",
       "      <td>2.926872</td>\n",
       "      <td>0.698335</td>\n",
       "      <td>00:28</td>\n",
       "    </tr>\n",
       "  </tbody>\n",
       "</table>"
      ],
      "text/plain": [
       "<IPython.core.display.HTML object>"
      ]
     },
     "metadata": {},
     "output_type": "display_data"
    },
    {
     "data": {
      "text/html": [
       "\n",
       "<style>\n",
       "    /* Turns off some styling */\n",
       "    progress {\n",
       "        /* gets rid of default border in Firefox and Opera. */\n",
       "        border: none;\n",
       "        /* Needs to be in here for Safari polyfill so background images work as expected. */\n",
       "        background-size: auto;\n",
       "    }\n",
       "    .progress-bar-interrupted, .progress-bar-interrupted::-webkit-progress-bar {\n",
       "        background: #F44336;\n",
       "    }\n",
       "</style>\n"
      ],
      "text/plain": [
       "<IPython.core.display.HTML object>"
      ]
     },
     "metadata": {},
     "output_type": "display_data"
    },
    {
     "data": {
      "text/html": [
       "<table border=\"1\" class=\"dataframe\">\n",
       "  <thead>\n",
       "    <tr style=\"text-align: left;\">\n",
       "      <th>epoch</th>\n",
       "      <th>train_loss</th>\n",
       "      <th>valid_loss</th>\n",
       "      <th>error_rate</th>\n",
       "      <th>time</th>\n",
       "    </tr>\n",
       "  </thead>\n",
       "  <tbody>\n",
       "    <tr>\n",
       "      <td>0</td>\n",
       "      <td>2.191167</td>\n",
       "      <td>1.778360</td>\n",
       "      <td>0.485127</td>\n",
       "      <td>00:30</td>\n",
       "    </tr>\n",
       "    <tr>\n",
       "      <td>1</td>\n",
       "      <td>1.262278</td>\n",
       "      <td>1.079831</td>\n",
       "      <td>0.309849</td>\n",
       "      <td>00:30</td>\n",
       "    </tr>\n",
       "    <tr>\n",
       "      <td>2</td>\n",
       "      <td>0.693043</td>\n",
       "      <td>0.756571</td>\n",
       "      <td>0.217193</td>\n",
       "      <td>00:30</td>\n",
       "    </tr>\n",
       "    <tr>\n",
       "      <td>3</td>\n",
       "      <td>0.418233</td>\n",
       "      <td>0.601038</td>\n",
       "      <td>0.169157</td>\n",
       "      <td>00:30</td>\n",
       "    </tr>\n",
       "    <tr>\n",
       "      <td>4</td>\n",
       "      <td>0.291294</td>\n",
       "      <td>0.533199</td>\n",
       "      <td>0.147025</td>\n",
       "      <td>00:30</td>\n",
       "    </tr>\n",
       "    <tr>\n",
       "      <td>5</td>\n",
       "      <td>0.216632</td>\n",
       "      <td>0.462402</td>\n",
       "      <td>0.122331</td>\n",
       "      <td>00:30</td>\n",
       "    </tr>\n",
       "    <tr>\n",
       "      <td>6</td>\n",
       "      <td>0.165983</td>\n",
       "      <td>0.437693</td>\n",
       "      <td>0.111941</td>\n",
       "      <td>00:30</td>\n",
       "    </tr>\n",
       "    <tr>\n",
       "      <td>7</td>\n",
       "      <td>0.128655</td>\n",
       "      <td>0.442637</td>\n",
       "      <td>0.112724</td>\n",
       "      <td>00:31</td>\n",
       "    </tr>\n",
       "    <tr>\n",
       "      <td>8</td>\n",
       "      <td>0.100596</td>\n",
       "      <td>0.425472</td>\n",
       "      <td>0.103330</td>\n",
       "      <td>00:30</td>\n",
       "    </tr>\n",
       "    <tr>\n",
       "      <td>9</td>\n",
       "      <td>0.081427</td>\n",
       "      <td>0.422993</td>\n",
       "      <td>0.102334</td>\n",
       "      <td>00:30</td>\n",
       "    </tr>\n",
       "    <tr>\n",
       "      <td>10</td>\n",
       "      <td>0.067494</td>\n",
       "      <td>0.421204</td>\n",
       "      <td>0.099061</td>\n",
       "      <td>00:30</td>\n",
       "    </tr>\n",
       "    <tr>\n",
       "      <td>11</td>\n",
       "      <td>0.056242</td>\n",
       "      <td>0.404322</td>\n",
       "      <td>0.092015</td>\n",
       "      <td>00:30</td>\n",
       "    </tr>\n",
       "    <tr>\n",
       "      <td>12</td>\n",
       "      <td>0.047097</td>\n",
       "      <td>0.395112</td>\n",
       "      <td>0.089738</td>\n",
       "      <td>00:30</td>\n",
       "    </tr>\n",
       "    <tr>\n",
       "      <td>13</td>\n",
       "      <td>0.045638</td>\n",
       "      <td>0.396449</td>\n",
       "      <td>0.089240</td>\n",
       "      <td>00:30</td>\n",
       "    </tr>\n",
       "    <tr>\n",
       "      <td>14</td>\n",
       "      <td>0.042060</td>\n",
       "      <td>0.395361</td>\n",
       "      <td>0.088813</td>\n",
       "      <td>00:30</td>\n",
       "    </tr>\n",
       "  </tbody>\n",
       "</table>"
      ],
      "text/plain": [
       "<IPython.core.display.HTML object>"
      ]
     },
     "metadata": {},
     "output_type": "display_data"
    },
    {
     "data": {
      "text/html": [
       "\n",
       "<style>\n",
       "    /* Turns off some styling */\n",
       "    progress {\n",
       "        /* gets rid of default border in Firefox and Opera. */\n",
       "        border: none;\n",
       "        /* Needs to be in here for Safari polyfill so background images work as expected. */\n",
       "        background-size: auto;\n",
       "    }\n",
       "    .progress-bar-interrupted, .progress-bar-interrupted::-webkit-progress-bar {\n",
       "        background: #F44336;\n",
       "    }\n",
       "</style>\n"
      ],
      "text/plain": [
       "<IPython.core.display.HTML object>"
      ]
     },
     "metadata": {},
     "output_type": "display_data"
    },
    {
     "data": {
      "text/html": [],
      "text/plain": [
       "<IPython.core.display.HTML object>"
      ]
     },
     "metadata": {},
     "output_type": "display_data"
    },
    {
     "data": {
      "text/html": [
       "\n",
       "<style>\n",
       "    /* Turns off some styling */\n",
       "    progress {\n",
       "        /* gets rid of default border in Firefox and Opera. */\n",
       "        border: none;\n",
       "        /* Needs to be in here for Safari polyfill so background images work as expected. */\n",
       "        background-size: auto;\n",
       "    }\n",
       "    .progress-bar-interrupted, .progress-bar-interrupted::-webkit-progress-bar {\n",
       "        background: #F44336;\n",
       "    }\n",
       "</style>\n"
      ],
      "text/plain": [
       "<IPython.core.display.HTML object>"
      ]
     },
     "metadata": {},
     "output_type": "display_data"
    },
    {
     "data": {
      "text/html": [
       "<table border=\"1\" class=\"dataframe\">\n",
       "  <thead>\n",
       "    <tr style=\"text-align: left;\">\n",
       "      <th>epoch</th>\n",
       "      <th>train_loss</th>\n",
       "      <th>valid_loss</th>\n",
       "      <th>error_rate</th>\n",
       "      <th>time</th>\n",
       "    </tr>\n",
       "  </thead>\n",
       "  <tbody>\n",
       "    <tr>\n",
       "      <td>0</td>\n",
       "      <td>4.045936</td>\n",
       "      <td>2.889335</td>\n",
       "      <td>0.684529</td>\n",
       "      <td>00:27</td>\n",
       "    </tr>\n",
       "  </tbody>\n",
       "</table>"
      ],
      "text/plain": [
       "<IPython.core.display.HTML object>"
      ]
     },
     "metadata": {},
     "output_type": "display_data"
    },
    {
     "data": {
      "text/html": [
       "\n",
       "<style>\n",
       "    /* Turns off some styling */\n",
       "    progress {\n",
       "        /* gets rid of default border in Firefox and Opera. */\n",
       "        border: none;\n",
       "        /* Needs to be in here for Safari polyfill so background images work as expected. */\n",
       "        background-size: auto;\n",
       "    }\n",
       "    .progress-bar-interrupted, .progress-bar-interrupted::-webkit-progress-bar {\n",
       "        background: #F44336;\n",
       "    }\n",
       "</style>\n"
      ],
      "text/plain": [
       "<IPython.core.display.HTML object>"
      ]
     },
     "metadata": {},
     "output_type": "display_data"
    },
    {
     "data": {
      "text/html": [
       "<table border=\"1\" class=\"dataframe\">\n",
       "  <thead>\n",
       "    <tr style=\"text-align: left;\">\n",
       "      <th>epoch</th>\n",
       "      <th>train_loss</th>\n",
       "      <th>valid_loss</th>\n",
       "      <th>error_rate</th>\n",
       "      <th>time</th>\n",
       "    </tr>\n",
       "  </thead>\n",
       "  <tbody>\n",
       "    <tr>\n",
       "      <td>0</td>\n",
       "      <td>2.174550</td>\n",
       "      <td>1.760838</td>\n",
       "      <td>0.480003</td>\n",
       "      <td>00:30</td>\n",
       "    </tr>\n",
       "    <tr>\n",
       "      <td>1</td>\n",
       "      <td>1.271398</td>\n",
       "      <td>1.102535</td>\n",
       "      <td>0.317820</td>\n",
       "      <td>00:30</td>\n",
       "    </tr>\n",
       "    <tr>\n",
       "      <td>2</td>\n",
       "      <td>0.695340</td>\n",
       "      <td>0.765758</td>\n",
       "      <td>0.222673</td>\n",
       "      <td>00:30</td>\n",
       "    </tr>\n",
       "    <tr>\n",
       "      <td>3</td>\n",
       "      <td>0.419140</td>\n",
       "      <td>0.605643</td>\n",
       "      <td>0.170865</td>\n",
       "      <td>00:30</td>\n",
       "    </tr>\n",
       "    <tr>\n",
       "      <td>4</td>\n",
       "      <td>0.285615</td>\n",
       "      <td>0.526465</td>\n",
       "      <td>0.146883</td>\n",
       "      <td>00:30</td>\n",
       "    </tr>\n",
       "    <tr>\n",
       "      <td>5</td>\n",
       "      <td>0.204130</td>\n",
       "      <td>0.491994</td>\n",
       "      <td>0.134572</td>\n",
       "      <td>00:30</td>\n",
       "    </tr>\n",
       "    <tr>\n",
       "      <td>6</td>\n",
       "      <td>0.162166</td>\n",
       "      <td>0.452725</td>\n",
       "      <td>0.116354</td>\n",
       "      <td>00:30</td>\n",
       "    </tr>\n",
       "    <tr>\n",
       "      <td>7</td>\n",
       "      <td>0.126997</td>\n",
       "      <td>0.425634</td>\n",
       "      <td>0.107173</td>\n",
       "      <td>00:30</td>\n",
       "    </tr>\n",
       "    <tr>\n",
       "      <td>8</td>\n",
       "      <td>0.100046</td>\n",
       "      <td>0.422991</td>\n",
       "      <td>0.106462</td>\n",
       "      <td>00:30</td>\n",
       "    </tr>\n",
       "    <tr>\n",
       "      <td>9</td>\n",
       "      <td>0.081933</td>\n",
       "      <td>0.412881</td>\n",
       "      <td>0.099274</td>\n",
       "      <td>00:30</td>\n",
       "    </tr>\n",
       "    <tr>\n",
       "      <td>10</td>\n",
       "      <td>0.066115</td>\n",
       "      <td>0.406678</td>\n",
       "      <td>0.095289</td>\n",
       "      <td>00:30</td>\n",
       "    </tr>\n",
       "    <tr>\n",
       "      <td>11</td>\n",
       "      <td>0.055155</td>\n",
       "      <td>0.405322</td>\n",
       "      <td>0.094791</td>\n",
       "      <td>00:30</td>\n",
       "    </tr>\n",
       "    <tr>\n",
       "      <td>12</td>\n",
       "      <td>0.048548</td>\n",
       "      <td>0.396299</td>\n",
       "      <td>0.091660</td>\n",
       "      <td>00:30</td>\n",
       "    </tr>\n",
       "    <tr>\n",
       "      <td>13</td>\n",
       "      <td>0.043933</td>\n",
       "      <td>0.395160</td>\n",
       "      <td>0.092514</td>\n",
       "      <td>00:30</td>\n",
       "    </tr>\n",
       "    <tr>\n",
       "      <td>14</td>\n",
       "      <td>0.041426</td>\n",
       "      <td>0.394984</td>\n",
       "      <td>0.091304</td>\n",
       "      <td>00:30</td>\n",
       "    </tr>\n",
       "  </tbody>\n",
       "</table>"
      ],
      "text/plain": [
       "<IPython.core.display.HTML object>"
      ]
     },
     "metadata": {},
     "output_type": "display_data"
    },
    {
     "data": {
      "text/html": [
       "\n",
       "<style>\n",
       "    /* Turns off some styling */\n",
       "    progress {\n",
       "        /* gets rid of default border in Firefox and Opera. */\n",
       "        border: none;\n",
       "        /* Needs to be in here for Safari polyfill so background images work as expected. */\n",
       "        background-size: auto;\n",
       "    }\n",
       "    .progress-bar-interrupted, .progress-bar-interrupted::-webkit-progress-bar {\n",
       "        background: #F44336;\n",
       "    }\n",
       "</style>\n"
      ],
      "text/plain": [
       "<IPython.core.display.HTML object>"
      ]
     },
     "metadata": {},
     "output_type": "display_data"
    },
    {
     "data": {
      "text/html": [],
      "text/plain": [
       "<IPython.core.display.HTML object>"
      ]
     },
     "metadata": {},
     "output_type": "display_data"
    },
    {
     "data": {
      "text/html": [
       "\n",
       "<style>\n",
       "    /* Turns off some styling */\n",
       "    progress {\n",
       "        /* gets rid of default border in Firefox and Opera. */\n",
       "        border: none;\n",
       "        /* Needs to be in here for Safari polyfill so background images work as expected. */\n",
       "        background-size: auto;\n",
       "    }\n",
       "    .progress-bar-interrupted, .progress-bar-interrupted::-webkit-progress-bar {\n",
       "        background: #F44336;\n",
       "    }\n",
       "</style>\n"
      ],
      "text/plain": [
       "<IPython.core.display.HTML object>"
      ]
     },
     "metadata": {},
     "output_type": "display_data"
    },
    {
     "data": {
      "text/html": [
       "<table border=\"1\" class=\"dataframe\">\n",
       "  <thead>\n",
       "    <tr style=\"text-align: left;\">\n",
       "      <th>epoch</th>\n",
       "      <th>train_loss</th>\n",
       "      <th>valid_loss</th>\n",
       "      <th>error_rate</th>\n",
       "      <th>time</th>\n",
       "    </tr>\n",
       "  </thead>\n",
       "  <tbody>\n",
       "    <tr>\n",
       "      <td>0</td>\n",
       "      <td>4.048928</td>\n",
       "      <td>2.974874</td>\n",
       "      <td>0.705024</td>\n",
       "      <td>00:28</td>\n",
       "    </tr>\n",
       "  </tbody>\n",
       "</table>"
      ],
      "text/plain": [
       "<IPython.core.display.HTML object>"
      ]
     },
     "metadata": {},
     "output_type": "display_data"
    },
    {
     "data": {
      "text/html": [
       "\n",
       "<style>\n",
       "    /* Turns off some styling */\n",
       "    progress {\n",
       "        /* gets rid of default border in Firefox and Opera. */\n",
       "        border: none;\n",
       "        /* Needs to be in here for Safari polyfill so background images work as expected. */\n",
       "        background-size: auto;\n",
       "    }\n",
       "    .progress-bar-interrupted, .progress-bar-interrupted::-webkit-progress-bar {\n",
       "        background: #F44336;\n",
       "    }\n",
       "</style>\n"
      ],
      "text/plain": [
       "<IPython.core.display.HTML object>"
      ]
     },
     "metadata": {},
     "output_type": "display_data"
    },
    {
     "data": {
      "text/html": [
       "<table border=\"1\" class=\"dataframe\">\n",
       "  <thead>\n",
       "    <tr style=\"text-align: left;\">\n",
       "      <th>epoch</th>\n",
       "      <th>train_loss</th>\n",
       "      <th>valid_loss</th>\n",
       "      <th>error_rate</th>\n",
       "      <th>time</th>\n",
       "    </tr>\n",
       "  </thead>\n",
       "  <tbody>\n",
       "    <tr>\n",
       "      <td>0</td>\n",
       "      <td>2.180262</td>\n",
       "      <td>1.744269</td>\n",
       "      <td>0.477654</td>\n",
       "      <td>00:30</td>\n",
       "    </tr>\n",
       "    <tr>\n",
       "      <td>1</td>\n",
       "      <td>1.271058</td>\n",
       "      <td>1.076104</td>\n",
       "      <td>0.309991</td>\n",
       "      <td>00:30</td>\n",
       "    </tr>\n",
       "    <tr>\n",
       "      <td>2</td>\n",
       "      <td>0.692095</td>\n",
       "      <td>0.760012</td>\n",
       "      <td>0.219328</td>\n",
       "      <td>00:30</td>\n",
       "    </tr>\n",
       "    <tr>\n",
       "      <td>3</td>\n",
       "      <td>0.423970</td>\n",
       "      <td>0.593685</td>\n",
       "      <td>0.168375</td>\n",
       "      <td>00:30</td>\n",
       "    </tr>\n",
       "    <tr>\n",
       "      <td>4</td>\n",
       "      <td>0.280448</td>\n",
       "      <td>0.533837</td>\n",
       "      <td>0.145531</td>\n",
       "      <td>00:30</td>\n",
       "    </tr>\n",
       "    <tr>\n",
       "      <td>5</td>\n",
       "      <td>0.226551</td>\n",
       "      <td>0.481633</td>\n",
       "      <td>0.130658</td>\n",
       "      <td>00:30</td>\n",
       "    </tr>\n",
       "    <tr>\n",
       "      <td>6</td>\n",
       "      <td>0.163576</td>\n",
       "      <td>0.450561</td>\n",
       "      <td>0.118133</td>\n",
       "      <td>00:30</td>\n",
       "    </tr>\n",
       "    <tr>\n",
       "      <td>7</td>\n",
       "      <td>0.132300</td>\n",
       "      <td>0.447034</td>\n",
       "      <td>0.114290</td>\n",
       "      <td>00:30</td>\n",
       "    </tr>\n",
       "    <tr>\n",
       "      <td>8</td>\n",
       "      <td>0.106244</td>\n",
       "      <td>0.431774</td>\n",
       "      <td>0.107672</td>\n",
       "      <td>00:30</td>\n",
       "    </tr>\n",
       "    <tr>\n",
       "      <td>9</td>\n",
       "      <td>0.081090</td>\n",
       "      <td>0.410805</td>\n",
       "      <td>0.099203</td>\n",
       "      <td>00:30</td>\n",
       "    </tr>\n",
       "    <tr>\n",
       "      <td>10</td>\n",
       "      <td>0.067866</td>\n",
       "      <td>0.399892</td>\n",
       "      <td>0.093581</td>\n",
       "      <td>00:30</td>\n",
       "    </tr>\n",
       "    <tr>\n",
       "      <td>11</td>\n",
       "      <td>0.056751</td>\n",
       "      <td>0.397893</td>\n",
       "      <td>0.091375</td>\n",
       "      <td>00:30</td>\n",
       "    </tr>\n",
       "    <tr>\n",
       "      <td>12</td>\n",
       "      <td>0.047988</td>\n",
       "      <td>0.395968</td>\n",
       "      <td>0.090806</td>\n",
       "      <td>00:30</td>\n",
       "    </tr>\n",
       "    <tr>\n",
       "      <td>13</td>\n",
       "      <td>0.045503</td>\n",
       "      <td>0.393075</td>\n",
       "      <td>0.089311</td>\n",
       "      <td>00:30</td>\n",
       "    </tr>\n",
       "    <tr>\n",
       "      <td>14</td>\n",
       "      <td>0.042201</td>\n",
       "      <td>0.391138</td>\n",
       "      <td>0.088599</td>\n",
       "      <td>00:30</td>\n",
       "    </tr>\n",
       "  </tbody>\n",
       "</table>"
      ],
      "text/plain": [
       "<IPython.core.display.HTML object>"
      ]
     },
     "metadata": {},
     "output_type": "display_data"
    },
    {
     "data": {
      "text/html": [
       "\n",
       "<style>\n",
       "    /* Turns off some styling */\n",
       "    progress {\n",
       "        /* gets rid of default border in Firefox and Opera. */\n",
       "        border: none;\n",
       "        /* Needs to be in here for Safari polyfill so background images work as expected. */\n",
       "        background-size: auto;\n",
       "    }\n",
       "    .progress-bar-interrupted, .progress-bar-interrupted::-webkit-progress-bar {\n",
       "        background: #F44336;\n",
       "    }\n",
       "</style>\n"
      ],
      "text/plain": [
       "<IPython.core.display.HTML object>"
      ]
     },
     "metadata": {},
     "output_type": "display_data"
    },
    {
     "data": {
      "text/html": [],
      "text/plain": [
       "<IPython.core.display.HTML object>"
      ]
     },
     "metadata": {},
     "output_type": "display_data"
    },
    {
     "data": {
      "text/html": [
       "\n",
       "<style>\n",
       "    /* Turns off some styling */\n",
       "    progress {\n",
       "        /* gets rid of default border in Firefox and Opera. */\n",
       "        border: none;\n",
       "        /* Needs to be in here for Safari polyfill so background images work as expected. */\n",
       "        background-size: auto;\n",
       "    }\n",
       "    .progress-bar-interrupted, .progress-bar-interrupted::-webkit-progress-bar {\n",
       "        background: #F44336;\n",
       "    }\n",
       "</style>\n"
      ],
      "text/plain": [
       "<IPython.core.display.HTML object>"
      ]
     },
     "metadata": {},
     "output_type": "display_data"
    },
    {
     "data": {
      "text/html": [
       "<table border=\"1\" class=\"dataframe\">\n",
       "  <thead>\n",
       "    <tr style=\"text-align: left;\">\n",
       "      <th>epoch</th>\n",
       "      <th>train_loss</th>\n",
       "      <th>valid_loss</th>\n",
       "      <th>error_rate</th>\n",
       "      <th>time</th>\n",
       "    </tr>\n",
       "  </thead>\n",
       "  <tbody>\n",
       "    <tr>\n",
       "      <td>0</td>\n",
       "      <td>4.035386</td>\n",
       "      <td>2.934203</td>\n",
       "      <td>0.701395</td>\n",
       "      <td>00:28</td>\n",
       "    </tr>\n",
       "  </tbody>\n",
       "</table>"
      ],
      "text/plain": [
       "<IPython.core.display.HTML object>"
      ]
     },
     "metadata": {},
     "output_type": "display_data"
    },
    {
     "data": {
      "text/html": [
       "\n",
       "<style>\n",
       "    /* Turns off some styling */\n",
       "    progress {\n",
       "        /* gets rid of default border in Firefox and Opera. */\n",
       "        border: none;\n",
       "        /* Needs to be in here for Safari polyfill so background images work as expected. */\n",
       "        background-size: auto;\n",
       "    }\n",
       "    .progress-bar-interrupted, .progress-bar-interrupted::-webkit-progress-bar {\n",
       "        background: #F44336;\n",
       "    }\n",
       "</style>\n"
      ],
      "text/plain": [
       "<IPython.core.display.HTML object>"
      ]
     },
     "metadata": {},
     "output_type": "display_data"
    },
    {
     "data": {
      "text/html": [
       "<table border=\"1\" class=\"dataframe\">\n",
       "  <thead>\n",
       "    <tr style=\"text-align: left;\">\n",
       "      <th>epoch</th>\n",
       "      <th>train_loss</th>\n",
       "      <th>valid_loss</th>\n",
       "      <th>error_rate</th>\n",
       "      <th>time</th>\n",
       "    </tr>\n",
       "  </thead>\n",
       "  <tbody>\n",
       "    <tr>\n",
       "      <td>0</td>\n",
       "      <td>2.160364</td>\n",
       "      <td>1.758739</td>\n",
       "      <td>0.486479</td>\n",
       "      <td>00:30</td>\n",
       "    </tr>\n",
       "    <tr>\n",
       "      <td>1</td>\n",
       "      <td>1.258847</td>\n",
       "      <td>1.077473</td>\n",
       "      <td>0.314546</td>\n",
       "      <td>00:30</td>\n",
       "    </tr>\n",
       "    <tr>\n",
       "      <td>2</td>\n",
       "      <td>0.677980</td>\n",
       "      <td>0.727701</td>\n",
       "      <td>0.211073</td>\n",
       "      <td>00:30</td>\n",
       "    </tr>\n",
       "    <tr>\n",
       "      <td>3</td>\n",
       "      <td>0.416359</td>\n",
       "      <td>0.605642</td>\n",
       "      <td>0.172858</td>\n",
       "      <td>00:30</td>\n",
       "    </tr>\n",
       "    <tr>\n",
       "      <td>4</td>\n",
       "      <td>0.278042</td>\n",
       "      <td>0.522483</td>\n",
       "      <td>0.143965</td>\n",
       "      <td>00:30</td>\n",
       "    </tr>\n",
       "    <tr>\n",
       "      <td>5</td>\n",
       "      <td>0.209761</td>\n",
       "      <td>0.502521</td>\n",
       "      <td>0.129946</td>\n",
       "      <td>00:30</td>\n",
       "    </tr>\n",
       "    <tr>\n",
       "      <td>6</td>\n",
       "      <td>0.159993</td>\n",
       "      <td>0.474660</td>\n",
       "      <td>0.120695</td>\n",
       "      <td>00:30</td>\n",
       "    </tr>\n",
       "    <tr>\n",
       "      <td>7</td>\n",
       "      <td>0.124833</td>\n",
       "      <td>0.436801</td>\n",
       "      <td>0.111799</td>\n",
       "      <td>00:30</td>\n",
       "    </tr>\n",
       "    <tr>\n",
       "      <td>8</td>\n",
       "      <td>0.098721</td>\n",
       "      <td>0.422566</td>\n",
       "      <td>0.101551</td>\n",
       "      <td>00:30</td>\n",
       "    </tr>\n",
       "    <tr>\n",
       "      <td>9</td>\n",
       "      <td>0.080559</td>\n",
       "      <td>0.406122</td>\n",
       "      <td>0.098989</td>\n",
       "      <td>00:30</td>\n",
       "    </tr>\n",
       "    <tr>\n",
       "      <td>10</td>\n",
       "      <td>0.067556</td>\n",
       "      <td>0.411937</td>\n",
       "      <td>0.096997</td>\n",
       "      <td>00:31</td>\n",
       "    </tr>\n",
       "    <tr>\n",
       "      <td>11</td>\n",
       "      <td>0.054977</td>\n",
       "      <td>0.405586</td>\n",
       "      <td>0.094221</td>\n",
       "      <td>00:30</td>\n",
       "    </tr>\n",
       "    <tr>\n",
       "      <td>12</td>\n",
       "      <td>0.047835</td>\n",
       "      <td>0.400873</td>\n",
       "      <td>0.092442</td>\n",
       "      <td>00:30</td>\n",
       "    </tr>\n",
       "    <tr>\n",
       "      <td>13</td>\n",
       "      <td>0.043859</td>\n",
       "      <td>0.396756</td>\n",
       "      <td>0.088742</td>\n",
       "      <td>00:30</td>\n",
       "    </tr>\n",
       "    <tr>\n",
       "      <td>14</td>\n",
       "      <td>0.043175</td>\n",
       "      <td>0.395375</td>\n",
       "      <td>0.088528</td>\n",
       "      <td>00:30</td>\n",
       "    </tr>\n",
       "  </tbody>\n",
       "</table>"
      ],
      "text/plain": [
       "<IPython.core.display.HTML object>"
      ]
     },
     "metadata": {},
     "output_type": "display_data"
    },
    {
     "data": {
      "text/html": [
       "\n",
       "<style>\n",
       "    /* Turns off some styling */\n",
       "    progress {\n",
       "        /* gets rid of default border in Firefox and Opera. */\n",
       "        border: none;\n",
       "        /* Needs to be in here for Safari polyfill so background images work as expected. */\n",
       "        background-size: auto;\n",
       "    }\n",
       "    .progress-bar-interrupted, .progress-bar-interrupted::-webkit-progress-bar {\n",
       "        background: #F44336;\n",
       "    }\n",
       "</style>\n"
      ],
      "text/plain": [
       "<IPython.core.display.HTML object>"
      ]
     },
     "metadata": {},
     "output_type": "display_data"
    },
    {
     "data": {
      "text/html": [],
      "text/plain": [
       "<IPython.core.display.HTML object>"
      ]
     },
     "metadata": {},
     "output_type": "display_data"
    },
    {
     "data": {
      "text/html": [
       "\n",
       "<style>\n",
       "    /* Turns off some styling */\n",
       "    progress {\n",
       "        /* gets rid of default border in Firefox and Opera. */\n",
       "        border: none;\n",
       "        /* Needs to be in here for Safari polyfill so background images work as expected. */\n",
       "        background-size: auto;\n",
       "    }\n",
       "    .progress-bar-interrupted, .progress-bar-interrupted::-webkit-progress-bar {\n",
       "        background: #F44336;\n",
       "    }\n",
       "</style>\n"
      ],
      "text/plain": [
       "<IPython.core.display.HTML object>"
      ]
     },
     "metadata": {},
     "output_type": "display_data"
    },
    {
     "data": {
      "text/html": [
       "<table border=\"1\" class=\"dataframe\">\n",
       "  <thead>\n",
       "    <tr style=\"text-align: left;\">\n",
       "      <th>epoch</th>\n",
       "      <th>train_loss</th>\n",
       "      <th>valid_loss</th>\n",
       "      <th>error_rate</th>\n",
       "      <th>time</th>\n",
       "    </tr>\n",
       "  </thead>\n",
       "  <tbody>\n",
       "    <tr>\n",
       "      <td>0</td>\n",
       "      <td>4.030747</td>\n",
       "      <td>2.923473</td>\n",
       "      <td>0.701110</td>\n",
       "      <td>00:28</td>\n",
       "    </tr>\n",
       "  </tbody>\n",
       "</table>"
      ],
      "text/plain": [
       "<IPython.core.display.HTML object>"
      ]
     },
     "metadata": {},
     "output_type": "display_data"
    },
    {
     "data": {
      "text/html": [
       "\n",
       "<style>\n",
       "    /* Turns off some styling */\n",
       "    progress {\n",
       "        /* gets rid of default border in Firefox and Opera. */\n",
       "        border: none;\n",
       "        /* Needs to be in here for Safari polyfill so background images work as expected. */\n",
       "        background-size: auto;\n",
       "    }\n",
       "    .progress-bar-interrupted, .progress-bar-interrupted::-webkit-progress-bar {\n",
       "        background: #F44336;\n",
       "    }\n",
       "</style>\n"
      ],
      "text/plain": [
       "<IPython.core.display.HTML object>"
      ]
     },
     "metadata": {},
     "output_type": "display_data"
    },
    {
     "data": {
      "text/html": [
       "<table border=\"1\" class=\"dataframe\">\n",
       "  <thead>\n",
       "    <tr style=\"text-align: left;\">\n",
       "      <th>epoch</th>\n",
       "      <th>train_loss</th>\n",
       "      <th>valid_loss</th>\n",
       "      <th>error_rate</th>\n",
       "      <th>time</th>\n",
       "    </tr>\n",
       "  </thead>\n",
       "  <tbody>\n",
       "    <tr>\n",
       "      <td>0</td>\n",
       "      <td>2.170418</td>\n",
       "      <td>1.752339</td>\n",
       "      <td>0.473740</td>\n",
       "      <td>00:30</td>\n",
       "    </tr>\n",
       "    <tr>\n",
       "      <td>1</td>\n",
       "      <td>1.264917</td>\n",
       "      <td>1.070733</td>\n",
       "      <td>0.307785</td>\n",
       "      <td>00:30</td>\n",
       "    </tr>\n",
       "    <tr>\n",
       "      <td>2</td>\n",
       "      <td>0.688805</td>\n",
       "      <td>0.737591</td>\n",
       "      <td>0.213422</td>\n",
       "      <td>00:30</td>\n",
       "    </tr>\n",
       "    <tr>\n",
       "      <td>3</td>\n",
       "      <td>0.424551</td>\n",
       "      <td>0.589440</td>\n",
       "      <td>0.165955</td>\n",
       "      <td>00:30</td>\n",
       "    </tr>\n",
       "    <tr>\n",
       "      <td>4</td>\n",
       "      <td>0.282703</td>\n",
       "      <td>0.519334</td>\n",
       "      <td>0.144321</td>\n",
       "      <td>00:30</td>\n",
       "    </tr>\n",
       "    <tr>\n",
       "      <td>5</td>\n",
       "      <td>0.210233</td>\n",
       "      <td>0.482737</td>\n",
       "      <td>0.129163</td>\n",
       "      <td>00:30</td>\n",
       "    </tr>\n",
       "    <tr>\n",
       "      <td>6</td>\n",
       "      <td>0.156300</td>\n",
       "      <td>0.458172</td>\n",
       "      <td>0.117706</td>\n",
       "      <td>00:30</td>\n",
       "    </tr>\n",
       "    <tr>\n",
       "      <td>7</td>\n",
       "      <td>0.124901</td>\n",
       "      <td>0.437353</td>\n",
       "      <td>0.108312</td>\n",
       "      <td>00:30</td>\n",
       "    </tr>\n",
       "    <tr>\n",
       "      <td>8</td>\n",
       "      <td>0.100982</td>\n",
       "      <td>0.432311</td>\n",
       "      <td>0.109664</td>\n",
       "      <td>00:31</td>\n",
       "    </tr>\n",
       "    <tr>\n",
       "      <td>9</td>\n",
       "      <td>0.081985</td>\n",
       "      <td>0.412880</td>\n",
       "      <td>0.099630</td>\n",
       "      <td>00:30</td>\n",
       "    </tr>\n",
       "    <tr>\n",
       "      <td>10</td>\n",
       "      <td>0.064587</td>\n",
       "      <td>0.413206</td>\n",
       "      <td>0.098420</td>\n",
       "      <td>00:30</td>\n",
       "    </tr>\n",
       "    <tr>\n",
       "      <td>11</td>\n",
       "      <td>0.052497</td>\n",
       "      <td>0.404543</td>\n",
       "      <td>0.094435</td>\n",
       "      <td>00:30</td>\n",
       "    </tr>\n",
       "    <tr>\n",
       "      <td>12</td>\n",
       "      <td>0.046321</td>\n",
       "      <td>0.404500</td>\n",
       "      <td>0.094221</td>\n",
       "      <td>00:30</td>\n",
       "    </tr>\n",
       "    <tr>\n",
       "      <td>13</td>\n",
       "      <td>0.042224</td>\n",
       "      <td>0.395863</td>\n",
       "      <td>0.090877</td>\n",
       "      <td>00:30</td>\n",
       "    </tr>\n",
       "    <tr>\n",
       "      <td>14</td>\n",
       "      <td>0.040958</td>\n",
       "      <td>0.396056</td>\n",
       "      <td>0.091944</td>\n",
       "      <td>00:30</td>\n",
       "    </tr>\n",
       "  </tbody>\n",
       "</table>"
      ],
      "text/plain": [
       "<IPython.core.display.HTML object>"
      ]
     },
     "metadata": {},
     "output_type": "display_data"
    },
    {
     "data": {
      "text/html": [
       "\n",
       "<style>\n",
       "    /* Turns off some styling */\n",
       "    progress {\n",
       "        /* gets rid of default border in Firefox and Opera. */\n",
       "        border: none;\n",
       "        /* Needs to be in here for Safari polyfill so background images work as expected. */\n",
       "        background-size: auto;\n",
       "    }\n",
       "    .progress-bar-interrupted, .progress-bar-interrupted::-webkit-progress-bar {\n",
       "        background: #F44336;\n",
       "    }\n",
       "</style>\n"
      ],
      "text/plain": [
       "<IPython.core.display.HTML object>"
      ]
     },
     "metadata": {},
     "output_type": "display_data"
    },
    {
     "data": {
      "text/html": [],
      "text/plain": [
       "<IPython.core.display.HTML object>"
      ]
     },
     "metadata": {},
     "output_type": "display_data"
    },
    {
     "data": {
      "text/plain": [
       "(0.08997651524841785, 0.0012306022778331778)"
      ]
     },
     "execution_count": null,
     "metadata": {},
     "output_type": "execute_result"
    }
   ],
   "source": [
    "fixerrs = []\n",
    "for i in range(20):\n",
    "    fixlearn = vision_learner(fixdls, resnet50, metrics=[error_rate])\n",
    "    fixlearn.dls.train.get_idxs = types.MethodType(sample_epoch, fixlearn.dls.train)\n",
    "    fixlearn.fine_tune(15)\n",
    "    _,err = fixlearn.validate()\n",
    "    fixerrs.append(err)\n",
    "fixerrs = np.array(fixerrs)\n",
    "fixerrs.mean(), fixerrs.std()"
   ]
  },
  {
   "cell_type": "code",
   "execution_count": null,
   "id": "b7f795b7",
   "metadata": {},
   "outputs": [
    {
     "data": {
      "text/plain": [
       "0.08091751743118378"
      ]
     },
     "execution_count": null,
     "metadata": {},
     "output_type": "execute_result"
    }
   ],
   "source": [
    "marked.sum() / len(marked) * 100"
   ]
  },
  {
   "cell_type": "code",
   "execution_count": null,
   "id": "e5430955",
   "metadata": {},
   "outputs": [
    {
     "data": {
      "text/plain": [
       "0.1826820895075798"
      ]
     },
     "execution_count": null,
     "metadata": {},
     "output_type": "execute_result"
    }
   ],
   "source": [
    "(errs.mean() - fixerrs.mean()) * 100"
   ]
  },
  {
   "cell_type": "code",
   "execution_count": null,
   "id": "389d42a0",
   "metadata": {},
   "outputs": [
    {
     "data": {
      "text/plain": [
       "(0.11862052783230198, 0.12306022778331778)"
      ]
     },
     "execution_count": null,
     "metadata": {},
     "output_type": "execute_result"
    }
   ],
   "source": [
    "errs.std() * 100, fixerrs.std() * 100"
   ]
  },
  {
   "cell_type": "code",
   "execution_count": null,
   "id": "fd3e0688",
   "metadata": {},
   "outputs": [
    {
     "data": {
      "text/plain": [
       "(array([[1., 0., 5., 7., 7.],\n",
       "        [5., 6., 6., 3., 0.]]),\n",
       " array([8.77455175, 8.8911359 , 9.00772005, 9.12430421, 9.24088836,\n",
       "        9.35747251]),\n",
       " <a list of 2 BarContainer objects>)"
      ]
     },
     "execution_count": null,
     "metadata": {},
     "output_type": "execute_result"
    },
    {
     "data": {
      "image/png": "[encoded data removed]",
      "text/plain": [
       "<Figure size 432x288 with 1 Axes>"
      ]
     },
     "metadata": {
      "needs_background": "light"
     },
     "output_type": "display_data"
    }
   ],
   "source": [
    "plt.hist([errs*100, fixerrs*100], bins=5)"
   ]
  },
  {
   "cell_type": "code",
   "execution_count": null,
   "id": "4d8fe541",
   "metadata": {},
   "outputs": [],
   "source": []
  }
 ],
 "metadata": {
  "kernelspec": {
   "display_name": "Python 3 (ipykernel)",
   "language": "python",
   "name": "python3"
  }
 },
 "nbformat": 4,
 "nbformat_minor": 5
}
