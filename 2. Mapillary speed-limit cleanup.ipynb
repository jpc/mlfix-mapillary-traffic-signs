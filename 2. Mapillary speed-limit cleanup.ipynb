{
 "cells": [
  {
   "cell_type": "code",
   "execution_count": null,
   "id": "70e7be58",
   "metadata": {},
   "outputs": [],
   "source": [
    "%load_ext autoreload\n",
    "%autoreload 2\n",
    "from fastai.vision.all import *"
   ]
  },
  {
   "cell_type": "code",
   "execution_count": null,
   "id": "e8483e9a",
   "metadata": {},
   "outputs": [],
   "source": [
    "from MLfix import MLfix"
   ]
  },
  {
   "cell_type": "markdown",
   "id": "166efe28",
   "metadata": {},
   "source": [
    "## Load crops and labels into a Pandas DataFrame"
   ]
  },
  {
   "cell_type": "code",
   "execution_count": null,
   "id": "1e3107fd",
   "metadata": {},
   "outputs": [],
   "source": [
    "path = Path('yolo-bbox-crops-aspects')"
   ]
  },
  {
   "cell_type": "code",
   "execution_count": null,
   "id": "9640f3c6",
   "metadata": {},
   "outputs": [],
   "source": [
    "fnames = get_image_files(path)"
   ]
  },
  {
   "cell_type": "markdown",
   "id": "be98349c",
   "metadata": {},
   "source": [
    "We'll create the DataFrame with the file names as the index and put the folder name in the `label` column since we groupped the crops in folders by their ground truth class."
   ]
  },
  {
   "cell_type": "code",
   "execution_count": null,
   "id": "9f6be4a2",
   "metadata": {},
   "outputs": [],
   "source": [
    "data = pd.DataFrame(dict(fname = fnames), index = [str(x) for x in fnames])\n",
    "data['label'] = data.fname.map(lambda x: x.parent.name)"
   ]
  },
  {
   "cell_type": "code",
   "execution_count": null,
   "id": "8b3c6d86",
   "metadata": {},
   "outputs": [
    {
     "data": {
      "text/html": [
       "<div>\n",
       "<style scoped>\n",
       "    .dataframe tbody tr th:only-of-type {\n",
       "        vertical-align: middle;\n",
       "    }\n",
       "\n",
       "    .dataframe tbody tr th {\n",
       "        vertical-align: top;\n",
       "    }\n",
       "\n",
       "    .dataframe thead th {\n",
       "        text-align: right;\n",
       "    }\n",
       "</style>\n",
       "<table border=\"1\" class=\"dataframe\">\n",
       "  <thead>\n",
       "    <tr style=\"text-align: right;\">\n",
       "      <th></th>\n",
       "      <th>fname</th>\n",
       "      <th>label</th>\n",
       "    </tr>\n",
       "  </thead>\n",
       "  <tbody>\n",
       "    <tr>\n",
       "      <th>yolo-bbox-crops-aspects/warning--winding-road-first-left--g1/a3K73YQChXmdfsn69D1kjA-1.jpg</th>\n",
       "      <td>yolo-bbox-crops-aspects/warning--winding-road-first-left--g1/a3K73YQChXmdfsn69D1kjA-1.jpg</td>\n",
       "      <td>warning--winding-road-first-left--g1</td>\n",
       "    </tr>\n",
       "    <tr>\n",
       "      <th>yolo-bbox-crops-aspects/warning--winding-road-first-left--g1/l8GLcMia5zPhB7Q1agVYTg-0.jpg</th>\n",
       "      <td>yolo-bbox-crops-aspects/warning--winding-road-first-left--g1/l8GLcMia5zPhB7Q1agVYTg-0.jpg</td>\n",
       "      <td>warning--winding-road-first-left--g1</td>\n",
       "    </tr>\n",
       "    <tr>\n",
       "      <th>yolo-bbox-crops-aspects/warning--winding-road-first-left--g1/BCxKRFT-Wvn49LnVoSlOgw-0.jpg</th>\n",
       "      <td>yolo-bbox-crops-aspects/warning--winding-road-first-left--g1/BCxKRFT-Wvn49LnVoSlOgw-0.jpg</td>\n",
       "      <td>warning--winding-road-first-left--g1</td>\n",
       "    </tr>\n",
       "    <tr>\n",
       "      <th>yolo-bbox-crops-aspects/warning--winding-road-first-left--g1/5D1e0maBSjs1UaV5tE2MHg-0.jpg</th>\n",
       "      <td>yolo-bbox-crops-aspects/warning--winding-road-first-left--g1/5D1e0maBSjs1UaV5tE2MHg-0.jpg</td>\n",
       "      <td>warning--winding-road-first-left--g1</td>\n",
       "    </tr>\n",
       "    <tr>\n",
       "      <th>yolo-bbox-crops-aspects/warning--winding-road-first-left--g1/Oz7f7PDh0FZogR2Lle9HsQ-1.jpg</th>\n",
       "      <td>yolo-bbox-crops-aspects/warning--winding-road-first-left--g1/Oz7f7PDh0FZogR2Lle9HsQ-1.jpg</td>\n",
       "      <td>warning--winding-road-first-left--g1</td>\n",
       "    </tr>\n",
       "    <tr>\n",
       "      <th>...</th>\n",
       "      <td>...</td>\n",
       "      <td>...</td>\n",
       "    </tr>\n",
       "    <tr>\n",
       "      <th>yolo-bbox-crops-aspects/complementary--one-direction-left--g1/jz9ydBI3G46OM_DSDxRI2Q-3.jpg</th>\n",
       "      <td>yolo-bbox-crops-aspects/complementary--one-direction-left--g1/jz9ydBI3G46OM_DSDxRI2Q-3.jpg</td>\n",
       "      <td>complementary--one-direction-left--g1</td>\n",
       "    </tr>\n",
       "    <tr>\n",
       "      <th>yolo-bbox-crops-aspects/complementary--one-direction-left--g1/jjP8oXmH91HYeNRRZy36ig-1.jpg</th>\n",
       "      <td>yolo-bbox-crops-aspects/complementary--one-direction-left--g1/jjP8oXmH91HYeNRRZy36ig-1.jpg</td>\n",
       "      <td>complementary--one-direction-left--g1</td>\n",
       "    </tr>\n",
       "    <tr>\n",
       "      <th>yolo-bbox-crops-aspects/complementary--one-direction-left--g1/PrXKSuASmK0TB3tqCLVY9A-4.jpg</th>\n",
       "      <td>yolo-bbox-crops-aspects/complementary--one-direction-left--g1/PrXKSuASmK0TB3tqCLVY9A-4.jpg</td>\n",
       "      <td>complementary--one-direction-left--g1</td>\n",
       "    </tr>\n",
       "    <tr>\n",
       "      <th>yolo-bbox-crops-aspects/complementary--one-direction-left--g1/DdilxFWJ13kSsBTDlCNCcg-2.jpg</th>\n",
       "      <td>yolo-bbox-crops-aspects/complementary--one-direction-left--g1/DdilxFWJ13kSsBTDlCNCcg-2.jpg</td>\n",
       "      <td>complementary--one-direction-left--g1</td>\n",
       "    </tr>\n",
       "    <tr>\n",
       "      <th>yolo-bbox-crops-aspects/complementary--one-direction-left--g1/PDqWPuPSTTm0A6c4aAHJjA-3.jpg</th>\n",
       "      <td>yolo-bbox-crops-aspects/complementary--one-direction-left--g1/PDqWPuPSTTm0A6c4aAHJjA-3.jpg</td>\n",
       "      <td>complementary--one-direction-left--g1</td>\n",
       "    </tr>\n",
       "  </tbody>\n",
       "</table>\n",
       "<p>206383 rows × 2 columns</p>\n",
       "</div>"
      ],
      "text/plain": [
       "                                                                                                                                                                                 fname  \\\n",
       "yolo-bbox-crops-aspects/warning--winding-road-first-left--g1/a3K73YQChXmdfsn69D1kjA-1.jpg    yolo-bbox-crops-aspects/warning--winding-road-first-left--g1/a3K73YQChXmdfsn69D1kjA-1.jpg   \n",
       "yolo-bbox-crops-aspects/warning--winding-road-first-left--g1/l8GLcMia5zPhB7Q1agVYTg-0.jpg    yolo-bbox-crops-aspects/warning--winding-road-first-left--g1/l8GLcMia5zPhB7Q1agVYTg-0.jpg   \n",
       "yolo-bbox-crops-aspects/warning--winding-road-first-left--g1/BCxKRFT-Wvn49LnVoSlOgw-0.jpg    yolo-bbox-crops-aspects/warning--winding-road-first-left--g1/BCxKRFT-Wvn49LnVoSlOgw-0.jpg   \n",
       "yolo-bbox-crops-aspects/warning--winding-road-first-left--g1/5D1e0maBSjs1UaV5tE2MHg-0.jpg    yolo-bbox-crops-aspects/warning--winding-road-first-left--g1/5D1e0maBSjs1UaV5tE2MHg-0.jpg   \n",
       "yolo-bbox-crops-aspects/warning--winding-road-first-left--g1/Oz7f7PDh0FZogR2Lle9HsQ-1.jpg    yolo-bbox-crops-aspects/warning--winding-road-first-left--g1/Oz7f7PDh0FZogR2Lle9HsQ-1.jpg   \n",
       "...                                                                                                                                                                                ...   \n",
       "yolo-bbox-crops-aspects/complementary--one-direction-left--g1/jz9ydBI3G46OM_DSDxRI2Q-3.jpg  yolo-bbox-crops-aspects/complementary--one-direction-left--g1/jz9ydBI3G46OM_DSDxRI2Q-3.jpg   \n",
       "yolo-bbox-crops-aspects/complementary--one-direction-left--g1/jjP8oXmH91HYeNRRZy36ig-1.jpg  yolo-bbox-crops-aspects/complementary--one-direction-left--g1/jjP8oXmH91HYeNRRZy36ig-1.jpg   \n",
       "yolo-bbox-crops-aspects/complementary--one-direction-left--g1/PrXKSuASmK0TB3tqCLVY9A-4.jpg  yolo-bbox-crops-aspects/complementary--one-direction-left--g1/PrXKSuASmK0TB3tqCLVY9A-4.jpg   \n",
       "yolo-bbox-crops-aspects/complementary--one-direction-left--g1/DdilxFWJ13kSsBTDlCNCcg-2.jpg  yolo-bbox-crops-aspects/complementary--one-direction-left--g1/DdilxFWJ13kSsBTDlCNCcg-2.jpg   \n",
       "yolo-bbox-crops-aspects/complementary--one-direction-left--g1/PDqWPuPSTTm0A6c4aAHJjA-3.jpg  yolo-bbox-crops-aspects/complementary--one-direction-left--g1/PDqWPuPSTTm0A6c4aAHJjA-3.jpg   \n",
       "\n",
       "                                                                                                                            label  \n",
       "yolo-bbox-crops-aspects/warning--winding-road-first-left--g1/a3K73YQChXmdfsn69D1kjA-1.jpg    warning--winding-road-first-left--g1  \n",
       "yolo-bbox-crops-aspects/warning--winding-road-first-left--g1/l8GLcMia5zPhB7Q1agVYTg-0.jpg    warning--winding-road-first-left--g1  \n",
       "yolo-bbox-crops-aspects/warning--winding-road-first-left--g1/BCxKRFT-Wvn49LnVoSlOgw-0.jpg    warning--winding-road-first-left--g1  \n",
       "yolo-bbox-crops-aspects/warning--winding-road-first-left--g1/5D1e0maBSjs1UaV5tE2MHg-0.jpg    warning--winding-road-first-left--g1  \n",
       "yolo-bbox-crops-aspects/warning--winding-road-first-left--g1/Oz7f7PDh0FZogR2Lle9HsQ-1.jpg    warning--winding-road-first-left--g1  \n",
       "...                                                                                                                           ...  \n",
       "yolo-bbox-crops-aspects/complementary--one-direction-left--g1/jz9ydBI3G46OM_DSDxRI2Q-3.jpg  complementary--one-direction-left--g1  \n",
       "yolo-bbox-crops-aspects/complementary--one-direction-left--g1/jjP8oXmH91HYeNRRZy36ig-1.jpg  complementary--one-direction-left--g1  \n",
       "yolo-bbox-crops-aspects/complementary--one-direction-left--g1/PrXKSuASmK0TB3tqCLVY9A-4.jpg  complementary--one-direction-left--g1  \n",
       "yolo-bbox-crops-aspects/complementary--one-direction-left--g1/DdilxFWJ13kSsBTDlCNCcg-2.jpg  complementary--one-direction-left--g1  \n",
       "yolo-bbox-crops-aspects/complementary--one-direction-left--g1/PDqWPuPSTTm0A6c4aAHJjA-3.jpg  complementary--one-direction-left--g1  \n",
       "\n",
       "[206383 rows x 2 columns]"
      ]
     },
     "execution_count": null,
     "metadata": {},
     "output_type": "execute_result"
    }
   ],
   "source": [
    "data"
   ]
  },
  {
   "cell_type": "markdown",
   "id": "95934c04",
   "metadata": {},
   "source": [
    "## Find all the signs with \"speed\" in the label"
   ]
  },
  {
   "cell_type": "code",
   "execution_count": null,
   "id": "d08ac48c",
   "metadata": {},
   "outputs": [],
   "source": [
    "speed_limits = data[data['label'].str.contains(\"speed\")].copy()"
   ]
  },
  {
   "cell_type": "code",
   "execution_count": null,
   "id": "48786f6f",
   "metadata": {},
   "outputs": [],
   "source": [
    "# if you don't want to do all the work yourself you can load the result of the analysis we did\n",
    "invalid = pd.read_csv('invalid-speed-limits.csv', index_col=0)\n",
    "speed_limits['new_label'] = speed_limits['label']\n",
    "speed_limits.loc[invalid.index, 'new_label'] = 'invalid'"
   ]
  },
  {
   "cell_type": "code",
   "execution_count": null,
   "id": "f1e255be",
   "metadata": {},
   "outputs": [
    {
     "data": {
      "text/html": [
       "<div>\n",
       "<style scoped>\n",
       "    .dataframe tbody tr th:only-of-type {\n",
       "        vertical-align: middle;\n",
       "    }\n",
       "\n",
       "    .dataframe tbody tr th {\n",
       "        vertical-align: top;\n",
       "    }\n",
       "\n",
       "    .dataframe thead th {\n",
       "        text-align: right;\n",
       "    }\n",
       "</style>\n",
       "<table border=\"1\" class=\"dataframe\">\n",
       "  <thead>\n",
       "    <tr style=\"text-align: right;\">\n",
       "      <th></th>\n",
       "      <th>fname</th>\n",
       "      <th>label</th>\n",
       "      <th>new_label</th>\n",
       "    </tr>\n",
       "  </thead>\n",
       "  <tbody>\n",
       "    <tr>\n",
       "      <th>yolo-bbox-crops-aspects/regulatory--maximum-speed-limit-120--g1/uQF_nNNCkZKjSbte4unIRg-1.jpg</th>\n",
       "      <td>yolo-bbox-crops-aspects/regulatory--maximum-speed-limit-120--g1/uQF_nNNCkZKjSbte4unIRg-1.jpg</td>\n",
       "      <td>regulatory--maximum-speed-limit-120--g1</td>\n",
       "      <td>regulatory--maximum-speed-limit-120--g1</td>\n",
       "    </tr>\n",
       "    <tr>\n",
       "      <th>yolo-bbox-crops-aspects/regulatory--maximum-speed-limit-120--g1/6TIKgMLjV0VbpPePx3fq8g-1.jpg</th>\n",
       "      <td>yolo-bbox-crops-aspects/regulatory--maximum-speed-limit-120--g1/6TIKgMLjV0VbpPePx3fq8g-1.jpg</td>\n",
       "      <td>regulatory--maximum-speed-limit-120--g1</td>\n",
       "      <td>regulatory--maximum-speed-limit-120--g1</td>\n",
       "    </tr>\n",
       "    <tr>\n",
       "      <th>yolo-bbox-crops-aspects/regulatory--maximum-speed-limit-120--g1/OFWEq4YM6GOFw1AttuuWmw-1.jpg</th>\n",
       "      <td>yolo-bbox-crops-aspects/regulatory--maximum-speed-limit-120--g1/OFWEq4YM6GOFw1AttuuWmw-1.jpg</td>\n",
       "      <td>regulatory--maximum-speed-limit-120--g1</td>\n",
       "      <td>regulatory--maximum-speed-limit-120--g1</td>\n",
       "    </tr>\n",
       "    <tr>\n",
       "      <th>yolo-bbox-crops-aspects/regulatory--maximum-speed-limit-120--g1/jmVdw3YKzn85sn5VRnWxeQ-0.jpg</th>\n",
       "      <td>yolo-bbox-crops-aspects/regulatory--maximum-speed-limit-120--g1/jmVdw3YKzn85sn5VRnWxeQ-0.jpg</td>\n",
       "      <td>regulatory--maximum-speed-limit-120--g1</td>\n",
       "      <td>regulatory--maximum-speed-limit-120--g1</td>\n",
       "    </tr>\n",
       "    <tr>\n",
       "      <th>yolo-bbox-crops-aspects/regulatory--maximum-speed-limit-120--g1/2fLoo6nvIZt8D7hwnUAyPw-2.jpg</th>\n",
       "      <td>yolo-bbox-crops-aspects/regulatory--maximum-speed-limit-120--g1/2fLoo6nvIZt8D7hwnUAyPw-2.jpg</td>\n",
       "      <td>regulatory--maximum-speed-limit-120--g1</td>\n",
       "      <td>invalid</td>\n",
       "    </tr>\n",
       "  </tbody>\n",
       "</table>\n",
       "</div>"
      ],
      "text/plain": [
       "                                                                                                                                                                                     fname  \\\n",
       "yolo-bbox-crops-aspects/regulatory--maximum-speed-limit-120--g1/uQF_nNNCkZKjSbte4unIRg-1.jpg  yolo-bbox-crops-aspects/regulatory--maximum-speed-limit-120--g1/uQF_nNNCkZKjSbte4unIRg-1.jpg   \n",
       "yolo-bbox-crops-aspects/regulatory--maximum-speed-limit-120--g1/6TIKgMLjV0VbpPePx3fq8g-1.jpg  yolo-bbox-crops-aspects/regulatory--maximum-speed-limit-120--g1/6TIKgMLjV0VbpPePx3fq8g-1.jpg   \n",
       "yolo-bbox-crops-aspects/regulatory--maximum-speed-limit-120--g1/OFWEq4YM6GOFw1AttuuWmw-1.jpg  yolo-bbox-crops-aspects/regulatory--maximum-speed-limit-120--g1/OFWEq4YM6GOFw1AttuuWmw-1.jpg   \n",
       "yolo-bbox-crops-aspects/regulatory--maximum-speed-limit-120--g1/jmVdw3YKzn85sn5VRnWxeQ-0.jpg  yolo-bbox-crops-aspects/regulatory--maximum-speed-limit-120--g1/jmVdw3YKzn85sn5VRnWxeQ-0.jpg   \n",
       "yolo-bbox-crops-aspects/regulatory--maximum-speed-limit-120--g1/2fLoo6nvIZt8D7hwnUAyPw-2.jpg  yolo-bbox-crops-aspects/regulatory--maximum-speed-limit-120--g1/2fLoo6nvIZt8D7hwnUAyPw-2.jpg   \n",
       "\n",
       "                                                                                                                                label  \\\n",
       "yolo-bbox-crops-aspects/regulatory--maximum-speed-limit-120--g1/uQF_nNNCkZKjSbte4unIRg-1.jpg  regulatory--maximum-speed-limit-120--g1   \n",
       "yolo-bbox-crops-aspects/regulatory--maximum-speed-limit-120--g1/6TIKgMLjV0VbpPePx3fq8g-1.jpg  regulatory--maximum-speed-limit-120--g1   \n",
       "yolo-bbox-crops-aspects/regulatory--maximum-speed-limit-120--g1/OFWEq4YM6GOFw1AttuuWmw-1.jpg  regulatory--maximum-speed-limit-120--g1   \n",
       "yolo-bbox-crops-aspects/regulatory--maximum-speed-limit-120--g1/jmVdw3YKzn85sn5VRnWxeQ-0.jpg  regulatory--maximum-speed-limit-120--g1   \n",
       "yolo-bbox-crops-aspects/regulatory--maximum-speed-limit-120--g1/2fLoo6nvIZt8D7hwnUAyPw-2.jpg  regulatory--maximum-speed-limit-120--g1   \n",
       "\n",
       "                                                                                                                            new_label  \n",
       "yolo-bbox-crops-aspects/regulatory--maximum-speed-limit-120--g1/uQF_nNNCkZKjSbte4unIRg-1.jpg  regulatory--maximum-speed-limit-120--g1  \n",
       "yolo-bbox-crops-aspects/regulatory--maximum-speed-limit-120--g1/6TIKgMLjV0VbpPePx3fq8g-1.jpg  regulatory--maximum-speed-limit-120--g1  \n",
       "yolo-bbox-crops-aspects/regulatory--maximum-speed-limit-120--g1/OFWEq4YM6GOFw1AttuuWmw-1.jpg  regulatory--maximum-speed-limit-120--g1  \n",
       "yolo-bbox-crops-aspects/regulatory--maximum-speed-limit-120--g1/jmVdw3YKzn85sn5VRnWxeQ-0.jpg  regulatory--maximum-speed-limit-120--g1  \n",
       "yolo-bbox-crops-aspects/regulatory--maximum-speed-limit-120--g1/2fLoo6nvIZt8D7hwnUAyPw-2.jpg                                  invalid  "
      ]
     },
     "execution_count": null,
     "metadata": {},
     "output_type": "execute_result"
    }
   ],
   "source": [
    "speed_limits.head()"
   ]
  },
  {
   "cell_type": "markdown",
   "id": "4644fa5c",
   "metadata": {},
   "source": [
    "## Run MLfix"
   ]
  },
  {
   "cell_type": "markdown",
   "id": "449af8f2",
   "metadata": {},
   "source": [
    "We can use the DataFrame we created to start an MLfix session. The photos will be grouped by the `label` column (the `group` keyword argument) which are the original ground truth labels, we will display the fixed label \n",
    "below each image (the `label=`) and display the images zoomed up a bit at 200px.\n",
    "\n",
    "We also give the paths to the class SVG icons so MLfix can display them instead of the class names which are\n",
    "not very readable.\n",
    "\n",
    "In the UI you can select the invalid crops by clicking on them. Also check the top bar for filters, for example you can easily show only the invalid crops.\n",
    "\n",
    "The MLfix call returns a new Pandas Series that's going to be updated as we select the invalid samples in the UI. We assign it to a variable so we will be able to inspect the results later on.\n",
    "\n",
    "FIXME: we cannot assign to a new column because that seems to break the reference and assign a copy instead (which won't be updated when we use the UI). At one point the code just updated the column pointed to by the `label=` kwarg and we should probably get back to doing that."
   ]
  },
  {
   "cell_type": "code",
   "execution_count": null,
   "id": "762e761f",
   "metadata": {},
   "outputs": [
    {
     "data": {
      "text/html": [
       "\n",
       "    <style>\n",
       "      .mlfix-container {\n",
       "        position: relative;\n",
       "        background-color: white;\n",
       "      }\n",
       "      .mlfix-fullscreen {\n",
       "        width: 100%;\n",
       "        height: 100%;\n",
       "        position: absolute;\n",
       "        top: 0;\n",
       "        left: 0;\n",
       "        z-index: 10000;\n",
       "      }\n",
       "      .mlfix-fullscreen iframe {\n",
       "        height: 100%;\n",
       "      }\n",
       "    </style>\n",
       "    <div id=mlfix-uVz1N-container class=mlfix-container>\n",
       "      <iframe id=mlfix-uVz1N src=\"/proxy/37385/mlfix-uVz1N/#mlfix-uVz1N\"\n",
       "              width=\"100%\" height=\"500px\" frameborder=\"0\" allowfullscreen></iframe>\n",
       "      <script>(function () {\n",
       "        var iframe = document.getElementById('mlfix-uVz1N');\n",
       "        var outputEl = iframe.parentNode;\n",
       "        var parentEl = outputEl.parentNode;\n",
       "        console.log('MLfix init:', outputEl, parentEl);\n",
       "        var bringMLfixIframeToFocus = function() {\n",
       "            iframe.contentWindow.focus();\n",
       "        }\n",
       "        setTimeout(bringMLfixIframeToFocus, 100);\n",
       "\n",
       "        var isFullscreen = false;\n",
       "        var parentEl;\n",
       "        window.addEventListener('message', (ev) => {\n",
       "          if (ev.data == 'mlfix-toggle-fullscreen-mlfix-uVz1N') {\n",
       "            if (!isFullscreen) {\n",
       "              $(outputEl).appendTo(document.body).addClass('mlfix-fullscreen');\n",
       "            } else {\n",
       "              $(outputEl).appendTo(parentEl).removeClass('mlfix-fullscreen');\n",
       "            }\n",
       "            isFullscreen = !isFullscreen;\n",
       "            console.log('fullscreen', isFullscreen);\n",
       "            setTimeout(bringMLfixIframeToFocus, 100);\n",
       "          }\n",
       "        });\n",
       "      })();</script>\n",
       "    </div>\n",
       "    "
      ],
      "text/plain": [
       "<IPython.core.display.HTML object>"
      ]
     },
     "metadata": {},
     "output_type": "display_data"
    }
   ],
   "source": [
    "new_labels = MLfix(\n",
    "    speed_limits,\n",
    "    group='label',\n",
    "    label='new_label',\n",
    "    size=200,\n",
    "    label_icons={x:'icons/' + x + '.svg' for x in speed_limits['label'].unique()}\n",
    ")"
   ]
  },
  {
   "cell_type": "markdown",
   "id": "c9ad3fce",
   "metadata": {},
   "source": [
    "Let's see how many mistakes did we manage to find?"
   ]
  },
  {
   "cell_type": "code",
   "execution_count": null,
   "id": "6830c993",
   "metadata": {},
   "outputs": [
    {
     "name": "stdout",
     "output_type": "stream",
     "text": [
      "2.97 %\n"
     ]
    }
   ],
   "source": [
    "print(f\"{(speed_limits['label'] != new_labels).mean() * 100:.2f} %\")"
   ]
  },
  {
   "cell_type": "markdown",
   "id": "9434588e",
   "metadata": {},
   "source": [
    "We can now update the CSV file and save our work:"
   ]
  },
  {
   "cell_type": "code",
   "execution_count": null,
   "id": "57bb89b2",
   "metadata": {},
   "outputs": [],
   "source": [
    "new_labels[new_labels == 'invalid'].to_csv('invalid-speed-limits.csv')"
   ]
  }
 ],
 "metadata": {
  "kernelspec": {
   "display_name": "Python 3 (ipykernel)",
   "language": "python",
   "name": "python3"
  }
 },
 "nbformat": 4,
 "nbformat_minor": 5
}
